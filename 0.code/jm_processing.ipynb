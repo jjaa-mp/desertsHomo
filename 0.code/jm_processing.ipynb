{
 "cells": [
  {
   "cell_type": "markdown",
   "metadata": {},
   "source": [
    "# Deserts of Introgression "
   ]
  },
  {
   "cell_type": "code",
   "execution_count": 1,
   "metadata": {},
   "outputs": [],
   "source": [
    "import pandas as pd\n",
    "from pybedtools import BedTool"
   ]
  },
  {
   "cell_type": "markdown",
   "metadata": {},
   "source": [
    "**INDEX**\n",
    "\n",
    "**Data processing**\n",
    "\n",
    "Human high-frequency changes within Deserts\n",
    "\n",
    "Human high-frequency changes not in Deserts\n",
    "\n",
    "**1. Deserts vs NO Deserts (Whole genome)** \n",
    "    \n",
    "    Difference mean frequency\n",
    "    Difference percentage fixed alleles\n",
    "    \n",
    "**2. Mean frequency Deserts vs NO Deserts (per chromosome)** \n",
    "\n",
    "    Difference mean frequency\n",
    "    Difference percentage fixed alleles\n",
    "    \n",
    "**3. Genes associated to fixed alleles within Deserts**\n"
   ]
  },
  {
   "cell_type": "raw",
   "metadata": {},
   "source": []
  },
  {
   "cell_type": "markdown",
   "metadata": {},
   "source": [
    "### **Data processing** "
   ]
  },
  {
   "cell_type": "markdown",
   "metadata": {},
   "source": [
    "#### Intersection hHF with Deserts "
   ]
  },
  {
   "cell_type": "markdown",
   "metadata": {},
   "source": [
    "##### In-house deserts and HF bed files "
   ]
  },
  {
   "cell_type": "code",
   "execution_count": 2,
   "metadata": {},
   "outputs": [
    {
     "name": "stdout",
     "output_type": "stream",
     "text": [
      "4\n",
      "136414\n"
     ]
    }
   ],
   "source": [
    "akey = BedTool('2020_akeydeserts_coords.bed')\n",
    "print(len(akey))\n",
    "hf = BedTool('2020_Nahigh_freq.bed')\n",
    "print(len(hf))"
   ]
  },
  {
   "cell_type": "code",
   "execution_count": 3,
   "metadata": {},
   "outputs": [
    {
     "name": "stdout",
     "output_type": "stream",
     "text": [
      "3652\n"
     ]
    }
   ],
   "source": [
    "w_hf = akey.intersect(hf, wo=True)\n",
    "print(len(w_hf))"
   ]
  },
  {
   "cell_type": "markdown",
   "metadata": {},
   "source": [
    "#### Intersection hHF within no Deserts "
   ]
  },
  {
   "cell_type": "code",
   "execution_count": 4,
   "metadata": {},
   "outputs": [
    {
     "name": "stdout",
     "output_type": "stream",
     "text": [
      "132762\n"
     ]
    }
   ],
   "source": [
    "wo_hf = hf.intersect(akey, wo=True, v=True)\n",
    "print(len(wo_hf))"
   ]
  },
  {
   "cell_type": "markdown",
   "metadata": {},
   "source": [
    "#### Result | Intersection hHF with Deserts: Bed files"
   ]
  },
  {
   "cell_type": "code",
   "execution_count": 5,
   "metadata": {},
   "outputs": [
    {
     "data": {
      "text/plain": [
       "<BedTool(Nahigh_freq_NOT_in_deserts.bed)>"
      ]
     },
     "execution_count": 5,
     "metadata": {},
     "output_type": "execute_result"
    }
   ],
   "source": [
    "w_hf.saveas(\"Nahigh_freq_WITHIN_deserts.bed\")\n",
    "wo_hf.saveas(\"Nahigh_freq_NOT_in_deserts.bed\")"
   ]
  },
  {
   "cell_type": "markdown",
   "metadata": {},
   "source": [
    "### **1. COMPARISON | Deserts vs NO Deserts (Whole genome):** "
   ]
  },
  {
   "cell_type": "code",
   "execution_count": 6,
   "metadata": {},
   "outputs": [],
   "source": [
    "df1 = pd.read_csv(\"Nahigh_freq_WITHIN_deserts.bed\", sep='\\t', header=None)\n",
    "df2 = pd.read_csv(\"Nahigh_freq_NOT_in_deserts.bed\", sep='\\t', header=None)"
   ]
  },
  {
   "cell_type": "code",
   "execution_count": 7,
   "metadata": {},
   "outputs": [],
   "source": [
    "df1.drop([7], axis=1, inplace=True)"
   ]
  },
  {
   "cell_type": "markdown",
   "metadata": {},
   "source": [
    "#### Pandas dataframes "
   ]
  },
  {
   "cell_type": "code",
   "execution_count": 8,
   "metadata": {},
   "outputs": [],
   "source": [
    "df1.columns = ['chr', 'Desert_start','Desert_end', 'chr_hg19', 'POS_start', 'POS_end', 'dbSNP']\n",
    "df2.columns = ['chr', 'POS_start', 'POS_end', 'dbSNP']"
   ]
  },
  {
   "cell_type": "code",
   "execution_count": 9,
   "metadata": {},
   "outputs": [
    {
     "name": "stderr",
     "output_type": "stream",
     "text": [
      "/opt/python/lib/python3.7/site-packages/IPython/core/interactiveshell.py:3063: DtypeWarning: Columns (6) have mixed types. Specify dtype option on import or set low_memory=False.\n",
      "  interactivity=interactivity, compiler=compiler, result=result)\n"
     ]
    }
   ],
   "source": [
    "martin = pd.read_csv(\"Na_high_freq.tsv\", sep='\\t')"
   ]
  },
  {
   "cell_type": "code",
   "execution_count": 10,
   "metadata": {},
   "outputs": [],
   "source": [
    "martin_c = martin[['dbSNP', 'human_DAF', 'Gene_name']]"
   ]
  },
  {
   "cell_type": "code",
   "execution_count": 11,
   "metadata": {},
   "outputs": [
    {
     "name": "stdout",
     "output_type": "stream",
     "text": [
      "3199\n"
     ]
    },
    {
     "data": {
      "text/html": [
       "<div>\n",
       "<style scoped>\n",
       "    .dataframe tbody tr th:only-of-type {\n",
       "        vertical-align: middle;\n",
       "    }\n",
       "\n",
       "    .dataframe tbody tr th {\n",
       "        vertical-align: top;\n",
       "    }\n",
       "\n",
       "    .dataframe thead th {\n",
       "        text-align: right;\n",
       "    }\n",
       "</style>\n",
       "<table border=\"1\" class=\"dataframe\">\n",
       "  <thead>\n",
       "    <tr style=\"text-align: right;\">\n",
       "      <th></th>\n",
       "      <th>dbSNP</th>\n",
       "      <th>human_DAF</th>\n",
       "      <th>Gene_name</th>\n",
       "      <th>chr</th>\n",
       "      <th>Desert_start</th>\n",
       "      <th>Desert_end</th>\n",
       "      <th>chr_hg19</th>\n",
       "      <th>POS_start</th>\n",
       "      <th>POS_end</th>\n",
       "    </tr>\n",
       "  </thead>\n",
       "  <tbody>\n",
       "    <tr>\n",
       "      <th>0</th>\n",
       "      <td>rs75934053</td>\n",
       "      <td>0.994010</td>\n",
       "      <td>NaN</td>\n",
       "      <td>chr1</td>\n",
       "      <td>105399999</td>\n",
       "      <td>120600000</td>\n",
       "      <td>chr1</td>\n",
       "      <td>105415054</td>\n",
       "      <td>105415055</td>\n",
       "    </tr>\n",
       "    <tr>\n",
       "      <th>1</th>\n",
       "      <td>rs75782466</td>\n",
       "      <td>0.978235</td>\n",
       "      <td>NaN</td>\n",
       "      <td>chr1</td>\n",
       "      <td>105399999</td>\n",
       "      <td>120600000</td>\n",
       "      <td>chr1</td>\n",
       "      <td>105431905</td>\n",
       "      <td>105431906</td>\n",
       "    </tr>\n",
       "  </tbody>\n",
       "</table>\n",
       "</div>"
      ],
      "text/plain": [
       "        dbSNP  human_DAF Gene_name   chr  Desert_start  Desert_end chr_hg19  \\\n",
       "0  rs75934053   0.994010       NaN  chr1     105399999   120600000     chr1   \n",
       "1  rs75782466   0.978235       NaN  chr1     105399999   120600000     chr1   \n",
       "\n",
       "   POS_start    POS_end  \n",
       "0  105415054  105415055  \n",
       "1  105431905  105431906  "
      ]
     },
     "execution_count": 11,
     "metadata": {},
     "output_type": "execute_result"
    }
   ],
   "source": [
    "#Remove Nan values\n",
    "df1_f = df1[~df1.dbSNP.str.contains(\"Nan\")]\n",
    "print(len(df1_f))\n",
    "df1_wF = martin_c.merge(df1_f, on = ['dbSNP'], how='right')\n",
    "df1_wF.head(2)"
   ]
  },
  {
   "cell_type": "markdown",
   "metadata": {},
   "source": [
    "#### **Result | Mean frequency HF SNP in Deserts:** "
   ]
  },
  {
   "cell_type": "code",
   "execution_count": 12,
   "metadata": {},
   "outputs": [
    {
     "data": {
      "text/plain": [
       "0.9656156648952797"
      ]
     },
     "execution_count": 12,
     "metadata": {},
     "output_type": "execute_result"
    }
   ],
   "source": [
    "df1_wF['human_DAF'].mean()"
   ]
  },
  {
   "cell_type": "code",
   "execution_count": 13,
   "metadata": {},
   "outputs": [
    {
     "name": "stdout",
     "output_type": "stream",
     "text": [
      "124842\n"
     ]
    }
   ],
   "source": [
    "#Remove Nan values\n",
    "df2_f = df2[~df2.dbSNP.str.contains(\"Nan\")]\n",
    "print(len(df2_f))\n",
    "df2_wF = martin_c.merge(df2_f, on = ['dbSNP'], how='right')"
   ]
  },
  {
   "cell_type": "markdown",
   "metadata": {},
   "source": [
    "#### **Result | Mean frequency HF SNP in NO Deserts (whole genome):** "
   ]
  },
  {
   "cell_type": "code",
   "execution_count": 14,
   "metadata": {},
   "outputs": [
    {
     "data": {
      "text/plain": [
       "0.9614257742025918"
      ]
     },
     "execution_count": 14,
     "metadata": {},
     "output_type": "execute_result"
    }
   ],
   "source": [
    "df2_wF['human_DAF'].mean()"
   ]
  },
  {
   "cell_type": "markdown",
   "metadata": {},
   "source": [
    "##### Result | Mean frequency HF SNP difference deserts vs NO deserts"
   ]
  },
  {
   "cell_type": "code",
   "execution_count": 15,
   "metadata": {},
   "outputs": [
    {
     "data": {
      "text/plain": [
       "0.0041898906926879365"
      ]
     },
     "execution_count": 15,
     "metadata": {},
     "output_type": "execute_result"
    }
   ],
   "source": [
    "df1_wF['human_DAF'].mean()-df2_wF['human_DAF'].mean()"
   ]
  },
  {
   "cell_type": "markdown",
   "metadata": {},
   "source": [
    "#### **Result | Percentage of fixed alleles in Deserts:** "
   ]
  },
  {
   "cell_type": "code",
   "execution_count": 16,
   "metadata": {},
   "outputs": [
    {
     "data": {
      "text/plain": [
       "4.3763676148796495"
      ]
     },
     "execution_count": 16,
     "metadata": {},
     "output_type": "execute_result"
    }
   ],
   "source": [
    "len(df1_wF[df1_wF['human_DAF'] == 1])/len(df1_wF)*100"
   ]
  },
  {
   "cell_type": "markdown",
   "metadata": {},
   "source": [
    "#### **Result | Percentage of fixed alleles in NO Deserts (whole genome):** "
   ]
  },
  {
   "cell_type": "code",
   "execution_count": 17,
   "metadata": {},
   "outputs": [
    {
     "data": {
      "text/plain": [
       "2.875634802390221"
      ]
     },
     "execution_count": 17,
     "metadata": {},
     "output_type": "execute_result"
    }
   ],
   "source": [
    "len(df2_wF[df2_wF['human_DAF'] == 1])/len(df2_wF)*100"
   ]
  },
  {
   "cell_type": "markdown",
   "metadata": {},
   "source": [
    "##### Result | Difference in Proportion fixed alleles Deserts vs NO Deserts (whole genome):"
   ]
  },
  {
   "cell_type": "code",
   "execution_count": 18,
   "metadata": {},
   "outputs": [
    {
     "data": {
      "text/plain": [
       "1.5218787904646385"
      ]
     },
     "execution_count": 18,
     "metadata": {},
     "output_type": "execute_result"
    }
   ],
   "source": [
    "(len(df1_wF[df1_wF['human_DAF'] == 1])/len(df1_wF)*100)/(len(df2_wF[df2_wF['human_DAF'] == 1])/len(df2_wF)*100)"
   ]
  },
  {
   "cell_type": "markdown",
   "metadata": {},
   "source": [
    "### **2. COMPARISON | Deserts vs NO Deserts (Per chromosome):** "
   ]
  },
  {
   "cell_type": "code",
   "execution_count": 19,
   "metadata": {},
   "outputs": [
    {
     "name": "stdout",
     "output_type": "stream",
     "text": [
      "29374\n"
     ]
    }
   ],
   "source": [
    "##Desert chromosomes: \n",
    "### df1_wF['chr'].unique() --> array(['chr1', 'chr3', 'chr7', 'chr8'], dtype=object)\n",
    "df2_wF_chr = df2_wF[(df2_wF['chr'] == 'chr1') | (df2_wF['chr'] == 'chr3') | (df2_wF['chr'] == 'chr7') | (df2_wF['chr'] == 'chr8')]\n",
    "print(len(df2_wF_chr))"
   ]
  },
  {
   "cell_type": "markdown",
   "metadata": {},
   "source": [
    "#### **Result | Mean frequency HF SNP in NO Deserts (per chr):** "
   ]
  },
  {
   "cell_type": "code",
   "execution_count": 20,
   "metadata": {},
   "outputs": [
    {
     "data": {
      "text/plain": [
       "0.9618477823585484"
      ]
     },
     "execution_count": 20,
     "metadata": {},
     "output_type": "execute_result"
    }
   ],
   "source": [
    "df2_wF_chr['human_DAF'].mean()"
   ]
  },
  {
   "cell_type": "markdown",
   "metadata": {},
   "source": [
    "##### Result | Mean frequency HF SNP difference deserts vs NO deserts (per chr)"
   ]
  },
  {
   "cell_type": "code",
   "execution_count": 21,
   "metadata": {},
   "outputs": [
    {
     "data": {
      "text/plain": [
       "0.0037678825367313262"
      ]
     },
     "execution_count": 21,
     "metadata": {},
     "output_type": "execute_result"
    }
   ],
   "source": [
    "df1_wF['human_DAF'].mean()-df2_wF_chr['human_DAF'].mean()"
   ]
  },
  {
   "cell_type": "markdown",
   "metadata": {},
   "source": [
    "#### **Result | Percentage of fixed alleles in NO Deserts (per chr):** "
   ]
  },
  {
   "cell_type": "code",
   "execution_count": 22,
   "metadata": {},
   "outputs": [
    {
     "data": {
      "text/plain": [
       "2.99925103833322"
      ]
     },
     "execution_count": 22,
     "metadata": {},
     "output_type": "execute_result"
    }
   ],
   "source": [
    "len(df2_wF_chr[df2_wF_chr['human_DAF'] == 1])/len(df2_wF_chr)*100"
   ]
  },
  {
   "cell_type": "markdown",
   "metadata": {},
   "source": [
    "##### Result | Difference in Proportion fixed alleles Deserts vs NO Deserts (per chr):"
   ]
  },
  {
   "cell_type": "code",
   "execution_count": 23,
   "metadata": {},
   "outputs": [
    {
     "data": {
      "text/plain": [
       "1.459153488302779"
      ]
     },
     "execution_count": 23,
     "metadata": {},
     "output_type": "execute_result"
    }
   ],
   "source": [
    "(len(df1_wF[df1_wF['human_DAF'] == 1])/len(df1_wF)*100)/(len(df2_wF_chr[df2_wF_chr['human_DAF'] == 1])/len(df2_wF_chr)*100)"
   ]
  },
  {
   "cell_type": "markdown",
   "metadata": {},
   "source": [
    "### **3. Genes associated to *fixed alleles within Deserts*:** "
   ]
  },
  {
   "cell_type": "code",
   "execution_count": 24,
   "metadata": {},
   "outputs": [],
   "source": [
    "genesnames_fixed = pd.DataFrame(df1_wF[df1_wF['human_DAF'] == 1]['Gene_name'].unique())"
   ]
  },
  {
   "cell_type": "markdown",
   "metadata": {},
   "source": [
    "Need to reformat the data (column contains gene names separated by semicolon)"
   ]
  },
  {
   "cell_type": "code",
   "execution_count": 25,
   "metadata": {},
   "outputs": [],
   "source": [
    "genesnames_fixed[0] = genesnames_fixed[0].astype(str)"
   ]
  },
  {
   "cell_type": "code",
   "execution_count": 26,
   "metadata": {},
   "outputs": [],
   "source": [
    "genesnames_fixed=pd.DataFrame(genesnames_fixed[0].str.split(\";\").tolist()).stack()"
   ]
  },
  {
   "cell_type": "code",
   "execution_count": 27,
   "metadata": {},
   "outputs": [],
   "source": [
    "genesnames_fixed.reset_index(drop=True, inplace=True)"
   ]
  },
  {
   "cell_type": "code",
   "execution_count": 28,
   "metadata": {},
   "outputs": [],
   "source": [
    "genesnames_fixed = genesnames_fixed[~genesnames_fixed.str.contains(\"nan\")]"
   ]
  },
  {
   "cell_type": "code",
   "execution_count": 29,
   "metadata": {},
   "outputs": [],
   "source": [
    "genesnames_fixed.drop_duplicates(inplace=True)\n",
    "genesnames_fixed.reset_index(drop=True, inplace=True)"
   ]
  },
  {
   "cell_type": "markdown",
   "metadata": {},
   "source": [
    "##### **Result | Genes associated to fixed alleles within Deserts** (Martin & Boeckx 2019 SNP-gene association)"
   ]
  },
  {
   "cell_type": "code",
   "execution_count": 30,
   "metadata": {},
   "outputs": [
    {
     "name": "stdout",
     "output_type": "stream",
     "text": [
      "0           VAV3\n",
      "1          GPSM2\n",
      "2         AKNAD1\n",
      "3          KCNC4\n",
      "4        FAM19A3\n",
      "5    RP3-522D1.1\n",
      "6        SLC16A1\n",
      "7    SLC16A1-AS1\n",
      "8         VANGL1\n",
      "9       SLC22A15\n",
      "dtype: object\n",
      "49\n"
     ]
    }
   ],
   "source": [
    "print(genesnames_fixed.head(10))\n",
    "print(len(genesnames_fixed))"
   ]
  },
  {
   "cell_type": "code",
   "execution_count": 31,
   "metadata": {},
   "outputs": [],
   "source": [
    "genesnames_fixed.to_csv(\"Fixed_alleles_inDeserts_Genenames.csv\", header=True, index=False, sep='\\t')"
   ]
  },
  {
   "cell_type": "markdown",
   "metadata": {},
   "source": [
    "### Permutation test (R code)"
   ]
  },
  {
   "cell_type": "markdown",
   "metadata": {},
   "source": [
    "### biomaRt - Bioconductor: *Extracting gene names from Akey deserts* (R code) "
   ]
  }
 ],
 "metadata": {
  "kernelspec": {
   "display_name": "Python 3",
   "language": "python",
   "name": "python3"
  },
  "language_info": {
   "codemirror_mode": {
    "name": "ipython",
    "version": 3
   },
   "file_extension": ".py",
   "mimetype": "text/x-python",
   "name": "python",
   "nbconvert_exporter": "python",
   "pygments_lexer": "ipython3",
   "version": "3.7.7"
  }
 },
 "nbformat": 4,
 "nbformat_minor": 4
}
