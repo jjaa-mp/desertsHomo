{
 "cells": [
  {
   "cell_type": "markdown",
   "metadata": {},
   "source": [
    "# Degree of Fixation "
   ]
  },
  {
   "cell_type": "code",
   "execution_count": 3,
   "metadata": {},
   "outputs": [],
   "source": [
    "import pandas as pd\n",
    "from pybedtools import BedTool"
   ]
  },
  {
   "cell_type": "markdown",
   "metadata": {},
   "source": [
    "**INDEX**\n",
    "\n",
    "**Data processing**\n",
    "\n",
    "Human high-frequency changes within Deserts\n",
    "\n",
    "Human high-frequency changes not in Deserts\n",
    "\n",
    "**1. Deserts vs NO Deserts (Whole genome)** \n",
    "    \n",
    "    Difference mean frequency\n",
    "    Difference percentage fixed alleles\n",
    "    \n",
    "**2. Mean frequency Deserts vs NO Deserts (per chromosome)** \n",
    "\n",
    "    Difference mean frequency\n",
    "    Difference percentage fixed alleles\n",
    "    \n",
    "**3. Genes under putative PosSel within Introgression deserts**\n"
   ]
  },
  {
   "cell_type": "raw",
   "metadata": {},
   "source": []
  },
  {
   "cell_type": "markdown",
   "metadata": {},
   "source": [
    "### **Data processing** "
   ]
  },
  {
   "cell_type": "markdown",
   "metadata": {},
   "source": [
    "#### Intersection hHF with Deserts "
   ]
  },
  {
   "cell_type": "markdown",
   "metadata": {},
   "source": [
    "##### Deserts and HF bed files \n",
    "### Deserts of introgression retrieved from https://doi.org/10.1016/j.cell.2020.01.012\n",
    "### Regions under positive selection retrieved from https://doi.org/10.1101/gr.219493.116\n",
    "### Homo sapiens SNCs retrieved from https://doi.org/10.1038/s41598-019-44877-x"
   ]
  },
  {
   "cell_type": "code",
   "execution_count": null,
   "metadata": {},
   "outputs": [],
   "source": [
    "akey = BedTool('~/2020_akeydeserts_coords.bed')\n",
    "print(len(akey))\n",
    "hf = BedTool('~/2020_Nahigh_freq.bed')\n",
    "print(len(hf))\n",
    "pey = BedTool('~/2020_pey_coords.bed')\n",
    "print(len(pey))"
   ]
  },
  {
   "cell_type": "markdown",
   "metadata": {},
   "source": [
    "#### Intersection hHF within Deserts "
   ]
  },
  {
   "cell_type": "code",
   "execution_count": null,
   "metadata": {},
   "outputs": [],
   "source": [
    "w_hf = akey.intersect(hf, wo=True)\n",
    "print(len(w_hf))"
   ]
  },
  {
   "cell_type": "markdown",
   "metadata": {},
   "source": [
    "#### Intersection hHF within no Deserts "
   ]
  },
  {
   "cell_type": "code",
   "execution_count": null,
   "metadata": {},
   "outputs": [],
   "source": [
    "wo_hf = hf.intersect(akey, wo=True, v=True)\n",
    "print(len(wo_hf))"
   ]
  },
  {
   "cell_type": "markdown",
   "metadata": {},
   "source": [
    "#### Result | Intersection hHF with Deserts: Bed files"
   ]
  },
  {
   "cell_type": "code",
   "execution_count": null,
   "metadata": {},
   "outputs": [],
   "source": [
    "w_hf.saveas(\"Nahigh_freq_WITHIN_deserts.bed\")\n",
    "wo_hf.saveas(\"Nahigh_freq_NOT_in_deserts.bed\")"
   ]
  },
  {
   "cell_type": "markdown",
   "metadata": {},
   "source": [
    "#### Intersection hHF within Deserts & Pey "
   ]
  },
  {
   "cell_type": "code",
   "execution_count": null,
   "metadata": {},
   "outputs": [],
   "source": [
    "t = pey.intersect(akey, wo=True, f=1)\n",
    "#print(len(t))\n",
    "print(t.head())\n",
    "t1 = hf.intersect(t, wa=True, f=1)\n",
    "print(t1.head())\n",
    "t1.saveas(\"~/Nahigh_freq_WITHIN_DesPey.bed\")"
   ]
  },
  {
   "cell_type": "markdown",
   "metadata": {},
   "source": [
    "### **1. COMPARISON | Deserts vs NO Deserts (Whole genome):** "
   ]
  },
  {
   "cell_type": "code",
   "execution_count": null,
   "metadata": {},
   "outputs": [],
   "source": [
    "df1 = pd.read_csv(\"~/Nahigh_freq_WITHIN_deserts.bed\", sep='\\t', header=None)\n",
    "df2 = pd.read_csv(\"~/Nahigh_freq_NOT_in_deserts.bed\", sep='\\t', header=None)"
   ]
  },
  {
   "cell_type": "markdown",
   "metadata": {},
   "source": [
    "#### Pandas dataframes "
   ]
  },
  {
   "cell_type": "code",
   "execution_count": null,
   "metadata": {},
   "outputs": [],
   "source": [
    "df1.drop([7], axis=1, inplace=True)\n",
    "df1.columns = ['chr', 'Desert_start','Desert_end', 'chr_hg19', 'POS_start', 'POS_end', 'dbSNP']\n",
    "df2.columns = ['chr', 'POS_start', 'POS_end', 'dbSNP']"
   ]
  },
  {
   "cell_type": "code",
   "execution_count": null,
   "metadata": {},
   "outputs": [],
   "source": [
    "df1.drop(['POS_start'], axis=1, inplace=True)\n",
    "df1['POS'] = df1['chr_hg19'].str.split(\"chr\", expand=True)[1]\n",
    "df1['POS'] = df1['POS'].astype(str)\n",
    "df1['POS'] = df1['POS'].str.cat(df1['POS_end'].astype(str), sep=':')\n",
    "df1.drop(['POS_end', 'dbSNP'], axis=1, inplace=True)"
   ]
  },
  {
   "cell_type": "code",
   "execution_count": null,
   "metadata": {},
   "outputs": [],
   "source": [
    "df2\n",
    "df2.drop(['POS_start'], axis=1, inplace=True)\n",
    "df2['POS'] = df2['chr'].str.split(\"chr\", expand=True)[1]\n",
    "df2['POS'] = df2['POS'].astype(str)\n",
    "df2['POS'] = df2['POS'].str.cat(df2['POS_end'].astype(str), sep=':')\n",
    "df2.drop(['POS_end', 'dbSNP'], axis=1, inplace=True)\n",
    "df2.head(2)"
   ]
  },
  {
   "cell_type": "code",
   "execution_count": null,
   "metadata": {},
   "outputs": [],
   "source": [
    "df3 = pd.read_csv(\"~/Nahigh_freq_WITHIN_DesPey.bed\", sep='\\t', header=None)\n",
    "df3.drop([1], axis=1, inplace=True)\n",
    "df3.columns = ['chr', 'SNP_pos', 'rsID']\n",
    "df3['POS'] = df3['chr'].str.split(\"chr\", expand=True)[1]\n",
    "df3['POS'] = df3['POS'].astype(str)\n",
    "df3['POS'] = df3['POS'].str.cat(df3['SNP_pos'].astype(str), sep=':')"
   ]
  },
  {
   "cell_type": "code",
   "execution_count": null,
   "metadata": {},
   "outputs": [],
   "source": [
    "martin = pd.read_csv(\"~/Na_high_freq.tsv\", sep='\\t')"
   ]
  },
  {
   "cell_type": "code",
   "execution_count": null,
   "metadata": {},
   "outputs": [],
   "source": [
    "#Des with Martin info\n",
    "martin_c1 = martin[['POS','dbSNP', 'human_DAF', 'Gene_name']]\n",
    "desMartin = martin_c1.merge(df1, on = 'POS' )\n",
    "desMartin.drop(['chr_hg19'], axis=1, inplace=True)\n",
    "desMartin"
   ]
  },
  {
   "cell_type": "code",
   "execution_count": null,
   "metadata": {},
   "outputs": [],
   "source": [
    "#No Deserts with Martin info\n",
    "NOdesMartin = martin_c1.merge(df2, on = 'POS' )\n",
    "NOdesMartin.drop(['chr'], axis=1, inplace=True)\n",
    "NOdesMartin"
   ]
  },
  {
   "cell_type": "code",
   "execution_count": null,
   "metadata": {},
   "outputs": [],
   "source": [
    "#Des+Pey with Martin info\n",
    "DesPeyMartin = martin_c1.merge(df3, on = 'POS' )\n",
    "DesPeyMartin.drop(['rsID'], axis=1, inplace=True)\n",
    "DesPeyMartin"
   ]
  },
  {
   "cell_type": "markdown",
   "metadata": {},
   "source": [
    "#### **Result | Mean frequency HF SNP in Deserts:** "
   ]
  },
  {
   "cell_type": "code",
   "execution_count": null,
   "metadata": {},
   "outputs": [],
   "source": [
    "desMartin['human_DAF'].mean()"
   ]
  },
  {
   "cell_type": "markdown",
   "metadata": {},
   "source": [
    "#### **Result | Mean frequency HF SNP in DesertsPey:** "
   ]
  },
  {
   "cell_type": "code",
   "execution_count": null,
   "metadata": {},
   "outputs": [],
   "source": [
    "DesPeyMartin['human_DAF'].mean()"
   ]
  },
  {
   "cell_type": "markdown",
   "metadata": {},
   "source": [
    "#### **Result | Mean frequency HF SNP in NO Deserts (whole genome):** "
   ]
  },
  {
   "cell_type": "code",
   "execution_count": null,
   "metadata": {},
   "outputs": [],
   "source": [
    "martin['human_DAF'].mean()"
   ]
  },
  {
   "cell_type": "markdown",
   "metadata": {},
   "source": [
    "##### Result | Mean frequency HF SNP difference deserts vs NO deserts"
   ]
  },
  {
   "cell_type": "code",
   "execution_count": null,
   "metadata": {},
   "outputs": [],
   "source": [
    "desMartin['human_DAF'].mean()-martin['human_DAF'].mean()"
   ]
  },
  {
   "cell_type": "markdown",
   "metadata": {},
   "source": [
    "#### **Result | Percentage of fixed alleles in Deserts:** "
   ]
  },
  {
   "cell_type": "code",
   "execution_count": null,
   "metadata": {},
   "outputs": [],
   "source": [
    "len(desMartin[desMartin['human_DAF'] == 1])/len(desMartin)*100"
   ]
  },
  {
   "cell_type": "markdown",
   "metadata": {},
   "source": [
    "#### **Result | Percentage of fixed alleles in NO Deserts (whole genome):** "
   ]
  },
  {
   "cell_type": "code",
   "execution_count": null,
   "metadata": {},
   "outputs": [],
   "source": [
    "len(NOdesMartin[NOdesMartin['human_DAF'] == 1])/len(NOdesMartin)*100"
   ]
  },
  {
   "cell_type": "markdown",
   "metadata": {},
   "source": [
    "##### Result | Difference in Proportion fixed alleles Deserts vs NO Deserts (whole genome):"
   ]
  },
  {
   "cell_type": "code",
   "execution_count": null,
   "metadata": {},
   "outputs": [],
   "source": [
    "(len(desMartin[desMartin['human_DAF'] == 1])/len(desMartin)*100)/(len(NOdesMartin[NOdesMartin['human_DAF'] == 1])/len(NOdesMartin)*100)"
   ]
  },
  {
   "cell_type": "markdown",
   "metadata": {},
   "source": [
    "#### **Result | Percentage of fixed alleles in DesertsPey:** "
   ]
  },
  {
   "cell_type": "code",
   "execution_count": null,
   "metadata": {},
   "outputs": [],
   "source": [
    "len(DesPeyMartin[DesPeyMartin['human_DAF'] == 1])/len(DesPeyMartin)*100"
   ]
  },
  {
   "cell_type": "code",
   "execution_count": null,
   "metadata": {},
   "outputs": [],
   "source": [
    "print(len(DesPeyMartin[DesPeyMartin['human_DAF'] == 1]))\n",
    "print(len(DesPeyMartin))"
   ]
  },
  {
   "cell_type": "code",
   "execution_count": null,
   "metadata": {},
   "outputs": [],
   "source": [
    "DesPeyMartin[DesPeyMartin['human_DAF'] == 1]['Gene_name'].unique()"
   ]
  },
  {
   "cell_type": "markdown",
   "metadata": {},
   "source": [
    "### **2. COMPARISON | Deserts vs NO Deserts (Per chromosome):** "
   ]
  },
  {
   "cell_type": "code",
   "execution_count": null,
   "metadata": {},
   "outputs": [],
   "source": [
    "NOdesMartin['chr'] = \"chr\"+NOdesMartin['POS'].str.split(\":\", expand=True)[0]"
   ]
  },
  {
   "cell_type": "code",
   "execution_count": null,
   "metadata": {},
   "outputs": [],
   "source": [
    "##Desert chromosomes: \n",
    "### df1_wF['chr'].unique() --> array(['chr1', 'chr3', 'chr7', 'chr8'], dtype=object)\n",
    "NOdesMartin_chr = NOdesMartin[(NOdesMartin['chr'] == 'chr1') | (NOdesMartin['chr'] == 'chr3') | (NOdesMartin['chr'] == 'chr7') | (NOdesMartin['chr'] == 'chr8')]\n",
    "print(len(NOdesMartin_chr))"
   ]
  },
  {
   "cell_type": "code",
   "execution_count": null,
   "metadata": {},
   "outputs": [],
   "source": [
    "NOdesMartin_chr['chr'].unique()"
   ]
  },
  {
   "cell_type": "markdown",
   "metadata": {},
   "source": [
    "#### **Result | Mean frequency HF SNP in NO Deserts (per chr):** "
   ]
  },
  {
   "cell_type": "code",
   "execution_count": null,
   "metadata": {},
   "outputs": [],
   "source": [
    "NOdesMartin_chr['human_DAF'].mean()"
   ]
  },
  {
   "cell_type": "markdown",
   "metadata": {},
   "source": [
    "##### Result | Mean frequency HF SNP difference deserts vs NO deserts (per chr)"
   ]
  },
  {
   "cell_type": "code",
   "execution_count": null,
   "metadata": {},
   "outputs": [],
   "source": [
    "desMartin['human_DAF'].mean()-NOdesMartin_chr['human_DAF'].mean()"
   ]
  },
  {
   "cell_type": "markdown",
   "metadata": {},
   "source": [
    "#### **Result | Percentage of fixed alleles in NO Deserts (per chr):** "
   ]
  },
  {
   "cell_type": "code",
   "execution_count": null,
   "metadata": {},
   "outputs": [],
   "source": [
    "len(NOdesMartin_chr[NOdesMartin_chr['human_DAF'] == 1])/len(NOdesMartin_chr)*100"
   ]
  },
  {
   "cell_type": "markdown",
   "metadata": {},
   "source": [
    "##### Result | Difference in Proportion fixed alleles Deserts vs NO Deserts (per chr):"
   ]
  },
  {
   "cell_type": "code",
   "execution_count": null,
   "metadata": {},
   "outputs": [],
   "source": [
    "(len(desMartin[desMartin['human_DAF'] == 1])/len(desMartin)*100)/(len(NOdesMartin_chr[NOdesMartin_chr['human_DAF'] == 1])/len(NOdesMartin_chr)*100)"
   ]
  },
  {
   "cell_type": "markdown",
   "metadata": {},
   "source": [
    "### SUMMARY TABLE"
   ]
  },
  {
   "cell_type": "code",
   "execution_count": null,
   "metadata": {},
   "outputs": [],
   "source": [
    "summary = {'Frequency': [desMartin['human_DAF'].mean(), NOdesMartin_chr['human_DAF'].mean(), DesPeyMartin['human_DAF'].mean()], '% Fixed alleles': [len(desMartin[desMartin['human_DAF'] == 1])/len(desMartin)*100, len(NOdesMartin_chr[NOdesMartin_chr['human_DAF'] == 1])/len(NOdesMartin_chr)*100, len(DesPeyMartin[DesPeyMartin['human_DAF'] == 1])/len(DesPeyMartin)*100]}\n",
    "pd.DataFrame(summary, index=['Deserts', 'No Deserts (per chr)', 'D+Pey'])"
   ]
  },
  {
   "cell_type": "code",
   "execution_count": null,
   "metadata": {},
   "outputs": [],
   "source": [
    "print(len(desMartin[desMartin['human_DAF'] == 1]))\n",
    "print(len(desMartin))\n",
    "#\n",
    "print(len(NOdesMartin[NOdesMartin['human_DAF'] == 1]))\n",
    "print(len(NOdesMartin))\n",
    "#\n",
    "print(len(DesPeyMartin[DesPeyMartin['human_DAF'] == 1]))\n",
    "print(len(DesPeyMartin))"
   ]
  },
  {
   "cell_type": "code",
   "execution_count": null,
   "metadata": {},
   "outputs": [],
   "source": [
    "summary_table = pd.DataFrame(summary, index=['Deserts', 'No Deserts (per chr)', 'D+Pey'])"
   ]
  },
  {
   "cell_type": "code",
   "execution_count": null,
   "metadata": {},
   "outputs": [],
   "source": [
    "summary_table"
   ]
  },
  {
   "cell_type": "code",
   "execution_count": null,
   "metadata": {},
   "outputs": [],
   "source": [
    "summary_table.to_csv(\"~/desertsHomo/1.data/stat_freq/Supplementary_Table_1.csv\",sep = \"\\t\")"
   ]
  },
  {
   "cell_type": "markdown",
   "metadata": {},
   "source": [
    "### **3. Genes under putative PosSel within Introgression deserts:** "
   ]
  },
  {
   "cell_type": "code",
   "execution_count": 32,
   "metadata": {},
   "outputs": [],
   "source": [
    "possel_des = pd.DataFrame([\"SLC16A1\",\"SYT6\",\"ROBO2\" ,\"ST7\",\"KCND2\",\"CADPS2\",\"RNF133\",\"RNF148\" , \"COG5\",\"GPR22\",\"DUS4L\",\"BCAP29\"])"
   ]
  },
  {
   "cell_type": "code",
   "execution_count": 6,
   "metadata": {},
   "outputs": [
    {
     "name": "stderr",
     "output_type": "stream",
     "text": [
      "/home/juan/anaconda3/lib/python3.8/site-packages/IPython/core/interactiveshell.py:3146: DtypeWarning: Columns (6) have mixed types.Specify dtype option on import or set low_memory=False.\n",
      "  has_raised = await self.run_ast_nodes(code_ast.body, cell_name,\n"
     ]
    }
   ],
   "source": [
    "#Homo sapiens SNCs retrieved from https://doi.org/10.1038/s41598-019-44877-x\n",
    "hf = pd.read_csv(\"/home/juan/Downloads/Na_high_freq.tsv\", sep='\\t')"
   ]
  },
  {
   "cell_type": "code",
   "execution_count": 11,
   "metadata": {},
   "outputs": [],
   "source": [
    "missense = hf[hf['consequence'].str.contains(\"missense\")]"
   ]
  },
  {
   "cell_type": "code",
   "execution_count": 13,
   "metadata": {},
   "outputs": [],
   "source": [
    "missense.reset_index(drop=True, inplace=True)"
   ]
  },
  {
   "cell_type": "code",
   "execution_count": 17,
   "metadata": {},
   "outputs": [
    {
     "data": {
      "text/plain": [
       "0                     VCAM1\n",
       "1                  C1orf159\n",
       "2                   COL11A1\n",
       "3      EXOSC10;RP4-635E18.7\n",
       "4                    TTLL10\n",
       "               ...         \n",
       "643                   ZC4H2\n",
       "644          IGBP1;MTND4P31\n",
       "645                    ATRX\n",
       "646                  GPR143\n",
       "647                 SHROOM2\n",
       "Name: Gene_name, Length: 648, dtype: object"
      ]
     },
     "execution_count": 17,
     "metadata": {},
     "output_type": "execute_result"
    }
   ],
   "source": [
    "missense['Gene_name'].str"
   ]
  },
  {
   "cell_type": "code",
   "execution_count": 24,
   "metadata": {},
   "outputs": [
    {
     "data": {
      "text/html": [
       "<div>\n",
       "<style scoped>\n",
       "    .dataframe tbody tr th:only-of-type {\n",
       "        vertical-align: middle;\n",
       "    }\n",
       "\n",
       "    .dataframe tbody tr th {\n",
       "        vertical-align: top;\n",
       "    }\n",
       "\n",
       "    .dataframe thead th {\n",
       "        text-align: right;\n",
       "    }\n",
       "</style>\n",
       "<table border=\"1\" class=\"dataframe\">\n",
       "  <thead>\n",
       "    <tr style=\"text-align: right;\">\n",
       "      <th></th>\n",
       "      <th>index</th>\n",
       "      <th>0</th>\n",
       "    </tr>\n",
       "  </thead>\n",
       "  <tbody>\n",
       "    <tr>\n",
       "      <th>0</th>\n",
       "      <td>VCAM1</td>\n",
       "      <td>0.999992</td>\n",
       "    </tr>\n",
       "    <tr>\n",
       "      <th>1</th>\n",
       "      <td>C1orf159</td>\n",
       "      <td>1.000000</td>\n",
       "    </tr>\n",
       "    <tr>\n",
       "      <th>2</th>\n",
       "      <td>COL11A1</td>\n",
       "      <td>0.928468</td>\n",
       "    </tr>\n",
       "    <tr>\n",
       "      <th>3</th>\n",
       "      <td>EXOSC10</td>\n",
       "      <td>0.970215</td>\n",
       "    </tr>\n",
       "    <tr>\n",
       "      <th>4</th>\n",
       "      <td>RP4-635E18.7</td>\n",
       "      <td>0.970215</td>\n",
       "    </tr>\n",
       "    <tr>\n",
       "      <th>...</th>\n",
       "      <td>...</td>\n",
       "      <td>...</td>\n",
       "    </tr>\n",
       "    <tr>\n",
       "      <th>1024</th>\n",
       "      <td>IGBP1</td>\n",
       "      <td>0.982810</td>\n",
       "    </tr>\n",
       "    <tr>\n",
       "      <th>1025</th>\n",
       "      <td>MTND4P31</td>\n",
       "      <td>0.982810</td>\n",
       "    </tr>\n",
       "    <tr>\n",
       "      <th>1026</th>\n",
       "      <td>ATRX</td>\n",
       "      <td>0.999508</td>\n",
       "    </tr>\n",
       "    <tr>\n",
       "      <th>1027</th>\n",
       "      <td>GPR143</td>\n",
       "      <td>0.996612</td>\n",
       "    </tr>\n",
       "    <tr>\n",
       "      <th>1028</th>\n",
       "      <td>SHROOM2</td>\n",
       "      <td>0.993848</td>\n",
       "    </tr>\n",
       "  </tbody>\n",
       "</table>\n",
       "<p>1029 rows × 2 columns</p>\n",
       "</div>"
      ],
      "text/plain": [
       "             index         0\n",
       "0            VCAM1  0.999992\n",
       "1         C1orf159  1.000000\n",
       "2          COL11A1  0.928468\n",
       "3          EXOSC10  0.970215\n",
       "4     RP4-635E18.7  0.970215\n",
       "...            ...       ...\n",
       "1024         IGBP1  0.982810\n",
       "1025      MTND4P31  0.982810\n",
       "1026          ATRX  0.999508\n",
       "1027        GPR143  0.996612\n",
       "1028       SHROOM2  0.993848\n",
       "\n",
       "[1029 rows x 2 columns]"
      ]
     },
     "execution_count": 24,
     "metadata": {},
     "output_type": "execute_result"
    }
   ],
   "source": [
    "pd.concat([pd.Series(row['human_DAF'], row['Gene_name'].split(';'))              \n",
    "                    for _, row in missense.iterrows()]).reset_index()"
   ]
  },
  {
   "cell_type": "code",
   "execution_count": 36,
   "metadata": {},
   "outputs": [],
   "source": [
    "mis_genenames = pd.DataFrame(pd.concat([pd.Series(row['human_DAF'], row['Gene_name'].split(';'))              \n",
    "                    for _, row in missense.iterrows()]).reset_index()['index'])"
   ]
  },
  {
   "cell_type": "code",
   "execution_count": 37,
   "metadata": {},
   "outputs": [
    {
     "data": {
      "text/html": [
       "<div>\n",
       "<style scoped>\n",
       "    .dataframe tbody tr th:only-of-type {\n",
       "        vertical-align: middle;\n",
       "    }\n",
       "\n",
       "    .dataframe tbody tr th {\n",
       "        vertical-align: top;\n",
       "    }\n",
       "\n",
       "    .dataframe thead th {\n",
       "        text-align: right;\n",
       "    }\n",
       "</style>\n",
       "<table border=\"1\" class=\"dataframe\">\n",
       "  <thead>\n",
       "    <tr style=\"text-align: right;\">\n",
       "      <th></th>\n",
       "      <th>index</th>\n",
       "    </tr>\n",
       "  </thead>\n",
       "  <tbody>\n",
       "    <tr>\n",
       "      <th>0</th>\n",
       "      <td>VCAM1</td>\n",
       "    </tr>\n",
       "    <tr>\n",
       "      <th>1</th>\n",
       "      <td>C1orf159</td>\n",
       "    </tr>\n",
       "    <tr>\n",
       "      <th>2</th>\n",
       "      <td>COL11A1</td>\n",
       "    </tr>\n",
       "    <tr>\n",
       "      <th>3</th>\n",
       "      <td>EXOSC10</td>\n",
       "    </tr>\n",
       "    <tr>\n",
       "      <th>4</th>\n",
       "      <td>RP4-635E18.7</td>\n",
       "    </tr>\n",
       "    <tr>\n",
       "      <th>...</th>\n",
       "      <td>...</td>\n",
       "    </tr>\n",
       "    <tr>\n",
       "      <th>1024</th>\n",
       "      <td>IGBP1</td>\n",
       "    </tr>\n",
       "    <tr>\n",
       "      <th>1025</th>\n",
       "      <td>MTND4P31</td>\n",
       "    </tr>\n",
       "    <tr>\n",
       "      <th>1026</th>\n",
       "      <td>ATRX</td>\n",
       "    </tr>\n",
       "    <tr>\n",
       "      <th>1027</th>\n",
       "      <td>GPR143</td>\n",
       "    </tr>\n",
       "    <tr>\n",
       "      <th>1028</th>\n",
       "      <td>SHROOM2</td>\n",
       "    </tr>\n",
       "  </tbody>\n",
       "</table>\n",
       "<p>1029 rows × 1 columns</p>\n",
       "</div>"
      ],
      "text/plain": [
       "             index\n",
       "0            VCAM1\n",
       "1         C1orf159\n",
       "2          COL11A1\n",
       "3          EXOSC10\n",
       "4     RP4-635E18.7\n",
       "...            ...\n",
       "1024         IGBP1\n",
       "1025      MTND4P31\n",
       "1026          ATRX\n",
       "1027        GPR143\n",
       "1028       SHROOM2\n",
       "\n",
       "[1029 rows x 1 columns]"
      ]
     },
     "execution_count": 37,
     "metadata": {},
     "output_type": "execute_result"
    }
   ],
   "source": [
    "mis_genenames"
   ]
  },
  {
   "cell_type": "code",
   "execution_count": 33,
   "metadata": {},
   "outputs": [
    {
     "data": {
      "text/html": [
       "<div>\n",
       "<style scoped>\n",
       "    .dataframe tbody tr th:only-of-type {\n",
       "        vertical-align: middle;\n",
       "    }\n",
       "\n",
       "    .dataframe tbody tr th {\n",
       "        vertical-align: top;\n",
       "    }\n",
       "\n",
       "    .dataframe thead th {\n",
       "        text-align: right;\n",
       "    }\n",
       "</style>\n",
       "<table border=\"1\" class=\"dataframe\">\n",
       "  <thead>\n",
       "    <tr style=\"text-align: right;\">\n",
       "      <th></th>\n",
       "      <th>0</th>\n",
       "    </tr>\n",
       "  </thead>\n",
       "  <tbody>\n",
       "    <tr>\n",
       "      <th>0</th>\n",
       "      <td>SLC16A1</td>\n",
       "    </tr>\n",
       "    <tr>\n",
       "      <th>1</th>\n",
       "      <td>SYT6</td>\n",
       "    </tr>\n",
       "    <tr>\n",
       "      <th>2</th>\n",
       "      <td>ROBO2</td>\n",
       "    </tr>\n",
       "    <tr>\n",
       "      <th>3</th>\n",
       "      <td>ST7</td>\n",
       "    </tr>\n",
       "    <tr>\n",
       "      <th>4</th>\n",
       "      <td>KCND2</td>\n",
       "    </tr>\n",
       "    <tr>\n",
       "      <th>5</th>\n",
       "      <td>CADPS2</td>\n",
       "    </tr>\n",
       "    <tr>\n",
       "      <th>6</th>\n",
       "      <td>RNF133</td>\n",
       "    </tr>\n",
       "    <tr>\n",
       "      <th>7</th>\n",
       "      <td>RNF148</td>\n",
       "    </tr>\n",
       "    <tr>\n",
       "      <th>8</th>\n",
       "      <td>COG5</td>\n",
       "    </tr>\n",
       "    <tr>\n",
       "      <th>9</th>\n",
       "      <td>GPR22</td>\n",
       "    </tr>\n",
       "    <tr>\n",
       "      <th>10</th>\n",
       "      <td>DUS4L</td>\n",
       "    </tr>\n",
       "    <tr>\n",
       "      <th>11</th>\n",
       "      <td>BCAP29</td>\n",
       "    </tr>\n",
       "  </tbody>\n",
       "</table>\n",
       "</div>"
      ],
      "text/plain": [
       "          0\n",
       "0   SLC16A1\n",
       "1      SYT6\n",
       "2     ROBO2\n",
       "3       ST7\n",
       "4     KCND2\n",
       "5    CADPS2\n",
       "6    RNF133\n",
       "7    RNF148\n",
       "8      COG5\n",
       "9     GPR22\n",
       "10    DUS4L\n",
       "11   BCAP29"
      ]
     },
     "execution_count": 33,
     "metadata": {},
     "output_type": "execute_result"
    }
   ],
   "source": [
    "possel_des"
   ]
  },
  {
   "cell_type": "code",
   "execution_count": 39,
   "metadata": {},
   "outputs": [
    {
     "data": {
      "text/plain": [
       "0"
      ]
     },
     "execution_count": 39,
     "metadata": {},
     "output_type": "execute_result"
    }
   ],
   "source": [
    "len(mis_genenames[mis_genenames['index'].isin(possel_des[0])])"
   ]
  }
 ],
 "metadata": {
  "kernelspec": {
   "display_name": "Python 3",
   "language": "python",
   "name": "python3"
  },
  "language_info": {
   "codemirror_mode": {
    "name": "ipython",
    "version": 3
   },
   "file_extension": ".py",
   "mimetype": "text/x-python",
   "name": "python",
   "nbconvert_exporter": "python",
   "pygments_lexer": "ipython3",
   "version": "3.8.5"
  }
 },
 "nbformat": 4,
 "nbformat_minor": 4
}
