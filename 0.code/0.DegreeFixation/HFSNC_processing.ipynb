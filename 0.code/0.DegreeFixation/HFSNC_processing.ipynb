{
 "cells": [
  {
   "cell_type": "markdown",
   "metadata": {},
   "source": [
    "# Degree of Fixation "
   ]
  },
  {
   "cell_type": "code",
   "execution_count": null,
   "metadata": {},
   "outputs": [],
   "source": [
    "import pandas as pd\n",
    "from pybedtools import BedTool"
   ]
  },
  {
   "cell_type": "markdown",
   "metadata": {},
   "source": [
    "**INDEX**\n",
    "\n",
    "**Data processing**\n",
    "\n",
    "Human high-frequency changes within Deserts\n",
    "\n",
    "Human high-frequency changes not in Deserts\n",
    "\n",
    "**1. Deserts vs NO Deserts (Whole genome)** \n",
    "    \n",
    "    Difference mean frequency\n",
    "    Difference percentage fixed alleles\n",
    "    \n",
    "**2. Mean frequency Deserts vs NO Deserts (per chromosome)** \n",
    "\n",
    "    Difference mean frequency\n",
    "    Difference percentage fixed alleles\n",
    "    \n",
    "**3. Genes associated to fixed alleles within Deserts**\n"
   ]
  },
  {
   "cell_type": "raw",
   "metadata": {},
   "source": []
  },
  {
   "cell_type": "markdown",
   "metadata": {},
   "source": [
    "### **Data processing** "
   ]
  },
  {
   "cell_type": "markdown",
   "metadata": {},
   "source": [
    "#### Intersection hHF with Deserts "
   ]
  },
  {
   "cell_type": "markdown",
   "metadata": {},
   "source": [
    "##### Deserts and HF bed files \n",
    "### Deserts of introgression retrieved from https://doi.org/10.1016/j.cell.2020.01.012\n",
    "### Regions under positive selection retrieved from https://doi.org/10.1101/gr.219493.116\n",
    "### Homo sapiens SNCs retrieved from https://doi.org/10.1038/s41598-019-44877-x"
   ]
  },
  {
   "cell_type": "code",
   "execution_count": null,
   "metadata": {},
   "outputs": [],
   "source": [
    "akey = BedTool('~/2020_akeydeserts_coords.bed')\n",
    "print(len(akey))\n",
    "hf = BedTool('~/2020_Nahigh_freq.bed')\n",
    "print(len(hf))\n",
    "pey = BedTool('~/2020_pey_coords.bed')\n",
    "print(len(pey))"
   ]
  },
  {
   "cell_type": "markdown",
   "metadata": {},
   "source": [
    "#### Intersection hHF within Deserts "
   ]
  },
  {
   "cell_type": "code",
   "execution_count": null,
   "metadata": {},
   "outputs": [],
   "source": [
    "w_hf = akey.intersect(hf, wo=True)\n",
    "print(len(w_hf))"
   ]
  },
  {
   "cell_type": "markdown",
   "metadata": {},
   "source": [
    "#### Intersection hHF within no Deserts "
   ]
  },
  {
   "cell_type": "code",
   "execution_count": null,
   "metadata": {},
   "outputs": [],
   "source": [
    "wo_hf = hf.intersect(akey, wo=True, v=True)\n",
    "print(len(wo_hf))"
   ]
  },
  {
   "cell_type": "markdown",
   "metadata": {},
   "source": [
    "#### Result | Intersection hHF with Deserts: Bed files"
   ]
  },
  {
   "cell_type": "code",
   "execution_count": null,
   "metadata": {},
   "outputs": [],
   "source": [
    "w_hf.saveas(\"Nahigh_freq_WITHIN_deserts.bed\")\n",
    "wo_hf.saveas(\"Nahigh_freq_NOT_in_deserts.bed\")"
   ]
  },
  {
   "cell_type": "markdown",
   "metadata": {},
   "source": [
    "#### Intersection hHF within Deserts & Pey "
   ]
  },
  {
   "cell_type": "code",
   "execution_count": null,
   "metadata": {},
   "outputs": [],
   "source": [
    "t = pey.intersect(akey, wo=True, f=1)\n",
    "#print(len(t))\n",
    "print(t.head())\n",
    "t1 = hf.intersect(t, wa=True, f=1)\n",
    "print(t1.head())\n",
    "t1.saveas(\"~/Nahigh_freq_WITHIN_DesPey.bed\")"
   ]
  },
  {
   "cell_type": "markdown",
   "metadata": {},
   "source": [
    "### **1. COMPARISON | Deserts vs NO Deserts (Whole genome):** "
   ]
  },
  {
   "cell_type": "code",
   "execution_count": null,
   "metadata": {},
   "outputs": [],
   "source": [
    "df1 = pd.read_csv(\"~/Nahigh_freq_WITHIN_deserts.bed\", sep='\\t', header=None)\n",
    "df2 = pd.read_csv(\"~/Nahigh_freq_NOT_in_deserts.bed\", sep='\\t', header=None)"
   ]
  },
  {
   "cell_type": "markdown",
   "metadata": {},
   "source": [
    "#### Pandas dataframes "
   ]
  },
  {
   "cell_type": "code",
   "execution_count": null,
   "metadata": {},
   "outputs": [],
   "source": [
    "df1.drop([7], axis=1, inplace=True)\n",
    "df1.columns = ['chr', 'Desert_start','Desert_end', 'chr_hg19', 'POS_start', 'POS_end', 'dbSNP']\n",
    "df2.columns = ['chr', 'POS_start', 'POS_end', 'dbSNP']"
   ]
  },
  {
   "cell_type": "code",
   "execution_count": null,
   "metadata": {},
   "outputs": [],
   "source": [
    "df1.drop(['POS_start'], axis=1, inplace=True)\n",
    "df1['POS'] = df1['chr_hg19'].str.split(\"chr\", expand=True)[1]\n",
    "df1['POS'] = df1['POS'].astype(str)\n",
    "df1['POS'] = df1['POS'].str.cat(df1['POS_end'].astype(str), sep=':')\n",
    "df1.drop(['POS_end', 'dbSNP'], axis=1, inplace=True)"
   ]
  },
  {
   "cell_type": "code",
   "execution_count": null,
   "metadata": {},
   "outputs": [],
   "source": [
    "df2\n",
    "df2.drop(['POS_start'], axis=1, inplace=True)\n",
    "df2['POS'] = df2['chr'].str.split(\"chr\", expand=True)[1]\n",
    "df2['POS'] = df2['POS'].astype(str)\n",
    "df2['POS'] = df2['POS'].str.cat(df2['POS_end'].astype(str), sep=':')\n",
    "df2.drop(['POS_end', 'dbSNP'], axis=1, inplace=True)\n",
    "df2.head(2)"
   ]
  },
  {
   "cell_type": "code",
   "execution_count": null,
   "metadata": {},
   "outputs": [],
   "source": [
    "df3 = pd.read_csv(\"~/Nahigh_freq_WITHIN_DesPey.bed\", sep='\\t', header=None)\n",
    "df3.drop([1], axis=1, inplace=True)\n",
    "df3.columns = ['chr', 'SNP_pos', 'rsID']\n",
    "df3['POS'] = df3['chr'].str.split(\"chr\", expand=True)[1]\n",
    "df3['POS'] = df3['POS'].astype(str)\n",
    "df3['POS'] = df3['POS'].str.cat(df3['SNP_pos'].astype(str), sep=':')"
   ]
  },
  {
   "cell_type": "code",
   "execution_count": null,
   "metadata": {},
   "outputs": [],
   "source": [
    "martin = pd.read_csv(\"~/Na_high_freq.tsv\", sep='\\t')"
   ]
  },
  {
   "cell_type": "code",
   "execution_count": null,
   "metadata": {},
   "outputs": [],
   "source": [
    "#Des with Martin info\n",
    "martin_c1 = martin[['POS','dbSNP', 'human_DAF', 'Gene_name']]\n",
    "desMartin = martin_c1.merge(df1, on = 'POS' )\n",
    "desMartin.drop(['chr_hg19'], axis=1, inplace=True)\n",
    "desMartin"
   ]
  },
  {
   "cell_type": "code",
   "execution_count": null,
   "metadata": {},
   "outputs": [],
   "source": [
    "#No Deserts with Martin info\n",
    "NOdesMartin = martin_c1.merge(df2, on = 'POS' )\n",
    "NOdesMartin.drop(['chr'], axis=1, inplace=True)\n",
    "NOdesMartin"
   ]
  },
  {
   "cell_type": "code",
   "execution_count": null,
   "metadata": {},
   "outputs": [],
   "source": [
    "#Des+Pey with Martin info\n",
    "DesPeyMartin = martin_c1.merge(df3, on = 'POS' )\n",
    "DesPeyMartin.drop(['rsID'], axis=1, inplace=True)\n",
    "DesPeyMartin"
   ]
  },
  {
   "cell_type": "markdown",
   "metadata": {},
   "source": [
    "#### **Result | Mean frequency HF SNP in Deserts:** "
   ]
  },
  {
   "cell_type": "code",
   "execution_count": null,
   "metadata": {},
   "outputs": [],
   "source": [
    "desMartin['human_DAF'].mean()"
   ]
  },
  {
   "cell_type": "markdown",
   "metadata": {},
   "source": [
    "#### **Result | Mean frequency HF SNP in DesertsPey:** "
   ]
  },
  {
   "cell_type": "code",
   "execution_count": null,
   "metadata": {},
   "outputs": [],
   "source": [
    "DesPeyMartin['human_DAF'].mean()"
   ]
  },
  {
   "cell_type": "markdown",
   "metadata": {},
   "source": [
    "#### **Result | Mean frequency HF SNP in NO Deserts (whole genome):** "
   ]
  },
  {
   "cell_type": "code",
   "execution_count": null,
   "metadata": {},
   "outputs": [],
   "source": [
    "martin['human_DAF'].mean()"
   ]
  },
  {
   "cell_type": "markdown",
   "metadata": {},
   "source": [
    "##### Result | Mean frequency HF SNP difference deserts vs NO deserts"
   ]
  },
  {
   "cell_type": "code",
   "execution_count": null,
   "metadata": {},
   "outputs": [],
   "source": [
    "desMartin['human_DAF'].mean()-martin['human_DAF'].mean()"
   ]
  },
  {
   "cell_type": "markdown",
   "metadata": {},
   "source": [
    "#### **Result | Percentage of fixed alleles in Deserts:** "
   ]
  },
  {
   "cell_type": "code",
   "execution_count": null,
   "metadata": {},
   "outputs": [],
   "source": [
    "len(desMartin[desMartin['human_DAF'] == 1])/len(desMartin)*100"
   ]
  },
  {
   "cell_type": "markdown",
   "metadata": {},
   "source": [
    "#### **Result | Percentage of fixed alleles in NO Deserts (whole genome):** "
   ]
  },
  {
   "cell_type": "code",
   "execution_count": null,
   "metadata": {},
   "outputs": [],
   "source": [
    "len(NOdesMartin[NOdesMartin['human_DAF'] == 1])/len(NOdesMartin)*100"
   ]
  },
  {
   "cell_type": "markdown",
   "metadata": {},
   "source": [
    "##### Result | Difference in Proportion fixed alleles Deserts vs NO Deserts (whole genome):"
   ]
  },
  {
   "cell_type": "code",
   "execution_count": null,
   "metadata": {},
   "outputs": [],
   "source": [
    "(len(desMartin[desMartin['human_DAF'] == 1])/len(desMartin)*100)/(len(NOdesMartin[NOdesMartin['human_DAF'] == 1])/len(NOdesMartin)*100)"
   ]
  },
  {
   "cell_type": "markdown",
   "metadata": {},
   "source": [
    "#### **Result | Percentage of fixed alleles in DesertsPey:** "
   ]
  },
  {
   "cell_type": "code",
   "execution_count": null,
   "metadata": {},
   "outputs": [],
   "source": [
    "len(DesPeyMartin[DesPeyMartin['human_DAF'] == 1])/len(DesPeyMartin)*100"
   ]
  },
  {
   "cell_type": "code",
   "execution_count": null,
   "metadata": {},
   "outputs": [],
   "source": [
    "print(len(DesPeyMartin[DesPeyMartin['human_DAF'] == 1]))\n",
    "print(len(DesPeyMartin))"
   ]
  },
  {
   "cell_type": "code",
   "execution_count": null,
   "metadata": {},
   "outputs": [],
   "source": [
    "DesPeyMartin[DesPeyMartin['human_DAF'] == 1]['Gene_name'].unique()"
   ]
  },
  {
   "cell_type": "markdown",
   "metadata": {},
   "source": [
    "### **2. COMPARISON | Deserts vs NO Deserts (Per chromosome):** "
   ]
  },
  {
   "cell_type": "code",
   "execution_count": null,
   "metadata": {},
   "outputs": [],
   "source": [
    "NOdesMartin['chr'] = \"chr\"+NOdesMartin['POS'].str.split(\":\", expand=True)[0]"
   ]
  },
  {
   "cell_type": "code",
   "execution_count": null,
   "metadata": {},
   "outputs": [],
   "source": [
    "##Desert chromosomes: \n",
    "### df1_wF['chr'].unique() --> array(['chr1', 'chr3', 'chr7', 'chr8'], dtype=object)\n",
    "NOdesMartin_chr = NOdesMartin[(NOdesMartin['chr'] == 'chr1') | (NOdesMartin['chr'] == 'chr3') | (NOdesMartin['chr'] == 'chr7') | (NOdesMartin['chr'] == 'chr8')]\n",
    "print(len(NOdesMartin_chr))"
   ]
  },
  {
   "cell_type": "code",
   "execution_count": null,
   "metadata": {},
   "outputs": [],
   "source": [
    "NOdesMartin_chr['chr'].unique()"
   ]
  },
  {
   "cell_type": "markdown",
   "metadata": {},
   "source": [
    "#### **Result | Mean frequency HF SNP in NO Deserts (per chr):** "
   ]
  },
  {
   "cell_type": "code",
   "execution_count": null,
   "metadata": {},
   "outputs": [],
   "source": [
    "NOdesMartin_chr['human_DAF'].mean()"
   ]
  },
  {
   "cell_type": "markdown",
   "metadata": {},
   "source": [
    "##### Result | Mean frequency HF SNP difference deserts vs NO deserts (per chr)"
   ]
  },
  {
   "cell_type": "code",
   "execution_count": null,
   "metadata": {},
   "outputs": [],
   "source": [
    "desMartin['human_DAF'].mean()-NOdesMartin_chr['human_DAF'].mean()"
   ]
  },
  {
   "cell_type": "markdown",
   "metadata": {},
   "source": [
    "#### **Result | Percentage of fixed alleles in NO Deserts (per chr):** "
   ]
  },
  {
   "cell_type": "code",
   "execution_count": null,
   "metadata": {},
   "outputs": [],
   "source": [
    "len(NOdesMartin_chr[NOdesMartin_chr['human_DAF'] == 1])/len(NOdesMartin_chr)*100"
   ]
  },
  {
   "cell_type": "markdown",
   "metadata": {},
   "source": [
    "##### Result | Difference in Proportion fixed alleles Deserts vs NO Deserts (per chr):"
   ]
  },
  {
   "cell_type": "code",
   "execution_count": null,
   "metadata": {},
   "outputs": [],
   "source": [
    "(len(desMartin[desMartin['human_DAF'] == 1])/len(desMartin)*100)/(len(NOdesMartin_chr[NOdesMartin_chr['human_DAF'] == 1])/len(NOdesMartin_chr)*100)"
   ]
  },
  {
   "cell_type": "markdown",
   "metadata": {},
   "source": [
    "### SUMMARY TABLE"
   ]
  },
  {
   "cell_type": "code",
   "execution_count": null,
   "metadata": {},
   "outputs": [],
   "source": [
    "summary = {'Frequency': [desMartin['human_DAF'].mean(), NOdesMartin_chr['human_DAF'].mean(), DesPeyMartin['human_DAF'].mean()], '% Fixed alleles': [len(desMartin[desMartin['human_DAF'] == 1])/len(desMartin)*100, len(NOdesMartin_chr[NOdesMartin_chr['human_DAF'] == 1])/len(NOdesMartin_chr)*100, len(DesPeyMartin[DesPeyMartin['human_DAF'] == 1])/len(DesPeyMartin)*100]}\n",
    "pd.DataFrame(summary, index=['Deserts', 'No Deserts (per chr)', 'D+Pey'])"
   ]
  },
  {
   "cell_type": "code",
   "execution_count": null,
   "metadata": {},
   "outputs": [],
   "source": [
    "print(len(desMartin[desMartin['human_DAF'] == 1]))\n",
    "print(len(desMartin))\n",
    "#\n",
    "print(len(NOdesMartin[NOdesMartin['human_DAF'] == 1]))\n",
    "print(len(NOdesMartin))\n",
    "#\n",
    "print(len(DesPeyMartin[DesPeyMartin['human_DAF'] == 1]))\n",
    "print(len(DesPeyMartin))"
   ]
  },
  {
   "cell_type": "code",
   "execution_count": null,
   "metadata": {},
   "outputs": [],
   "source": [
    "summary_table = pd.DataFrame(summary, index=['Deserts', 'No Deserts (per chr)', 'D+Pey'])"
   ]
  },
  {
   "cell_type": "code",
   "execution_count": null,
   "metadata": {},
   "outputs": [],
   "source": [
    "summary_table"
   ]
  },
  {
   "cell_type": "code",
   "execution_count": null,
   "metadata": {},
   "outputs": [],
   "source": [
    "summary_table.to_csv(\"~/desertsHomo/1.data/stat_freq/Supplementary_Table_1.csv\",sep = \"\\t\")"
   ]
  }
 ],
 "metadata": {
  "kernelspec": {
   "display_name": "Python 3",
   "language": "python",
   "name": "python3"
  },
  "language_info": {
   "codemirror_mode": {
    "name": "ipython",
    "version": 3
   },
   "file_extension": ".py",
   "mimetype": "text/x-python",
   "name": "python",
   "nbconvert_exporter": "python",
   "pygments_lexer": "ipython3",
   "version": "3.8.5"
  }
 },
 "nbformat": 4,
 "nbformat_minor": 4
}
