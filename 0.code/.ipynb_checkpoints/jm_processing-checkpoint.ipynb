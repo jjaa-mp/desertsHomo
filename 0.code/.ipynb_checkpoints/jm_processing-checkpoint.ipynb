{
 "cells": [
  {
   "cell_type": "markdown",
   "metadata": {},
   "source": [
    "# Deserts of Introgression "
   ]
  },
  {
   "cell_type": "code",
   "execution_count": 2,
   "metadata": {},
   "outputs": [],
   "source": [
    "import pandas as pd\n",
    "from pybedtools import BedTool"
   ]
  },
  {
   "cell_type": "markdown",
   "metadata": {},
   "source": [
    "**INDEX**\n",
    "\n",
    "**Data processing**\n",
    "\n",
    "Human high-frequency changes within Deserts\n",
    "\n",
    "Human high-frequency changes not in Deserts\n",
    "\n",
    "**1. Deserts vs NO Deserts (Whole genome)** \n",
    "    \n",
    "    Difference mean frequency\n",
    "    Difference percentage fixed alleles\n",
    "    \n",
    "**2. Mean frequency Deserts vs NO Deserts (per chromosome)** \n",
    "\n",
    "    Difference mean frequency\n",
    "    Difference percentage fixed alleles\n",
    "    \n",
    "**3. Genes associated to fixed alleles within Deserts**\n"
   ]
  },
  {
   "cell_type": "raw",
   "metadata": {},
   "source": []
  },
  {
   "cell_type": "markdown",
   "metadata": {},
   "source": [
    "### **Data processing** "
   ]
  },
  {
   "cell_type": "markdown",
   "metadata": {},
   "source": [
    "#### Intersection hHF with Deserts "
   ]
  },
  {
   "cell_type": "markdown",
   "metadata": {},
   "source": [
    "##### In-house deserts and HF bed files "
   ]
  },
  {
   "cell_type": "code",
   "execution_count": 110,
   "metadata": {},
   "outputs": [
    {
     "name": "stdout",
     "output_type": "stream",
     "text": [
      "4\n",
      "136414\n",
      "314\n"
     ]
    }
   ],
   "source": [
    "akey = BedTool('/home/juanandres/Desktop/TFM_raul/tmp_section1/2020_akeydeserts_coords.bed')\n",
    "print(len(akey))\n",
    "hf = BedTool('/home/juanandres/Desktop/TFM_raul/tmp_section1/2020_Nahigh_freq.bed')\n",
    "print(len(hf))\n",
    "pey = BedTool('/home/juanandres/Desktop/TFM_raul/tmp_section1/2020_pey_coords.bed')\n",
    "print(len(pey))"
   ]
  },
  {
   "cell_type": "markdown",
   "metadata": {},
   "source": [
    "#### Intersection hHF within Deserts "
   ]
  },
  {
   "cell_type": "code",
   "execution_count": 111,
   "metadata": {},
   "outputs": [
    {
     "name": "stdout",
     "output_type": "stream",
     "text": [
      "3652\n"
     ]
    }
   ],
   "source": [
    "w_hf = akey.intersect(hf, wo=True)\n",
    "print(len(w_hf))"
   ]
  },
  {
   "cell_type": "markdown",
   "metadata": {},
   "source": [
    "#### Intersection hHF within no Deserts "
   ]
  },
  {
   "cell_type": "code",
   "execution_count": 112,
   "metadata": {},
   "outputs": [
    {
     "name": "stdout",
     "output_type": "stream",
     "text": [
      "132762\n"
     ]
    }
   ],
   "source": [
    "wo_hf = hf.intersect(akey, wo=True, v=True)\n",
    "print(len(wo_hf))"
   ]
  },
  {
   "cell_type": "markdown",
   "metadata": {},
   "source": [
    "#### Result | Intersection hHF with Deserts: Bed files"
   ]
  },
  {
   "cell_type": "code",
   "execution_count": 5,
   "metadata": {},
   "outputs": [
    {
     "data": {
      "text/plain": [
       "<BedTool(Nahigh_freq_NOT_in_deserts.bed)>"
      ]
     },
     "execution_count": 5,
     "metadata": {},
     "output_type": "execute_result"
    }
   ],
   "source": [
    "w_hf.saveas(\"Nahigh_freq_WITHIN_deserts.bed\")\n",
    "wo_hf.saveas(\"Nahigh_freq_NOT_in_deserts.bed\")"
   ]
  },
  {
   "cell_type": "markdown",
   "metadata": {},
   "source": [
    "#### Intersection hHF within Deserts & Pey "
   ]
  },
  {
   "cell_type": "code",
   "execution_count": 62,
   "metadata": {},
   "outputs": [
    {
     "name": "stdout",
     "output_type": "stream",
     "text": [
      "chr1\t113427676\t113560554\tchr1\t105399999\t120600000\t132878\n",
      " chr1\t114641362\t114645248\tchr1\t105399999\t120600000\t3886\n",
      " chr1\t119322276\t119387279\tchr1\t105399999\t120600000\t65003\n",
      " chr3\t77027847\t77034264\tchr3\t74099999\t89300000\t6417\n",
      " chr7\t106877730\t107233808\tchr7\t106199999\t123200000\t356078\n",
      " chr7\t116762909\t116773234\tchr7\t106199999\t123200000\t10325\n",
      " chr7\t120147456\t120174406\tchr7\t106199999\t123200000\t26950\n",
      " chr7\t122320035\t122406480\tchr7\t106199999\t123200000\t86445\n",
      " None\n",
      "chr1\t113429812\t113429813\trs182867606\n",
      " chr1\t113431367\t113431368\tNan\n",
      " chr1\t113431377\t113431378\tNan\n",
      " chr1\t113432854\t113432855\trs182388769\n",
      " chr1\t113432908\t113432909\trs187367826\n",
      " chr1\t113439095\t113439096\trs541465271\n",
      " chr1\t113447694\t113447695\trs143992612\n",
      " chr1\t113453388\t113453389\tNan\n",
      " chr1\t113453518\t113453519\trs753683422\n",
      " chr1\t113461216\t113461217\tNan\n",
      " None\n"
     ]
    },
    {
     "data": {
      "text/plain": [
       "<BedTool(/home/juanandres/Desktop/TFM_raul/tmp_section1/Nahigh_freq_WITHIN_DesPey.bed)>"
      ]
     },
     "execution_count": 62,
     "metadata": {},
     "output_type": "execute_result"
    }
   ],
   "source": [
    "t = pey.intersect(akey, wo=True, f=1)\n",
    "#print(len(t))\n",
    "print(t.head())\n",
    "t1 = hf.intersect(t, wa=True, f=1)\n",
    "print(t1.head())\n",
    "t1.saveas(\"/home/juanandres/Desktop/TFM_raul/tmp_section1/Nahigh_freq_WITHIN_DesPey.bed\")"
   ]
  },
  {
   "cell_type": "markdown",
   "metadata": {},
   "source": [
    "### **1. COMPARISON | Deserts vs NO Deserts (Whole genome):** "
   ]
  },
  {
   "cell_type": "code",
   "execution_count": 3,
   "metadata": {},
   "outputs": [],
   "source": [
    "df1 = pd.read_csv(\"/home/juanandres/Desktop/TFM_raul/tmp_section1/Nahigh_freq_WITHIN_deserts.bed\", sep='\\t', header=None)\n",
    "df2 = pd.read_csv(\"/home/juanandres/Desktop/TFM_raul/tmp_section1/Nahigh_freq_NOT_in_deserts.bed\", sep='\\t', header=None)"
   ]
  },
  {
   "cell_type": "markdown",
   "metadata": {},
   "source": [
    "#### Pandas dataframes "
   ]
  },
  {
   "cell_type": "code",
   "execution_count": 4,
   "metadata": {},
   "outputs": [],
   "source": [
    "df1.drop([7], axis=1, inplace=True)\n",
    "df1.columns = ['chr', 'Desert_start','Desert_end', 'chr_hg19', 'POS_start', 'POS_end', 'dbSNP']\n",
    "df2.columns = ['chr', 'POS_start', 'POS_end', 'dbSNP']"
   ]
  },
  {
   "cell_type": "code",
   "execution_count": 5,
   "metadata": {},
   "outputs": [],
   "source": [
    "df1.drop(['POS_start'], axis=1, inplace=True)\n",
    "df1['POS'] = df1['chr_hg19'].str.split(\"chr\", expand=True)[1]\n",
    "df1['POS'] = df1['POS'].astype(str)\n",
    "df1['POS'] = df1['POS'].str.cat(df1['POS_end'].astype(str), sep=':')\n",
    "df1.drop(['POS_end', 'dbSNP'], axis=1, inplace=True)"
   ]
  },
  {
   "cell_type": "code",
   "execution_count": 6,
   "metadata": {},
   "outputs": [
    {
     "data": {
      "text/html": [
       "<div>\n",
       "<style scoped>\n",
       "    .dataframe tbody tr th:only-of-type {\n",
       "        vertical-align: middle;\n",
       "    }\n",
       "\n",
       "    .dataframe tbody tr th {\n",
       "        vertical-align: top;\n",
       "    }\n",
       "\n",
       "    .dataframe thead th {\n",
       "        text-align: right;\n",
       "    }\n",
       "</style>\n",
       "<table border=\"1\" class=\"dataframe\">\n",
       "  <thead>\n",
       "    <tr style=\"text-align: right;\">\n",
       "      <th></th>\n",
       "      <th>chr</th>\n",
       "      <th>POS</th>\n",
       "    </tr>\n",
       "  </thead>\n",
       "  <tbody>\n",
       "    <tr>\n",
       "      <th>0</th>\n",
       "      <td>chr1</td>\n",
       "      <td>1:100115650</td>\n",
       "    </tr>\n",
       "    <tr>\n",
       "      <th>1</th>\n",
       "      <td>chr1</td>\n",
       "      <td>1:100142602</td>\n",
       "    </tr>\n",
       "  </tbody>\n",
       "</table>\n",
       "</div>"
      ],
      "text/plain": [
       "    chr          POS\n",
       "0  chr1  1:100115650\n",
       "1  chr1  1:100142602"
      ]
     },
     "execution_count": 6,
     "metadata": {},
     "output_type": "execute_result"
    }
   ],
   "source": [
    "df2\n",
    "df2.drop(['POS_start'], axis=1, inplace=True)\n",
    "df2['POS'] = df2['chr'].str.split(\"chr\", expand=True)[1]\n",
    "df2['POS'] = df2['POS'].astype(str)\n",
    "df2['POS'] = df2['POS'].str.cat(df2['POS_end'].astype(str), sep=':')\n",
    "df2.drop(['POS_end', 'dbSNP'], axis=1, inplace=True)\n",
    "df2.head(2)"
   ]
  },
  {
   "cell_type": "code",
   "execution_count": 7,
   "metadata": {},
   "outputs": [],
   "source": [
    "df3 = pd.read_csv(\"/home/juanandres/Desktop/TFM_raul/tmp_section1/Nahigh_freq_WITHIN_DesPey.bed\", sep='\\t', header=None)\n",
    "df3.drop([1], axis=1, inplace=True)\n",
    "df3.columns = ['chr', 'SNP_pos', 'rsID']\n",
    "df3['POS'] = df3['chr'].str.split(\"chr\", expand=True)[1]\n",
    "df3['POS'] = df3['POS'].astype(str)\n",
    "df3['POS'] = df3['POS'].str.cat(df3['SNP_pos'].astype(str), sep=':')"
   ]
  },
  {
   "cell_type": "code",
   "execution_count": 8,
   "metadata": {},
   "outputs": [
    {
     "name": "stderr",
     "output_type": "stream",
     "text": [
      "/home/juanandres/anaconda3/lib/python3.7/site-packages/IPython/core/interactiveshell.py:3147: DtypeWarning: Columns (6) have mixed types.Specify dtype option on import or set low_memory=False.\n",
      "  interactivity=interactivity, compiler=compiler, result=result)\n"
     ]
    }
   ],
   "source": [
    "martin = pd.read_csv(\"/home/juanandres/Desktop/TFM_raul/tmp_section1/Na_high_freq.tsv\", sep='\\t')"
   ]
  },
  {
   "cell_type": "code",
   "execution_count": 9,
   "metadata": {},
   "outputs": [
    {
     "data": {
      "text/html": [
       "<div>\n",
       "<style scoped>\n",
       "    .dataframe tbody tr th:only-of-type {\n",
       "        vertical-align: middle;\n",
       "    }\n",
       "\n",
       "    .dataframe tbody tr th {\n",
       "        vertical-align: top;\n",
       "    }\n",
       "\n",
       "    .dataframe thead th {\n",
       "        text-align: right;\n",
       "    }\n",
       "</style>\n",
       "<table border=\"1\" class=\"dataframe\">\n",
       "  <thead>\n",
       "    <tr style=\"text-align: right;\">\n",
       "      <th></th>\n",
       "      <th>POS</th>\n",
       "      <th>dbSNP</th>\n",
       "      <th>human_DAF</th>\n",
       "      <th>Gene_name</th>\n",
       "      <th>chr</th>\n",
       "      <th>Desert_start</th>\n",
       "      <th>Desert_end</th>\n",
       "    </tr>\n",
       "  </thead>\n",
       "  <tbody>\n",
       "    <tr>\n",
       "      <th>0</th>\n",
       "      <td>1:105415055</td>\n",
       "      <td>rs75934053</td>\n",
       "      <td>0.994010</td>\n",
       "      <td>NaN</td>\n",
       "      <td>chr1</td>\n",
       "      <td>105399999</td>\n",
       "      <td>120600000</td>\n",
       "    </tr>\n",
       "    <tr>\n",
       "      <th>1</th>\n",
       "      <td>1:105431906</td>\n",
       "      <td>rs75782466</td>\n",
       "      <td>0.978235</td>\n",
       "      <td>NaN</td>\n",
       "      <td>chr1</td>\n",
       "      <td>105399999</td>\n",
       "      <td>120600000</td>\n",
       "    </tr>\n",
       "    <tr>\n",
       "      <th>2</th>\n",
       "      <td>1:105433287</td>\n",
       "      <td>rs75858792</td>\n",
       "      <td>0.976637</td>\n",
       "      <td>NaN</td>\n",
       "      <td>chr1</td>\n",
       "      <td>105399999</td>\n",
       "      <td>120600000</td>\n",
       "    </tr>\n",
       "    <tr>\n",
       "      <th>3</th>\n",
       "      <td>1:105433631</td>\n",
       "      <td>rs76846285</td>\n",
       "      <td>0.976637</td>\n",
       "      <td>NaN</td>\n",
       "      <td>chr1</td>\n",
       "      <td>105399999</td>\n",
       "      <td>120600000</td>\n",
       "    </tr>\n",
       "    <tr>\n",
       "      <th>4</th>\n",
       "      <td>1:105434092</td>\n",
       "      <td>rs75655612</td>\n",
       "      <td>0.971446</td>\n",
       "      <td>NaN</td>\n",
       "      <td>chr1</td>\n",
       "      <td>105399999</td>\n",
       "      <td>120600000</td>\n",
       "    </tr>\n",
       "    <tr>\n",
       "      <th>...</th>\n",
       "      <td>...</td>\n",
       "      <td>...</td>\n",
       "      <td>...</td>\n",
       "      <td>...</td>\n",
       "      <td>...</td>\n",
       "      <td>...</td>\n",
       "      <td>...</td>\n",
       "    </tr>\n",
       "    <tr>\n",
       "      <th>3647</th>\n",
       "      <td>8:66108707</td>\n",
       "      <td>rs34033868</td>\n",
       "      <td>0.943091</td>\n",
       "      <td>NaN</td>\n",
       "      <td>chr8</td>\n",
       "      <td>49399999</td>\n",
       "      <td>66500000</td>\n",
       "    </tr>\n",
       "    <tr>\n",
       "      <th>3648</th>\n",
       "      <td>8:66113157</td>\n",
       "      <td>rs71529161</td>\n",
       "      <td>0.968850</td>\n",
       "      <td>NaN</td>\n",
       "      <td>chr8</td>\n",
       "      <td>49399999</td>\n",
       "      <td>66500000</td>\n",
       "    </tr>\n",
       "    <tr>\n",
       "      <th>3649</th>\n",
       "      <td>8:66345121</td>\n",
       "      <td>rs72662866</td>\n",
       "      <td>0.985823</td>\n",
       "      <td>NaN</td>\n",
       "      <td>chr8</td>\n",
       "      <td>49399999</td>\n",
       "      <td>66500000</td>\n",
       "    </tr>\n",
       "    <tr>\n",
       "      <th>3650</th>\n",
       "      <td>8:66347433</td>\n",
       "      <td>rs72662871</td>\n",
       "      <td>0.997204</td>\n",
       "      <td>NaN</td>\n",
       "      <td>chr8</td>\n",
       "      <td>49399999</td>\n",
       "      <td>66500000</td>\n",
       "    </tr>\n",
       "    <tr>\n",
       "      <th>3651</th>\n",
       "      <td>8:66434428</td>\n",
       "      <td>rs7009788</td>\n",
       "      <td>0.983027</td>\n",
       "      <td>CTD-3025N20.2</td>\n",
       "      <td>chr8</td>\n",
       "      <td>49399999</td>\n",
       "      <td>66500000</td>\n",
       "    </tr>\n",
       "  </tbody>\n",
       "</table>\n",
       "<p>3652 rows × 7 columns</p>\n",
       "</div>"
      ],
      "text/plain": [
       "              POS       dbSNP  human_DAF      Gene_name   chr  Desert_start  \\\n",
       "0     1:105415055  rs75934053   0.994010            NaN  chr1     105399999   \n",
       "1     1:105431906  rs75782466   0.978235            NaN  chr1     105399999   \n",
       "2     1:105433287  rs75858792   0.976637            NaN  chr1     105399999   \n",
       "3     1:105433631  rs76846285   0.976637            NaN  chr1     105399999   \n",
       "4     1:105434092  rs75655612   0.971446            NaN  chr1     105399999   \n",
       "...           ...         ...        ...            ...   ...           ...   \n",
       "3647   8:66108707  rs34033868   0.943091            NaN  chr8      49399999   \n",
       "3648   8:66113157  rs71529161   0.968850            NaN  chr8      49399999   \n",
       "3649   8:66345121  rs72662866   0.985823            NaN  chr8      49399999   \n",
       "3650   8:66347433  rs72662871   0.997204            NaN  chr8      49399999   \n",
       "3651   8:66434428   rs7009788   0.983027  CTD-3025N20.2  chr8      49399999   \n",
       "\n",
       "      Desert_end  \n",
       "0      120600000  \n",
       "1      120600000  \n",
       "2      120600000  \n",
       "3      120600000  \n",
       "4      120600000  \n",
       "...          ...  \n",
       "3647    66500000  \n",
       "3648    66500000  \n",
       "3649    66500000  \n",
       "3650    66500000  \n",
       "3651    66500000  \n",
       "\n",
       "[3652 rows x 7 columns]"
      ]
     },
     "execution_count": 9,
     "metadata": {},
     "output_type": "execute_result"
    }
   ],
   "source": [
    "#Des with Martin info\n",
    "martin_c1 = martin[['POS','dbSNP', 'human_DAF', 'Gene_name']]\n",
    "desMartin = martin_c1.merge(df1, on = 'POS' )\n",
    "desMartin.drop(['chr_hg19'], axis=1, inplace=True)\n",
    "desMartin"
   ]
  },
  {
   "cell_type": "code",
   "execution_count": 10,
   "metadata": {},
   "outputs": [
    {
     "data": {
      "text/html": [
       "<div>\n",
       "<style scoped>\n",
       "    .dataframe tbody tr th:only-of-type {\n",
       "        vertical-align: middle;\n",
       "    }\n",
       "\n",
       "    .dataframe tbody tr th {\n",
       "        vertical-align: top;\n",
       "    }\n",
       "\n",
       "    .dataframe thead th {\n",
       "        text-align: right;\n",
       "    }\n",
       "</style>\n",
       "<table border=\"1\" class=\"dataframe\">\n",
       "  <thead>\n",
       "    <tr style=\"text-align: right;\">\n",
       "      <th></th>\n",
       "      <th>POS</th>\n",
       "      <th>dbSNP</th>\n",
       "      <th>human_DAF</th>\n",
       "      <th>Gene_name</th>\n",
       "    </tr>\n",
       "  </thead>\n",
       "  <tbody>\n",
       "    <tr>\n",
       "      <th>0</th>\n",
       "      <td>1:100115650</td>\n",
       "      <td>rs190210801</td>\n",
       "      <td>0.993610</td>\n",
       "      <td>PALMD</td>\n",
       "    </tr>\n",
       "    <tr>\n",
       "      <th>1</th>\n",
       "      <td>1:100142602</td>\n",
       "      <td>rs12063715</td>\n",
       "      <td>0.962660</td>\n",
       "      <td>PALMD</td>\n",
       "    </tr>\n",
       "    <tr>\n",
       "      <th>2</th>\n",
       "      <td>1:100142648</td>\n",
       "      <td>rs76085216</td>\n",
       "      <td>0.962859</td>\n",
       "      <td>PALMD</td>\n",
       "    </tr>\n",
       "    <tr>\n",
       "      <th>3</th>\n",
       "      <td>1:100143040</td>\n",
       "      <td>rs11166290</td>\n",
       "      <td>0.963059</td>\n",
       "      <td>PALMD</td>\n",
       "    </tr>\n",
       "    <tr>\n",
       "      <th>4</th>\n",
       "      <td>1:100143392</td>\n",
       "      <td>rs11166292</td>\n",
       "      <td>0.962660</td>\n",
       "      <td>PALMD</td>\n",
       "    </tr>\n",
       "    <tr>\n",
       "      <th>...</th>\n",
       "      <td>...</td>\n",
       "      <td>...</td>\n",
       "      <td>...</td>\n",
       "      <td>...</td>\n",
       "    </tr>\n",
       "    <tr>\n",
       "      <th>132757</th>\n",
       "      <td>X:99985304</td>\n",
       "      <td>rs60975472</td>\n",
       "      <td>0.990199</td>\n",
       "      <td>SYTL4</td>\n",
       "    </tr>\n",
       "    <tr>\n",
       "      <th>132758</th>\n",
       "      <td>X:99985571</td>\n",
       "      <td>rs58902780</td>\n",
       "      <td>0.990199</td>\n",
       "      <td>SYTL4</td>\n",
       "    </tr>\n",
       "    <tr>\n",
       "      <th>132759</th>\n",
       "      <td>X:99986791</td>\n",
       "      <td>rs184572084</td>\n",
       "      <td>0.990464</td>\n",
       "      <td>SYTL4</td>\n",
       "    </tr>\n",
       "    <tr>\n",
       "      <th>132760</th>\n",
       "      <td>X:99989211</td>\n",
       "      <td>rs139341327</td>\n",
       "      <td>0.990199</td>\n",
       "      <td>SYTL4</td>\n",
       "    </tr>\n",
       "    <tr>\n",
       "      <th>132761</th>\n",
       "      <td>X:99993728</td>\n",
       "      <td>rs143310972</td>\n",
       "      <td>0.990199</td>\n",
       "      <td>NaN</td>\n",
       "    </tr>\n",
       "  </tbody>\n",
       "</table>\n",
       "<p>132762 rows × 4 columns</p>\n",
       "</div>"
      ],
      "text/plain": [
       "                POS        dbSNP  human_DAF Gene_name\n",
       "0       1:100115650  rs190210801   0.993610     PALMD\n",
       "1       1:100142602   rs12063715   0.962660     PALMD\n",
       "2       1:100142648   rs76085216   0.962859     PALMD\n",
       "3       1:100143040   rs11166290   0.963059     PALMD\n",
       "4       1:100143392   rs11166292   0.962660     PALMD\n",
       "...             ...          ...        ...       ...\n",
       "132757   X:99985304   rs60975472   0.990199     SYTL4\n",
       "132758   X:99985571   rs58902780   0.990199     SYTL4\n",
       "132759   X:99986791  rs184572084   0.990464     SYTL4\n",
       "132760   X:99989211  rs139341327   0.990199     SYTL4\n",
       "132761   X:99993728  rs143310972   0.990199       NaN\n",
       "\n",
       "[132762 rows x 4 columns]"
      ]
     },
     "execution_count": 10,
     "metadata": {},
     "output_type": "execute_result"
    }
   ],
   "source": [
    "#No Deserts with Martin info\n",
    "NOdesMartin = martin_c1.merge(df2, on = 'POS' )\n",
    "NOdesMartin.drop(['chr'], axis=1, inplace=True)\n",
    "NOdesMartin"
   ]
  },
  {
   "cell_type": "code",
   "execution_count": 11,
   "metadata": {},
   "outputs": [
    {
     "data": {
      "text/html": [
       "<div>\n",
       "<style scoped>\n",
       "    .dataframe tbody tr th:only-of-type {\n",
       "        vertical-align: middle;\n",
       "    }\n",
       "\n",
       "    .dataframe tbody tr th {\n",
       "        vertical-align: top;\n",
       "    }\n",
       "\n",
       "    .dataframe thead th {\n",
       "        text-align: right;\n",
       "    }\n",
       "</style>\n",
       "<table border=\"1\" class=\"dataframe\">\n",
       "  <thead>\n",
       "    <tr style=\"text-align: right;\">\n",
       "      <th></th>\n",
       "      <th>POS</th>\n",
       "      <th>dbSNP</th>\n",
       "      <th>human_DAF</th>\n",
       "      <th>Gene_name</th>\n",
       "      <th>chr</th>\n",
       "      <th>SNP_pos</th>\n",
       "    </tr>\n",
       "  </thead>\n",
       "  <tbody>\n",
       "    <tr>\n",
       "      <th>0</th>\n",
       "      <td>1:113429813</td>\n",
       "      <td>rs182867606</td>\n",
       "      <td>0.999800</td>\n",
       "      <td>RP3-522D1.2</td>\n",
       "      <td>chr1</td>\n",
       "      <td>113429813</td>\n",
       "    </tr>\n",
       "    <tr>\n",
       "      <th>1</th>\n",
       "      <td>1:113431368</td>\n",
       "      <td>-</td>\n",
       "      <td>1.000000</td>\n",
       "      <td>RP3-522D1.2</td>\n",
       "      <td>chr1</td>\n",
       "      <td>113431368</td>\n",
       "    </tr>\n",
       "    <tr>\n",
       "      <th>2</th>\n",
       "      <td>1:113431378</td>\n",
       "      <td>-</td>\n",
       "      <td>1.000000</td>\n",
       "      <td>RP3-522D1.2</td>\n",
       "      <td>chr1</td>\n",
       "      <td>113431378</td>\n",
       "    </tr>\n",
       "    <tr>\n",
       "      <th>3</th>\n",
       "      <td>1:113432855</td>\n",
       "      <td>rs182388769</td>\n",
       "      <td>0.999002</td>\n",
       "      <td>RP3-522D1.2</td>\n",
       "      <td>chr1</td>\n",
       "      <td>113432855</td>\n",
       "    </tr>\n",
       "    <tr>\n",
       "      <th>4</th>\n",
       "      <td>1:113432909</td>\n",
       "      <td>rs187367826</td>\n",
       "      <td>0.999002</td>\n",
       "      <td>RP3-522D1.2</td>\n",
       "      <td>chr1</td>\n",
       "      <td>113432909</td>\n",
       "    </tr>\n",
       "    <tr>\n",
       "      <th>...</th>\n",
       "      <td>...</td>\n",
       "      <td>...</td>\n",
       "      <td>...</td>\n",
       "      <td>...</td>\n",
       "      <td>...</td>\n",
       "      <td>...</td>\n",
       "    </tr>\n",
       "    <tr>\n",
       "      <th>233</th>\n",
       "      <td>7:122375357</td>\n",
       "      <td>rs193277951</td>\n",
       "      <td>1.000000</td>\n",
       "      <td>CADPS2</td>\n",
       "      <td>chr7</td>\n",
       "      <td>122375357</td>\n",
       "    </tr>\n",
       "    <tr>\n",
       "      <th>234</th>\n",
       "      <td>7:122375618</td>\n",
       "      <td>rs376859181</td>\n",
       "      <td>0.999800</td>\n",
       "      <td>CADPS2</td>\n",
       "      <td>chr7</td>\n",
       "      <td>122375618</td>\n",
       "    </tr>\n",
       "    <tr>\n",
       "      <th>235</th>\n",
       "      <td>7:122376412</td>\n",
       "      <td>-</td>\n",
       "      <td>1.000000</td>\n",
       "      <td>CADPS2</td>\n",
       "      <td>chr7</td>\n",
       "      <td>122376412</td>\n",
       "    </tr>\n",
       "    <tr>\n",
       "      <th>236</th>\n",
       "      <td>7:122379455</td>\n",
       "      <td>-</td>\n",
       "      <td>1.000000</td>\n",
       "      <td>CADPS2</td>\n",
       "      <td>chr7</td>\n",
       "      <td>122379455</td>\n",
       "    </tr>\n",
       "    <tr>\n",
       "      <th>237</th>\n",
       "      <td>7:122390464</td>\n",
       "      <td>rs141147427</td>\n",
       "      <td>0.992612</td>\n",
       "      <td>CADPS2</td>\n",
       "      <td>chr7</td>\n",
       "      <td>122390464</td>\n",
       "    </tr>\n",
       "  </tbody>\n",
       "</table>\n",
       "<p>238 rows × 6 columns</p>\n",
       "</div>"
      ],
      "text/plain": [
       "             POS        dbSNP  human_DAF    Gene_name   chr    SNP_pos\n",
       "0    1:113429813  rs182867606   0.999800  RP3-522D1.2  chr1  113429813\n",
       "1    1:113431368            -   1.000000  RP3-522D1.2  chr1  113431368\n",
       "2    1:113431378            -   1.000000  RP3-522D1.2  chr1  113431378\n",
       "3    1:113432855  rs182388769   0.999002  RP3-522D1.2  chr1  113432855\n",
       "4    1:113432909  rs187367826   0.999002  RP3-522D1.2  chr1  113432909\n",
       "..           ...          ...        ...          ...   ...        ...\n",
       "233  7:122375357  rs193277951   1.000000       CADPS2  chr7  122375357\n",
       "234  7:122375618  rs376859181   0.999800       CADPS2  chr7  122375618\n",
       "235  7:122376412            -   1.000000       CADPS2  chr7  122376412\n",
       "236  7:122379455            -   1.000000       CADPS2  chr7  122379455\n",
       "237  7:122390464  rs141147427   0.992612       CADPS2  chr7  122390464\n",
       "\n",
       "[238 rows x 6 columns]"
      ]
     },
     "execution_count": 11,
     "metadata": {},
     "output_type": "execute_result"
    }
   ],
   "source": [
    "#Des+Pey with Martin info\n",
    "DesPeyMartin = martin_c1.merge(df3, on = 'POS' )\n",
    "DesPeyMartin.drop(['rsID'], axis=1, inplace=True)\n",
    "DesPeyMartin"
   ]
  },
  {
   "cell_type": "markdown",
   "metadata": {},
   "source": [
    "#### **Result | Mean frequency HF SNP in Deserts:** "
   ]
  },
  {
   "cell_type": "code",
   "execution_count": 163,
   "metadata": {},
   "outputs": [
    {
     "data": {
      "text/plain": [
       "0.9698644049835707"
      ]
     },
     "execution_count": 163,
     "metadata": {},
     "output_type": "execute_result"
    }
   ],
   "source": [
    "desMartin['human_DAF'].mean()"
   ]
  },
  {
   "cell_type": "markdown",
   "metadata": {},
   "source": [
    "#### **Result | Mean frequency HF SNP in DesertsPey:** "
   ]
  },
  {
   "cell_type": "code",
   "execution_count": 210,
   "metadata": {},
   "outputs": [
    {
     "data": {
      "text/plain": [
       "0.9945985168067227"
      ]
     },
     "execution_count": 210,
     "metadata": {},
     "output_type": "execute_result"
    }
   ],
   "source": [
    "DesPeyMartin['human_DAF'].mean()"
   ]
  },
  {
   "cell_type": "markdown",
   "metadata": {},
   "source": [
    "#### **Result | Mean frequency HF SNP in NO Deserts (whole genome):** "
   ]
  },
  {
   "cell_type": "code",
   "execution_count": 168,
   "metadata": {},
   "outputs": [
    {
     "data": {
      "text/plain": [
       "0.9638732558461741"
      ]
     },
     "execution_count": 168,
     "metadata": {},
     "output_type": "execute_result"
    }
   ],
   "source": [
    "martin['human_DAF'].mean()"
   ]
  },
  {
   "cell_type": "markdown",
   "metadata": {},
   "source": [
    "##### Result | Mean frequency HF SNP difference deserts vs NO deserts"
   ]
  },
  {
   "cell_type": "code",
   "execution_count": 169,
   "metadata": {},
   "outputs": [
    {
     "data": {
      "text/plain": [
       "0.005991149137396623"
      ]
     },
     "execution_count": 169,
     "metadata": {},
     "output_type": "execute_result"
    }
   ],
   "source": [
    "desMartin['human_DAF'].mean()-martin['human_DAF'].mean()"
   ]
  },
  {
   "cell_type": "markdown",
   "metadata": {},
   "source": [
    "#### **Result | Percentage of fixed alleles in Deserts:** "
   ]
  },
  {
   "cell_type": "code",
   "execution_count": 173,
   "metadata": {},
   "outputs": [
    {
     "data": {
      "text/plain": [
       "16.182913472070098"
      ]
     },
     "execution_count": 173,
     "metadata": {},
     "output_type": "execute_result"
    }
   ],
   "source": [
    "len(desMartin[desMartin['human_DAF'] == 1])/len(desMartin)*100"
   ]
  },
  {
   "cell_type": "markdown",
   "metadata": {},
   "source": [
    "#### **Result | Percentage of fixed alleles in NO Deserts (whole genome):** "
   ]
  },
  {
   "cell_type": "code",
   "execution_count": 180,
   "metadata": {},
   "outputs": [
    {
     "data": {
      "text/plain": [
       "8.613910606950784"
      ]
     },
     "execution_count": 180,
     "metadata": {},
     "output_type": "execute_result"
    }
   ],
   "source": [
    "len(NOdesMartin[NOdesMartin['human_DAF'] == 1])/len(NOdesMartin)*100"
   ]
  },
  {
   "cell_type": "markdown",
   "metadata": {},
   "source": [
    "##### Result | Difference in Proportion fixed alleles Deserts vs NO Deserts (whole genome):"
   ]
  },
  {
   "cell_type": "code",
   "execution_count": 181,
   "metadata": {},
   "outputs": [
    {
     "data": {
      "text/plain": [
       "1.8786953116290404"
      ]
     },
     "execution_count": 181,
     "metadata": {},
     "output_type": "execute_result"
    }
   ],
   "source": [
    "(len(desMartin[desMartin['human_DAF'] == 1])/len(desMartin)*100)/(len(NOdesMartin[NOdesMartin['human_DAF'] == 1])/len(NOdesMartin)*100)"
   ]
  },
  {
   "cell_type": "markdown",
   "metadata": {},
   "source": [
    "#### **Result | Percentage of fixed alleles in DesertsPey:** "
   ]
  },
  {
   "cell_type": "code",
   "execution_count": 12,
   "metadata": {},
   "outputs": [
    {
     "data": {
      "text/plain": [
       "46.21848739495798"
      ]
     },
     "execution_count": 12,
     "metadata": {},
     "output_type": "execute_result"
    }
   ],
   "source": [
    "len(DesPeyMartin[DesPeyMartin['human_DAF'] == 1])/len(DesPeyMartin)*100"
   ]
  },
  {
   "cell_type": "code",
   "execution_count": 15,
   "metadata": {},
   "outputs": [
    {
     "name": "stdout",
     "output_type": "stream",
     "text": [
      "238\n"
     ]
    }
   ],
   "source": [
    "print(len(DesPeyMartin[DesPeyMartin['human_DAF'] == 1]))\n",
    "print(len(DesPeyMartin))"
   ]
  },
  {
   "cell_type": "markdown",
   "metadata": {},
   "source": [
    "### **2. COMPARISON | Deserts vs NO Deserts (Per chromosome):** "
   ]
  },
  {
   "cell_type": "code",
   "execution_count": 191,
   "metadata": {},
   "outputs": [],
   "source": [
    "NOdesMartin['chr'] = \"chr\"+NOdesMartin['POS'].str.split(\":\", expand=True)[0]"
   ]
  },
  {
   "cell_type": "code",
   "execution_count": 194,
   "metadata": {},
   "outputs": [
    {
     "name": "stdout",
     "output_type": "stream",
     "text": [
      "31097\n"
     ]
    }
   ],
   "source": [
    "##Desert chromosomes: \n",
    "### df1_wF['chr'].unique() --> array(['chr1', 'chr3', 'chr7', 'chr8'], dtype=object)\n",
    "NOdesMartin_chr = NOdesMartin[(NOdesMartin['chr'] == 'chr1') | (NOdesMartin['chr'] == 'chr3') | (NOdesMartin['chr'] == 'chr7') | (NOdesMartin['chr'] == 'chr8')]\n",
    "print(len(NOdesMartin_chr))"
   ]
  },
  {
   "cell_type": "code",
   "execution_count": 204,
   "metadata": {},
   "outputs": [
    {
     "data": {
      "text/plain": [
       "array(['chr1', 'chr3', 'chr7', 'chr8'], dtype=object)"
      ]
     },
     "execution_count": 204,
     "metadata": {},
     "output_type": "execute_result"
    }
   ],
   "source": [
    "NOdesMartin_chr['chr'].unique()"
   ]
  },
  {
   "cell_type": "markdown",
   "metadata": {},
   "source": [
    "#### **Result | Mean frequency HF SNP in NO Deserts (per chr):** "
   ]
  },
  {
   "cell_type": "code",
   "execution_count": 205,
   "metadata": {},
   "outputs": [
    {
     "data": {
      "text/plain": [
       "0.963943538444223"
      ]
     },
     "execution_count": 205,
     "metadata": {},
     "output_type": "execute_result"
    }
   ],
   "source": [
    "NOdesMartin_chr['human_DAF'].mean()"
   ]
  },
  {
   "cell_type": "markdown",
   "metadata": {},
   "source": [
    "##### Result | Mean frequency HF SNP difference deserts vs NO deserts (per chr)"
   ]
  },
  {
   "cell_type": "code",
   "execution_count": 206,
   "metadata": {},
   "outputs": [
    {
     "data": {
      "text/plain": [
       "0.005920866539347758"
      ]
     },
     "execution_count": 206,
     "metadata": {},
     "output_type": "execute_result"
    }
   ],
   "source": [
    "desMartin['human_DAF'].mean()-NOdesMartin_chr['human_DAF'].mean()"
   ]
  },
  {
   "cell_type": "markdown",
   "metadata": {},
   "source": [
    "#### **Result | Percentage of fixed alleles in NO Deserts (per chr):** "
   ]
  },
  {
   "cell_type": "code",
   "execution_count": 207,
   "metadata": {},
   "outputs": [
    {
     "data": {
      "text/plain": [
       "8.319130462745603"
      ]
     },
     "execution_count": 207,
     "metadata": {},
     "output_type": "execute_result"
    }
   ],
   "source": [
    "len(NOdesMartin_chr[NOdesMartin_chr['human_DAF'] == 1])/len(NOdesMartin_chr)*100"
   ]
  },
  {
   "cell_type": "markdown",
   "metadata": {},
   "source": [
    "##### Result | Difference in Proportion fixed alleles Deserts vs NO Deserts (per chr):"
   ]
  },
  {
   "cell_type": "code",
   "execution_count": 208,
   "metadata": {},
   "outputs": [
    {
     "data": {
      "text/plain": [
       "1.9452650183261067"
      ]
     },
     "execution_count": 208,
     "metadata": {},
     "output_type": "execute_result"
    }
   ],
   "source": [
    "(len(desMartin[desMartin['human_DAF'] == 1])/len(desMartin)*100)/(len(NOdesMartin_chr[NOdesMartin_chr['human_DAF'] == 1])/len(NOdesMartin_chr)*100)"
   ]
  },
  {
   "cell_type": "markdown",
   "metadata": {},
   "source": [
    "### SUMMARY TABLE"
   ]
  },
  {
   "cell_type": "code",
   "execution_count": 213,
   "metadata": {},
   "outputs": [
    {
     "data": {
      "text/html": [
       "<div>\n",
       "<style scoped>\n",
       "    .dataframe tbody tr th:only-of-type {\n",
       "        vertical-align: middle;\n",
       "    }\n",
       "\n",
       "    .dataframe tbody tr th {\n",
       "        vertical-align: top;\n",
       "    }\n",
       "\n",
       "    .dataframe thead th {\n",
       "        text-align: right;\n",
       "    }\n",
       "</style>\n",
       "<table border=\"1\" class=\"dataframe\">\n",
       "  <thead>\n",
       "    <tr style=\"text-align: right;\">\n",
       "      <th></th>\n",
       "      <th>Frequency</th>\n",
       "      <th>% Fixed alleles</th>\n",
       "    </tr>\n",
       "  </thead>\n",
       "  <tbody>\n",
       "    <tr>\n",
       "      <th>Deserts</th>\n",
       "      <td>0.969864</td>\n",
       "      <td>16.182913</td>\n",
       "    </tr>\n",
       "    <tr>\n",
       "      <th>No Deserts (per chr)</th>\n",
       "      <td>0.963944</td>\n",
       "      <td>8.319130</td>\n",
       "    </tr>\n",
       "    <tr>\n",
       "      <th>D+Pey</th>\n",
       "      <td>0.994599</td>\n",
       "      <td>46.218487</td>\n",
       "    </tr>\n",
       "  </tbody>\n",
       "</table>\n",
       "</div>"
      ],
      "text/plain": [
       "                      Frequency  % Fixed alleles\n",
       "Deserts                0.969864        16.182913\n",
       "No Deserts (per chr)   0.963944         8.319130\n",
       "D+Pey                  0.994599        46.218487"
      ]
     },
     "execution_count": 213,
     "metadata": {},
     "output_type": "execute_result"
    }
   ],
   "source": [
    "summary = {'Frequency': [desMartin['human_DAF'].mean(), NOdesMartin_chr['human_DAF'].mean(), DesPeyMartin['human_DAF'].mean()], '% Fixed alleles': [len(desMartin[desMartin['human_DAF'] == 1])/len(desMartin)*100, len(NOdesMartin_chr[NOdesMartin_chr['human_DAF'] == 1])/len(NOdesMartin_chr)*100, len(DesPeyMartin[DesPeyMartin['human_DAF'] == 1])/len(DesPeyMartin)*100]}\n",
    "pd.DataFrame(summary, index=['Deserts', 'No Deserts (per chr)', 'D+Pey'])"
   ]
  },
  {
   "cell_type": "code",
   "execution_count": 224,
   "metadata": {},
   "outputs": [
    {
     "name": "stdout",
     "output_type": "stream",
     "text": [
      "591\n",
      "3652\n",
      "110\n",
      "238\n"
     ]
    }
   ],
   "source": [
    "print(len(desMartin[desMartin['human_DAF'] == 1]))\n",
    "print(len(desMartin))\n",
    "#\n",
    "print(len(DesPeyMartin[DesPeyMartin['human_DAF'] == 1]))\n",
    "print(len(DesPeyMartin))"
   ]
  },
  {
   "cell_type": "code",
   "execution_count": 225,
   "metadata": {},
   "outputs": [],
   "source": [
    "desMartin.to_csv(\"/home/juanandres/Desktop/TFM_raul/tmp_section1/tmp1_df1.csv\", sep='\\t', header=False, index=False)\n",
    "NOdesMartin.to_csv(\"/home/juanandres/Desktop/TFM_raul/tmp_section1/tmp1_df2.csv\", sep='\\t', header=False, index=False)\n",
    "DesPeyMartin.to_csv(\"/home/juanandres/Desktop/TFM_raul/tmp_section1/tmp1_df3.csv\", sep='\\t', header=False, index=False)"
   ]
  },
  {
   "cell_type": "markdown",
   "metadata": {},
   "source": [
    "### **3. Genes associated to *fixed alleles within Deserts*:** "
   ]
  },
  {
   "cell_type": "code",
   "execution_count": 24,
   "metadata": {},
   "outputs": [],
   "source": [
    "genesnames_fixed = pd.DataFrame(df1_wF[df1_wF['human_DAF'] == 1]['Gene_name'].unique())"
   ]
  },
  {
   "cell_type": "markdown",
   "metadata": {},
   "source": [
    "Need to reformat the data (column contains gene names separated by semicolon)"
   ]
  },
  {
   "cell_type": "code",
   "execution_count": 25,
   "metadata": {},
   "outputs": [],
   "source": [
    "genesnames_fixed[0] = genesnames_fixed[0].astype(str)"
   ]
  },
  {
   "cell_type": "code",
   "execution_count": 26,
   "metadata": {},
   "outputs": [],
   "source": [
    "genesnames_fixed=pd.DataFrame(genesnames_fixed[0].str.split(\";\").tolist()).stack()"
   ]
  },
  {
   "cell_type": "code",
   "execution_count": 27,
   "metadata": {},
   "outputs": [],
   "source": [
    "genesnames_fixed.reset_index(drop=True, inplace=True)"
   ]
  },
  {
   "cell_type": "code",
   "execution_count": 28,
   "metadata": {},
   "outputs": [],
   "source": [
    "genesnames_fixed = genesnames_fixed[~genesnames_fixed.str.contains(\"nan\")]"
   ]
  },
  {
   "cell_type": "code",
   "execution_count": 29,
   "metadata": {},
   "outputs": [],
   "source": [
    "genesnames_fixed.drop_duplicates(inplace=True)\n",
    "genesnames_fixed.reset_index(drop=True, inplace=True)"
   ]
  },
  {
   "cell_type": "markdown",
   "metadata": {},
   "source": [
    "##### **Result | Genes associated to fixed alleles within Deserts** (Martin & Boeckx 2019 SNP-gene association)"
   ]
  },
  {
   "cell_type": "code",
   "execution_count": 30,
   "metadata": {},
   "outputs": [
    {
     "name": "stdout",
     "output_type": "stream",
     "text": [
      "0           VAV3\n",
      "1          GPSM2\n",
      "2         AKNAD1\n",
      "3          KCNC4\n",
      "4        FAM19A3\n",
      "5    RP3-522D1.1\n",
      "6        SLC16A1\n",
      "7    SLC16A1-AS1\n",
      "8         VANGL1\n",
      "9       SLC22A15\n",
      "dtype: object\n",
      "49\n"
     ]
    }
   ],
   "source": [
    "print(genesnames_fixed.head(10))\n",
    "print(len(genesnames_fixed))"
   ]
  },
  {
   "cell_type": "code",
   "execution_count": 31,
   "metadata": {},
   "outputs": [],
   "source": [
    "genesnames_fixed.to_csv(\"Fixed_alleles_inDeserts_Genenames.csv\", header=True, index=False, sep='\\t')"
   ]
  },
  {
   "cell_type": "markdown",
   "metadata": {},
   "source": [
    "### Permutation test (R code)"
   ]
  },
  {
   "cell_type": "markdown",
   "metadata": {},
   "source": [
    "### biomaRt - Bioconductor: *Extracting gene names from Akey deserts* (R code) "
   ]
  }
 ],
 "metadata": {
  "kernelspec": {
   "display_name": "Python 3",
   "language": "python",
   "name": "python3"
  },
  "language_info": {
   "codemirror_mode": {
    "name": "ipython",
    "version": 3
   },
   "file_extension": ".py",
   "mimetype": "text/x-python",
   "name": "python",
   "nbconvert_exporter": "python",
   "pygments_lexer": "ipython3",
   "version": "3.7.9"
  }
 },
 "nbformat": 4,
 "nbformat_minor": 4
}
