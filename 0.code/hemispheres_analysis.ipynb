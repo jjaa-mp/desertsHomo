{
 "cells": [
  {
   "cell_type": "code",
   "execution_count": 102,
   "metadata": {},
   "outputs": [],
   "source": [
    "import pandas as pd\n",
    "import numpy as np\n",
    "import os\n",
    "from sklearn.preprocessing import StandardScaler #to scale\n",
    "from sklearn.decomposition import PCA #PCA\n",
    "import matplotlib.pyplot as plt\n",
    "import plotly.express as px"
   ]
  },
  {
   "cell_type": "markdown",
   "metadata": {},
   "source": [
    "# Comparing cerebellum and cerebrum hemispheres"
   ]
  },
  {
   "cell_type": "markdown",
   "metadata": {},
   "source": [
    "### Data"
   ]
  },
  {
   "cell_type": "code",
   "execution_count": 11,
   "metadata": {},
   "outputs": [],
   "source": [
    "# Gene expression data\n",
    "#gene_exp_chr1=pd.read_excel(\"Data/genes_clean_desertic_regions_and_brain_regions.xlsx\",sheet_name=\"chr1\")\n",
    "gene_exp_chr1=pd.read_excel(\n",
    "     \"Data/genes_clean_desertic_regions_and_brain_regions.xlsx\",sheet_name=\"chr1\",\n",
    "     engine='openpyxl',\n",
    ")\n",
    "gene_exp_chr3=pd.read_excel(\"Data/genes_clean_desertic_regions_and_brain_regions.xlsx\",sheet_name=\"chr3\",\n",
    "     engine='openpyxl',\n",
    ")\n",
    "gene_exp_chr7=pd.read_excel(\"Data/genes_clean_desertic_regions_and_brain_regions.xlsx\",sheet_name=\"chr7\",\n",
    "     engine='openpyxl',\n",
    ")\n",
    "gene_exp_chr8=pd.read_excel(\"Data/genes_clean_desertic_regions_and_brain_regions.xlsx\",sheet_name=\"chr8\",\n",
    "     engine='openpyxl',\n",
    ")"
   ]
  },
  {
   "cell_type": "code",
   "execution_count": 12,
   "metadata": {
    "scrolled": false
   },
   "outputs": [
    {
     "data": {
      "text/html": [
       "<div>\n",
       "<style scoped>\n",
       "    .dataframe tbody tr th:only-of-type {\n",
       "        vertical-align: middle;\n",
       "    }\n",
       "\n",
       "    .dataframe tbody tr th {\n",
       "        vertical-align: top;\n",
       "    }\n",
       "\n",
       "    .dataframe thead th {\n",
       "        text-align: right;\n",
       "    }\n",
       "</style>\n",
       "<table border=\"1\" class=\"dataframe\">\n",
       "  <thead>\n",
       "    <tr style=\"text-align: right;\">\n",
       "      <th></th>\n",
       "      <th>id</th>\n",
       "      <th>name</th>\n",
       "      <th>topStructure</th>\n",
       "      <th>PRMT6meanExpVal</th>\n",
       "      <th>NTNG1meanExpVal</th>\n",
       "      <th>VAV3meanExpVal</th>\n",
       "      <th>SLC25A24meanExpVal</th>\n",
       "      <th>FAM102BmeanExpVal</th>\n",
       "      <th>PRPF38BmeanExpVal</th>\n",
       "      <th>FNDC7meanExpVal</th>\n",
       "      <th>...</th>\n",
       "      <th>RAB2AmeanExpVal</th>\n",
       "      <th>CHD7meanExpVal</th>\n",
       "      <th>CLVS1meanExpVal</th>\n",
       "      <th>ASPHmeanExpVal</th>\n",
       "      <th>NKAIN3meanExpVal</th>\n",
       "      <th>GGHmeanExpVal</th>\n",
       "      <th>TTPAmeanExpVal</th>\n",
       "      <th>YTHDF3meanExpVal</th>\n",
       "      <th>BHLHE22meanExpVal</th>\n",
       "      <th>CYP7B1meanExpVal</th>\n",
       "    </tr>\n",
       "  </thead>\n",
       "  <tbody>\n",
       "    <tr>\n",
       "      <th>0</th>\n",
       "      <td>4055</td>\n",
       "      <td>anterior orbital gyrus, right</td>\n",
       "      <td>frontal lobe</td>\n",
       "      <td>7.429900</td>\n",
       "      <td>6.640060</td>\n",
       "      <td>5.799250</td>\n",
       "      <td>4.373400</td>\n",
       "      <td>8.516550</td>\n",
       "      <td>6.369900</td>\n",
       "      <td>1.908650</td>\n",
       "      <td>...</td>\n",
       "      <td>12.035200</td>\n",
       "      <td>6.733750</td>\n",
       "      <td>7.762900</td>\n",
       "      <td>4.406600</td>\n",
       "      <td>8.175700</td>\n",
       "      <td>7.583750</td>\n",
       "      <td>3.512500</td>\n",
       "      <td>7.161400</td>\n",
       "      <td>6.976650</td>\n",
       "      <td>6.377200</td>\n",
       "    </tr>\n",
       "    <tr>\n",
       "      <th>1</th>\n",
       "      <td>4079</td>\n",
       "      <td>frontal operculum, left</td>\n",
       "      <td>frontal lobe</td>\n",
       "      <td>7.396731</td>\n",
       "      <td>6.328348</td>\n",
       "      <td>5.513738</td>\n",
       "      <td>5.875700</td>\n",
       "      <td>8.061715</td>\n",
       "      <td>6.465296</td>\n",
       "      <td>1.606212</td>\n",
       "      <td>...</td>\n",
       "      <td>11.603015</td>\n",
       "      <td>6.575952</td>\n",
       "      <td>7.332615</td>\n",
       "      <td>3.399377</td>\n",
       "      <td>7.872131</td>\n",
       "      <td>7.108319</td>\n",
       "      <td>2.621635</td>\n",
       "      <td>6.112238</td>\n",
       "      <td>6.983742</td>\n",
       "      <td>5.367658</td>\n",
       "    </tr>\n",
       "    <tr>\n",
       "      <th>2</th>\n",
       "      <td>4080</td>\n",
       "      <td>frontal operculum, right</td>\n",
       "      <td>frontal lobe</td>\n",
       "      <td>7.499450</td>\n",
       "      <td>6.406175</td>\n",
       "      <td>5.954237</td>\n",
       "      <td>5.528325</td>\n",
       "      <td>8.229575</td>\n",
       "      <td>6.290100</td>\n",
       "      <td>1.869012</td>\n",
       "      <td>...</td>\n",
       "      <td>11.627762</td>\n",
       "      <td>6.586131</td>\n",
       "      <td>7.122450</td>\n",
       "      <td>3.352925</td>\n",
       "      <td>8.294813</td>\n",
       "      <td>6.899900</td>\n",
       "      <td>3.338600</td>\n",
       "      <td>5.914500</td>\n",
       "      <td>6.961638</td>\n",
       "      <td>5.679288</td>\n",
       "    </tr>\n",
       "    <tr>\n",
       "      <th>3</th>\n",
       "      <td>4890</td>\n",
       "      <td>frontal pole, left, superior aspect</td>\n",
       "      <td>frontal lobe</td>\n",
       "      <td>7.442300</td>\n",
       "      <td>6.623387</td>\n",
       "      <td>6.014083</td>\n",
       "      <td>5.306967</td>\n",
       "      <td>8.369000</td>\n",
       "      <td>6.206500</td>\n",
       "      <td>2.167000</td>\n",
       "      <td>...</td>\n",
       "      <td>11.734133</td>\n",
       "      <td>6.628217</td>\n",
       "      <td>7.565700</td>\n",
       "      <td>3.902867</td>\n",
       "      <td>7.727083</td>\n",
       "      <td>7.106350</td>\n",
       "      <td>3.055717</td>\n",
       "      <td>6.450200</td>\n",
       "      <td>7.103717</td>\n",
       "      <td>6.162650</td>\n",
       "    </tr>\n",
       "    <tr>\n",
       "      <th>4</th>\n",
       "      <td>4048</td>\n",
       "      <td>gyrus rectus, left</td>\n",
       "      <td>frontal lobe</td>\n",
       "      <td>7.459250</td>\n",
       "      <td>6.502618</td>\n",
       "      <td>5.414595</td>\n",
       "      <td>5.615030</td>\n",
       "      <td>8.054830</td>\n",
       "      <td>6.452410</td>\n",
       "      <td>1.708128</td>\n",
       "      <td>...</td>\n",
       "      <td>11.548595</td>\n",
       "      <td>6.506471</td>\n",
       "      <td>7.227075</td>\n",
       "      <td>3.600860</td>\n",
       "      <td>8.265590</td>\n",
       "      <td>7.059275</td>\n",
       "      <td>2.967672</td>\n",
       "      <td>6.021715</td>\n",
       "      <td>6.979403</td>\n",
       "      <td>5.642403</td>\n",
       "    </tr>\n",
       "    <tr>\n",
       "      <th>5</th>\n",
       "      <td>4049</td>\n",
       "      <td>gyrus rectus, right</td>\n",
       "      <td>frontal lobe</td>\n",
       "      <td>7.474420</td>\n",
       "      <td>6.617004</td>\n",
       "      <td>5.705730</td>\n",
       "      <td>5.164300</td>\n",
       "      <td>8.350895</td>\n",
       "      <td>6.306790</td>\n",
       "      <td>1.935105</td>\n",
       "      <td>...</td>\n",
       "      <td>11.672770</td>\n",
       "      <td>6.532527</td>\n",
       "      <td>7.221220</td>\n",
       "      <td>3.362950</td>\n",
       "      <td>8.412530</td>\n",
       "      <td>6.956415</td>\n",
       "      <td>3.039085</td>\n",
       "      <td>6.187400</td>\n",
       "      <td>7.168905</td>\n",
       "      <td>5.760210</td>\n",
       "    </tr>\n",
       "    <tr>\n",
       "      <th>6</th>\n",
       "      <td>4042</td>\n",
       "      <td>inferior frontal gyrus, opercular part, left</td>\n",
       "      <td>frontal lobe</td>\n",
       "      <td>7.458650</td>\n",
       "      <td>6.499980</td>\n",
       "      <td>5.999369</td>\n",
       "      <td>6.058400</td>\n",
       "      <td>7.905525</td>\n",
       "      <td>6.553475</td>\n",
       "      <td>1.722594</td>\n",
       "      <td>...</td>\n",
       "      <td>11.455844</td>\n",
       "      <td>6.670722</td>\n",
       "      <td>7.244950</td>\n",
       "      <td>3.267975</td>\n",
       "      <td>8.136138</td>\n",
       "      <td>6.992413</td>\n",
       "      <td>2.955019</td>\n",
       "      <td>5.882438</td>\n",
       "      <td>6.704787</td>\n",
       "      <td>5.483388</td>\n",
       "    </tr>\n",
       "    <tr>\n",
       "      <th>7</th>\n",
       "      <td>4043</td>\n",
       "      <td>inferior frontal gyrus, opercular part, right</td>\n",
       "      <td>frontal lobe</td>\n",
       "      <td>7.494333</td>\n",
       "      <td>6.419747</td>\n",
       "      <td>5.911883</td>\n",
       "      <td>5.388733</td>\n",
       "      <td>8.233883</td>\n",
       "      <td>6.195700</td>\n",
       "      <td>2.056250</td>\n",
       "      <td>...</td>\n",
       "      <td>11.627517</td>\n",
       "      <td>6.323317</td>\n",
       "      <td>7.364133</td>\n",
       "      <td>3.632233</td>\n",
       "      <td>8.168267</td>\n",
       "      <td>7.060550</td>\n",
       "      <td>2.772567</td>\n",
       "      <td>6.103433</td>\n",
       "      <td>6.738717</td>\n",
       "      <td>5.491917</td>\n",
       "    </tr>\n",
       "    <tr>\n",
       "      <th>8</th>\n",
       "      <td>4045</td>\n",
       "      <td>inferior frontal gyrus, orbital part, left</td>\n",
       "      <td>frontal lobe</td>\n",
       "      <td>7.476083</td>\n",
       "      <td>6.527749</td>\n",
       "      <td>5.575228</td>\n",
       "      <td>5.963378</td>\n",
       "      <td>8.013272</td>\n",
       "      <td>6.490044</td>\n",
       "      <td>1.586808</td>\n",
       "      <td>...</td>\n",
       "      <td>11.615314</td>\n",
       "      <td>6.597397</td>\n",
       "      <td>7.420011</td>\n",
       "      <td>3.492372</td>\n",
       "      <td>7.987086</td>\n",
       "      <td>7.045056</td>\n",
       "      <td>2.938614</td>\n",
       "      <td>6.097122</td>\n",
       "      <td>6.772947</td>\n",
       "      <td>5.602558</td>\n",
       "    </tr>\n",
       "    <tr>\n",
       "      <th>9</th>\n",
       "      <td>4046</td>\n",
       "      <td>inferior frontal gyrus, orbital part, right</td>\n",
       "      <td>frontal lobe</td>\n",
       "      <td>7.383620</td>\n",
       "      <td>6.527828</td>\n",
       "      <td>6.279310</td>\n",
       "      <td>5.175400</td>\n",
       "      <td>8.111700</td>\n",
       "      <td>6.259850</td>\n",
       "      <td>2.128990</td>\n",
       "      <td>...</td>\n",
       "      <td>11.598420</td>\n",
       "      <td>6.493655</td>\n",
       "      <td>7.237860</td>\n",
       "      <td>3.686320</td>\n",
       "      <td>8.122010</td>\n",
       "      <td>6.934260</td>\n",
       "      <td>2.613610</td>\n",
       "      <td>6.046040</td>\n",
       "      <td>6.596740</td>\n",
       "      <td>5.704640</td>\n",
       "    </tr>\n",
       "  </tbody>\n",
       "</table>\n",
       "<p>10 rows × 217 columns</p>\n",
       "</div>"
      ],
      "text/plain": [
       "     id                                           name  topStructure  \\\n",
       "0  4055                  anterior orbital gyrus, right  frontal lobe   \n",
       "1  4079                        frontal operculum, left  frontal lobe   \n",
       "2  4080                       frontal operculum, right  frontal lobe   \n",
       "3  4890            frontal pole, left, superior aspect  frontal lobe   \n",
       "4  4048                             gyrus rectus, left  frontal lobe   \n",
       "5  4049                            gyrus rectus, right  frontal lobe   \n",
       "6  4042   inferior frontal gyrus, opercular part, left  frontal lobe   \n",
       "7  4043  inferior frontal gyrus, opercular part, right  frontal lobe   \n",
       "8  4045     inferior frontal gyrus, orbital part, left  frontal lobe   \n",
       "9  4046    inferior frontal gyrus, orbital part, right  frontal lobe   \n",
       "\n",
       "   PRMT6meanExpVal  NTNG1meanExpVal  VAV3meanExpVal  SLC25A24meanExpVal  \\\n",
       "0         7.429900         6.640060        5.799250            4.373400   \n",
       "1         7.396731         6.328348        5.513738            5.875700   \n",
       "2         7.499450         6.406175        5.954237            5.528325   \n",
       "3         7.442300         6.623387        6.014083            5.306967   \n",
       "4         7.459250         6.502618        5.414595            5.615030   \n",
       "5         7.474420         6.617004        5.705730            5.164300   \n",
       "6         7.458650         6.499980        5.999369            6.058400   \n",
       "7         7.494333         6.419747        5.911883            5.388733   \n",
       "8         7.476083         6.527749        5.575228            5.963378   \n",
       "9         7.383620         6.527828        6.279310            5.175400   \n",
       "\n",
       "   FAM102BmeanExpVal  PRPF38BmeanExpVal  FNDC7meanExpVal  ...  \\\n",
       "0           8.516550           6.369900         1.908650  ...   \n",
       "1           8.061715           6.465296         1.606212  ...   \n",
       "2           8.229575           6.290100         1.869012  ...   \n",
       "3           8.369000           6.206500         2.167000  ...   \n",
       "4           8.054830           6.452410         1.708128  ...   \n",
       "5           8.350895           6.306790         1.935105  ...   \n",
       "6           7.905525           6.553475         1.722594  ...   \n",
       "7           8.233883           6.195700         2.056250  ...   \n",
       "8           8.013272           6.490044         1.586808  ...   \n",
       "9           8.111700           6.259850         2.128990  ...   \n",
       "\n",
       "   RAB2AmeanExpVal  CHD7meanExpVal  CLVS1meanExpVal  ASPHmeanExpVal  \\\n",
       "0        12.035200        6.733750         7.762900        4.406600   \n",
       "1        11.603015        6.575952         7.332615        3.399377   \n",
       "2        11.627762        6.586131         7.122450        3.352925   \n",
       "3        11.734133        6.628217         7.565700        3.902867   \n",
       "4        11.548595        6.506471         7.227075        3.600860   \n",
       "5        11.672770        6.532527         7.221220        3.362950   \n",
       "6        11.455844        6.670722         7.244950        3.267975   \n",
       "7        11.627517        6.323317         7.364133        3.632233   \n",
       "8        11.615314        6.597397         7.420011        3.492372   \n",
       "9        11.598420        6.493655         7.237860        3.686320   \n",
       "\n",
       "   NKAIN3meanExpVal  GGHmeanExpVal  TTPAmeanExpVal  YTHDF3meanExpVal  \\\n",
       "0          8.175700       7.583750        3.512500          7.161400   \n",
       "1          7.872131       7.108319        2.621635          6.112238   \n",
       "2          8.294813       6.899900        3.338600          5.914500   \n",
       "3          7.727083       7.106350        3.055717          6.450200   \n",
       "4          8.265590       7.059275        2.967672          6.021715   \n",
       "5          8.412530       6.956415        3.039085          6.187400   \n",
       "6          8.136138       6.992413        2.955019          5.882438   \n",
       "7          8.168267       7.060550        2.772567          6.103433   \n",
       "8          7.987086       7.045056        2.938614          6.097122   \n",
       "9          8.122010       6.934260        2.613610          6.046040   \n",
       "\n",
       "   BHLHE22meanExpVal  CYP7B1meanExpVal  \n",
       "0           6.976650          6.377200  \n",
       "1           6.983742          5.367658  \n",
       "2           6.961638          5.679288  \n",
       "3           7.103717          6.162650  \n",
       "4           6.979403          5.642403  \n",
       "5           7.168905          5.760210  \n",
       "6           6.704787          5.483388  \n",
       "7           6.738717          5.491917  \n",
       "8           6.772947          5.602558  \n",
       "9           6.596740          5.704640  \n",
       "\n",
       "[10 rows x 217 columns]"
      ]
     },
     "execution_count": 12,
     "metadata": {},
     "output_type": "execute_result"
    }
   ],
   "source": [
    "# Joining the data\n",
    "\n",
    "col_chr1=[col for col in gene_exp_chr1.columns if (\"meanExpVal\" != col) and ((\"id\" in col) or (\"name\" in col) or (\"topStructure\" in col) or (\"ExpVal\" in col))]\n",
    "col_chr3=[col for col in gene_exp_chr3.columns if (\"meanExpVal\" != col) and ((\"id\" in col) or (\"name\" in col) or (\"topStructure\" in col) or (\"ExpVal\" in col))]\n",
    "col_chr7=[col for col in gene_exp_chr7.columns if (\"meanExpVal\" != col) and ((\"id\" in col) or (\"name\" in col) or (\"topStructure\" in col) or (\"ExpVal\" in col))]\n",
    "col_chr8=[col for col in gene_exp_chr8.columns if (\"meanExpVal\" != col) and ((\"id\" in col) or (\"name\" in col) or (\"topStructure\" in col) or (\"ExpVal\" in col))]\n",
    "\n",
    "\n",
    "gene_sel_chr1=gene_exp_chr1[col_chr1]\n",
    "gene_sel_chr3=gene_exp_chr3[col_chr3]\n",
    "gene_sel_chr7=gene_exp_chr7[col_chr7]\n",
    "gene_sel_chr8=gene_exp_chr8[col_chr8]\n",
    "\n",
    "join_gene_expr=gene_sel_chr1.merge(gene_sel_chr3,on=[\"id\",\"name\",\"topStructure\"]).merge(gene_sel_chr7,on=[\"id\",\"name\",\"topStructure\"]).merge(gene_sel_chr8,on=[\"id\",\"name\",\"topStructure\"])\n",
    "join_gene_expr.head(10)"
   ]
  },
  {
   "cell_type": "code",
   "execution_count": 111,
   "metadata": {},
   "outputs": [
    {
     "name": "stderr",
     "output_type": "stream",
     "text": [
      "C:\\Users\\Usuario\\Anaconda3\\lib\\site-packages\\ipykernel_launcher.py:3: UserWarning:\n",
      "\n",
      "Boolean Series key will be reindexed to match DataFrame index.\n",
      "\n",
      "C:\\Users\\Usuario\\Anaconda3\\lib\\site-packages\\ipykernel_launcher.py:4: UserWarning:\n",
      "\n",
      "Boolean Series key will be reindexed to match DataFrame index.\n",
      "\n",
      "C:\\Users\\Usuario\\Anaconda3\\lib\\site-packages\\pandas\\core\\strings.py:2001: UserWarning:\n",
      "\n",
      "This pattern has match groups. To actually get the groups, use str.extract.\n",
      "\n",
      "C:\\Users\\Usuario\\Anaconda3\\lib\\site-packages\\ipykernel_launcher.py:6: UserWarning:\n",
      "\n",
      "Boolean Series key will be reindexed to match DataFrame index.\n",
      "\n",
      "C:\\Users\\Usuario\\Anaconda3\\lib\\site-packages\\ipykernel_launcher.py:7: UserWarning:\n",
      "\n",
      "Boolean Series key will be reindexed to match DataFrame index.\n",
      "\n",
      "C:\\Users\\Usuario\\Anaconda3\\lib\\site-packages\\ipykernel_launcher.py:10: UserWarning:\n",
      "\n",
      "Boolean Series key will be reindexed to match DataFrame index.\n",
      "\n",
      "C:\\Users\\Usuario\\Anaconda3\\lib\\site-packages\\ipykernel_launcher.py:11: UserWarning:\n",
      "\n",
      "Boolean Series key will be reindexed to match DataFrame index.\n",
      "\n"
     ]
    }
   ],
   "source": [
    "# Selecting brain regions right and left for cerebrum and cerebellum\n",
    "\n",
    "cerebellum_left=join_gene_expr[join_gene_expr[\"topStructure\"].str.contains(\"cerebellar\")][join_gene_expr[\"name\"].str.contains(\"left\")]\n",
    "cerebellum_right=join_gene_expr[join_gene_expr[\"topStructure\"].str.contains(\"cerebellar\")][join_gene_expr[\"name\"].str.contains(\"right\")]\n",
    "#Inverse selection\n",
    "cerebrum_left=join_gene_expr[join_gene_expr[\"topStructure\"].str.contains(\"^((?!cerebellar).)*$\")][join_gene_expr[\"name\"].str.contains(\"left\")]\n",
    "cerebrum_right=join_gene_expr[join_gene_expr[\"topStructure\"].str.contains(\"^((?!cerebellar).)*$\")][join_gene_expr[\"name\"].str.contains(\"right\")]\n",
    "# Selecting brain regions right and left for cerebrum and cerebellum\n",
    "#Inverse selection\n",
    "cerebellum_left=join_gene_expr[join_gene_expr[\"topStructure\"].str.contains(\"cerebellar\")][join_gene_expr[\"name\"].str.contains(\"left\")]\n",
    "cerebellum_right=join_gene_expr[join_gene_expr[\"topStructure\"].str.contains(\"cerebellar\")][join_gene_expr[\"name\"].str.contains(\"right\")]\n",
    "#ALL including cerebellum\n",
    "cerebrum_left_all=join_gene_expr[join_gene_expr[\"name\"].str.contains(\"left\")]\n",
    "cerebrum_right_all=join_gene_expr[join_gene_expr[\"name\"].str.contains(\"right\")]"
   ]
  },
  {
   "cell_type": "markdown",
   "metadata": {},
   "source": [
    "## Cerebrum"
   ]
  },
  {
   "cell_type": "code",
   "execution_count": 114,
   "metadata": {},
   "outputs": [
    {
     "name": "stdout",
     "output_type": "stream",
     "text": [
      "amygdala : \n",
      " Shared Genes: ['CLCC1', 'WDR47', 'KIAA1324', 'SARS', 'SORT1', 'PSMA5', 'GSTM3', 'AHCYL1', 'HBXIP', 'RAP1A', 'CAPZA1', 'RHOC', 'TRIM33', 'BCAS2', 'CSDE1', 'ATP1A1', 'MAN1A2', 'PHGDH', 'CADM2', 'PRKAR2B', 'BCAP29', 'DLD', 'LAMB1', 'PNPLA8', 'DNAJB9', 'LRRN3', 'DOCK4', 'LOC401397', 'KCND2', 'FAM3C', 'PTPRZ1', 'NDUFA5', 'RB1CC1', 'ATP6V1H', 'RGS20', 'TCEA1', 'MRPL15', 'RPS20', 'CHCHD7', 'PENK', 'IMPAD1', 'SDCBP', 'RAB2A', 'CLVS1', 'NKAIN3'] \n",
      " Number of shared genes: 45 \n",
      " Non shared Genes Left: ['CELSR2', 'ATXN7L2', 'GSTM5', 'RBM15', 'HIPK1', 'CTTNBP2', 'PCMTD1', 'SOX17', 'CHD7'] \n",
      " Number of non shared genes left: 9 \n",
      " Non shared Genes Right: ['STXBP3', 'TAF13', 'MAGI3', 'CNTN3', 'CHMP2B', 'NRCAM', 'FAM110B', 'CA8', 'BHLHE22'] \n",
      " Number of non shared genes right: 9 \n",
      " Left genes: 54 \n",
      " Right genes: 54\n",
      "basal forebrain : \n",
      " Shared Genes: ['CLCC1', 'WDR47', 'SARS', 'SORT1', 'PSMA5', 'GSTM3', 'AHCYL1', 'HBXIP', 'RAP1A', 'CAPZA1', 'RHOC', 'HIPK1', 'TRIM33', 'BCAS2', 'CSDE1', 'ATP1A1', 'MAN1A2', 'PHGDH', 'CADM2', 'PRKAR2B', 'BCAP29', 'DLD', 'PNPLA8', 'DNAJB9', 'LRRN3', 'DOCK4', 'LOC401397', 'CTTNBP2', 'FAM3C', 'PTPRZ1', 'NDUFA5', 'PCMTD1', 'RB1CC1', 'ATP6V1H', 'RGS20', 'TCEA1', 'MRPL15', 'RPS20', 'CHCHD7', 'PENK', 'IMPAD1', 'SDCBP', 'RAB2A', 'CHD7', 'CLVS1', 'NKAIN3'] \n",
      " Number of shared genes: 46 \n",
      " Non shared Genes Left: ['KIAA1324', 'CELSR2', 'ATXN7L2', 'GSTM5', 'RBM15', 'LAMB1', 'KCND2', 'SOX17'] \n",
      " Number of non shared genes left: 8 \n",
      " Non shared Genes Right: ['PRMT6', 'FAM102B', 'TAF13', 'SLC16A1', 'MAGI3', 'CNTN3', 'CA8', 'GGH'] \n",
      " Number of non shared genes right: 8 \n",
      " Left genes: 54 \n",
      " Right genes: 54\n",
      "basal part of pons : \n",
      " Shared Genes: ['CLCC1', 'WDR47', 'SARS', 'SORT1', 'PSMA5', 'GSTM3', 'AHCYL1', 'HBXIP', 'RAP1A', 'CAPZA1', 'RHOC', 'TRIM33', 'BCAS2', 'CSDE1', 'ATP1A1', 'MAN1A2', 'PHGDH', 'CADM2', 'PRKAR2B', 'BCAP29', 'DLD', 'PNPLA8', 'DNAJB9', 'LRRN3', 'LOC401397', 'CTTNBP2', 'KCND2', 'FAM3C', 'NDUFA5', 'PCMTD1', 'RB1CC1', 'ATP6V1H', 'TCEA1', 'MRPL15', 'SOX17', 'RPS20', 'CHCHD7', 'IMPAD1', 'SDCBP', 'RAB2A', 'CHD7', 'CLVS1'] \n",
      " Number of shared genes: 42 \n",
      " Non shared Genes Left: ['KIAA1324', 'CELSR2', 'ATXN7L2', 'GSTM5', 'RBM15', 'HIPK1', 'LAMB1', 'DOCK4', 'PTPRZ1', 'RGS20', 'PENK', 'NKAIN3'] \n",
      " Number of non shared genes left: 12 \n",
      " Non shared Genes Right: ['VAV3', 'STXBP3', 'TAF13', 'SLC16A1', 'MAGI3', 'SLC22A15', 'CNTN3', 'GBE1', 'CHMP2B', 'SDR16C5', 'FAM110B', 'GGH'] \n",
      " Number of non shared genes right: 12 \n",
      " Left genes: 54 \n",
      " Right genes: 54\n",
      "cerebellar cortex : \n",
      " Shared Genes: ['CLCC1', 'SARS', 'PSMA5', 'ATXN7L2', 'GSTM3', 'AHCYL1', 'RBM15', 'HBXIP', 'RAP1A', 'CAPZA1', 'RHOC', 'HIPK1', 'TRIM33', 'BCAS2', 'CSDE1', 'ATP1A1', 'MAN1A2', 'PHGDH', 'CADM2', 'BCAP29', 'DLD', 'LAMB1', 'DNAJB9', 'LRRN3', 'LOC401397', 'KCND2', 'FAM3C', 'NDUFA5', 'PCMTD1', 'RB1CC1', 'ATP6V1H', 'TCEA1', 'MRPL15', 'RPS20', 'CHCHD7', 'IMPAD1', 'SDCBP', 'RAB2A', 'CHD7'] \n",
      " Number of shared genes: 39 \n",
      " Non shared Genes Left: ['WDR47', 'KIAA1324', 'CELSR2', 'SORT1', 'GSTM5', 'PRKAR2B', 'PNPLA8', 'DOCK4', 'CTTNBP2', 'PTPRZ1', 'RGS20', 'SOX17', 'PENK', 'CLVS1', 'NKAIN3'] \n",
      " Number of non shared genes left: 15 \n",
      " Non shared Genes Right: ['FAM102B', 'PRPF38B', 'DRAM2', 'PPM1J', 'ING3', 'CADPS2', 'ST18', 'LYPLA1', 'TGS1', 'LYN', 'FAM110B', 'NSMAF', 'CA8', 'GGH', 'BHLHE22'] \n",
      " Number of non shared genes right: 15 \n",
      " Left genes: 54 \n",
      " Right genes: 54\n",
      "cerebellar nuclei : \n",
      " Shared Genes: ['CLCC1', 'SARS', 'SORT1', 'PSMA5', 'GSTM3', 'AHCYL1', 'HBXIP', 'RAP1A', 'CAPZA1', 'RHOC', 'TRIM33', 'BCAS2', 'CSDE1', 'ATP1A1', 'MAN1A2', 'PHGDH', 'CADM2', 'PRKAR2B', 'BCAP29', 'DLD', 'PNPLA8', 'DNAJB9', 'LOC401397', 'CTTNBP2', 'KCND2', 'FAM3C', 'PTPRZ1', 'NDUFA5', 'PCMTD1', 'RB1CC1', 'ATP6V1H', 'TCEA1', 'MRPL15', 'SOX17', 'RPS20', 'CHCHD7', 'IMPAD1', 'SDCBP', 'RAB2A', 'CHD7', 'CLVS1'] \n",
      " Number of shared genes: 41 \n",
      " Non shared Genes Left: ['WDR47', 'KIAA1324', 'CELSR2', 'ATXN7L2', 'GSTM5', 'RBM15', 'HIPK1', 'LAMB1', 'LRRN3', 'DOCK4', 'RGS20', 'PENK', 'NKAIN3'] \n",
      " Number of non shared genes left: 13 \n",
      " Non shared Genes Right: ['PRMT6', 'VAV3', 'STXBP3', 'GPSM2', 'TAF13', 'PSRC1', 'SLC16A1', 'MAGI3', 'SLC22A15', 'CHMP2B', 'ST18', 'CA8', 'BHLHE22'] \n",
      " Number of non shared genes right: 13 \n",
      " Left genes: 54 \n",
      " Right genes: 54\n",
      "cingulate gyrus : \n",
      " Shared Genes: ['CLCC1', 'WDR47', 'SARS', 'CELSR2', 'SORT1', 'PSMA5', 'ATXN7L2', 'GSTM3', 'AHCYL1', 'HBXIP', 'RAP1A', 'CAPZA1', 'RHOC', 'HIPK1', 'TRIM33', 'BCAS2', 'CSDE1', 'ATP1A1', 'MAN1A2', 'PHGDH', 'CADM2', 'PRKAR2B', 'BCAP29', 'DLD', 'LAMB1', 'PNPLA8', 'DNAJB9', 'LRRN3', 'DOCK4', 'LOC401397', 'CTTNBP2', 'FAM3C', 'PTPRZ1', 'NDUFA5', 'RB1CC1', 'ATP6V1H', 'RGS20', 'TCEA1', 'MRPL15', 'RPS20', 'CHCHD7', 'IMPAD1', 'SDCBP', 'RAB2A', 'NKAIN3'] \n",
      " Number of shared genes: 45 \n",
      " Non shared Genes Left: ['KIAA1324', 'GSTM5', 'RBM15', 'KCND2', 'PCMTD1', 'SOX17', 'PENK', 'CHD7', 'CLVS1'] \n",
      " Number of non shared genes left: 9 \n",
      " Non shared Genes Right: ['PRMT6', 'FAM102B', 'TAF13', 'PSRC1', 'MAGI3', 'CNTN3', 'NRCAM', 'XKR4', 'BHLHE22'] \n",
      " Number of non shared genes right: 9 \n",
      " Left genes: 54 \n",
      " Right genes: 54\n",
      "claustrum : \n",
      " Shared Genes: ['CLCC1', 'WDR47', 'SARS', 'CELSR2', 'SORT1', 'PSMA5', 'GSTM3', 'AHCYL1', 'HBXIP', 'RAP1A', 'CAPZA1', 'RHOC', 'TRIM33', 'BCAS2', 'CSDE1', 'ATP1A1', 'MAN1A2', 'PHGDH', 'CADM2', 'PRKAR2B', 'BCAP29', 'DLD', 'PNPLA8', 'DNAJB9', 'LRRN3', 'DOCK4', 'LOC401397', 'CTTNBP2', 'KCND2', 'FAM3C', 'NDUFA5', 'RB1CC1', 'ATP6V1H', 'RGS20', 'TCEA1', 'MRPL15', 'RPS20', 'CHCHD7', 'IMPAD1', 'SDCBP', 'RAB2A', 'CLVS1', 'NKAIN3'] \n",
      " Number of shared genes: 43 \n",
      " Non shared Genes Left: ['KIAA1324', 'ATXN7L2', 'GSTM5', 'RBM15', 'HIPK1', 'LAMB1', 'PTPRZ1', 'PCMTD1', 'SOX17', 'PENK', 'CHD7'] \n",
      " Number of non shared genes left: 11 \n",
      " Non shared Genes Right: ['PRMT6', 'FAM102B', 'TAF13', 'SLC16A1', 'MAGI3', 'CNTN3', 'GBE1', 'NRCAM', 'CADPS2', 'TMEM68', 'UBXN2B'] \n",
      " Number of non shared genes right: 11 \n",
      " Left genes: 54 \n",
      " Right genes: 54\n",
      "dorsal thalamus : \n",
      " Shared Genes: ['CLCC1', 'WDR47', 'SARS', 'SORT1', 'PSMA5', 'GSTM3', 'AHCYL1', 'HBXIP', 'RAP1A', 'CAPZA1', 'RHOC', 'TRIM33', 'BCAS2', 'CSDE1', 'ATP1A1', 'MAN1A2', 'PHGDH', 'CADM2', 'PRKAR2B', 'BCAP29', 'DLD', 'LAMB1', 'PNPLA8', 'DNAJB9', 'LRRN3', 'LOC401397', 'CTTNBP2', 'KCND2', 'FAM3C', 'PTPRZ1', 'NDUFA5', 'PCMTD1', 'RB1CC1', 'ATP6V1H', 'TCEA1', 'MRPL15', 'SOX17', 'RPS20', 'CHCHD7', 'IMPAD1', 'SDCBP', 'RAB2A', 'NKAIN3'] \n",
      " Number of shared genes: 43 \n",
      " Non shared Genes Left: ['KIAA1324', 'CELSR2', 'ATXN7L2', 'GSTM5', 'RBM15', 'HIPK1', 'DOCK4', 'RGS20', 'PENK', 'CHD7', 'CLVS1'] \n",
      " Number of non shared genes left: 11 \n",
      " Non shared Genes Right: ['PRMT6', 'NTNG1', 'VAV3', 'FAM102B', 'GPSM2', 'TAF13', 'SLC16A1', 'MAGI3', 'CHMP2B', 'CA8', 'GGH'] \n",
      " Number of non shared genes right: 11 \n",
      " Left genes: 54 \n",
      " Right genes: 54\n",
      "epithalamus : \n",
      " Shared Genes: ['CLCC1', 'SARS', 'SORT1', 'PSMA5', 'GSTM5', 'GSTM3', 'AHCYL1', 'HBXIP', 'RAP1A', 'CAPZA1', 'RHOC', 'HIPK1', 'TRIM33', 'BCAS2', 'CSDE1', 'ATP1A1', 'MAN1A2', 'PHGDH', 'PRKAR2B', 'BCAP29', 'DLD', 'PNPLA8', 'DNAJB9', 'LRRN3', 'LOC401397', 'PTPRZ1', 'NDUFA5', 'PCMTD1', 'RB1CC1', 'ATP6V1H', 'TCEA1', 'MRPL15', 'RPS20', 'CHCHD7', 'IMPAD1', 'SDCBP', 'RAB2A', 'CHD7', 'NKAIN3'] \n",
      " Number of shared genes: 39 \n",
      " Non shared Genes Left: ['WDR47', 'KIAA1324', 'CELSR2', 'ATXN7L2', 'RBM15', 'CADM2', 'LAMB1', 'DOCK4', 'CTTNBP2', 'KCND2', 'FAM3C', 'RGS20', 'SOX17', 'PENK', 'CLVS1'] \n",
      " Number of non shared genes left: 15 \n",
      " Non shared Genes Right: ['PRMT6', 'VAV3', 'STXBP3', 'GPSM2', 'TAF13', 'C1orf194', 'GSTM4', 'SLC16A1', 'MAGI3', 'SLC22A15', 'SPAG17', 'NOTCH2', 'CNTN3', 'EFCAB1', 'GGH'] \n",
      " Number of non shared genes right: 15 \n",
      " Left genes: 54 \n",
      " Right genes: 54\n",
      "frontal lobe : \n",
      " Shared Genes: ['CLCC1', 'WDR47', 'SARS', 'CELSR2', 'SORT1', 'PSMA5', 'ATXN7L2', 'GSTM3', 'AHCYL1', 'HBXIP', 'RAP1A', 'CAPZA1', 'RHOC', 'HIPK1', 'TRIM33', 'BCAS2', 'CSDE1', 'ATP1A1', 'MAN1A2', 'PHGDH', 'CADM2', 'PRKAR2B', 'BCAP29', 'DLD', 'LAMB1', 'PNPLA8', 'DNAJB9', 'LRRN3', 'DOCK4', 'LOC401397', 'CTTNBP2', 'KCND2', 'FAM3C', 'PTPRZ1', 'NDUFA5', 'RB1CC1', 'ATP6V1H', 'RGS20', 'TCEA1', 'MRPL15', 'RPS20', 'CHCHD7', 'IMPAD1', 'SDCBP', 'RAB2A', 'NKAIN3'] \n",
      " Number of shared genes: 46 \n",
      " Non shared Genes Left: ['KIAA1324', 'GSTM5', 'RBM15', 'PCMTD1', 'SOX17', 'PENK', 'CHD7', 'CLVS1'] \n",
      " Number of non shared genes left: 8 \n",
      " Non shared Genes Right: ['PRMT6', 'FAM102B', 'TAF13', 'MAGI3', 'CNTN3', 'NRCAM', 'XKR4', 'CA8'] \n",
      " Number of non shared genes right: 8 \n",
      " Left genes: 54 \n",
      " Right genes: 54\n",
      "globus pallidus : \n",
      " Shared Genes: ['CLCC1', 'SARS', 'SORT1', 'PSMA5', 'GSTM3', 'AHCYL1', 'HBXIP', 'RAP1A', 'CAPZA1', 'RHOC', 'HIPK1', 'TRIM33', 'BCAS2', 'CSDE1', 'ATP1A1', 'MAN1A2', 'PHGDH', 'CADM2', 'PRKAR2B', 'BCAP29', 'DLD', 'PNPLA8', 'DNAJB9', 'LRRN3', 'DOCK4', 'LOC401397', 'CTTNBP2', 'FAM3C', 'PTPRZ1', 'NDUFA5', 'PCMTD1', 'RB1CC1', 'ATP6V1H', 'RGS20', 'TCEA1', 'MRPL15', 'SOX17', 'RPS20', 'CHCHD7', 'IMPAD1', 'SDCBP', 'RAB2A', 'CHD7', 'NKAIN3'] \n",
      " Number of shared genes: 44 \n",
      " Non shared Genes Left: ['WDR47', 'KIAA1324', 'CELSR2', 'ATXN7L2', 'GSTM5', 'RBM15', 'LAMB1', 'KCND2', 'PENK', 'CLVS1'] \n",
      " Number of non shared genes left: 10 \n",
      " Non shared Genes Right: ['PRMT6', 'STXBP3', 'GPSM2', 'TAF13', 'PSRC1', 'SLC16A1', 'MAGI3', 'SLC22A15', 'CHMP2B', 'ST18'] \n",
      " Number of non shared genes right: 10 \n",
      " Left genes: 54 \n",
      " Right genes: 54\n",
      "hippocampal formation : \n",
      " Shared Genes: ['CLCC1', 'WDR47', 'KIAA1324', 'SARS', 'CELSR2', 'SORT1', 'PSMA5', 'ATXN7L2', 'GSTM3', 'AHCYL1', 'HBXIP', 'CAPZA1', 'RHOC', 'TRIM33', 'BCAS2', 'CSDE1', 'ATP1A1', 'MAN1A2', 'PHGDH', 'CADM2', 'PRKAR2B', 'BCAP29', 'DLD', 'LAMB1', 'PNPLA8', 'DNAJB9', 'LRRN3', 'DOCK4', 'LOC401397', 'CTTNBP2', 'KCND2', 'FAM3C', 'PTPRZ1', 'NDUFA5', 'RB1CC1', 'ATP6V1H', 'RGS20', 'TCEA1', 'MRPL15', 'SOX17', 'RPS20', 'CHCHD7', 'IMPAD1', 'SDCBP', 'RAB2A', 'CLVS1', 'NKAIN3'] \n",
      " Number of shared genes: 47 \n",
      " Non shared Genes Left: ['GSTM5', 'RBM15', 'RAP1A', 'HIPK1', 'PCMTD1', 'PENK', 'CHD7'] \n",
      " Number of non shared genes left: 7 \n",
      " Non shared Genes Right: ['FAM102B', 'TAF13', 'PSRC1', 'SLC16A1', 'CNTN3', 'UBXN2B', 'BHLHE22'] \n",
      " Number of non shared genes right: 7 \n",
      " Left genes: 54 \n",
      " Right genes: 54\n",
      "hypothalamus : \n",
      " Shared Genes: ['CLCC1', 'WDR47', 'KIAA1324', 'SARS', 'PSMA5', 'GSTM3', 'AHCYL1', 'HBXIP', 'RAP1A', 'CAPZA1', 'RHOC', 'HIPK1', 'TRIM33', 'BCAS2', 'CSDE1', 'ATP1A1', 'MAN1A2', 'PHGDH', 'CADM2', 'PRKAR2B', 'BCAP29', 'DLD', 'PNPLA8', 'DNAJB9', 'LRRN3', 'LOC401397', 'KCND2', 'FAM3C', 'PTPRZ1', 'NDUFA5', 'PCMTD1', 'RB1CC1', 'ATP6V1H', 'TCEA1', 'MRPL15', 'SOX17', 'RPS20', 'CHCHD7', 'PENK', 'IMPAD1', 'SDCBP', 'RAB2A', 'CLVS1', 'NKAIN3'] \n",
      " Number of shared genes: 44 \n",
      " Non shared Genes Left: ['CELSR2', 'SORT1', 'ATXN7L2', 'GSTM5', 'RBM15', 'LAMB1', 'DOCK4', 'CTTNBP2', 'RGS20', 'CHD7'] \n",
      " Number of non shared genes left: 10 \n",
      " Non shared Genes Right: ['PRMT6', 'FAM102B', 'TAF13', 'SLC16A1', 'MAGI3', 'CHMP2B', 'TMEM68', 'FAM110B', 'CA8', 'GGH'] \n",
      " Number of non shared genes right: 10 \n",
      " Left genes: 54 \n",
      " Right genes: 54\n"
     ]
    },
    {
     "name": "stdout",
     "output_type": "stream",
     "text": [
      "insula : \n",
      " Shared Genes: ['CLCC1', 'WDR47', 'SARS', 'CELSR2', 'SORT1', 'PSMA5', 'GSTM3', 'AHCYL1', 'HBXIP', 'RAP1A', 'CAPZA1', 'RHOC', 'HIPK1', 'TRIM33', 'BCAS2', 'CSDE1', 'ATP1A1', 'MAN1A2', 'PHGDH', 'CADM2', 'PRKAR2B', 'BCAP29', 'DLD', 'LAMB1', 'PNPLA8', 'DNAJB9', 'LRRN3', 'DOCK4', 'LOC401397', 'KCND2', 'FAM3C', 'PTPRZ1', 'NDUFA5', 'RB1CC1', 'ATP6V1H', 'RGS20', 'TCEA1', 'MRPL15', 'RPS20', 'CHCHD7', 'IMPAD1', 'SDCBP', 'RAB2A', 'CLVS1', 'NKAIN3'] \n",
      " Number of shared genes: 45 \n",
      " Non shared Genes Left: ['KIAA1324', 'ATXN7L2', 'GSTM5', 'RBM15', 'CTTNBP2', 'PCMTD1', 'SOX17', 'PENK', 'CHD7'] \n",
      " Number of non shared genes left: 9 \n",
      " Non shared Genes Right: ['PRMT6', 'FAM102B', 'TAF13', 'MAGI3', 'CNTN3', 'NRCAM', 'XKR4', 'CA8', 'BHLHE22'] \n",
      " Number of non shared genes right: 9 \n",
      " Left genes: 54 \n",
      " Right genes: 54\n",
      "mesencephalon : \n",
      " Shared Genes: ['CLCC1', 'WDR47', 'SARS', 'SORT1', 'PSMA5', 'GSTM3', 'AHCYL1', 'HBXIP', 'RAP1A', 'CAPZA1', 'RHOC', 'TRIM33', 'BCAS2', 'CSDE1', 'ATP1A1', 'MAN1A2', 'PHGDH', 'CADM2', 'PRKAR2B', 'BCAP29', 'DLD', 'PNPLA8', 'DNAJB9', 'LRRN3', 'LOC401397', 'CTTNBP2', 'KCND2', 'FAM3C', 'PTPRZ1', 'NDUFA5', 'PCMTD1', 'RB1CC1', 'ATP6V1H', 'TCEA1', 'MRPL15', 'SOX17', 'RPS20', 'CHCHD7', 'IMPAD1', 'SDCBP', 'RAB2A', 'CHD7', 'CLVS1'] \n",
      " Number of shared genes: 43 \n",
      " Non shared Genes Left: ['KIAA1324', 'CELSR2', 'ATXN7L2', 'GSTM5', 'RBM15', 'HIPK1', 'LAMB1', 'DOCK4', 'RGS20', 'PENK', 'NKAIN3'] \n",
      " Number of non shared genes left: 11 \n",
      " Non shared Genes Right: ['PRMT6', 'FAM102B', 'STXBP3', 'GPSM2', 'TAF13', 'SLC16A1', 'MAGI3', 'SLC22A15', 'GBE1', 'CHMP2B', 'CA8'] \n",
      " Number of non shared genes right: 11 \n",
      " Left genes: 54 \n",
      " Right genes: 54\n",
      "myelencephalon : \n",
      " Shared Genes: ['CLCC1', 'WDR47', 'SARS', 'SORT1', 'PSMA5', 'GSTM3', 'AHCYL1', 'HBXIP', 'RAP1A', 'CAPZA1', 'RHOC', 'HIPK1', 'TRIM33', 'BCAS2', 'CSDE1', 'ATP1A1', 'MAN1A2', 'PHGDH', 'CADM2', 'PRKAR2B', 'BCAP29', 'DLD', 'PNPLA8', 'DNAJB9', 'LRRN3', 'DOCK4', 'LOC401397', 'CTTNBP2', 'KCND2', 'FAM3C', 'NDUFA5', 'PCMTD1', 'RB1CC1', 'ATP6V1H', 'TCEA1', 'MRPL15', 'SOX17', 'RPS20', 'CHCHD7', 'IMPAD1', 'SDCBP', 'RAB2A', 'CHD7'] \n",
      " Number of shared genes: 43 \n",
      " Non shared Genes Left: ['KIAA1324', 'CELSR2', 'ATXN7L2', 'GSTM5', 'RBM15', 'LAMB1', 'PTPRZ1', 'RGS20', 'PENK', 'CLVS1', 'NKAIN3'] \n",
      " Number of non shared genes left: 11 \n",
      " Non shared Genes Right: ['PRMT6', 'STXBP3', 'GPSM2', 'TAF13', 'SLC16A1', 'MAGI3', 'SLC22A15', 'GBE1', 'CHMP2B', 'CA8', 'GGH'] \n",
      " Number of non shared genes right: 11 \n",
      " Left genes: 54 \n",
      " Right genes: 54\n",
      "occipital lobe : \n",
      " Shared Genes: ['CLCC1', 'WDR47', 'SARS', 'CELSR2', 'SORT1', 'PSMA5', 'ATXN7L2', 'GSTM3', 'AHCYL1', 'RBM15', 'HBXIP', 'RAP1A', 'CAPZA1', 'RHOC', 'HIPK1', 'TRIM33', 'BCAS2', 'CSDE1', 'ATP1A1', 'MAN1A2', 'PHGDH', 'CADM2', 'PRKAR2B', 'BCAP29', 'DLD', 'PNPLA8', 'DNAJB9', 'LRRN3', 'DOCK4', 'LOC401397', 'CTTNBP2', 'KCND2', 'FAM3C', 'NDUFA5', 'PCMTD1', 'RB1CC1', 'ATP6V1H', 'TCEA1', 'MRPL15', 'RPS20', 'CHCHD7', 'IMPAD1', 'SDCBP', 'RAB2A', 'NKAIN3'] \n",
      " Number of shared genes: 45 \n",
      " Non shared Genes Left: ['KIAA1324', 'GSTM5', 'LAMB1', 'PTPRZ1', 'RGS20', 'SOX17', 'PENK', 'CHD7', 'CLVS1'] \n",
      " Number of non shared genes left: 9 \n",
      " Non shared Genes Right: ['FAM102B', 'TAF13', 'PSRC1', 'MAGI3', 'CNTN3', 'MET', 'CADPS2', 'XKR4', 'BHLHE22'] \n",
      " Number of non shared genes right: 9 \n",
      " Left genes: 54 \n",
      " Right genes: 54\n",
      "parahippocampal gyrus : \n",
      " Shared Genes: ['CLCC1', 'WDR47', 'SARS', 'CELSR2', 'SORT1', 'PSMA5', 'GSTM3', 'AHCYL1', 'HBXIP', 'RAP1A', 'CAPZA1', 'RHOC', 'HIPK1', 'TRIM33', 'BCAS2', 'CSDE1', 'ATP1A1', 'MAN1A2', 'PHGDH', 'CADM2', 'PRKAR2B', 'BCAP29', 'DLD', 'PNPLA8', 'DNAJB9', 'LRRN3', 'DOCK4', 'LOC401397', 'CTTNBP2', 'FAM3C', 'PTPRZ1', 'NDUFA5', 'RB1CC1', 'ATP6V1H', 'RGS20', 'TCEA1', 'MRPL15', 'RPS20', 'CHCHD7', 'IMPAD1', 'SDCBP', 'RAB2A', 'CLVS1', 'NKAIN3'] \n",
      " Number of shared genes: 44 \n",
      " Non shared Genes Left: ['KIAA1324', 'ATXN7L2', 'GSTM5', 'RBM15', 'LAMB1', 'KCND2', 'PCMTD1', 'SOX17', 'PENK', 'CHD7'] \n",
      " Number of non shared genes left: 10 \n",
      " Non shared Genes Right: ['PRMT6', 'FAM102B', 'TAF13', 'MAGI3', 'CNTN3', 'NRCAM', 'MET', 'XKR4', 'TMEM68', 'CA8'] \n",
      " Number of non shared genes right: 10 \n",
      " Left genes: 54 \n",
      " Right genes: 54\n",
      "parietal lobe : \n",
      " Shared Genes: ['CLCC1', 'WDR47', 'SARS', 'CELSR2', 'SORT1', 'PSMA5', 'GSTM3', 'AHCYL1', 'HBXIP', 'RAP1A', 'CAPZA1', 'RHOC', 'HIPK1', 'TRIM33', 'BCAS2', 'CSDE1', 'ATP1A1', 'MAN1A2', 'PHGDH', 'CADM2', 'PRKAR2B', 'BCAP29', 'DLD', 'LAMB1', 'PNPLA8', 'DNAJB9', 'LRRN3', 'DOCK4', 'LOC401397', 'CTTNBP2', 'KCND2', 'FAM3C', 'PTPRZ1', 'NDUFA5', 'RB1CC1', 'ATP6V1H', 'RGS20', 'TCEA1', 'MRPL15', 'RPS20', 'CHCHD7', 'IMPAD1', 'SDCBP', 'RAB2A', 'CLVS1', 'NKAIN3'] \n",
      " Number of shared genes: 46 \n",
      " Non shared Genes Left: ['KIAA1324', 'ATXN7L2', 'GSTM5', 'RBM15', 'PCMTD1', 'SOX17', 'PENK', 'CHD7'] \n",
      " Number of non shared genes left: 8 \n",
      " Non shared Genes Right: ['FAM102B', 'TAF13', 'MAGI3', 'CNTN3', 'NRCAM', 'MET', 'CADPS2', 'XKR4'] \n",
      " Number of non shared genes right: 8 \n",
      " Left genes: 54 \n",
      " Right genes: 54\n",
      "pontine tegmentum : \n",
      " Shared Genes: ['CLCC1', 'WDR47', 'SARS', 'SORT1', 'PSMA5', 'GSTM3', 'AHCYL1', 'HBXIP', 'RAP1A', 'CAPZA1', 'RHOC', 'TRIM33', 'BCAS2', 'CSDE1', 'ATP1A1', 'MAN1A2', 'PHGDH', 'CADM2', 'PRKAR2B', 'BCAP29', 'DLD', 'PNPLA8', 'DNAJB9', 'LRRN3', 'LOC401397', 'CTTNBP2', 'KCND2', 'FAM3C', 'PTPRZ1', 'NDUFA5', 'PCMTD1', 'RB1CC1', 'ATP6V1H', 'TCEA1', 'MRPL15', 'SOX17', 'RPS20', 'CHCHD7', 'IMPAD1', 'SDCBP', 'RAB2A', 'CHD7'] \n",
      " Number of shared genes: 42 \n",
      " Non shared Genes Left: ['KIAA1324', 'CELSR2', 'ATXN7L2', 'GSTM5', 'RBM15', 'HIPK1', 'LAMB1', 'DOCK4', 'RGS20', 'PENK', 'CLVS1', 'NKAIN3'] \n",
      " Number of non shared genes left: 12 \n",
      " Non shared Genes Right: ['PRMT6', 'STXBP3', 'GPSM2', 'TAF13', 'SLC16A1', 'MAGI3', 'SLC22A15', 'GBE1', 'CHMP2B', 'FAM110B', 'CA8', 'GGH'] \n",
      " Number of non shared genes right: 12 \n",
      " Left genes: 54 \n",
      " Right genes: 54\n",
      "striatum : \n",
      " Shared Genes: ['CLCC1', 'WDR47', 'KIAA1324', 'SARS', 'CELSR2', 'SORT1', 'PSMA5', 'GSTM5', 'GSTM3', 'AHCYL1', 'HBXIP', 'RAP1A', 'CAPZA1', 'RHOC', 'HIPK1', 'TRIM33', 'BCAS2', 'CSDE1', 'ATP1A1', 'MAN1A2', 'PHGDH', 'CADM2', 'PRKAR2B', 'BCAP29', 'DLD', 'LAMB1', 'PNPLA8', 'DNAJB9', 'LRRN3', 'DOCK4', 'LOC401397', 'CTTNBP2', 'KCND2', 'FAM3C', 'PTPRZ1', 'NDUFA5', 'PCMTD1', 'RB1CC1', 'ATP6V1H', 'RGS20', 'TCEA1', 'MRPL15', 'RPS20', 'CHCHD7', 'PENK', 'IMPAD1', 'SDCBP', 'RAB2A', 'CHD7', 'CLVS1', 'NKAIN3'] \n",
      " Number of shared genes: 51 \n",
      " Non shared Genes Left: ['ATXN7L2', 'RBM15', 'SOX17'] \n",
      " Number of non shared genes left: 3 \n",
      " Non shared Genes Right: ['TAF13', 'SLC16A1', 'CA8'] \n",
      " Number of non shared genes right: 3 \n",
      " Left genes: 54 \n",
      " Right genes: 54\n",
      "subthalamus : \n",
      " Shared Genes: ['CLCC1', 'WDR47', 'SARS', 'SORT1', 'PSMA5', 'GSTM3', 'AHCYL1', 'HBXIP', 'RAP1A', 'CAPZA1', 'RHOC', 'TRIM33', 'BCAS2', 'CSDE1', 'ATP1A1', 'MAN1A2', 'PHGDH', 'CADM2', 'BCAP29', 'DLD', 'PNPLA8', 'DNAJB9', 'LRRN3', 'LOC401397', 'CTTNBP2', 'KCND2', 'FAM3C', 'NDUFA5', 'PCMTD1', 'RB1CC1', 'ATP6V1H', 'TCEA1', 'MRPL15', 'SOX17', 'RPS20', 'CHCHD7', 'IMPAD1', 'SDCBP', 'RAB2A', 'CHD7', 'CLVS1'] \n",
      " Number of shared genes: 41 \n",
      " Non shared Genes Left: ['KIAA1324', 'CELSR2', 'ATXN7L2', 'GSTM5', 'RBM15', 'HIPK1', 'PRKAR2B', 'LAMB1', 'DOCK4', 'PTPRZ1', 'RGS20', 'PENK', 'NKAIN3'] \n",
      " Number of non shared genes left: 13 \n",
      " Non shared Genes Right: ['PRMT6', 'FAM102B', 'STXBP3', 'GPSM2', 'TAF13', 'SLC16A1', 'MAGI3', 'SLC22A15', 'GBE1', 'CHMP2B', 'LYPLA1', 'CA8', 'GGH'] \n",
      " Number of non shared genes right: 13 \n",
      " Left genes: 54 \n",
      " Right genes: 54\n",
      "temporal lobe : \n",
      " Shared Genes: ['CLCC1', 'WDR47', 'SARS', 'CELSR2', 'SORT1', 'PSMA5', 'GSTM3', 'AHCYL1', 'HBXIP', 'RAP1A', 'CAPZA1', 'RHOC', 'TRIM33', 'BCAS2', 'CSDE1', 'ATP1A1', 'MAN1A2', 'PHGDH', 'CADM2', 'PRKAR2B', 'BCAP29', 'DLD', 'LAMB1', 'PNPLA8', 'DNAJB9', 'LRRN3', 'DOCK4', 'LOC401397', 'KCND2', 'FAM3C', 'PTPRZ1', 'NDUFA5', 'RB1CC1', 'ATP6V1H', 'RGS20', 'TCEA1', 'MRPL15', 'RPS20', 'CHCHD7', 'IMPAD1', 'SDCBP', 'RAB2A', 'CLVS1', 'NKAIN3'] \n",
      " Number of shared genes: 44 \n",
      " Non shared Genes Left: ['KIAA1324', 'ATXN7L2', 'GSTM5', 'RBM15', 'HIPK1', 'CTTNBP2', 'PCMTD1', 'SOX17', 'PENK', 'CHD7'] \n",
      " Number of non shared genes left: 10 \n",
      " Non shared Genes Right: ['PRMT6', 'FAM102B', 'TAF13', 'MAGI3', 'CNTN3', 'NRCAM', 'MET', 'XKR4', 'CA8', 'BHLHE22'] \n",
      " Number of non shared genes right: 10 \n",
      " Left genes: 54 \n",
      " Right genes: 54\n",
      "ventral thalamus : \n",
      " Shared Genes: ['CLCC1', 'WDR47', 'SARS', 'SORT1', 'PSMA5', 'GSTM3', 'AHCYL1', 'HBXIP', 'RAP1A', 'CAPZA1', 'RHOC', 'HIPK1', 'TRIM33', 'BCAS2', 'CSDE1', 'ATP1A1', 'MAN1A2', 'PHGDH', 'CADM2', 'PRKAR2B', 'BCAP29', 'DLD', 'PNPLA8', 'DNAJB9', 'LRRN3', 'DOCK4', 'LOC401397', 'CTTNBP2', 'KCND2', 'FAM3C', 'PTPRZ1', 'NDUFA5', 'PCMTD1', 'RB1CC1', 'ATP6V1H', 'TCEA1', 'MRPL15', 'SOX17', 'RPS20', 'CHCHD7', 'IMPAD1', 'SDCBP', 'RAB2A', 'CHD7'] \n",
      " Number of shared genes: 44 \n",
      " Non shared Genes Left: ['KIAA1324', 'CELSR2', 'ATXN7L2', 'GSTM5', 'RBM15', 'LAMB1', 'RGS20', 'PENK', 'CLVS1', 'NKAIN3'] \n",
      " Number of non shared genes left: 10 \n",
      " Non shared Genes Right: ['PRMT6', 'STXBP3', 'GPSM2', 'TAF13', 'SLC16A1', 'MAGI3', 'SLC22A15', 'CHMP2B', 'ST18', 'CA8'] \n",
      " Number of non shared genes right: 10 \n",
      " Left genes: 54 \n",
      " Right genes: 54\n",
      "white matter : \n",
      " Shared Genes: ['CLCC1', 'WDR47', 'SARS', 'CELSR2', 'SORT1', 'PSMA5', 'GSTM3', 'AHCYL1', 'HBXIP', 'RAP1A', 'CAPZA1', 'RHOC', 'TRIM33', 'BCAS2', 'CSDE1', 'ATP1A1', 'MAN1A2', 'PHGDH', 'CADM2', 'BCAP29', 'DLD', 'PNPLA8', 'DNAJB9', 'DOCK4', 'LOC401397', 'CTTNBP2', 'FAM3C', 'PTPRZ1', 'NDUFA5', 'PCMTD1', 'RB1CC1', 'ATP6V1H', 'TCEA1', 'MRPL15', 'RPS20', 'CHCHD7', 'IMPAD1', 'SDCBP', 'RAB2A', 'CHD7'] \n",
      " Number of shared genes: 40 \n",
      " Non shared Genes Left: ['KIAA1324', 'ATXN7L2', 'GSTM5', 'RBM15', 'HIPK1', 'PRKAR2B', 'LAMB1', 'LRRN3', 'KCND2', 'RGS20', 'SOX17', 'PENK', 'CLVS1', 'NKAIN3'] \n",
      " Number of non shared genes left: 14 \n",
      " Non shared Genes Right: ['PRMT6', 'STXBP3', 'GPSM2', 'TAF13', 'PSRC1', 'GSTM4', 'SLC16A1', 'SLC22A15', 'ZNF717', 'CHMP2B', 'AASS', 'ST18', 'TMEM68', 'CYP7B1'] \n",
      " Number of non shared genes right: 14 \n",
      " Left genes: 54 \n",
      " Right genes: 54\n"
     ]
    }
   ],
   "source": [
    "cerebrumTopStructuresLeft=cerebrum_left_all.groupby(\"topStructure\").mean()#cerebrum_left\n",
    "del(cerebrumTopStructuresLeft[\"id\"])\n",
    "cerebrumTopStructuresLeft[\"topStructure\"]=cerebrumTopStructuresLeft.index\n",
    "cerebrumTopStructuresRight=cerebrum_right_all.groupby(\"topStructure\").mean()#cerebrum_right\n",
    "del(cerebrumTopStructuresRight[\"id\"])\n",
    "cerebrumTopStructuresRight[\"topStructure\"]=cerebrumTopStructuresRight.index\n",
    "# Shared and non shared data\n",
    "infoGenes=dict()\n",
    "\n",
    "#Striatum example\n",
    "for braintopS in cerebrumTopStructuresRight.index:\n",
    "    braintopSLeft=cerebrumTopStructuresLeft[cerebrumTopStructuresLeft[\"topStructure\"]==braintopS]#selecting the different region\n",
    "    tempCol=[col for col in braintopSLeft.columns if \"meanExpVal\" in col]\n",
    "    tempDf=striatumLeft[tempCol].T\n",
    "    tempDf.columns=[\"val\"]\n",
    "    filtserq3Left=tempDf[tempDf[\"val\"]>tempDf.quantile(.75).values[0]]\n",
    "    geneq3_braintopSLeft=[gene.split(\"meanExpVal\")[0] for gene in filtserq3Left.index.tolist()]\n",
    "    geneq3_braintopSLeft\n",
    "    filtserq3\n",
    "\n",
    "    braintopSRight=cerebrumTopStructuresRight[cerebrumTopStructuresRight[\"topStructure\"]==braintopS]#selecting the different region\n",
    "    tempCol=[col for col in braintopSRight.columns if \"meanExpVal\" in col]\n",
    "    tempDf=braintopSRight[tempCol].T\n",
    "    tempDf.columns=[\"val\"]\n",
    "    filtserq3Right=tempDf[tempDf[\"val\"]>tempDf.quantile(.75).values[0]]\n",
    "    geneq3_braintopSRight=[gene.split(\"meanExpVal\")[0] for gene in filtserq3Right.index.tolist()]\n",
    "    sharedGenes=[gene for gene in geneq3_braintopSLeft if gene in geneq3_braintopSRight]\n",
    "    nonSharedGenesL=[gene for gene in geneq3_braintopSLeft if gene not in geneq3_braintopSRight]\n",
    "    nonSharedGenesR=[gene for gene in geneq3_braintopSRight if gene not in geneq3_braintopSLeft]\n",
    "    for gene in sharedGenes:\n",
    "        if gene in infoGenes.keys():\n",
    "            infoGenes[gene][0]+=1\n",
    "        else:\n",
    "            infoGenes[gene]=[1,0,0]\n",
    "    for gene in nonSharedGenesL:\n",
    "        if gene in infoGenes.keys():\n",
    "            infoGenes[gene][1]+=1\n",
    "        else:\n",
    "            infoGenes[gene]=[0,1,0]\n",
    "    for gene in nonSharedGenesR:\n",
    "        if gene in infoGenes.keys():\n",
    "            infoGenes[gene][2]+=1\n",
    "        else:\n",
    "            infoGenes[gene]=[0,0,1]\n",
    "    print(braintopS,\": \\n Shared Genes:\",sharedGenes,\"\\n Number of shared genes:\",len(sharedGenes),\n",
    "          \"\\n Non shared Genes Left:\",nonSharedGenesL,\"\\n Number of non shared genes left:\",len(nonSharedGenesL),\n",
    "          \"\\n Non shared Genes Right:\",nonSharedGenesR,\"\\n Number of non shared genes right:\",len(nonSharedGenesR),\n",
    "          \"\\n Left genes:\",len(geneq3_striatumLeft), \"\\n Right genes:\",len(geneq3_striatumRight))\n",
    "rightLeftSharing=pd.DataFrame.from_dict(infoGenes,orient=\"index\",columns=[\"shared\",\"Non Shared Left\",\"Non Shared Right\"])\n",
    "rightLeftSharing.to_excel(\"rightLeftQuantile75.xls\")"
   ]
  },
  {
   "cell_type": "markdown",
   "metadata": {},
   "source": [
    "## Cerebellum"
   ]
  },
  {
   "cell_type": "code",
   "execution_count": 113,
   "metadata": {
    "scrolled": true
   },
   "outputs": [
    {
     "name": "stdout",
     "output_type": "stream",
     "text": [
      "cerebellar cortex : \n",
      " Shared Genes: ['CLCC1', 'SARS', 'PSMA5', 'ATXN7L2', 'GSTM3', 'AHCYL1', 'RBM15', 'HBXIP', 'RAP1A', 'CAPZA1', 'RHOC', 'HIPK1', 'TRIM33', 'BCAS2', 'CSDE1', 'ATP1A1', 'MAN1A2', 'PHGDH', 'CADM2', 'BCAP29', 'DLD', 'LAMB1', 'DNAJB9', 'LRRN3', 'LOC401397', 'KCND2', 'FAM3C', 'NDUFA5', 'PCMTD1', 'RB1CC1', 'ATP6V1H', 'TCEA1', 'MRPL15', 'RPS20', 'CHCHD7', 'IMPAD1', 'SDCBP', 'RAB2A', 'CHD7'] \n",
      " Number of shared genes: 39 \n",
      " Non shared Genes Left: ['WDR47', 'KIAA1324', 'CELSR2', 'SORT1', 'GSTM5', 'PRKAR2B', 'PNPLA8', 'DOCK4', 'CTTNBP2', 'PTPRZ1', 'RGS20', 'SOX17', 'PENK', 'CLVS1', 'NKAIN3'] \n",
      " Number of non shared genes left: 15 \n",
      " Non shared Genes Right: ['FAM102B', 'PRPF38B', 'DRAM2', 'PPM1J', 'ING3', 'CADPS2', 'ST18', 'LYPLA1', 'TGS1', 'LYN', 'FAM110B', 'NSMAF', 'CA8', 'GGH', 'BHLHE22'] \n",
      " Number of non shared genes right: 15 \n",
      " Left genes: 54 \n",
      " Right genes: 54\n",
      "cerebellar nuclei : \n",
      " Shared Genes: ['CLCC1', 'SARS', 'SORT1', 'PSMA5', 'GSTM3', 'AHCYL1', 'HBXIP', 'RAP1A', 'CAPZA1', 'RHOC', 'TRIM33', 'BCAS2', 'CSDE1', 'ATP1A1', 'MAN1A2', 'PHGDH', 'CADM2', 'PRKAR2B', 'BCAP29', 'DLD', 'PNPLA8', 'DNAJB9', 'LOC401397', 'CTTNBP2', 'KCND2', 'FAM3C', 'PTPRZ1', 'NDUFA5', 'PCMTD1', 'RB1CC1', 'ATP6V1H', 'TCEA1', 'MRPL15', 'SOX17', 'RPS20', 'CHCHD7', 'IMPAD1', 'SDCBP', 'RAB2A', 'CHD7', 'CLVS1'] \n",
      " Number of shared genes: 41 \n",
      " Non shared Genes Left: ['WDR47', 'KIAA1324', 'CELSR2', 'ATXN7L2', 'GSTM5', 'RBM15', 'HIPK1', 'LAMB1', 'LRRN3', 'DOCK4', 'RGS20', 'PENK', 'NKAIN3'] \n",
      " Number of non shared genes left: 13 \n",
      " Non shared Genes Right: ['PRMT6', 'VAV3', 'STXBP3', 'GPSM2', 'TAF13', 'PSRC1', 'SLC16A1', 'MAGI3', 'SLC22A15', 'CHMP2B', 'ST18', 'CA8', 'BHLHE22'] \n",
      " Number of non shared genes right: 13 \n",
      " Left genes: 54 \n",
      " Right genes: 54\n"
     ]
    }
   ],
   "source": [
    "cerebellumTopStructuresLeft=cerebellum_left.groupby(\"topStructure\").mean()\n",
    "del(cerebellumTopStructuresLeft[\"id\"])\n",
    "cerebellumTopStructuresLeft[\"topStructure\"]=cerebellumTopStructuresLeft.index\n",
    "cerebellumTopStructuresRight=cerebellum_right.groupby(\"topStructure\").mean()\n",
    "del(cerebellumTopStructuresRight[\"id\"])\n",
    "cerebellumTopStructuresRight[\"topStructure\"]=cerebellumTopStructuresRight.index\n",
    "#Striatum exampleç\n",
    "for braintopS in cerebellumTopStructuresRight.index:\n",
    "    braintopSLeft=cerebellumTopStructuresLeft[cerebellumTopStructuresLeft[\"topStructure\"]==braintopS]#selecting the different region\n",
    "    tempCol=[col for col in braintopSLeft.columns if \"meanExpVal\" in col]\n",
    "    tempDf=striatumLeft[tempCol].T\n",
    "    tempDf.columns=[\"val\"]\n",
    "    filtserq3Left=tempDf[tempDf[\"val\"]>tempDf.quantile(.75).values[0]]\n",
    "    geneq3_braintopSLeft=[gene.split(\"meanExpVal\")[0] for gene in filtserq3Left.index.tolist()]\n",
    "    geneq3_braintopSLeft\n",
    "    filtserq3\n",
    "\n",
    "    braintopSRight=cerebellumTopStructuresRight[cerebellumTopStructuresRight[\"topStructure\"]==braintopS]#selecting the different region\n",
    "    tempCol=[col for col in braintopSRight.columns if \"meanExpVal\" in col]\n",
    "    tempDf=braintopSRight[tempCol].T\n",
    "    tempDf.columns=[\"val\"]\n",
    "    filtserq3Right=tempDf[tempDf[\"val\"]>tempDf.quantile(.75).values[0]]\n",
    "    geneq3_braintopSRight=[gene.split(\"meanExpVal\")[0] for gene in filtserq3Right.index.tolist()]\n",
    "    sharedGenes=[gene for gene in geneq3_braintopSLeft if gene in geneq3_braintopSRight]\n",
    "    nonSharedGenesL=[gene for gene in geneq3_braintopSLeft if gene not in geneq3_braintopSRight]\n",
    "    nonSharedGenesR=[gene for gene in geneq3_braintopSRight if gene not in geneq3_braintopSLeft]\n",
    "    print(braintopS,\": \\n Shared Genes:\",sharedGenes,\"\\n Number of shared genes:\",len(sharedGenes),\n",
    "          \"\\n Non shared Genes Left:\",nonSharedGenesL,\"\\n Number of non shared genes left:\",len(nonSharedGenesL),\n",
    "          \"\\n Non shared Genes Right:\",nonSharedGenesR,\"\\n Number of non shared genes right:\",len(nonSharedGenesR),\n",
    "          \"\\n Left genes:\",len(geneq3_striatumLeft), \"\\n Right genes:\",len(geneq3_striatumRight))"
   ]
  },
  {
   "cell_type": "markdown",
   "metadata": {},
   "source": [
    "## PCA"
   ]
  },
  {
   "cell_type": "markdown",
   "metadata": {},
   "source": [
    "### Cerebrum"
   ]
  },
  {
   "cell_type": "code",
   "execution_count": 131,
   "metadata": {},
   "outputs": [],
   "source": [
    "#del(cerebrumTopStructuresRight[\"topStructure\"])\n",
    "# cerebrumTopStructuresLeft.columns\n",
    "features=cerebrumTopStructuresRight.columns\n",
    "# Separating out the features\n",
    "x = cerebrumTopStructuresRight.loc[:, features].values\n",
    "# Separating out the target\n",
    "y = cerebrumTopStructuresRight.loc[:,[gene+\"meanExpVal\" for gene in sharedGenes]].values\n",
    "# Standardizing the features\n",
    "\n",
    "x = StandardScaler().fit_transform(x)\n"
   ]
  },
  {
   "cell_type": "code",
   "execution_count": 132,
   "metadata": {},
   "outputs": [
    {
     "data": {
      "text/html": [
       "<div>\n",
       "<style scoped>\n",
       "    .dataframe tbody tr th:only-of-type {\n",
       "        vertical-align: middle;\n",
       "    }\n",
       "\n",
       "    .dataframe tbody tr th {\n",
       "        vertical-align: top;\n",
       "    }\n",
       "\n",
       "    .dataframe thead th {\n",
       "        text-align: right;\n",
       "    }\n",
       "</style>\n",
       "<table border=\"1\" class=\"dataframe\">\n",
       "  <thead>\n",
       "    <tr style=\"text-align: right;\">\n",
       "      <th></th>\n",
       "      <th>principal component 1</th>\n",
       "      <th>principal component 2</th>\n",
       "    </tr>\n",
       "  </thead>\n",
       "  <tbody>\n",
       "    <tr>\n",
       "      <th>0</th>\n",
       "      <td>-0.557762</td>\n",
       "      <td>-2.752718</td>\n",
       "    </tr>\n",
       "    <tr>\n",
       "      <th>1</th>\n",
       "      <td>5.455441</td>\n",
       "      <td>-0.071653</td>\n",
       "    </tr>\n",
       "    <tr>\n",
       "      <th>2</th>\n",
       "      <td>-5.935346</td>\n",
       "      <td>7.161334</td>\n",
       "    </tr>\n",
       "    <tr>\n",
       "      <th>3</th>\n",
       "      <td>-7.695482</td>\n",
       "      <td>-3.921629</td>\n",
       "    </tr>\n",
       "    <tr>\n",
       "      <th>4</th>\n",
       "      <td>2.728497</td>\n",
       "      <td>8.661339</td>\n",
       "    </tr>\n",
       "  </tbody>\n",
       "</table>\n",
       "</div>"
      ],
      "text/plain": [
       "   principal component 1  principal component 2\n",
       "0              -0.557762              -2.752718\n",
       "1               5.455441              -0.071653\n",
       "2              -5.935346               7.161334\n",
       "3              -7.695482              -3.921629\n",
       "4               2.728497               8.661339"
      ]
     },
     "execution_count": 132,
     "metadata": {},
     "output_type": "execute_result"
    }
   ],
   "source": [
    "pca = PCA(n_components=2)\n",
    "\n",
    "principalComponents = pca.fit_transform(x)\n",
    "\n",
    "principalDf = pd.DataFrame(data = principalComponents, columns = ['principal component 1', 'principal component 2'])\n",
    "\n",
    "finalDf = pd.concat([principalDf], axis = 1)\n",
    "\n",
    "finalDf.head()\n"
   ]
  },
  {
   "cell_type": "code",
   "execution_count": 134,
   "metadata": {
    "scrolled": true
   },
   "outputs": [
    {
     "data": {
      "application/vnd.plotly.v1+json": {
       "config": {
        "plotlyServerURL": "https://plot.ly"
       },
       "data": [
        {
         "hovertemplate": "color=amygdala<br>0=%{x}<br>1=%{y}<extra></extra>",
         "legendgroup": "amygdala",
         "marker": {
          "color": "#636efa",
          "symbol": "circle"
         },
         "mode": "markers",
         "name": "amygdala",
         "orientation": "v",
         "showlegend": true,
         "type": "scatter",
         "x": [
          -0.5577619469757904
         ],
         "xaxis": "x",
         "y": [
          -2.7527177458096155
         ],
         "yaxis": "y"
        },
        {
         "hovertemplate": "color=basal forebrain<br>0=%{x}<br>1=%{y}<extra></extra>",
         "legendgroup": "basal forebrain",
         "marker": {
          "color": "#EF553B",
          "symbol": "circle"
         },
         "mode": "markers",
         "name": "basal forebrain",
         "orientation": "v",
         "showlegend": true,
         "type": "scatter",
         "x": [
          5.455441152301085
         ],
         "xaxis": "x",
         "y": [
          -0.07165281377721965
         ],
         "yaxis": "y"
        },
        {
         "hovertemplate": "color=basal part of pons<br>0=%{x}<br>1=%{y}<extra></extra>",
         "legendgroup": "basal part of pons",
         "marker": {
          "color": "#00cc96",
          "symbol": "circle"
         },
         "mode": "markers",
         "name": "basal part of pons",
         "orientation": "v",
         "showlegend": true,
         "type": "scatter",
         "x": [
          -5.93534614161659
         ],
         "xaxis": "x",
         "y": [
          7.161333692547976
         ],
         "yaxis": "y"
        },
        {
         "hovertemplate": "color=cerebellar cortex<br>0=%{x}<br>1=%{y}<extra></extra>",
         "legendgroup": "cerebellar cortex",
         "marker": {
          "color": "#ab63fa",
          "symbol": "circle"
         },
         "mode": "markers",
         "name": "cerebellar cortex",
         "orientation": "v",
         "showlegend": true,
         "type": "scatter",
         "x": [
          -7.695481867132324
         ],
         "xaxis": "x",
         "y": [
          -3.921628531589604
         ],
         "yaxis": "y"
        },
        {
         "hovertemplate": "color=cerebellar nuclei<br>0=%{x}<br>1=%{y}<extra></extra>",
         "legendgroup": "cerebellar nuclei",
         "marker": {
          "color": "#FFA15A",
          "symbol": "circle"
         },
         "mode": "markers",
         "name": "cerebellar nuclei",
         "orientation": "v",
         "showlegend": true,
         "type": "scatter",
         "x": [
          2.7284965571446747
         ],
         "xaxis": "x",
         "y": [
          8.661338891904117
         ],
         "yaxis": "y"
        },
        {
         "hovertemplate": "color=cingulate gyrus<br>0=%{x}<br>1=%{y}<extra></extra>",
         "legendgroup": "cingulate gyrus",
         "marker": {
          "color": "#19d3f3",
          "symbol": "circle"
         },
         "mode": "markers",
         "name": "cingulate gyrus",
         "orientation": "v",
         "showlegend": true,
         "type": "scatter",
         "x": [
          -6.132598752335075
         ],
         "xaxis": "x",
         "y": [
          -5.221045637131658
         ],
         "yaxis": "y"
        },
        {
         "hovertemplate": "color=claustrum<br>0=%{x}<br>1=%{y}<extra></extra>",
         "legendgroup": "claustrum",
         "marker": {
          "color": "#FF6692",
          "symbol": "circle"
         },
         "mode": "markers",
         "name": "claustrum",
         "orientation": "v",
         "showlegend": true,
         "type": "scatter",
         "x": [
          1.3915229927611281
         ],
         "xaxis": "x",
         "y": [
          -7.149874302806931
         ],
         "yaxis": "y"
        },
        {
         "hovertemplate": "color=dorsal thalamus<br>0=%{x}<br>1=%{y}<extra></extra>",
         "legendgroup": "dorsal thalamus",
         "marker": {
          "color": "#B6E880",
          "symbol": "circle"
         },
         "mode": "markers",
         "name": "dorsal thalamus",
         "orientation": "v",
         "showlegend": true,
         "type": "scatter",
         "x": [
          -1.2431261205369484
         ],
         "xaxis": "x",
         "y": [
          4.43622007363855
         ],
         "yaxis": "y"
        },
        {
         "hovertemplate": "color=epithalamus<br>0=%{x}<br>1=%{y}<extra></extra>",
         "legendgroup": "epithalamus",
         "marker": {
          "color": "#FF97FF",
          "symbol": "circle"
         },
         "mode": "markers",
         "name": "epithalamus",
         "orientation": "v",
         "showlegend": true,
         "type": "scatter",
         "x": [
          -0.17264720091324198
         ],
         "xaxis": "x",
         "y": [
          12.991840942822341
         ],
         "yaxis": "y"
        },
        {
         "hovertemplate": "color=frontal lobe<br>0=%{x}<br>1=%{y}<extra></extra>",
         "legendgroup": "frontal lobe",
         "marker": {
          "color": "#FECB52",
          "symbol": "circle"
         },
         "mode": "markers",
         "name": "frontal lobe",
         "orientation": "v",
         "showlegend": true,
         "type": "scatter",
         "x": [
          -5.52993613323656
         ],
         "xaxis": "x",
         "y": [
          -6.269297287844599
         ],
         "yaxis": "y"
        },
        {
         "hovertemplate": "color=globus pallidus<br>0=%{x}<br>1=%{y}<extra></extra>",
         "legendgroup": "globus pallidus",
         "marker": {
          "color": "#636efa",
          "symbol": "circle"
         },
         "mode": "markers",
         "name": "globus pallidus",
         "orientation": "v",
         "showlegend": true,
         "type": "scatter",
         "x": [
          9.754079232403505
         ],
         "xaxis": "x",
         "y": [
          5.319540325273867
         ],
         "yaxis": "y"
        },
        {
         "hovertemplate": "color=hippocampal formation<br>0=%{x}<br>1=%{y}<extra></extra>",
         "legendgroup": "hippocampal formation",
         "marker": {
          "color": "#EF553B",
          "symbol": "circle"
         },
         "mode": "markers",
         "name": "hippocampal formation",
         "orientation": "v",
         "showlegend": true,
         "type": "scatter",
         "x": [
          -5.900433034837519
         ],
         "xaxis": "x",
         "y": [
          -4.160749455611255
         ],
         "yaxis": "y"
        },
        {
         "hovertemplate": "color=hypothalamus<br>0=%{x}<br>1=%{y}<extra></extra>",
         "legendgroup": "hypothalamus",
         "marker": {
          "color": "#00cc96",
          "symbol": "circle"
         },
         "mode": "markers",
         "name": "hypothalamus",
         "orientation": "v",
         "showlegend": true,
         "type": "scatter",
         "x": [
          -0.45849336952168285
         ],
         "xaxis": "x",
         "y": [
          5.39428764142671
         ],
         "yaxis": "y"
        },
        {
         "hovertemplate": "color=insula<br>0=%{x}<br>1=%{y}<extra></extra>",
         "legendgroup": "insula",
         "marker": {
          "color": "#ab63fa",
          "symbol": "circle"
         },
         "mode": "markers",
         "name": "insula",
         "orientation": "v",
         "showlegend": true,
         "type": "scatter",
         "x": [
          -6.8162614559341534
         ],
         "xaxis": "x",
         "y": [
          -6.852240747194449
         ],
         "yaxis": "y"
        },
        {
         "hovertemplate": "color=mesencephalon<br>0=%{x}<br>1=%{y}<extra></extra>",
         "legendgroup": "mesencephalon",
         "marker": {
          "color": "#FFA15A",
          "symbol": "circle"
         },
         "mode": "markers",
         "name": "mesencephalon",
         "orientation": "v",
         "showlegend": true,
         "type": "scatter",
         "x": [
          -1.6922488584010404
         ],
         "xaxis": "x",
         "y": [
          6.705601633042807
         ],
         "yaxis": "y"
        },
        {
         "hovertemplate": "color=myelencephalon<br>0=%{x}<br>1=%{y}<extra></extra>",
         "legendgroup": "myelencephalon",
         "marker": {
          "color": "#19d3f3",
          "symbol": "circle"
         },
         "mode": "markers",
         "name": "myelencephalon",
         "orientation": "v",
         "showlegend": true,
         "type": "scatter",
         "x": [
          1.4392393986651149
         ],
         "xaxis": "x",
         "y": [
          7.042300590120725
         ],
         "yaxis": "y"
        },
        {
         "hovertemplate": "color=occipital lobe<br>0=%{x}<br>1=%{y}<extra></extra>",
         "legendgroup": "occipital lobe",
         "marker": {
          "color": "#FF6692",
          "symbol": "circle"
         },
         "mode": "markers",
         "name": "occipital lobe",
         "orientation": "v",
         "showlegend": true,
         "type": "scatter",
         "x": [
          -6.062672595730811
         ],
         "xaxis": "x",
         "y": [
          -6.959479034458219
         ],
         "yaxis": "y"
        },
        {
         "hovertemplate": "color=parahippocampal gyrus<br>0=%{x}<br>1=%{y}<extra></extra>",
         "legendgroup": "parahippocampal gyrus",
         "marker": {
          "color": "#B6E880",
          "symbol": "circle"
         },
         "mode": "markers",
         "name": "parahippocampal gyrus",
         "orientation": "v",
         "showlegend": true,
         "type": "scatter",
         "x": [
          -5.129406429025373
         ],
         "xaxis": "x",
         "y": [
          -4.6910869933313695
         ],
         "yaxis": "y"
        },
        {
         "hovertemplate": "color=parietal lobe<br>0=%{x}<br>1=%{y}<extra></extra>",
         "legendgroup": "parietal lobe",
         "marker": {
          "color": "#FF97FF",
          "symbol": "circle"
         },
         "mode": "markers",
         "name": "parietal lobe",
         "orientation": "v",
         "showlegend": true,
         "type": "scatter",
         "x": [
          -5.550207077202449
         ],
         "xaxis": "x",
         "y": [
          -6.756405238394575
         ],
         "yaxis": "y"
        },
        {
         "hovertemplate": "color=pontine tegmentum<br>0=%{x}<br>1=%{y}<extra></extra>",
         "legendgroup": "pontine tegmentum",
         "marker": {
          "color": "#FECB52",
          "symbol": "circle"
         },
         "mode": "markers",
         "name": "pontine tegmentum",
         "orientation": "v",
         "showlegend": true,
         "type": "scatter",
         "x": [
          2.0277428374762607
         ],
         "xaxis": "x",
         "y": [
          5.8643645026380815
         ],
         "yaxis": "y"
        },
        {
         "hovertemplate": "color=striatum<br>0=%{x}<br>1=%{y}<extra></extra>",
         "legendgroup": "striatum",
         "marker": {
          "color": "#636efa",
          "symbol": "circle"
         },
         "mode": "markers",
         "name": "striatum",
         "orientation": "v",
         "showlegend": true,
         "type": "scatter",
         "x": [
          -0.07223924420551088
         ],
         "xaxis": "x",
         "y": [
          0.17805036763775517
         ],
         "yaxis": "y"
        },
        {
         "hovertemplate": "color=subthalamus<br>0=%{x}<br>1=%{y}<extra></extra>",
         "legendgroup": "subthalamus",
         "marker": {
          "color": "#EF553B",
          "symbol": "circle"
         },
         "mode": "markers",
         "name": "subthalamus",
         "orientation": "v",
         "showlegend": true,
         "type": "scatter",
         "x": [
          2.0591947361846206
         ],
         "xaxis": "x",
         "y": [
          6.429864261482546
         ],
         "yaxis": "y"
        },
        {
         "hovertemplate": "color=temporal lobe<br>0=%{x}<br>1=%{y}<extra></extra>",
         "legendgroup": "temporal lobe",
         "marker": {
          "color": "#00cc96",
          "symbol": "circle"
         },
         "mode": "markers",
         "name": "temporal lobe",
         "orientation": "v",
         "showlegend": true,
         "type": "scatter",
         "x": [
          -6.106860486711853
         ],
         "xaxis": "x",
         "y": [
          -6.4749910818956735
         ],
         "yaxis": "y"
        },
        {
         "hovertemplate": "color=ventral thalamus<br>0=%{x}<br>1=%{y}<extra></extra>",
         "legendgroup": "ventral thalamus",
         "marker": {
          "color": "#ab63fa",
          "symbol": "circle"
         },
         "mode": "markers",
         "name": "ventral thalamus",
         "orientation": "v",
         "showlegend": true,
         "type": "scatter",
         "x": [
          7.476199243386736
         ],
         "xaxis": "x",
         "y": [
          2.2951452574705313
         ],
         "yaxis": "y"
        },
        {
         "hovertemplate": "color=white matter<br>0=%{x}<br>1=%{y}<extra></extra>",
         "legendgroup": "white matter",
         "marker": {
          "color": "#FFA15A",
          "symbol": "circle"
         },
         "mode": "markers",
         "name": "white matter",
         "orientation": "v",
         "showlegend": true,
         "type": "scatter",
         "x": [
          32.7238045639938
         ],
         "xaxis": "x",
         "y": [
          -11.198719310160847
         ],
         "yaxis": "y"
        }
       ],
       "layout": {
        "legend": {
         "title": {
          "text": "color"
         },
         "tracegroupgap": 0
        },
        "margin": {
         "t": 60
        },
        "template": {
         "data": {
          "bar": [
           {
            "error_x": {
             "color": "#2a3f5f"
            },
            "error_y": {
             "color": "#2a3f5f"
            },
            "marker": {
             "line": {
              "color": "#E5ECF6",
              "width": 0.5
             }
            },
            "type": "bar"
           }
          ],
          "barpolar": [
           {
            "marker": {
             "line": {
              "color": "#E5ECF6",
              "width": 0.5
             }
            },
            "type": "barpolar"
           }
          ],
          "carpet": [
           {
            "aaxis": {
             "endlinecolor": "#2a3f5f",
             "gridcolor": "white",
             "linecolor": "white",
             "minorgridcolor": "white",
             "startlinecolor": "#2a3f5f"
            },
            "baxis": {
             "endlinecolor": "#2a3f5f",
             "gridcolor": "white",
             "linecolor": "white",
             "minorgridcolor": "white",
             "startlinecolor": "#2a3f5f"
            },
            "type": "carpet"
           }
          ],
          "choropleth": [
           {
            "colorbar": {
             "outlinewidth": 0,
             "ticks": ""
            },
            "type": "choropleth"
           }
          ],
          "contour": [
           {
            "colorbar": {
             "outlinewidth": 0,
             "ticks": ""
            },
            "colorscale": [
             [
              0,
              "#0d0887"
             ],
             [
              0.1111111111111111,
              "#46039f"
             ],
             [
              0.2222222222222222,
              "#7201a8"
             ],
             [
              0.3333333333333333,
              "#9c179e"
             ],
             [
              0.4444444444444444,
              "#bd3786"
             ],
             [
              0.5555555555555556,
              "#d8576b"
             ],
             [
              0.6666666666666666,
              "#ed7953"
             ],
             [
              0.7777777777777778,
              "#fb9f3a"
             ],
             [
              0.8888888888888888,
              "#fdca26"
             ],
             [
              1,
              "#f0f921"
             ]
            ],
            "type": "contour"
           }
          ],
          "contourcarpet": [
           {
            "colorbar": {
             "outlinewidth": 0,
             "ticks": ""
            },
            "type": "contourcarpet"
           }
          ],
          "heatmap": [
           {
            "colorbar": {
             "outlinewidth": 0,
             "ticks": ""
            },
            "colorscale": [
             [
              0,
              "#0d0887"
             ],
             [
              0.1111111111111111,
              "#46039f"
             ],
             [
              0.2222222222222222,
              "#7201a8"
             ],
             [
              0.3333333333333333,
              "#9c179e"
             ],
             [
              0.4444444444444444,
              "#bd3786"
             ],
             [
              0.5555555555555556,
              "#d8576b"
             ],
             [
              0.6666666666666666,
              "#ed7953"
             ],
             [
              0.7777777777777778,
              "#fb9f3a"
             ],
             [
              0.8888888888888888,
              "#fdca26"
             ],
             [
              1,
              "#f0f921"
             ]
            ],
            "type": "heatmap"
           }
          ],
          "heatmapgl": [
           {
            "colorbar": {
             "outlinewidth": 0,
             "ticks": ""
            },
            "colorscale": [
             [
              0,
              "#0d0887"
             ],
             [
              0.1111111111111111,
              "#46039f"
             ],
             [
              0.2222222222222222,
              "#7201a8"
             ],
             [
              0.3333333333333333,
              "#9c179e"
             ],
             [
              0.4444444444444444,
              "#bd3786"
             ],
             [
              0.5555555555555556,
              "#d8576b"
             ],
             [
              0.6666666666666666,
              "#ed7953"
             ],
             [
              0.7777777777777778,
              "#fb9f3a"
             ],
             [
              0.8888888888888888,
              "#fdca26"
             ],
             [
              1,
              "#f0f921"
             ]
            ],
            "type": "heatmapgl"
           }
          ],
          "histogram": [
           {
            "marker": {
             "colorbar": {
              "outlinewidth": 0,
              "ticks": ""
             }
            },
            "type": "histogram"
           }
          ],
          "histogram2d": [
           {
            "colorbar": {
             "outlinewidth": 0,
             "ticks": ""
            },
            "colorscale": [
             [
              0,
              "#0d0887"
             ],
             [
              0.1111111111111111,
              "#46039f"
             ],
             [
              0.2222222222222222,
              "#7201a8"
             ],
             [
              0.3333333333333333,
              "#9c179e"
             ],
             [
              0.4444444444444444,
              "#bd3786"
             ],
             [
              0.5555555555555556,
              "#d8576b"
             ],
             [
              0.6666666666666666,
              "#ed7953"
             ],
             [
              0.7777777777777778,
              "#fb9f3a"
             ],
             [
              0.8888888888888888,
              "#fdca26"
             ],
             [
              1,
              "#f0f921"
             ]
            ],
            "type": "histogram2d"
           }
          ],
          "histogram2dcontour": [
           {
            "colorbar": {
             "outlinewidth": 0,
             "ticks": ""
            },
            "colorscale": [
             [
              0,
              "#0d0887"
             ],
             [
              0.1111111111111111,
              "#46039f"
             ],
             [
              0.2222222222222222,
              "#7201a8"
             ],
             [
              0.3333333333333333,
              "#9c179e"
             ],
             [
              0.4444444444444444,
              "#bd3786"
             ],
             [
              0.5555555555555556,
              "#d8576b"
             ],
             [
              0.6666666666666666,
              "#ed7953"
             ],
             [
              0.7777777777777778,
              "#fb9f3a"
             ],
             [
              0.8888888888888888,
              "#fdca26"
             ],
             [
              1,
              "#f0f921"
             ]
            ],
            "type": "histogram2dcontour"
           }
          ],
          "mesh3d": [
           {
            "colorbar": {
             "outlinewidth": 0,
             "ticks": ""
            },
            "type": "mesh3d"
           }
          ],
          "parcoords": [
           {
            "line": {
             "colorbar": {
              "outlinewidth": 0,
              "ticks": ""
             }
            },
            "type": "parcoords"
           }
          ],
          "pie": [
           {
            "automargin": true,
            "type": "pie"
           }
          ],
          "scatter": [
           {
            "marker": {
             "colorbar": {
              "outlinewidth": 0,
              "ticks": ""
             }
            },
            "type": "scatter"
           }
          ],
          "scatter3d": [
           {
            "line": {
             "colorbar": {
              "outlinewidth": 0,
              "ticks": ""
             }
            },
            "marker": {
             "colorbar": {
              "outlinewidth": 0,
              "ticks": ""
             }
            },
            "type": "scatter3d"
           }
          ],
          "scattercarpet": [
           {
            "marker": {
             "colorbar": {
              "outlinewidth": 0,
              "ticks": ""
             }
            },
            "type": "scattercarpet"
           }
          ],
          "scattergeo": [
           {
            "marker": {
             "colorbar": {
              "outlinewidth": 0,
              "ticks": ""
             }
            },
            "type": "scattergeo"
           }
          ],
          "scattergl": [
           {
            "marker": {
             "colorbar": {
              "outlinewidth": 0,
              "ticks": ""
             }
            },
            "type": "scattergl"
           }
          ],
          "scattermapbox": [
           {
            "marker": {
             "colorbar": {
              "outlinewidth": 0,
              "ticks": ""
             }
            },
            "type": "scattermapbox"
           }
          ],
          "scatterpolar": [
           {
            "marker": {
             "colorbar": {
              "outlinewidth": 0,
              "ticks": ""
             }
            },
            "type": "scatterpolar"
           }
          ],
          "scatterpolargl": [
           {
            "marker": {
             "colorbar": {
              "outlinewidth": 0,
              "ticks": ""
             }
            },
            "type": "scatterpolargl"
           }
          ],
          "scatterternary": [
           {
            "marker": {
             "colorbar": {
              "outlinewidth": 0,
              "ticks": ""
             }
            },
            "type": "scatterternary"
           }
          ],
          "surface": [
           {
            "colorbar": {
             "outlinewidth": 0,
             "ticks": ""
            },
            "colorscale": [
             [
              0,
              "#0d0887"
             ],
             [
              0.1111111111111111,
              "#46039f"
             ],
             [
              0.2222222222222222,
              "#7201a8"
             ],
             [
              0.3333333333333333,
              "#9c179e"
             ],
             [
              0.4444444444444444,
              "#bd3786"
             ],
             [
              0.5555555555555556,
              "#d8576b"
             ],
             [
              0.6666666666666666,
              "#ed7953"
             ],
             [
              0.7777777777777778,
              "#fb9f3a"
             ],
             [
              0.8888888888888888,
              "#fdca26"
             ],
             [
              1,
              "#f0f921"
             ]
            ],
            "type": "surface"
           }
          ],
          "table": [
           {
            "cells": {
             "fill": {
              "color": "#EBF0F8"
             },
             "line": {
              "color": "white"
             }
            },
            "header": {
             "fill": {
              "color": "#C8D4E3"
             },
             "line": {
              "color": "white"
             }
            },
            "type": "table"
           }
          ]
         },
         "layout": {
          "annotationdefaults": {
           "arrowcolor": "#2a3f5f",
           "arrowhead": 0,
           "arrowwidth": 1
          },
          "coloraxis": {
           "colorbar": {
            "outlinewidth": 0,
            "ticks": ""
           }
          },
          "colorscale": {
           "diverging": [
            [
             0,
             "#8e0152"
            ],
            [
             0.1,
             "#c51b7d"
            ],
            [
             0.2,
             "#de77ae"
            ],
            [
             0.3,
             "#f1b6da"
            ],
            [
             0.4,
             "#fde0ef"
            ],
            [
             0.5,
             "#f7f7f7"
            ],
            [
             0.6,
             "#e6f5d0"
            ],
            [
             0.7,
             "#b8e186"
            ],
            [
             0.8,
             "#7fbc41"
            ],
            [
             0.9,
             "#4d9221"
            ],
            [
             1,
             "#276419"
            ]
           ],
           "sequential": [
            [
             0,
             "#0d0887"
            ],
            [
             0.1111111111111111,
             "#46039f"
            ],
            [
             0.2222222222222222,
             "#7201a8"
            ],
            [
             0.3333333333333333,
             "#9c179e"
            ],
            [
             0.4444444444444444,
             "#bd3786"
            ],
            [
             0.5555555555555556,
             "#d8576b"
            ],
            [
             0.6666666666666666,
             "#ed7953"
            ],
            [
             0.7777777777777778,
             "#fb9f3a"
            ],
            [
             0.8888888888888888,
             "#fdca26"
            ],
            [
             1,
             "#f0f921"
            ]
           ],
           "sequentialminus": [
            [
             0,
             "#0d0887"
            ],
            [
             0.1111111111111111,
             "#46039f"
            ],
            [
             0.2222222222222222,
             "#7201a8"
            ],
            [
             0.3333333333333333,
             "#9c179e"
            ],
            [
             0.4444444444444444,
             "#bd3786"
            ],
            [
             0.5555555555555556,
             "#d8576b"
            ],
            [
             0.6666666666666666,
             "#ed7953"
            ],
            [
             0.7777777777777778,
             "#fb9f3a"
            ],
            [
             0.8888888888888888,
             "#fdca26"
            ],
            [
             1,
             "#f0f921"
            ]
           ]
          },
          "colorway": [
           "#636efa",
           "#EF553B",
           "#00cc96",
           "#ab63fa",
           "#FFA15A",
           "#19d3f3",
           "#FF6692",
           "#B6E880",
           "#FF97FF",
           "#FECB52"
          ],
          "font": {
           "color": "#2a3f5f"
          },
          "geo": {
           "bgcolor": "white",
           "lakecolor": "white",
           "landcolor": "#E5ECF6",
           "showlakes": true,
           "showland": true,
           "subunitcolor": "white"
          },
          "hoverlabel": {
           "align": "left"
          },
          "hovermode": "closest",
          "mapbox": {
           "style": "light"
          },
          "paper_bgcolor": "white",
          "plot_bgcolor": "#E5ECF6",
          "polar": {
           "angularaxis": {
            "gridcolor": "white",
            "linecolor": "white",
            "ticks": ""
           },
           "bgcolor": "#E5ECF6",
           "radialaxis": {
            "gridcolor": "white",
            "linecolor": "white",
            "ticks": ""
           }
          },
          "scene": {
           "xaxis": {
            "backgroundcolor": "#E5ECF6",
            "gridcolor": "white",
            "gridwidth": 2,
            "linecolor": "white",
            "showbackground": true,
            "ticks": "",
            "zerolinecolor": "white"
           },
           "yaxis": {
            "backgroundcolor": "#E5ECF6",
            "gridcolor": "white",
            "gridwidth": 2,
            "linecolor": "white",
            "showbackground": true,
            "ticks": "",
            "zerolinecolor": "white"
           },
           "zaxis": {
            "backgroundcolor": "#E5ECF6",
            "gridcolor": "white",
            "gridwidth": 2,
            "linecolor": "white",
            "showbackground": true,
            "ticks": "",
            "zerolinecolor": "white"
           }
          },
          "shapedefaults": {
           "line": {
            "color": "#2a3f5f"
           }
          },
          "ternary": {
           "aaxis": {
            "gridcolor": "white",
            "linecolor": "white",
            "ticks": ""
           },
           "baxis": {
            "gridcolor": "white",
            "linecolor": "white",
            "ticks": ""
           },
           "bgcolor": "#E5ECF6",
           "caxis": {
            "gridcolor": "white",
            "linecolor": "white",
            "ticks": ""
           }
          },
          "title": {
           "x": 0.05
          },
          "xaxis": {
           "automargin": true,
           "gridcolor": "white",
           "linecolor": "white",
           "ticks": "",
           "title": {
            "standoff": 15
           },
           "zerolinecolor": "white",
           "zerolinewidth": 2
          },
          "yaxis": {
           "automargin": true,
           "gridcolor": "white",
           "linecolor": "white",
           "ticks": "",
           "title": {
            "standoff": 15
           },
           "zerolinecolor": "white",
           "zerolinewidth": 2
          }
         }
        },
        "xaxis": {
         "anchor": "y",
         "domain": [
          0,
          1
         ],
         "title": {
          "text": "0"
         }
        },
        "yaxis": {
         "anchor": "x",
         "domain": [
          0,
          1
         ],
         "title": {
          "text": "1"
         }
        }
       }
      },
      "text/html": [
       "<div>                            <div id=\"08232926-6717-4066-917a-7aea140a8896\" class=\"plotly-graph-div\" style=\"height:525px; width:100%;\"></div>            <script type=\"text/javascript\">                require([\"plotly\"], function(Plotly) {                    window.PLOTLYENV=window.PLOTLYENV || {};                                    if (document.getElementById(\"08232926-6717-4066-917a-7aea140a8896\")) {                    Plotly.newPlot(                        \"08232926-6717-4066-917a-7aea140a8896\",                        [{\"hovertemplate\": \"color=amygdala<br>0=%{x}<br>1=%{y}<extra></extra>\", \"legendgroup\": \"amygdala\", \"marker\": {\"color\": \"#636efa\", \"symbol\": \"circle\"}, \"mode\": \"markers\", \"name\": \"amygdala\", \"orientation\": \"v\", \"showlegend\": true, \"type\": \"scatter\", \"x\": [-0.5577619469757904], \"xaxis\": \"x\", \"y\": [-2.7527177458096155], \"yaxis\": \"y\"}, {\"hovertemplate\": \"color=basal forebrain<br>0=%{x}<br>1=%{y}<extra></extra>\", \"legendgroup\": \"basal forebrain\", \"marker\": {\"color\": \"#EF553B\", \"symbol\": \"circle\"}, \"mode\": \"markers\", \"name\": \"basal forebrain\", \"orientation\": \"v\", \"showlegend\": true, \"type\": \"scatter\", \"x\": [5.455441152301085], \"xaxis\": \"x\", \"y\": [-0.07165281377721965], \"yaxis\": \"y\"}, {\"hovertemplate\": \"color=basal part of pons<br>0=%{x}<br>1=%{y}<extra></extra>\", \"legendgroup\": \"basal part of pons\", \"marker\": {\"color\": \"#00cc96\", \"symbol\": \"circle\"}, \"mode\": \"markers\", \"name\": \"basal part of pons\", \"orientation\": \"v\", \"showlegend\": true, \"type\": \"scatter\", \"x\": [-5.93534614161659], \"xaxis\": \"x\", \"y\": [7.161333692547976], \"yaxis\": \"y\"}, {\"hovertemplate\": \"color=cerebellar cortex<br>0=%{x}<br>1=%{y}<extra></extra>\", \"legendgroup\": \"cerebellar cortex\", \"marker\": {\"color\": \"#ab63fa\", \"symbol\": \"circle\"}, \"mode\": \"markers\", \"name\": \"cerebellar cortex\", \"orientation\": \"v\", \"showlegend\": true, \"type\": \"scatter\", \"x\": [-7.695481867132324], \"xaxis\": \"x\", \"y\": [-3.921628531589604], \"yaxis\": \"y\"}, {\"hovertemplate\": \"color=cerebellar nuclei<br>0=%{x}<br>1=%{y}<extra></extra>\", \"legendgroup\": \"cerebellar nuclei\", \"marker\": {\"color\": \"#FFA15A\", \"symbol\": \"circle\"}, \"mode\": \"markers\", \"name\": \"cerebellar nuclei\", \"orientation\": \"v\", \"showlegend\": true, \"type\": \"scatter\", \"x\": [2.7284965571446747], \"xaxis\": \"x\", \"y\": [8.661338891904117], \"yaxis\": \"y\"}, {\"hovertemplate\": \"color=cingulate gyrus<br>0=%{x}<br>1=%{y}<extra></extra>\", \"legendgroup\": \"cingulate gyrus\", \"marker\": {\"color\": \"#19d3f3\", \"symbol\": \"circle\"}, \"mode\": \"markers\", \"name\": \"cingulate gyrus\", \"orientation\": \"v\", \"showlegend\": true, \"type\": \"scatter\", \"x\": [-6.132598752335075], \"xaxis\": \"x\", \"y\": [-5.221045637131658], \"yaxis\": \"y\"}, {\"hovertemplate\": \"color=claustrum<br>0=%{x}<br>1=%{y}<extra></extra>\", \"legendgroup\": \"claustrum\", \"marker\": {\"color\": \"#FF6692\", \"symbol\": \"circle\"}, \"mode\": \"markers\", \"name\": \"claustrum\", \"orientation\": \"v\", \"showlegend\": true, \"type\": \"scatter\", \"x\": [1.3915229927611281], \"xaxis\": \"x\", \"y\": [-7.149874302806931], \"yaxis\": \"y\"}, {\"hovertemplate\": \"color=dorsal thalamus<br>0=%{x}<br>1=%{y}<extra></extra>\", \"legendgroup\": \"dorsal thalamus\", \"marker\": {\"color\": \"#B6E880\", \"symbol\": \"circle\"}, \"mode\": \"markers\", \"name\": \"dorsal thalamus\", \"orientation\": \"v\", \"showlegend\": true, \"type\": \"scatter\", \"x\": [-1.2431261205369484], \"xaxis\": \"x\", \"y\": [4.43622007363855], \"yaxis\": \"y\"}, {\"hovertemplate\": \"color=epithalamus<br>0=%{x}<br>1=%{y}<extra></extra>\", \"legendgroup\": \"epithalamus\", \"marker\": {\"color\": \"#FF97FF\", \"symbol\": \"circle\"}, \"mode\": \"markers\", \"name\": \"epithalamus\", \"orientation\": \"v\", \"showlegend\": true, \"type\": \"scatter\", \"x\": [-0.17264720091324198], \"xaxis\": \"x\", \"y\": [12.991840942822341], \"yaxis\": \"y\"}, {\"hovertemplate\": \"color=frontal lobe<br>0=%{x}<br>1=%{y}<extra></extra>\", \"legendgroup\": \"frontal lobe\", \"marker\": {\"color\": \"#FECB52\", \"symbol\": \"circle\"}, \"mode\": \"markers\", \"name\": \"frontal lobe\", \"orientation\": \"v\", \"showlegend\": true, \"type\": \"scatter\", \"x\": [-5.52993613323656], \"xaxis\": \"x\", \"y\": [-6.269297287844599], \"yaxis\": \"y\"}, {\"hovertemplate\": \"color=globus pallidus<br>0=%{x}<br>1=%{y}<extra></extra>\", \"legendgroup\": \"globus pallidus\", \"marker\": {\"color\": \"#636efa\", \"symbol\": \"circle\"}, \"mode\": \"markers\", \"name\": \"globus pallidus\", \"orientation\": \"v\", \"showlegend\": true, \"type\": \"scatter\", \"x\": [9.754079232403505], \"xaxis\": \"x\", \"y\": [5.319540325273867], \"yaxis\": \"y\"}, {\"hovertemplate\": \"color=hippocampal formation<br>0=%{x}<br>1=%{y}<extra></extra>\", \"legendgroup\": \"hippocampal formation\", \"marker\": {\"color\": \"#EF553B\", \"symbol\": \"circle\"}, \"mode\": \"markers\", \"name\": \"hippocampal formation\", \"orientation\": \"v\", \"showlegend\": true, \"type\": \"scatter\", \"x\": [-5.900433034837519], \"xaxis\": \"x\", \"y\": [-4.160749455611255], \"yaxis\": \"y\"}, {\"hovertemplate\": \"color=hypothalamus<br>0=%{x}<br>1=%{y}<extra></extra>\", \"legendgroup\": \"hypothalamus\", \"marker\": {\"color\": \"#00cc96\", \"symbol\": \"circle\"}, \"mode\": \"markers\", \"name\": \"hypothalamus\", \"orientation\": \"v\", \"showlegend\": true, \"type\": \"scatter\", \"x\": [-0.45849336952168285], \"xaxis\": \"x\", \"y\": [5.39428764142671], \"yaxis\": \"y\"}, {\"hovertemplate\": \"color=insula<br>0=%{x}<br>1=%{y}<extra></extra>\", \"legendgroup\": \"insula\", \"marker\": {\"color\": \"#ab63fa\", \"symbol\": \"circle\"}, \"mode\": \"markers\", \"name\": \"insula\", \"orientation\": \"v\", \"showlegend\": true, \"type\": \"scatter\", \"x\": [-6.8162614559341534], \"xaxis\": \"x\", \"y\": [-6.852240747194449], \"yaxis\": \"y\"}, {\"hovertemplate\": \"color=mesencephalon<br>0=%{x}<br>1=%{y}<extra></extra>\", \"legendgroup\": \"mesencephalon\", \"marker\": {\"color\": \"#FFA15A\", \"symbol\": \"circle\"}, \"mode\": \"markers\", \"name\": \"mesencephalon\", \"orientation\": \"v\", \"showlegend\": true, \"type\": \"scatter\", \"x\": [-1.6922488584010404], \"xaxis\": \"x\", \"y\": [6.705601633042807], \"yaxis\": \"y\"}, {\"hovertemplate\": \"color=myelencephalon<br>0=%{x}<br>1=%{y}<extra></extra>\", \"legendgroup\": \"myelencephalon\", \"marker\": {\"color\": \"#19d3f3\", \"symbol\": \"circle\"}, \"mode\": \"markers\", \"name\": \"myelencephalon\", \"orientation\": \"v\", \"showlegend\": true, \"type\": \"scatter\", \"x\": [1.4392393986651149], \"xaxis\": \"x\", \"y\": [7.042300590120725], \"yaxis\": \"y\"}, {\"hovertemplate\": \"color=occipital lobe<br>0=%{x}<br>1=%{y}<extra></extra>\", \"legendgroup\": \"occipital lobe\", \"marker\": {\"color\": \"#FF6692\", \"symbol\": \"circle\"}, \"mode\": \"markers\", \"name\": \"occipital lobe\", \"orientation\": \"v\", \"showlegend\": true, \"type\": \"scatter\", \"x\": [-6.062672595730811], \"xaxis\": \"x\", \"y\": [-6.959479034458219], \"yaxis\": \"y\"}, {\"hovertemplate\": \"color=parahippocampal gyrus<br>0=%{x}<br>1=%{y}<extra></extra>\", \"legendgroup\": \"parahippocampal gyrus\", \"marker\": {\"color\": \"#B6E880\", \"symbol\": \"circle\"}, \"mode\": \"markers\", \"name\": \"parahippocampal gyrus\", \"orientation\": \"v\", \"showlegend\": true, \"type\": \"scatter\", \"x\": [-5.129406429025373], \"xaxis\": \"x\", \"y\": [-4.6910869933313695], \"yaxis\": \"y\"}, {\"hovertemplate\": \"color=parietal lobe<br>0=%{x}<br>1=%{y}<extra></extra>\", \"legendgroup\": \"parietal lobe\", \"marker\": {\"color\": \"#FF97FF\", \"symbol\": \"circle\"}, \"mode\": \"markers\", \"name\": \"parietal lobe\", \"orientation\": \"v\", \"showlegend\": true, \"type\": \"scatter\", \"x\": [-5.550207077202449], \"xaxis\": \"x\", \"y\": [-6.756405238394575], \"yaxis\": \"y\"}, {\"hovertemplate\": \"color=pontine tegmentum<br>0=%{x}<br>1=%{y}<extra></extra>\", \"legendgroup\": \"pontine tegmentum\", \"marker\": {\"color\": \"#FECB52\", \"symbol\": \"circle\"}, \"mode\": \"markers\", \"name\": \"pontine tegmentum\", \"orientation\": \"v\", \"showlegend\": true, \"type\": \"scatter\", \"x\": [2.0277428374762607], \"xaxis\": \"x\", \"y\": [5.8643645026380815], \"yaxis\": \"y\"}, {\"hovertemplate\": \"color=striatum<br>0=%{x}<br>1=%{y}<extra></extra>\", \"legendgroup\": \"striatum\", \"marker\": {\"color\": \"#636efa\", \"symbol\": \"circle\"}, \"mode\": \"markers\", \"name\": \"striatum\", \"orientation\": \"v\", \"showlegend\": true, \"type\": \"scatter\", \"x\": [-0.07223924420551088], \"xaxis\": \"x\", \"y\": [0.17805036763775517], \"yaxis\": \"y\"}, {\"hovertemplate\": \"color=subthalamus<br>0=%{x}<br>1=%{y}<extra></extra>\", \"legendgroup\": \"subthalamus\", \"marker\": {\"color\": \"#EF553B\", \"symbol\": \"circle\"}, \"mode\": \"markers\", \"name\": \"subthalamus\", \"orientation\": \"v\", \"showlegend\": true, \"type\": \"scatter\", \"x\": [2.0591947361846206], \"xaxis\": \"x\", \"y\": [6.429864261482546], \"yaxis\": \"y\"}, {\"hovertemplate\": \"color=temporal lobe<br>0=%{x}<br>1=%{y}<extra></extra>\", \"legendgroup\": \"temporal lobe\", \"marker\": {\"color\": \"#00cc96\", \"symbol\": \"circle\"}, \"mode\": \"markers\", \"name\": \"temporal lobe\", \"orientation\": \"v\", \"showlegend\": true, \"type\": \"scatter\", \"x\": [-6.106860486711853], \"xaxis\": \"x\", \"y\": [-6.4749910818956735], \"yaxis\": \"y\"}, {\"hovertemplate\": \"color=ventral thalamus<br>0=%{x}<br>1=%{y}<extra></extra>\", \"legendgroup\": \"ventral thalamus\", \"marker\": {\"color\": \"#ab63fa\", \"symbol\": \"circle\"}, \"mode\": \"markers\", \"name\": \"ventral thalamus\", \"orientation\": \"v\", \"showlegend\": true, \"type\": \"scatter\", \"x\": [7.476199243386736], \"xaxis\": \"x\", \"y\": [2.2951452574705313], \"yaxis\": \"y\"}, {\"hovertemplate\": \"color=white matter<br>0=%{x}<br>1=%{y}<extra></extra>\", \"legendgroup\": \"white matter\", \"marker\": {\"color\": \"#FFA15A\", \"symbol\": \"circle\"}, \"mode\": \"markers\", \"name\": \"white matter\", \"orientation\": \"v\", \"showlegend\": true, \"type\": \"scatter\", \"x\": [32.7238045639938], \"xaxis\": \"x\", \"y\": [-11.198719310160847], \"yaxis\": \"y\"}],                        {\"legend\": {\"title\": {\"text\": \"color\"}, \"tracegroupgap\": 0}, \"margin\": {\"t\": 60}, \"template\": {\"data\": {\"bar\": [{\"error_x\": {\"color\": \"#2a3f5f\"}, \"error_y\": {\"color\": \"#2a3f5f\"}, \"marker\": {\"line\": {\"color\": \"#E5ECF6\", \"width\": 0.5}}, \"type\": \"bar\"}], \"barpolar\": [{\"marker\": {\"line\": {\"color\": \"#E5ECF6\", \"width\": 0.5}}, \"type\": \"barpolar\"}], \"carpet\": [{\"aaxis\": {\"endlinecolor\": \"#2a3f5f\", \"gridcolor\": \"white\", \"linecolor\": \"white\", \"minorgridcolor\": \"white\", \"startlinecolor\": \"#2a3f5f\"}, \"baxis\": {\"endlinecolor\": \"#2a3f5f\", \"gridcolor\": \"white\", \"linecolor\": \"white\", \"minorgridcolor\": \"white\", \"startlinecolor\": \"#2a3f5f\"}, \"type\": \"carpet\"}], \"choropleth\": [{\"colorbar\": {\"outlinewidth\": 0, \"ticks\": \"\"}, \"type\": \"choropleth\"}], \"contour\": [{\"colorbar\": {\"outlinewidth\": 0, \"ticks\": \"\"}, \"colorscale\": [[0.0, \"#0d0887\"], [0.1111111111111111, \"#46039f\"], [0.2222222222222222, \"#7201a8\"], [0.3333333333333333, \"#9c179e\"], [0.4444444444444444, \"#bd3786\"], [0.5555555555555556, \"#d8576b\"], [0.6666666666666666, \"#ed7953\"], [0.7777777777777778, \"#fb9f3a\"], [0.8888888888888888, \"#fdca26\"], [1.0, \"#f0f921\"]], \"type\": \"contour\"}], \"contourcarpet\": [{\"colorbar\": {\"outlinewidth\": 0, \"ticks\": \"\"}, \"type\": \"contourcarpet\"}], \"heatmap\": [{\"colorbar\": {\"outlinewidth\": 0, \"ticks\": \"\"}, \"colorscale\": [[0.0, \"#0d0887\"], [0.1111111111111111, \"#46039f\"], [0.2222222222222222, \"#7201a8\"], [0.3333333333333333, \"#9c179e\"], [0.4444444444444444, \"#bd3786\"], [0.5555555555555556, \"#d8576b\"], [0.6666666666666666, \"#ed7953\"], [0.7777777777777778, \"#fb9f3a\"], [0.8888888888888888, \"#fdca26\"], [1.0, \"#f0f921\"]], \"type\": \"heatmap\"}], \"heatmapgl\": [{\"colorbar\": {\"outlinewidth\": 0, \"ticks\": \"\"}, \"colorscale\": [[0.0, \"#0d0887\"], [0.1111111111111111, \"#46039f\"], [0.2222222222222222, \"#7201a8\"], [0.3333333333333333, \"#9c179e\"], [0.4444444444444444, \"#bd3786\"], [0.5555555555555556, \"#d8576b\"], [0.6666666666666666, \"#ed7953\"], [0.7777777777777778, \"#fb9f3a\"], [0.8888888888888888, \"#fdca26\"], [1.0, \"#f0f921\"]], \"type\": \"heatmapgl\"}], \"histogram\": [{\"marker\": {\"colorbar\": {\"outlinewidth\": 0, \"ticks\": \"\"}}, \"type\": \"histogram\"}], \"histogram2d\": [{\"colorbar\": {\"outlinewidth\": 0, \"ticks\": \"\"}, \"colorscale\": [[0.0, \"#0d0887\"], [0.1111111111111111, \"#46039f\"], [0.2222222222222222, \"#7201a8\"], [0.3333333333333333, \"#9c179e\"], [0.4444444444444444, \"#bd3786\"], [0.5555555555555556, \"#d8576b\"], [0.6666666666666666, \"#ed7953\"], [0.7777777777777778, \"#fb9f3a\"], [0.8888888888888888, \"#fdca26\"], [1.0, \"#f0f921\"]], \"type\": \"histogram2d\"}], \"histogram2dcontour\": [{\"colorbar\": {\"outlinewidth\": 0, \"ticks\": \"\"}, \"colorscale\": [[0.0, \"#0d0887\"], [0.1111111111111111, \"#46039f\"], [0.2222222222222222, \"#7201a8\"], [0.3333333333333333, \"#9c179e\"], [0.4444444444444444, \"#bd3786\"], [0.5555555555555556, \"#d8576b\"], [0.6666666666666666, \"#ed7953\"], [0.7777777777777778, \"#fb9f3a\"], [0.8888888888888888, \"#fdca26\"], [1.0, \"#f0f921\"]], \"type\": \"histogram2dcontour\"}], \"mesh3d\": [{\"colorbar\": {\"outlinewidth\": 0, \"ticks\": \"\"}, \"type\": \"mesh3d\"}], \"parcoords\": [{\"line\": {\"colorbar\": {\"outlinewidth\": 0, \"ticks\": \"\"}}, \"type\": \"parcoords\"}], \"pie\": [{\"automargin\": true, \"type\": \"pie\"}], \"scatter\": [{\"marker\": {\"colorbar\": {\"outlinewidth\": 0, \"ticks\": \"\"}}, \"type\": \"scatter\"}], \"scatter3d\": [{\"line\": {\"colorbar\": {\"outlinewidth\": 0, \"ticks\": \"\"}}, \"marker\": {\"colorbar\": {\"outlinewidth\": 0, \"ticks\": \"\"}}, \"type\": \"scatter3d\"}], \"scattercarpet\": [{\"marker\": {\"colorbar\": {\"outlinewidth\": 0, \"ticks\": \"\"}}, \"type\": \"scattercarpet\"}], \"scattergeo\": [{\"marker\": {\"colorbar\": {\"outlinewidth\": 0, \"ticks\": \"\"}}, \"type\": \"scattergeo\"}], \"scattergl\": [{\"marker\": {\"colorbar\": {\"outlinewidth\": 0, \"ticks\": \"\"}}, \"type\": \"scattergl\"}], \"scattermapbox\": [{\"marker\": {\"colorbar\": {\"outlinewidth\": 0, \"ticks\": \"\"}}, \"type\": \"scattermapbox\"}], \"scatterpolar\": [{\"marker\": {\"colorbar\": {\"outlinewidth\": 0, \"ticks\": \"\"}}, \"type\": \"scatterpolar\"}], \"scatterpolargl\": [{\"marker\": {\"colorbar\": {\"outlinewidth\": 0, \"ticks\": \"\"}}, \"type\": \"scatterpolargl\"}], \"scatterternary\": [{\"marker\": {\"colorbar\": {\"outlinewidth\": 0, \"ticks\": \"\"}}, \"type\": \"scatterternary\"}], \"surface\": [{\"colorbar\": {\"outlinewidth\": 0, \"ticks\": \"\"}, \"colorscale\": [[0.0, \"#0d0887\"], [0.1111111111111111, \"#46039f\"], [0.2222222222222222, \"#7201a8\"], [0.3333333333333333, \"#9c179e\"], [0.4444444444444444, \"#bd3786\"], [0.5555555555555556, \"#d8576b\"], [0.6666666666666666, \"#ed7953\"], [0.7777777777777778, \"#fb9f3a\"], [0.8888888888888888, \"#fdca26\"], [1.0, \"#f0f921\"]], \"type\": \"surface\"}], \"table\": [{\"cells\": {\"fill\": {\"color\": \"#EBF0F8\"}, \"line\": {\"color\": \"white\"}}, \"header\": {\"fill\": {\"color\": \"#C8D4E3\"}, \"line\": {\"color\": \"white\"}}, \"type\": \"table\"}]}, \"layout\": {\"annotationdefaults\": {\"arrowcolor\": \"#2a3f5f\", \"arrowhead\": 0, \"arrowwidth\": 1}, \"coloraxis\": {\"colorbar\": {\"outlinewidth\": 0, \"ticks\": \"\"}}, \"colorscale\": {\"diverging\": [[0, \"#8e0152\"], [0.1, \"#c51b7d\"], [0.2, \"#de77ae\"], [0.3, \"#f1b6da\"], [0.4, \"#fde0ef\"], [0.5, \"#f7f7f7\"], [0.6, \"#e6f5d0\"], [0.7, \"#b8e186\"], [0.8, \"#7fbc41\"], [0.9, \"#4d9221\"], [1, \"#276419\"]], \"sequential\": [[0.0, \"#0d0887\"], [0.1111111111111111, \"#46039f\"], [0.2222222222222222, \"#7201a8\"], [0.3333333333333333, \"#9c179e\"], [0.4444444444444444, \"#bd3786\"], [0.5555555555555556, \"#d8576b\"], [0.6666666666666666, \"#ed7953\"], [0.7777777777777778, \"#fb9f3a\"], [0.8888888888888888, \"#fdca26\"], [1.0, \"#f0f921\"]], \"sequentialminus\": [[0.0, \"#0d0887\"], [0.1111111111111111, \"#46039f\"], [0.2222222222222222, \"#7201a8\"], [0.3333333333333333, \"#9c179e\"], [0.4444444444444444, \"#bd3786\"], [0.5555555555555556, \"#d8576b\"], [0.6666666666666666, \"#ed7953\"], [0.7777777777777778, \"#fb9f3a\"], [0.8888888888888888, \"#fdca26\"], [1.0, \"#f0f921\"]]}, \"colorway\": [\"#636efa\", \"#EF553B\", \"#00cc96\", \"#ab63fa\", \"#FFA15A\", \"#19d3f3\", \"#FF6692\", \"#B6E880\", \"#FF97FF\", \"#FECB52\"], \"font\": {\"color\": \"#2a3f5f\"}, \"geo\": {\"bgcolor\": \"white\", \"lakecolor\": \"white\", \"landcolor\": \"#E5ECF6\", \"showlakes\": true, \"showland\": true, \"subunitcolor\": \"white\"}, \"hoverlabel\": {\"align\": \"left\"}, \"hovermode\": \"closest\", \"mapbox\": {\"style\": \"light\"}, \"paper_bgcolor\": \"white\", \"plot_bgcolor\": \"#E5ECF6\", \"polar\": {\"angularaxis\": {\"gridcolor\": \"white\", \"linecolor\": \"white\", \"ticks\": \"\"}, \"bgcolor\": \"#E5ECF6\", \"radialaxis\": {\"gridcolor\": \"white\", \"linecolor\": \"white\", \"ticks\": \"\"}}, \"scene\": {\"xaxis\": {\"backgroundcolor\": \"#E5ECF6\", \"gridcolor\": \"white\", \"gridwidth\": 2, \"linecolor\": \"white\", \"showbackground\": true, \"ticks\": \"\", \"zerolinecolor\": \"white\"}, \"yaxis\": {\"backgroundcolor\": \"#E5ECF6\", \"gridcolor\": \"white\", \"gridwidth\": 2, \"linecolor\": \"white\", \"showbackground\": true, \"ticks\": \"\", \"zerolinecolor\": \"white\"}, \"zaxis\": {\"backgroundcolor\": \"#E5ECF6\", \"gridcolor\": \"white\", \"gridwidth\": 2, \"linecolor\": \"white\", \"showbackground\": true, \"ticks\": \"\", \"zerolinecolor\": \"white\"}}, \"shapedefaults\": {\"line\": {\"color\": \"#2a3f5f\"}}, \"ternary\": {\"aaxis\": {\"gridcolor\": \"white\", \"linecolor\": \"white\", \"ticks\": \"\"}, \"baxis\": {\"gridcolor\": \"white\", \"linecolor\": \"white\", \"ticks\": \"\"}, \"bgcolor\": \"#E5ECF6\", \"caxis\": {\"gridcolor\": \"white\", \"linecolor\": \"white\", \"ticks\": \"\"}}, \"title\": {\"x\": 0.05}, \"xaxis\": {\"automargin\": true, \"gridcolor\": \"white\", \"linecolor\": \"white\", \"ticks\": \"\", \"title\": {\"standoff\": 15}, \"zerolinecolor\": \"white\", \"zerolinewidth\": 2}, \"yaxis\": {\"automargin\": true, \"gridcolor\": \"white\", \"linecolor\": \"white\", \"ticks\": \"\", \"title\": {\"standoff\": 15}, \"zerolinecolor\": \"white\", \"zerolinewidth\": 2}}}, \"xaxis\": {\"anchor\": \"y\", \"domain\": [0.0, 1.0], \"title\": {\"text\": \"0\"}}, \"yaxis\": {\"anchor\": \"x\", \"domain\": [0.0, 1.0], \"title\": {\"text\": \"1\"}}},                        {\"responsive\": true}                    ).then(function(){\n",
       "                            \n",
       "var gd = document.getElementById('08232926-6717-4066-917a-7aea140a8896');\n",
       "var x = new MutationObserver(function (mutations, observer) {{\n",
       "        var display = window.getComputedStyle(gd).display;\n",
       "        if (!display || display === 'none') {{\n",
       "            console.log([gd, 'removed!']);\n",
       "            Plotly.purge(gd);\n",
       "            observer.disconnect();\n",
       "        }}\n",
       "}});\n",
       "\n",
       "// Listen for the removal of the full notebook cells\n",
       "var notebookContainer = gd.closest('#notebook-container');\n",
       "if (notebookContainer) {{\n",
       "    x.observe(notebookContainer, {childList: true});\n",
       "}}\n",
       "\n",
       "// Listen for the clearing of the current output cell\n",
       "var outputEl = gd.closest('.output');\n",
       "if (outputEl) {{\n",
       "    x.observe(outputEl, {childList: true});\n",
       "}}\n",
       "\n",
       "                        })                };                });            </script>        </div>"
      ]
     },
     "metadata": {},
     "output_type": "display_data"
    }
   ],
   "source": [
    "loadings = pca.components_.T * np.sqrt(pca.explained_variance_)\n",
    "\n",
    "fig = px.scatter(principalComponents, x=0, y=1, color=cerebrumTopStructuresRight.index)\n",
    "\n",
    "# for i, feature in enumerate(features):\n",
    "#     fig.add_shape(\n",
    "#         type='line',\n",
    "#         x0=0, y0=0,\n",
    "#         x1=loadings[i, 0],\n",
    "#         y1=loadings[i, 1]\n",
    "#     )\n",
    "#     fig.add_annotation(\n",
    "#         x=loadings[i, 0],\n",
    "#         y=loadings[i, 1],\n",
    "#         ax=0, ay=0,\n",
    "#         xanchor=\"center\",\n",
    "#         yanchor=\"bottom\",\n",
    "#         text=feature,\n",
    "#     )\n",
    "fig.show()\n",
    "fig.write_html(\"PCA_q75_right.html\")"
   ]
  }
 ],
 "metadata": {
  "kernelspec": {
   "display_name": "Python 3",
   "language": "python",
   "name": "python3"
  },
  "language_info": {
   "codemirror_mode": {
    "name": "ipython",
    "version": 3
   },
   "file_extension": ".py",
   "mimetype": "text/x-python",
   "name": "python",
   "nbconvert_exporter": "python",
   "pygments_lexer": "ipython3",
   "version": "3.7.1"
  }
 },
 "nbformat": 4,
 "nbformat_minor": 4
}
