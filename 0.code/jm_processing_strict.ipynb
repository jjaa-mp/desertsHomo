{
 "cells": [
  {
   "cell_type": "code",
   "execution_count": null,
   "metadata": {},
   "outputs": [],
   "source": [
    "import pandas as pd\n",
    "from pybedtools import BedTool"
   ]
  },
  {
   "cell_type": "markdown",
   "metadata": {},
   "source": [
    "**INDEX**\n",
    "\n",
    "**Data processing**\n",
    "\n",
    "Human high-frequency changes within Deserts\n",
    "\n",
    "Human high-frequency changes not in Deserts\n",
    "\n",
    "**1. Deserts vs NO Deserts (Whole genome)** \n",
    "    \n",
    "    Difference mean frequency\n",
    "    Difference percentage fixed alleles\n",
    "    \n",
    "**2. Mean frequency Deserts vs NO Deserts (per chromosome)** \n",
    "\n",
    "    Difference mean frequency\n",
    "    Difference percentage fixed alleles\n",
    "    \n",
    "**3. Genes associated to fixed alleles within Deserts**\n"
   ]
  },
  {
   "cell_type": "raw",
   "metadata": {},
   "source": []
  },
  {
   "cell_type": "markdown",
   "metadata": {},
   "source": [
    "### **Data processing** "
   ]
  },
  {
   "cell_type": "markdown",
   "metadata": {},
   "source": [
    "#### Intersection hHF with Deserts "
   ]
  },
  {
   "cell_type": "code",
   "execution_count": null,
   "metadata": {},
   "outputs": [],
   "source": [
    "akey = BedTool('/home/juanandres/Desktop/TFM_raul/tmp_section1/2020_akeydeserts_coords.bed')\n",
    "print(len(akey))\n",
    "#hf = BedTool('/home/juanandres/Desktop/TFM_raul/tmp_section1/2020_Nahigh_freq.bed')\n",
    "#print(len(hf))\n",
    "pey = BedTool('/home/juanandres/Desktop/TFM_raul/tmp_section1/2020_pey_coords.bed')\n",
    "print(len(pey))"
   ]
  },
  {
   "cell_type": "code",
   "execution_count": null,
   "metadata": {},
   "outputs": [],
   "source": [
    "!wget --no-check-certificate 'https://docs.google.com/uc?export=download&id=1dKS4HEoB2mj7g2EsR_XKZu-gPimJHjhj' -O hfsapiens.freqfilt.tsv"
   ]
  },
  {
   "cell_type": "code",
   "execution_count": null,
   "metadata": {},
   "outputs": [],
   "source": [
    "strict = pd.read_csv(\"hfsapiens.freqfilt.tsv\", sep='\\t')\n",
    "strict.head()"
   ]
  },
  {
   "cell_type": "code",
   "execution_count": null,
   "metadata": {},
   "outputs": [],
   "source": [
    "p_strict = strict[['POS', 'dbSNP']]"
   ]
  },
  {
   "cell_type": "code",
   "execution_count": null,
   "metadata": {},
   "outputs": [],
   "source": [
    "str1 = p_strict['POS'].str.split(\":\", expand=True)"
   ]
  },
  {
   "cell_type": "code",
   "execution_count": null,
   "metadata": {},
   "outputs": [],
   "source": [
    "str1[2] = str1[1]"
   ]
  },
  {
   "cell_type": "code",
   "execution_count": null,
   "metadata": {},
   "outputs": [],
   "source": [
    "str1[3] = strict[['POS']]"
   ]
  },
  {
   "cell_type": "code",
   "execution_count": null,
   "metadata": {},
   "outputs": [],
   "source": [
    "str1[0] = 'chr'+str1[0].astype(str)"
   ]
  },
  {
   "cell_type": "code",
   "execution_count": null,
   "metadata": {},
   "outputs": [],
   "source": [
    "str1 = str1.dropna()"
   ]
  },
  {
   "cell_type": "code",
   "execution_count": null,
   "metadata": {},
   "outputs": [],
   "source": [
    "str1[1] = str1[1].astype(int)-1\n",
    "str1[2] = str1[2].astype(int)"
   ]
  },
  {
   "cell_type": "code",
   "execution_count": null,
   "metadata": {},
   "outputs": [],
   "source": [
    "p_strict.head(1)"
   ]
  },
  {
   "cell_type": "code",
   "execution_count": null,
   "metadata": {},
   "outputs": [],
   "source": [
    "final_strict = str1.merge(p_strict, left_on=[3], right_on='POS')"
   ]
  },
  {
   "cell_type": "code",
   "execution_count": null,
   "metadata": {},
   "outputs": [],
   "source": [
    "final_strict.drop(['POS'], axis=1, inplace=True)\n",
    "final_strict.drop([3], axis=1, inplace=True)"
   ]
  },
  {
   "cell_type": "code",
   "execution_count": null,
   "metadata": {},
   "outputs": [],
   "source": [
    "final_strict.to_csv(\"/home/juanandres/Desktop/TFM_raul/tmp_section2/2021_HFstrict.bed\", sep='\\t', header=None, index=False)"
   ]
  },
  {
   "cell_type": "code",
   "execution_count": null,
   "metadata": {},
   "outputs": [],
   "source": [
    "#Importing bed\n",
    "hfstrict = BedTool(\"/home/juanandres/Desktop/TFM_raul/tmp_section2/2021_HFstrict.bed\")"
   ]
  },
  {
   "cell_type": "code",
   "execution_count": null,
   "metadata": {},
   "outputs": [],
   "source": [
    "len(hfstrict)"
   ]
  },
  {
   "cell_type": "code",
   "execution_count": null,
   "metadata": {},
   "outputs": [],
   "source": [
    "hfstrict.head(2)"
   ]
  },
  {
   "cell_type": "markdown",
   "metadata": {},
   "source": [
    "#### Intersection strict within Deserts "
   ]
  },
  {
   "cell_type": "code",
   "execution_count": null,
   "metadata": {},
   "outputs": [],
   "source": [
    "w_hf = akey.intersect(hfstrict, wo=True)\n",
    "print(len(w_hf))"
   ]
  },
  {
   "cell_type": "markdown",
   "metadata": {},
   "source": [
    "#### Intersection strict within no Deserts "
   ]
  },
  {
   "cell_type": "code",
   "execution_count": null,
   "metadata": {},
   "outputs": [],
   "source": [
    "wo_hf = hfstrict.intersect(akey, wo=True, v=True)\n",
    "print(len(wo_hf))"
   ]
  },
  {
   "cell_type": "markdown",
   "metadata": {},
   "source": [
    "#### Result | Intersection hHF with Deserts: Bed files"
   ]
  },
  {
   "cell_type": "code",
   "execution_count": null,
   "metadata": {},
   "outputs": [],
   "source": [
    "w_hf.saveas(\"/home/juanandres/Desktop/TFM_raul/tmp_section2/strict_WITHIN_deserts.bed\")\n",
    "wo_hf.saveas(\"/home/juanandres/Desktop/TFM_raul/tmp_section2/strict_NOT_in_deserts.bed\")"
   ]
  },
  {
   "cell_type": "markdown",
   "metadata": {},
   "source": [
    "#### Intersection strict within Deserts & Pey "
   ]
  },
  {
   "cell_type": "code",
   "execution_count": null,
   "metadata": {},
   "outputs": [],
   "source": [
    "t = pey.intersect(akey, wo=True, f=1)\n",
    "#print(len(t))\n",
    "print(t.head())\n",
    "t1 = hfstrict.intersect(t, wa=True, f=1)\n",
    "print(t1.head())\n",
    "t1.saveas(\"/home/juanandres/Desktop/TFM_raul/tmp_section2/strict_WITHIN_DesPey.bed\")"
   ]
  },
  {
   "cell_type": "markdown",
   "metadata": {},
   "source": [
    "### **1. COMPARISON | Deserts vs NO Deserts (Whole genome):** "
   ]
  },
  {
   "cell_type": "code",
   "execution_count": null,
   "metadata": {},
   "outputs": [],
   "source": [
    "df1 = pd.read_csv(\"/home/juanandres/Desktop/TFM_raul/tmp_section2/strict_WITHIN_deserts.bed\", sep='\\t', header=None)\n",
    "df2 = pd.read_csv(\"/home/juanandres/Desktop/TFM_raul/tmp_section2/strict_NOT_in_deserts.bed\", sep='\\t', header=None)"
   ]
  },
  {
   "cell_type": "markdown",
   "metadata": {},
   "source": [
    "#### Pandas dataframes "
   ]
  },
  {
   "cell_type": "code",
   "execution_count": null,
   "metadata": {},
   "outputs": [],
   "source": [
    "df1.drop([7], axis=1, inplace=True)\n",
    "df1.columns = ['chr', 'Desert_start','Desert_end', 'chr_hg19', 'POS_start', 'POS_end', 'dbSNP']\n",
    "df2.columns = ['chr', 'POS_start', 'POS_end', 'dbSNP']"
   ]
  },
  {
   "cell_type": "code",
   "execution_count": null,
   "metadata": {},
   "outputs": [],
   "source": [
    "df1.drop(['POS_start'], axis=1, inplace=True)\n",
    "df1['POS'] = df1['chr_hg19'].str.split(\"chr\", expand=True)[1]\n",
    "df1['POS'] = df1['POS'].astype(str)\n",
    "df1['POS'] = df1['POS'].str.cat(df1['POS_end'].astype(str), sep=':')\n",
    "df1.drop(['POS_end', 'dbSNP'], axis=1, inplace=True)"
   ]
  },
  {
   "cell_type": "code",
   "execution_count": null,
   "metadata": {},
   "outputs": [],
   "source": [
    "df2\n",
    "df2.drop(['POS_start'], axis=1, inplace=True)\n",
    "df2['POS'] = df2['chr'].str.split(\"chr\", expand=True)[1]\n",
    "df2['POS'] = df2['POS'].astype(str)\n",
    "df2['POS'] = df2['POS'].str.cat(df2['POS_end'].astype(str), sep=':')\n",
    "df2.drop(['POS_end', 'dbSNP'], axis=1, inplace=True)\n",
    "df2.head(2)"
   ]
  },
  {
   "cell_type": "code",
   "execution_count": null,
   "metadata": {},
   "outputs": [],
   "source": [
    "df3 = pd.read_csv(\"/home/juanandres/Desktop/TFM_raul/tmp_section2/strict_WITHIN_DesPey.bed\", sep='\\t', header=None)\n",
    "df3.drop([1], axis=1, inplace=True)\n",
    "df3.columns = ['chr', 'SNP_pos', 'rsID']\n",
    "df3['POS'] = df3['chr'].str.split(\"chr\", expand=True)[1]\n",
    "df3['POS'] = df3['POS'].astype(str)\n",
    "df3['POS'] = df3['POS'].str.cat(df3['SNP_pos'].astype(str), sep=':')"
   ]
  },
  {
   "cell_type": "code",
   "execution_count": null,
   "metadata": {},
   "outputs": [],
   "source": [
    "martin = pd.read_csv(\"/home/juanandres/Desktop/TFM_raul/tmp_section1/Na_high_freq.tsv\", sep='\\t')"
   ]
  },
  {
   "cell_type": "code",
   "execution_count": null,
   "metadata": {},
   "outputs": [],
   "source": [
    "#Des with Martin info\n",
    "martin_c1 = martin[['POS','dbSNP', 'human_DAF', 'Gene_name']]\n",
    "desMartin = martin_c1.merge(df1, on = 'POS' )\n",
    "desMartin.drop(['chr_hg19'], axis=1, inplace=True)\n",
    "desMartin"
   ]
  },
  {
   "cell_type": "code",
   "execution_count": null,
   "metadata": {},
   "outputs": [],
   "source": [
    "#No Deserts with Martin info\n",
    "NOdesMartin = martin_c1.merge(df2, on = 'POS' )\n",
    "NOdesMartin.drop(['chr'], axis=1, inplace=True)\n",
    "NOdesMartin"
   ]
  },
  {
   "cell_type": "code",
   "execution_count": null,
   "metadata": {},
   "outputs": [],
   "source": [
    "#Des+Pey with Martin info\n",
    "DesPeyMartin = martin_c1.merge(df3, on = 'POS' )\n",
    "DesPeyMartin.drop(['rsID'], axis=1, inplace=True)\n",
    "DesPeyMartin"
   ]
  },
  {
   "cell_type": "markdown",
   "metadata": {},
   "source": [
    "#### **Result | Mean frequency HF SNP in Deserts:** "
   ]
  },
  {
   "cell_type": "code",
   "execution_count": null,
   "metadata": {},
   "outputs": [],
   "source": [
    "desMartin['human_DAF'].mean()"
   ]
  },
  {
   "cell_type": "markdown",
   "metadata": {},
   "source": [
    "#### **Result | Mean frequency HF SNP in DesertsPey:** "
   ]
  },
  {
   "cell_type": "code",
   "execution_count": null,
   "metadata": {},
   "outputs": [],
   "source": [
    "DesPeyMartin['human_DAF'].mean()"
   ]
  },
  {
   "cell_type": "markdown",
   "metadata": {},
   "source": [
    "#### **Result | Mean frequency HF SNP in NO Deserts (whole genome):** "
   ]
  },
  {
   "cell_type": "code",
   "execution_count": null,
   "metadata": {},
   "outputs": [],
   "source": [
    "martin['human_DAF'].mean()"
   ]
  },
  {
   "cell_type": "markdown",
   "metadata": {},
   "source": [
    "##### Result | Mean frequency HF SNP difference deserts vs NO deserts"
   ]
  },
  {
   "cell_type": "code",
   "execution_count": null,
   "metadata": {},
   "outputs": [],
   "source": [
    "desMartin['human_DAF'].mean()-martin['human_DAF'].mean()"
   ]
  },
  {
   "cell_type": "markdown",
   "metadata": {},
   "source": [
    "#### **Result | Percentage of fixed alleles in Deserts:** "
   ]
  },
  {
   "cell_type": "code",
   "execution_count": null,
   "metadata": {},
   "outputs": [],
   "source": [
    "len(desMartin[desMartin['human_DAF'] == 1])/len(desMartin)*100"
   ]
  },
  {
   "cell_type": "markdown",
   "metadata": {},
   "source": [
    "#### **Result | Percentage of fixed alleles in NO Deserts (whole genome):** "
   ]
  },
  {
   "cell_type": "code",
   "execution_count": null,
   "metadata": {},
   "outputs": [],
   "source": [
    "len(NOdesMartin[NOdesMartin['human_DAF'] == 1])/len(NOdesMartin)*100"
   ]
  },
  {
   "cell_type": "markdown",
   "metadata": {},
   "source": [
    "##### Result | Difference in Proportion fixed alleles Deserts vs NO Deserts (whole genome):"
   ]
  },
  {
   "cell_type": "code",
   "execution_count": null,
   "metadata": {},
   "outputs": [],
   "source": [
    "(len(desMartin[desMartin['human_DAF'] == 1])/len(desMartin)*100)/(len(NOdesMartin[NOdesMartin['human_DAF'] == 1])/len(NOdesMartin)*100)"
   ]
  },
  {
   "cell_type": "markdown",
   "metadata": {},
   "source": [
    "#### **Result | Percentage of fixed alleles in DesertsPey:** "
   ]
  },
  {
   "cell_type": "code",
   "execution_count": null,
   "metadata": {},
   "outputs": [],
   "source": [
    "len(DesPeyMartin[DesPeyMartin['human_DAF'] == 1])/len(DesPeyMartin)*100"
   ]
  },
  {
   "cell_type": "code",
   "execution_count": null,
   "metadata": {},
   "outputs": [],
   "source": [
    "print(len(DesPeyMartin[DesPeyMartin['human_DAF'] == 1]))\n",
    "print(len(DesPeyMartin))"
   ]
  },
  {
   "cell_type": "code",
   "execution_count": null,
   "metadata": {},
   "outputs": [],
   "source": [
    "DesPeyMartin[DesPeyMartin['human_DAF'] == 1]['Gene_name'].unique()"
   ]
  },
  {
   "cell_type": "markdown",
   "metadata": {},
   "source": [
    "### **2. COMPARISON | Deserts vs NO Deserts (Per chromosome):** "
   ]
  },
  {
   "cell_type": "code",
   "execution_count": null,
   "metadata": {},
   "outputs": [],
   "source": [
    "NOdesMartin['chr'] = \"chr\"+NOdesMartin['POS'].str.split(\":\", expand=True)[0]"
   ]
  },
  {
   "cell_type": "code",
   "execution_count": null,
   "metadata": {},
   "outputs": [],
   "source": [
    "##Desert chromosomes: \n",
    "### df1_wF['chr'].unique() --> array(['chr1', 'chr3', 'chr7', 'chr8'], dtype=object)\n",
    "NOdesMartin_chr = NOdesMartin[(NOdesMartin['chr'] == 'chr1') | (NOdesMartin['chr'] == 'chr3') | (NOdesMartin['chr'] == 'chr7') | (NOdesMartin['chr'] == 'chr8')]\n",
    "print(len(NOdesMartin_chr))"
   ]
  },
  {
   "cell_type": "code",
   "execution_count": null,
   "metadata": {},
   "outputs": [],
   "source": [
    "NOdesMartin_chr['chr'].unique()"
   ]
  },
  {
   "cell_type": "markdown",
   "metadata": {},
   "source": [
    "#### **Result | Mean frequency HF SNP in NO Deserts (per chr):** "
   ]
  },
  {
   "cell_type": "code",
   "execution_count": null,
   "metadata": {},
   "outputs": [],
   "source": [
    "NOdesMartin_chr['human_DAF'].mean()"
   ]
  },
  {
   "cell_type": "markdown",
   "metadata": {},
   "source": [
    "##### Result | Mean frequency HF SNP difference deserts vs NO deserts (per chr)"
   ]
  },
  {
   "cell_type": "code",
   "execution_count": null,
   "metadata": {},
   "outputs": [],
   "source": [
    "desMartin['human_DAF'].mean()-NOdesMartin_chr['human_DAF'].mean()"
   ]
  },
  {
   "cell_type": "markdown",
   "metadata": {},
   "source": [
    "#### **Result | Percentage of fixed alleles in NO Deserts (per chr):** "
   ]
  },
  {
   "cell_type": "code",
   "execution_count": null,
   "metadata": {},
   "outputs": [],
   "source": [
    "len(NOdesMartin_chr[NOdesMartin_chr['human_DAF'] == 1])/len(NOdesMartin_chr)*100"
   ]
  },
  {
   "cell_type": "markdown",
   "metadata": {},
   "source": [
    "##### Result | Difference in Proportion fixed alleles Deserts vs NO Deserts (per chr):"
   ]
  },
  {
   "cell_type": "code",
   "execution_count": null,
   "metadata": {},
   "outputs": [],
   "source": [
    "(len(desMartin[desMartin['human_DAF'] == 1])/len(desMartin)*100)/(len(NOdesMartin_chr[NOdesMartin_chr['human_DAF'] == 1])/len(NOdesMartin_chr)*100)"
   ]
  },
  {
   "cell_type": "markdown",
   "metadata": {},
   "source": [
    "### SUMMARY TABLE"
   ]
  },
  {
   "cell_type": "code",
   "execution_count": null,
   "metadata": {},
   "outputs": [],
   "source": [
    "summary = {'Frequency': [desMartin['human_DAF'].mean(), NOdesMartin_chr['human_DAF'].mean(), DesPeyMartin['human_DAF'].mean()], '% Fixed alleles': [len(desMartin[desMartin['human_DAF'] == 1])/len(desMartin)*100, len(NOdesMartin_chr[NOdesMartin_chr['human_DAF'] == 1])/len(NOdesMartin_chr)*100, len(DesPeyMartin[DesPeyMartin['human_DAF'] == 1])/len(DesPeyMartin)*100]}\n",
    "pd.DataFrame(summary, index=['Deserts', 'No Deserts (per chr)', 'D+Pey'])"
   ]
  },
  {
   "cell_type": "code",
   "execution_count": null,
   "metadata": {},
   "outputs": [],
   "source": [
    "summary_table = pd.DataFrame(summary, index=['Deserts', 'No Deserts (per chr)', 'D+Pey'])"
   ]
  },
  {
   "cell_type": "code",
   "execution_count": null,
   "metadata": {},
   "outputs": [],
   "source": [
    "summary_table.to_csv(\"~/raul_tesina/1.data/stat_freq/Supplementary_Table_1.csv\",sep = \"\\t\")"
   ]
  },
  {
   "cell_type": "code",
   "execution_count": null,
   "metadata": {},
   "outputs": [],
   "source": [
    "print(len(desMartin[desMartin['human_DAF'] == 1]))\n",
    "print(len(desMartin))\n",
    "#\n",
    "print(len(NOdesMartin_chr[NOdesMartin_chr['human_DAF'] == 1]))\n",
    "print(len(NOdesMartin_chr))\n",
    "#\n",
    "print(len(DesPeyMartin[DesPeyMartin['human_DAF'] == 1]))\n",
    "print(len(DesPeyMartin))"
   ]
  },
  {
   "cell_type": "code",
   "execution_count": null,
   "metadata": {},
   "outputs": [],
   "source": [
    "desMartin.to_csv(\"/home/juanandres/Desktop/TFM_raul/tmp_section2/tmp1_df1.csv\", sep='\\t', header=False, index=False)\n",
    "NOdesMartin_chr.to_csv(\"/home/juanandres/Desktop/TFM_raul/tmp_section2/tmp1_df2.csv\", sep='\\t', header=False, index=False)\n",
    "DesPeyMartin.to_csv(\"/home/juanandres/Desktop/TFM_raul/tmp_section2/tmp1_df3.csv\", sep='\\t', header=False, index=False)"
   ]
  }
 ],
 "metadata": {
  "kernelspec": {
   "display_name": "Python 3",
   "language": "python",
   "name": "python3"
  },
  "language_info": {
   "codemirror_mode": {
    "name": "ipython",
    "version": 3
   },
   "file_extension": ".py",
   "mimetype": "text/x-python",
   "name": "python",
   "nbconvert_exporter": "python",
   "pygments_lexer": "ipython3",
   "version": "3.7.9"
  }
 },
 "nbformat": 4,
 "nbformat_minor": 4
}
