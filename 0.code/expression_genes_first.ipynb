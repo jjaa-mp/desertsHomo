{
 "cells": [
  {
   "cell_type": "code",
   "execution_count": 2,
   "metadata": {},
   "outputs": [],
   "source": [
    "import requests \n",
    "import json\n",
    "import xmltodict\n",
    "import time\n",
    "import pandas as pd\n",
    "import statistics as st\n",
    "import math"
   ]
  },
  {
   "cell_type": "code",
   "execution_count": 3,
   "metadata": {},
   "outputs": [],
   "source": [
    "#IMPROVEMENT: Include genes in regulatory domains as the ones specified by Peyregne: 1kb down or up; or something similar.\n",
    "selection_of_genes='Data/genes_per_overlapped_regions.xlsx' #pd.read_excel(selection_of_genes) \n",
    "chr1=\"Data/genes_desert_chr_1_37.csv\"\n",
    "chr3=\"Data/genes_desert_chr_3_37.csv\"\n",
    "chr7=\"Data/genes_desert_chr_7_37.csv\"\n",
    "chr8=\"Data/genes_desert_chr_8_37.csv\"\n",
    "core_genes=\"Data/all_genes_core_regions.csv\"\n",
    "ELS_genes=\"Data/all_genes_ELS_regions.csv\"\n",
    "\n",
    "gene_expression=\"Data/aba7721_TablesS1-S16.xlsx\""
   ]
  },
  {
   "cell_type": "markdown",
   "metadata": {},
   "source": [
    "### Getting genes and gene expression"
   ]
  },
  {
   "cell_type": "code",
   "execution_count": 4,
   "metadata": {},
   "outputs": [],
   "source": [
    "# Genes\n",
    "df=pd.read_csv(chr1,sep=\";\") \n",
    "#df=pd.read_csv(chr1,sep=\";\") \n",
    "geneschr1=df\n",
    "df=pd.read_csv(chr3,sep=\";\") \n",
    "#df=pd.read_csv(chr1,sep=\";\") \n",
    "geneschr3=df\n",
    "df=pd.read_csv(chr7,sep=\";\") \n",
    "#df=pd.read_csv(chr1,sep=\";\") \n",
    "geneschr7=df\n",
    "df=pd.read_csv(chr8,sep=\";\") \n",
    "#df=pd.read_csv(chr1,sep=\";\") \n",
    "geneschr8=df\n"
   ]
  },
  {
   "cell_type": "code",
   "execution_count": 12,
   "metadata": {},
   "outputs": [],
   "source": [
    "# Gene expression\n",
    "\n",
    "#Gene - Cell type\n",
    "gene_cell_type=pd.read_excel(gene_expression,sheet_name=\"Table_S4\",header=1)\n",
    "gene_cell_type[\"gene_short_name\"]=gene_cell_type[\"gene_short_name\"].str.replace(\"'\", \"\")\n",
    "gene_cell_type[\"gene_id\"]=gene_cell_type[\"gene_id\"].str[0:15]"
   ]
  },
  {
   "cell_type": "code",
   "execution_count": 122,
   "metadata": {},
   "outputs": [
    {
     "data": {
      "text/html": [
       "<div>\n",
       "<style scoped>\n",
       "    .dataframe tbody tr th:only-of-type {\n",
       "        vertical-align: middle;\n",
       "    }\n",
       "\n",
       "    .dataframe tbody tr th {\n",
       "        vertical-align: top;\n",
       "    }\n",
       "\n",
       "    .dataframe thead th {\n",
       "        text-align: right;\n",
       "    }\n",
       "</style>\n",
       "<table border=\"1\" class=\"dataframe\">\n",
       "  <thead>\n",
       "    <tr style=\"text-align: right;\">\n",
       "      <th></th>\n",
       "      <th>Cell_ID</th>\n",
       "      <th>Organ</th>\n",
       "      <th>Main cell type annotation</th>\n",
       "      <th>Gene markers supporting annotation</th>\n",
       "      <th>Reference literature (PMID or website)</th>\n",
       "      <th>Cell_num</th>\n",
       "      <th>mean_mRNA_count</th>\n",
       "      <th>median_mRNA_count</th>\n",
       "      <th>mean_gene_count</th>\n",
       "      <th>median_gene_count</th>\n",
       "      <th>median_exonic_reads_ratio</th>\n",
       "      <th>fetus_number</th>\n",
       "      <th>CV_accuracy</th>\n",
       "      <th>CV_recall</th>\n",
       "      <th>CV_F1_score</th>\n",
       "    </tr>\n",
       "  </thead>\n",
       "  <tbody>\n",
       "    <tr>\n",
       "      <th>0</th>\n",
       "      <td>Lung-Bronchiolar and alveolar epithelial cells</td>\n",
       "      <td>Lung</td>\n",
       "      <td>Bronchiolar and alveolar epithelial cells</td>\n",
       "      <td>EPCAM, CDH1, AGER, SFTPB, SFTPA1, SFTPC</td>\n",
       "      <td>30283141, 29775597, 30554520</td>\n",
       "      <td>101249</td>\n",
       "      <td>705.038776</td>\n",
       "      <td>505.0</td>\n",
       "      <td>531.655216</td>\n",
       "      <td>407.0</td>\n",
       "      <td>0.512915</td>\n",
       "      <td>11</td>\n",
       "      <td>0.995020</td>\n",
       "      <td>0.999000</td>\n",
       "      <td>0.997006</td>\n",
       "    </tr>\n",
       "    <tr>\n",
       "      <th>1</th>\n",
       "      <td>Lung-Stromal cells</td>\n",
       "      <td>Lung</td>\n",
       "      <td>Stromal cells</td>\n",
       "      <td>PDGFRB, COL1A1, DCN, ACTA2, TAGLN, MYH11, COL3...</td>\n",
       "      <td>30283141, 29775597, 30554520</td>\n",
       "      <td>87037</td>\n",
       "      <td>459.095534</td>\n",
       "      <td>383.0</td>\n",
       "      <td>352.741087</td>\n",
       "      <td>304.0</td>\n",
       "      <td>0.329091</td>\n",
       "      <td>11</td>\n",
       "      <td>0.994530</td>\n",
       "      <td>1.000000</td>\n",
       "      <td>0.997258</td>\n",
       "    </tr>\n",
       "    <tr>\n",
       "      <th>2</th>\n",
       "      <td>Lung-Ciliated epithelial cells</td>\n",
       "      <td>Lung</td>\n",
       "      <td>Ciliated epithelial cells</td>\n",
       "      <td>TPPP3, FOXJ1, CD24A, SCGB1A1</td>\n",
       "      <td>30283141, 29775597, 30554520</td>\n",
       "      <td>2588</td>\n",
       "      <td>756.136785</td>\n",
       "      <td>565.0</td>\n",
       "      <td>562.329985</td>\n",
       "      <td>447.0</td>\n",
       "      <td>0.609581</td>\n",
       "      <td>11</td>\n",
       "      <td>0.999500</td>\n",
       "      <td>1.000000</td>\n",
       "      <td>0.999750</td>\n",
       "    </tr>\n",
       "    <tr>\n",
       "      <th>3</th>\n",
       "      <td>Lung-Neuroendocrine cells</td>\n",
       "      <td>Lung</td>\n",
       "      <td>Neuroendocrine cells</td>\n",
       "      <td>ASCL1</td>\n",
       "      <td>30283141, 29775597, 30554520</td>\n",
       "      <td>1524</td>\n",
       "      <td>555.893701</td>\n",
       "      <td>437.5</td>\n",
       "      <td>420.364829</td>\n",
       "      <td>346.0</td>\n",
       "      <td>0.593915</td>\n",
       "      <td>11</td>\n",
       "      <td>0.998684</td>\n",
       "      <td>0.996063</td>\n",
       "      <td>0.997372</td>\n",
       "    </tr>\n",
       "    <tr>\n",
       "      <th>4</th>\n",
       "      <td>Lung-Squamous epithelial cells</td>\n",
       "      <td>Lung</td>\n",
       "      <td>Squamous epithelial cells</td>\n",
       "      <td>TMPRSS11B, KRT13</td>\n",
       "      <td>27880766, 25851906</td>\n",
       "      <td>282</td>\n",
       "      <td>564.145390</td>\n",
       "      <td>450.0</td>\n",
       "      <td>348.719858</td>\n",
       "      <td>295.5</td>\n",
       "      <td>0.931696</td>\n",
       "      <td>11</td>\n",
       "      <td>0.996441</td>\n",
       "      <td>0.992908</td>\n",
       "      <td>0.994671</td>\n",
       "    </tr>\n",
       "  </tbody>\n",
       "</table>\n",
       "</div>"
      ],
      "text/plain": [
       "                                          Cell_ID Organ  \\\n",
       "0  Lung-Bronchiolar and alveolar epithelial cells  Lung   \n",
       "1                              Lung-Stromal cells  Lung   \n",
       "2                  Lung-Ciliated epithelial cells  Lung   \n",
       "3                       Lung-Neuroendocrine cells  Lung   \n",
       "4                  Lung-Squamous epithelial cells  Lung   \n",
       "\n",
       "                   Main cell type annotation  \\\n",
       "0  Bronchiolar and alveolar epithelial cells   \n",
       "1                              Stromal cells   \n",
       "2                  Ciliated epithelial cells   \n",
       "3                       Neuroendocrine cells   \n",
       "4                  Squamous epithelial cells   \n",
       "\n",
       "                  Gene markers supporting annotation  \\\n",
       "0            EPCAM, CDH1, AGER, SFTPB, SFTPA1, SFTPC   \n",
       "1  PDGFRB, COL1A1, DCN, ACTA2, TAGLN, MYH11, COL3...   \n",
       "2                       TPPP3, FOXJ1, CD24A, SCGB1A1   \n",
       "3                                              ASCL1   \n",
       "4                                   TMPRSS11B, KRT13   \n",
       "\n",
       "  Reference literature (PMID or website)  Cell_num  mean_mRNA_count  \\\n",
       "0           30283141, 29775597, 30554520    101249       705.038776   \n",
       "1           30283141, 29775597, 30554520     87037       459.095534   \n",
       "2           30283141, 29775597, 30554520      2588       756.136785   \n",
       "3           30283141, 29775597, 30554520      1524       555.893701   \n",
       "4                     27880766, 25851906       282       564.145390   \n",
       "\n",
       "   median_mRNA_count  mean_gene_count  median_gene_count  \\\n",
       "0              505.0       531.655216              407.0   \n",
       "1              383.0       352.741087              304.0   \n",
       "2              565.0       562.329985              447.0   \n",
       "3              437.5       420.364829              346.0   \n",
       "4              450.0       348.719858              295.5   \n",
       "\n",
       "   median_exonic_reads_ratio  fetus_number  CV_accuracy  CV_recall  \\\n",
       "0                   0.512915            11     0.995020   0.999000   \n",
       "1                   0.329091            11     0.994530   1.000000   \n",
       "2                   0.609581            11     0.999500   1.000000   \n",
       "3                   0.593915            11     0.998684   0.996063   \n",
       "4                   0.931696            11     0.996441   0.992908   \n",
       "\n",
       "   CV_F1_score  \n",
       "0     0.997006  \n",
       "1     0.997258  \n",
       "2     0.999750  \n",
       "3     0.997372  \n",
       "4     0.994671  "
      ]
     },
     "execution_count": 122,
     "metadata": {},
     "output_type": "execute_result"
    }
   ],
   "source": [
    "#Cell type - organ\n",
    "cell_organ=pd.read_excel(gene_expression,sheet_name=\"Table_S3\",header=1)\n",
    "cell_organ.head()"
   ]
  },
  {
   "cell_type": "code",
   "execution_count": 121,
   "metadata": {},
   "outputs": [
    {
     "data": {
      "text/html": [
       "<div>\n",
       "<style scoped>\n",
       "    .dataframe tbody tr th:only-of-type {\n",
       "        vertical-align: middle;\n",
       "    }\n",
       "\n",
       "    .dataframe tbody tr th {\n",
       "        vertical-align: top;\n",
       "    }\n",
       "\n",
       "    .dataframe thead th {\n",
       "        text-align: right;\n",
       "    }\n",
       "</style>\n",
       "<table border=\"1\" class=\"dataframe\">\n",
       "  <thead>\n",
       "    <tr style=\"text-align: right;\">\n",
       "      <th></th>\n",
       "      <th>Organ</th>\n",
       "      <th>Main cell type annotation</th>\n",
       "    </tr>\n",
       "  </thead>\n",
       "  <tbody>\n",
       "    <tr>\n",
       "      <th>0</th>\n",
       "      <td>Lung</td>\n",
       "      <td>Bronchiolar and alveolar epithelial cells</td>\n",
       "    </tr>\n",
       "    <tr>\n",
       "      <th>1</th>\n",
       "      <td>Lung or Heart or Placenta or Adrenal or Muscle...</td>\n",
       "      <td>Stromal cells</td>\n",
       "    </tr>\n",
       "    <tr>\n",
       "      <th>2</th>\n",
       "      <td>Lung or Stomach</td>\n",
       "      <td>Ciliated epithelial cells</td>\n",
       "    </tr>\n",
       "    <tr>\n",
       "      <th>3</th>\n",
       "      <td>Lung or Stomach</td>\n",
       "      <td>Neuroendocrine cells</td>\n",
       "    </tr>\n",
       "    <tr>\n",
       "      <th>4</th>\n",
       "      <td>Lung or Stomach</td>\n",
       "      <td>Squamous epithelial cells</td>\n",
       "    </tr>\n",
       "  </tbody>\n",
       "</table>\n",
       "</div>"
      ],
      "text/plain": [
       "                                               Organ  \\\n",
       "0                                               Lung   \n",
       "1  Lung or Heart or Placenta or Adrenal or Muscle...   \n",
       "2                                    Lung or Stomach   \n",
       "3                                    Lung or Stomach   \n",
       "4                                    Lung or Stomach   \n",
       "\n",
       "                   Main cell type annotation  \n",
       "0  Bronchiolar and alveolar epithelial cells  \n",
       "1                              Stromal cells  \n",
       "2                  Ciliated epithelial cells  \n",
       "3                       Neuroendocrine cells  \n",
       "4                  Squamous epithelial cells  "
      ]
     },
     "execution_count": 121,
     "metadata": {},
     "output_type": "execute_result"
    }
   ],
   "source": [
    "# Obtaining relation cell type - organ\n",
    "rel_cell_organ=cell_organ[[\"Organ\",\"Main cell type annotation\"]]\n",
    "\n",
    "#Cleaning\n",
    "rel_cell_organ_dict=dict()\n",
    "for i,row in rel_cell_organ.iterrows():\n",
    "    cell_type=row[\"Main cell type annotation\"]\n",
    "    if cell_type in rel_cell_organ_dict.keys():\n",
    "        rel_cell_organ_dict[cell_type]=rel_cell_organ_dict[cell_type]+\" or \"+row[\"Organ\"]\n",
    "    else:\n",
    "        rel_cell_organ_dict[cell_type]=row[\"Organ\"]\n",
    "        \n",
    "cell_organs_list=[list(rel_cell_organ_dict.values()),list(rel_cell_organ_dict.keys())]\n",
    "cell_organs=pd.DataFrame(cell_organs_list).T\n",
    "cell_organs.columns=[\"Organ\",\"Main cell type annotation\"]\n",
    "cell_organs.head()"
   ]
  },
  {
   "cell_type": "markdown",
   "metadata": {},
   "source": [
    "### Genes and cell types"
   ]
  },
  {
   "cell_type": "code",
   "execution_count": 66,
   "metadata": {},
   "outputs": [],
   "source": [
    "ensemblID=[*geneschr1[\"EnsemblID\"]]+[*geneschr3[\"EnsemblID\"]]+[*geneschr7[\"EnsemblID\"]]+[*geneschr8[\"EnsemblID\"]]\n",
    "# for i in geneschr8[\"EnsemblID\"]:\n",
    "#     if i in gene_cell_type[\"gene_id\"].values:\n",
    "#         print(i)\n",
    "\n",
    "introgression_genes=gene_cell_type[gene_cell_type[\"gene_id\"].isin(ensemblID)]"
   ]
  },
  {
   "cell_type": "code",
   "execution_count": 17,
   "metadata": {},
   "outputs": [
    {
     "data": {
      "text/html": [
       "<div>\n",
       "<style scoped>\n",
       "    .dataframe tbody tr th:only-of-type {\n",
       "        vertical-align: middle;\n",
       "    }\n",
       "\n",
       "    .dataframe tbody tr th {\n",
       "        vertical-align: top;\n",
       "    }\n",
       "\n",
       "    .dataframe thead th {\n",
       "        text-align: right;\n",
       "    }\n",
       "</style>\n",
       "<table border=\"1\" class=\"dataframe\">\n",
       "  <thead>\n",
       "    <tr style=\"text-align: right;\">\n",
       "      <th></th>\n",
       "      <th>gene_id</th>\n",
       "      <th>gene_short_name</th>\n",
       "      <th>gene_type</th>\n",
       "      <th>max.cluster</th>\n",
       "      <th>second.cluster</th>\n",
       "      <th>max.expr</th>\n",
       "      <th>second.expr</th>\n",
       "      <th>fold.change</th>\n",
       "      <th>pval</th>\n",
       "      <th>qval</th>\n",
       "      <th>OrganMax</th>\n",
       "      <th>OrganSecond</th>\n",
       "    </tr>\n",
       "  </thead>\n",
       "  <tbody>\n",
       "    <tr>\n",
       "      <th>0</th>\n",
       "      <td>ENSG00000225036</td>\n",
       "      <td>RP11-414B7.1</td>\n",
       "      <td>pseudogene</td>\n",
       "      <td>Acinar cells</td>\n",
       "      <td>Adrenocortical cells</td>\n",
       "      <td>0.0</td>\n",
       "      <td>0.0</td>\n",
       "      <td>1.0</td>\n",
       "      <td>1.0</td>\n",
       "      <td>1.0</td>\n",
       "      <td>Pancreas</td>\n",
       "      <td>Adrenal</td>\n",
       "    </tr>\n",
       "    <tr>\n",
       "      <th>1</th>\n",
       "      <td>ENSG00000270342</td>\n",
       "      <td>RP11-478L17.1</td>\n",
       "      <td>pseudogene</td>\n",
       "      <td>Acinar cells</td>\n",
       "      <td>Adrenocortical cells</td>\n",
       "      <td>0.0</td>\n",
       "      <td>0.0</td>\n",
       "      <td>1.0</td>\n",
       "      <td>1.0</td>\n",
       "      <td>1.0</td>\n",
       "      <td>Pancreas</td>\n",
       "      <td>Adrenal</td>\n",
       "    </tr>\n",
       "    <tr>\n",
       "      <th>2</th>\n",
       "      <td>ENSG00000270976</td>\n",
       "      <td>RP11-110F24.1</td>\n",
       "      <td>pseudogene</td>\n",
       "      <td>Acinar cells</td>\n",
       "      <td>Adrenocortical cells</td>\n",
       "      <td>0.0</td>\n",
       "      <td>0.0</td>\n",
       "      <td>1.0</td>\n",
       "      <td>1.0</td>\n",
       "      <td>1.0</td>\n",
       "      <td>Pancreas</td>\n",
       "      <td>Adrenal</td>\n",
       "    </tr>\n",
       "    <tr>\n",
       "      <th>3</th>\n",
       "      <td>ENSG00000232551</td>\n",
       "      <td>RP11-233E12.2</td>\n",
       "      <td>pseudogene</td>\n",
       "      <td>Acinar cells</td>\n",
       "      <td>Adrenocortical cells</td>\n",
       "      <td>0.0</td>\n",
       "      <td>0.0</td>\n",
       "      <td>1.0</td>\n",
       "      <td>1.0</td>\n",
       "      <td>1.0</td>\n",
       "      <td>Pancreas</td>\n",
       "      <td>Adrenal</td>\n",
       "    </tr>\n",
       "    <tr>\n",
       "      <th>4</th>\n",
       "      <td>ENSG00000264753</td>\n",
       "      <td>AL390036.1</td>\n",
       "      <td>miRNA</td>\n",
       "      <td>Acinar cells</td>\n",
       "      <td>Adrenocortical cells</td>\n",
       "      <td>0.0</td>\n",
       "      <td>0.0</td>\n",
       "      <td>1.0</td>\n",
       "      <td>1.0</td>\n",
       "      <td>1.0</td>\n",
       "      <td>Pancreas</td>\n",
       "      <td>Adrenal</td>\n",
       "    </tr>\n",
       "    <tr>\n",
       "      <th>5</th>\n",
       "      <td>ENSG00000226483</td>\n",
       "      <td>RP5-964H19.2</td>\n",
       "      <td>pseudogene</td>\n",
       "      <td>Acinar cells</td>\n",
       "      <td>Adrenocortical cells</td>\n",
       "      <td>0.0</td>\n",
       "      <td>0.0</td>\n",
       "      <td>1.0</td>\n",
       "      <td>1.0</td>\n",
       "      <td>1.0</td>\n",
       "      <td>Pancreas</td>\n",
       "      <td>Adrenal</td>\n",
       "    </tr>\n",
       "    <tr>\n",
       "      <th>6</th>\n",
       "      <td>ENSG00000228054</td>\n",
       "      <td>RANP5</td>\n",
       "      <td>pseudogene</td>\n",
       "      <td>Acinar cells</td>\n",
       "      <td>Adrenocortical cells</td>\n",
       "      <td>0.0</td>\n",
       "      <td>0.0</td>\n",
       "      <td>1.0</td>\n",
       "      <td>1.0</td>\n",
       "      <td>1.0</td>\n",
       "      <td>Pancreas</td>\n",
       "      <td>Adrenal</td>\n",
       "    </tr>\n",
       "    <tr>\n",
       "      <th>7</th>\n",
       "      <td>ENSG00000206832</td>\n",
       "      <td>RNU6V</td>\n",
       "      <td>snRNA</td>\n",
       "      <td>Acinar cells</td>\n",
       "      <td>Adrenocortical cells</td>\n",
       "      <td>0.0</td>\n",
       "      <td>0.0</td>\n",
       "      <td>1.0</td>\n",
       "      <td>1.0</td>\n",
       "      <td>1.0</td>\n",
       "      <td>Pancreas</td>\n",
       "      <td>Adrenal</td>\n",
       "    </tr>\n",
       "    <tr>\n",
       "      <th>8</th>\n",
       "      <td>ENSG00000207709</td>\n",
       "      <td>MIR197</td>\n",
       "      <td>miRNA</td>\n",
       "      <td>Acinar cells</td>\n",
       "      <td>Adrenocortical cells</td>\n",
       "      <td>0.0</td>\n",
       "      <td>0.0</td>\n",
       "      <td>1.0</td>\n",
       "      <td>1.0</td>\n",
       "      <td>1.0</td>\n",
       "      <td>Pancreas</td>\n",
       "      <td>Adrenal</td>\n",
       "    </tr>\n",
       "    <tr>\n",
       "      <th>9</th>\n",
       "      <td>ENSG00000224927</td>\n",
       "      <td>NDUFA5P10</td>\n",
       "      <td>pseudogene</td>\n",
       "      <td>Acinar cells</td>\n",
       "      <td>Adrenocortical cells</td>\n",
       "      <td>0.0</td>\n",
       "      <td>0.0</td>\n",
       "      <td>1.0</td>\n",
       "      <td>1.0</td>\n",
       "      <td>1.0</td>\n",
       "      <td>Pancreas</td>\n",
       "      <td>Adrenal</td>\n",
       "    </tr>\n",
       "  </tbody>\n",
       "</table>\n",
       "</div>"
      ],
      "text/plain": [
       "           gene_id gene_short_name   gene_type   max.cluster  \\\n",
       "0  ENSG00000225036    RP11-414B7.1  pseudogene  Acinar cells   \n",
       "1  ENSG00000270342   RP11-478L17.1  pseudogene  Acinar cells   \n",
       "2  ENSG00000270976   RP11-110F24.1  pseudogene  Acinar cells   \n",
       "3  ENSG00000232551   RP11-233E12.2  pseudogene  Acinar cells   \n",
       "4  ENSG00000264753      AL390036.1       miRNA  Acinar cells   \n",
       "5  ENSG00000226483    RP5-964H19.2  pseudogene  Acinar cells   \n",
       "6  ENSG00000228054           RANP5  pseudogene  Acinar cells   \n",
       "7  ENSG00000206832           RNU6V       snRNA  Acinar cells   \n",
       "8  ENSG00000207709          MIR197       miRNA  Acinar cells   \n",
       "9  ENSG00000224927       NDUFA5P10  pseudogene  Acinar cells   \n",
       "\n",
       "         second.cluster  max.expr  second.expr  fold.change  pval  qval  \\\n",
       "0  Adrenocortical cells       0.0          0.0          1.0   1.0   1.0   \n",
       "1  Adrenocortical cells       0.0          0.0          1.0   1.0   1.0   \n",
       "2  Adrenocortical cells       0.0          0.0          1.0   1.0   1.0   \n",
       "3  Adrenocortical cells       0.0          0.0          1.0   1.0   1.0   \n",
       "4  Adrenocortical cells       0.0          0.0          1.0   1.0   1.0   \n",
       "5  Adrenocortical cells       0.0          0.0          1.0   1.0   1.0   \n",
       "6  Adrenocortical cells       0.0          0.0          1.0   1.0   1.0   \n",
       "7  Adrenocortical cells       0.0          0.0          1.0   1.0   1.0   \n",
       "8  Adrenocortical cells       0.0          0.0          1.0   1.0   1.0   \n",
       "9  Adrenocortical cells       0.0          0.0          1.0   1.0   1.0   \n",
       "\n",
       "   OrganMax OrganSecond  \n",
       "0  Pancreas     Adrenal  \n",
       "1  Pancreas     Adrenal  \n",
       "2  Pancreas     Adrenal  \n",
       "3  Pancreas     Adrenal  \n",
       "4  Pancreas     Adrenal  \n",
       "5  Pancreas     Adrenal  \n",
       "6  Pancreas     Adrenal  \n",
       "7  Pancreas     Adrenal  \n",
       "8  Pancreas     Adrenal  \n",
       "9  Pancreas     Adrenal  "
      ]
     },
     "execution_count": 17,
     "metadata": {},
     "output_type": "execute_result"
    }
   ],
   "source": [
    "# Inlucindg organs\n",
    "cellMax_organ=cell_organs[[\"Organ\",\"Main cell type annotation\"]]\n",
    "cellMax_organ.columns=[\"OrganMax\",\"max.cluster\"]\n",
    "cellSecond_organ=cell_organs[[\"Organ\",\"Main cell type annotation\"]]\n",
    "cellSecond_organ.columns=[\"OrganSecond\",\"second.cluster\"]\n",
    "columns=introgression_genes.columns\n",
    "introgression_genesF=introgression_genes.merge(cellMax_organ,on=[\"max.cluster\"]).merge(cellSecond_organ,on=[\"second.cluster\"])\n",
    "introgression_genesF.head(10)"
   ]
  },
  {
   "cell_type": "markdown",
   "metadata": {},
   "source": [
    "### First test: average gene expression cerebrum and cerebellum compared with the rest of organs"
   ]
  },
  {
   "cell_type": "code",
   "execution_count": 18,
   "metadata": {},
   "outputs": [
    {
     "name": "stdout",
     "output_type": "stream",
     "text": [
      "Cerebrum and cerebellum:  462.9880340630743 , rest of the organs:  130.25627561135633 , Total:  178.38490126439524\n"
     ]
    }
   ],
   "source": [
    "cerebr_cerebel=introgression_genesF[introgression_genesF[\"OrganMax\"].str.contains(\"Cerebrum|Cerebellum\")][['max.expr']].mean()\n",
    "\n",
    "rest_of_organs=introgression_genesF[~introgression_genesF[\"OrganMax\"].str.contains(\"Cerebrum|Cerebellum\")][['max.expr']].mean()\n",
    "\n",
    "print(\"Cerebrum and cerebellum: \",cerebr_cerebel[\"max.expr\"],\", rest of the organs: \",rest_of_organs[\"max.expr\"],\n",
    "     \", Total: \",introgression_genesF[['max.expr']].mean()[\"max.expr\"])"
   ]
  },
  {
   "cell_type": "markdown",
   "metadata": {},
   "source": [
    "The results seem to show higher gene expression in cell types brain-related\n",
    "More investigation needed."
   ]
  },
  {
   "cell_type": "markdown",
   "metadata": {},
   "source": [
    "## Differential gene expression per cells "
   ]
  },
  {
   "cell_type": "code",
   "execution_count": 106,
   "metadata": {},
   "outputs": [
    {
     "data": {
      "text/html": [
       "<div>\n",
       "<style scoped>\n",
       "    .dataframe tbody tr th:only-of-type {\n",
       "        vertical-align: middle;\n",
       "    }\n",
       "\n",
       "    .dataframe tbody tr th {\n",
       "        vertical-align: top;\n",
       "    }\n",
       "\n",
       "    .dataframe thead th {\n",
       "        text-align: right;\n",
       "    }\n",
       "</style>\n",
       "<table border=\"1\" class=\"dataframe\">\n",
       "  <thead>\n",
       "    <tr style=\"text-align: right;\">\n",
       "      <th></th>\n",
       "      <th>organ</th>\n",
       "      <th>gene_id</th>\n",
       "      <th>gene_short_name</th>\n",
       "      <th>gene_type</th>\n",
       "      <th>max.cluster</th>\n",
       "      <th>second.cluster</th>\n",
       "      <th>max.expr</th>\n",
       "      <th>second.expr</th>\n",
       "      <th>fold.change</th>\n",
       "      <th>pval</th>\n",
       "      <th>qval</th>\n",
       "    </tr>\n",
       "  </thead>\n",
       "  <tbody>\n",
       "    <tr>\n",
       "      <th>0</th>\n",
       "      <td>Adrenal</td>\n",
       "      <td>ENSG00000135346</td>\n",
       "      <td>'CGA'</td>\n",
       "      <td>protein_coding</td>\n",
       "      <td>CSH1_CSH2 positive cells</td>\n",
       "      <td>Sympathoblasts</td>\n",
       "      <td>9519.045062</td>\n",
       "      <td>1.518893</td>\n",
       "      <td>6226.110471</td>\n",
       "      <td>0.0</td>\n",
       "      <td>0.0</td>\n",
       "    </tr>\n",
       "    <tr>\n",
       "      <th>1</th>\n",
       "      <td>Adrenal</td>\n",
       "      <td>ENSG00000136488</td>\n",
       "      <td>'CSH1'</td>\n",
       "      <td>protein_coding</td>\n",
       "      <td>CSH1_CSH2 positive cells</td>\n",
       "      <td>Sympathoblasts</td>\n",
       "      <td>25536.878400</td>\n",
       "      <td>4.822877</td>\n",
       "      <td>5283.993555</td>\n",
       "      <td>0.0</td>\n",
       "      <td>0.0</td>\n",
       "    </tr>\n",
       "    <tr>\n",
       "      <th>2</th>\n",
       "      <td>Adrenal</td>\n",
       "      <td>ENSG00000137869</td>\n",
       "      <td>'CYP19A1'</td>\n",
       "      <td>protein_coding</td>\n",
       "      <td>CSH1_CSH2 positive cells</td>\n",
       "      <td>Myeloid cells</td>\n",
       "      <td>6589.965874</td>\n",
       "      <td>4.546544</td>\n",
       "      <td>1446.266217</td>\n",
       "      <td>0.0</td>\n",
       "      <td>0.0</td>\n",
       "    </tr>\n",
       "    <tr>\n",
       "      <th>3</th>\n",
       "      <td>Adrenal</td>\n",
       "      <td>ENSG00000169704</td>\n",
       "      <td>'GP9'</td>\n",
       "      <td>protein_coding</td>\n",
       "      <td>Megakaryocytes</td>\n",
       "      <td>Vascular endothelial cells</td>\n",
       "      <td>1364.708659</td>\n",
       "      <td>1.537244</td>\n",
       "      <td>882.031802</td>\n",
       "      <td>0.0</td>\n",
       "      <td>0.0</td>\n",
       "    </tr>\n",
       "    <tr>\n",
       "      <th>4</th>\n",
       "      <td>Adrenal</td>\n",
       "      <td>ENSG00000163737</td>\n",
       "      <td>'PF4'</td>\n",
       "      <td>protein_coding</td>\n",
       "      <td>Megakaryocytes</td>\n",
       "      <td>Lymphoid cells</td>\n",
       "      <td>10218.956730</td>\n",
       "      <td>13.293575</td>\n",
       "      <td>768.136918</td>\n",
       "      <td>0.0</td>\n",
       "      <td>0.0</td>\n",
       "    </tr>\n",
       "  </tbody>\n",
       "</table>\n",
       "</div>"
      ],
      "text/plain": [
       "     organ          gene_id gene_short_name       gene_type  \\\n",
       "0  Adrenal  ENSG00000135346           'CGA'  protein_coding   \n",
       "1  Adrenal  ENSG00000136488          'CSH1'  protein_coding   \n",
       "2  Adrenal  ENSG00000137869       'CYP19A1'  protein_coding   \n",
       "3  Adrenal  ENSG00000169704           'GP9'  protein_coding   \n",
       "4  Adrenal  ENSG00000163737           'PF4'  protein_coding   \n",
       "\n",
       "                max.cluster              second.cluster      max.expr  \\\n",
       "0  CSH1_CSH2 positive cells              Sympathoblasts   9519.045062   \n",
       "1  CSH1_CSH2 positive cells              Sympathoblasts  25536.878400   \n",
       "2  CSH1_CSH2 positive cells               Myeloid cells   6589.965874   \n",
       "3            Megakaryocytes  Vascular endothelial cells   1364.708659   \n",
       "4            Megakaryocytes              Lymphoid cells  10218.956730   \n",
       "\n",
       "   second.expr  fold.change  pval  qval  \n",
       "0     1.518893  6226.110471   0.0   0.0  \n",
       "1     4.822877  5283.993555   0.0   0.0  \n",
       "2     4.546544  1446.266217   0.0   0.0  \n",
       "3     1.537244   882.031802   0.0   0.0  \n",
       "4    13.293575   768.136918   0.0   0.0  "
      ]
     },
     "execution_count": 106,
     "metadata": {},
     "output_type": "execute_result"
    }
   ],
   "source": [
    "DE_gene_cells=pd.read_csv(\"Data/GSE156793_S8_DE_gene_cells.csv\")\n",
    "DE_gene_cells['gene_id'] = DE_gene_cells['gene_id'].map(lambda x: str(x).split(\".\")[0])\n",
    "DE_gene_cells.head()"
   ]
  },
  {
   "cell_type": "code",
   "execution_count": 103,
   "metadata": {},
   "outputs": [],
   "source": [
    "# Filtering by introgression deserts genes\n",
    "DE_gene_cellsF=DE_gene_cells[DE_gene_cells[\"gene_id\"].isin(ensemblID)]"
   ]
  },
  {
   "cell_type": "markdown",
   "metadata": {},
   "source": [
    "### Comparing expression values between introgression deserts and the rest "
   ]
  },
  {
   "cell_type": "code",
   "execution_count": 116,
   "metadata": {},
   "outputs": [
    {
     "name": "stdout",
     "output_type": "stream",
     "text": [
      "Cerebrum\n",
      "Mean(introgression desert): 220.43537821482263\n",
      "Mean(general): 100.42693493571024\n"
     ]
    }
   ],
   "source": [
    "print(\"Cerebrum\")\n",
    "print(\"Mean(introgression desert):\",DE_gene_cellsF[DE_gene_cellsF[\"organ\"]==\"Cerebrum\"][[\"max.expr\"]].mean()[0])\n",
    "print(\"Mean(general):\",DE_gene_cells[DE_gene_cells[\"organ\"]==\"Cerebrum\"][[\"max.expr\"]].mean()[0])\n"
   ]
  },
  {
   "cell_type": "code",
   "execution_count": 117,
   "metadata": {},
   "outputs": [
    {
     "name": "stdout",
     "output_type": "stream",
     "text": [
      "Cerebellum\n",
      "Mean(introgression desert): 213.55732737141483\n",
      "Mean(general): 98.652446722724\n"
     ]
    }
   ],
   "source": [
    "print(\"Cerebellum\")\n",
    "print(\"Mean(introgression desert):\",DE_gene_cellsF[DE_gene_cellsF[\"organ\"]==\"Cerebellum\"][[\"max.expr\"]].mean()[0])\n",
    "print(\"Mean(general):\",DE_gene_cells[DE_gene_cells[\"organ\"]==\"Cerebellum\"][[\"max.expr\"]].mean()[0])"
   ]
  },
  {
   "cell_type": "code",
   "execution_count": 118,
   "metadata": {},
   "outputs": [
    {
     "name": "stdout",
     "output_type": "stream",
     "text": [
      "Liver\n",
      "Mean(introgression desert): 121.51434654590055\n",
      "Mean(general): 139.99952896126482\n"
     ]
    }
   ],
   "source": [
    "print(\"Liver\")\n",
    "print(\"Mean(introgression desert):\",DE_gene_cellsF[DE_gene_cellsF[\"organ\"]==\"Liver\"][[\"max.expr\"]].mean()[0])\n",
    "print(\"Mean(general):\",DE_gene_cells[DE_gene_cells[\"organ\"]==\"Liver\"][[\"max.expr\"]].mean()[0])"
   ]
  },
  {
   "cell_type": "code",
   "execution_count": 119,
   "metadata": {},
   "outputs": [
    {
     "name": "stdout",
     "output_type": "stream",
     "text": [
      "Cerebellum\n",
      "Mean(introgression desert): 220.61804901085068\n",
      "Mean(general): 229.58804227308818\n"
     ]
    }
   ],
   "source": [
    "print(\"Cerebellum\")\n",
    "print(\"Mean(introgression desert):\",DE_gene_cellsF[DE_gene_cellsF[\"organ\"]==\"Stomach\"][[\"max.expr\"]].mean()[0])\n",
    "print(\"Mean(general):\",DE_gene_cells[DE_gene_cells[\"organ\"]==\"Stomach\"][[\"max.expr\"]].mean()[0])"
   ]
  },
  {
   "cell_type": "code",
   "execution_count": 139,
   "metadata": {},
   "outputs": [
    {
     "data": {
      "text/html": [
       "<div>\n",
       "<style scoped>\n",
       "    .dataframe tbody tr th:only-of-type {\n",
       "        vertical-align: middle;\n",
       "    }\n",
       "\n",
       "    .dataframe tbody tr th {\n",
       "        vertical-align: top;\n",
       "    }\n",
       "\n",
       "    .dataframe thead th {\n",
       "        text-align: right;\n",
       "    }\n",
       "</style>\n",
       "<table border=\"1\" class=\"dataframe\">\n",
       "  <thead>\n",
       "    <tr style=\"text-align: right;\">\n",
       "      <th></th>\n",
       "      <th>IntrogrDes</th>\n",
       "      <th>General</th>\n",
       "      <th>diff</th>\n",
       "    </tr>\n",
       "    <tr>\n",
       "      <th>organ</th>\n",
       "      <th></th>\n",
       "      <th></th>\n",
       "      <th></th>\n",
       "    </tr>\n",
       "  </thead>\n",
       "  <tbody>\n",
       "    <tr>\n",
       "      <th>Cerebrum</th>\n",
       "      <td>220.435378</td>\n",
       "      <td>100.426935</td>\n",
       "      <td>120.008443</td>\n",
       "    </tr>\n",
       "    <tr>\n",
       "      <th>Cerebellum</th>\n",
       "      <td>213.557327</td>\n",
       "      <td>98.652447</td>\n",
       "      <td>114.904881</td>\n",
       "    </tr>\n",
       "    <tr>\n",
       "      <th>Eye</th>\n",
       "      <td>263.368100</td>\n",
       "      <td>197.767413</td>\n",
       "      <td>65.600687</td>\n",
       "    </tr>\n",
       "    <tr>\n",
       "      <th>Thymus</th>\n",
       "      <td>172.098831</td>\n",
       "      <td>150.462234</td>\n",
       "      <td>21.636597</td>\n",
       "    </tr>\n",
       "    <tr>\n",
       "      <th>Adrenal</th>\n",
       "      <td>168.376757</td>\n",
       "      <td>148.126277</td>\n",
       "      <td>20.250479</td>\n",
       "    </tr>\n",
       "    <tr>\n",
       "      <th>Lung</th>\n",
       "      <td>188.656016</td>\n",
       "      <td>169.013687</td>\n",
       "      <td>19.642329</td>\n",
       "    </tr>\n",
       "    <tr>\n",
       "      <th>Heart</th>\n",
       "      <td>205.631080</td>\n",
       "      <td>188.805142</td>\n",
       "      <td>16.825938</td>\n",
       "    </tr>\n",
       "    <tr>\n",
       "      <th>Intestine</th>\n",
       "      <td>152.083610</td>\n",
       "      <td>140.939874</td>\n",
       "      <td>11.143736</td>\n",
       "    </tr>\n",
       "    <tr>\n",
       "      <th>Muscle</th>\n",
       "      <td>204.868270</td>\n",
       "      <td>200.097230</td>\n",
       "      <td>4.771040</td>\n",
       "    </tr>\n",
       "    <tr>\n",
       "      <th>Stomach</th>\n",
       "      <td>220.618049</td>\n",
       "      <td>229.588042</td>\n",
       "      <td>-8.969993</td>\n",
       "    </tr>\n",
       "    <tr>\n",
       "      <th>Liver</th>\n",
       "      <td>121.514347</td>\n",
       "      <td>139.999529</td>\n",
       "      <td>-18.485182</td>\n",
       "    </tr>\n",
       "    <tr>\n",
       "      <th>Kidney</th>\n",
       "      <td>93.271866</td>\n",
       "      <td>113.690445</td>\n",
       "      <td>-20.418579</td>\n",
       "    </tr>\n",
       "    <tr>\n",
       "      <th>Spleen</th>\n",
       "      <td>152.178228</td>\n",
       "      <td>175.947860</td>\n",
       "      <td>-23.769632</td>\n",
       "    </tr>\n",
       "    <tr>\n",
       "      <th>Placenta</th>\n",
       "      <td>189.140116</td>\n",
       "      <td>219.786625</td>\n",
       "      <td>-30.646509</td>\n",
       "    </tr>\n",
       "    <tr>\n",
       "      <th>Pancreas</th>\n",
       "      <td>118.330642</td>\n",
       "      <td>162.342412</td>\n",
       "      <td>-44.011771</td>\n",
       "    </tr>\n",
       "  </tbody>\n",
       "</table>\n",
       "</div>"
      ],
      "text/plain": [
       "            IntrogrDes     General        diff\n",
       "organ                                         \n",
       "Cerebrum    220.435378  100.426935  120.008443\n",
       "Cerebellum  213.557327   98.652447  114.904881\n",
       "Eye         263.368100  197.767413   65.600687\n",
       "Thymus      172.098831  150.462234   21.636597\n",
       "Adrenal     168.376757  148.126277   20.250479\n",
       "Lung        188.656016  169.013687   19.642329\n",
       "Heart       205.631080  188.805142   16.825938\n",
       "Intestine   152.083610  140.939874   11.143736\n",
       "Muscle      204.868270  200.097230    4.771040\n",
       "Stomach     220.618049  229.588042   -8.969993\n",
       "Liver       121.514347  139.999529  -18.485182\n",
       "Kidney       93.271866  113.690445  -20.418579\n",
       "Spleen      152.178228  175.947860  -23.769632\n",
       "Placenta    189.140116  219.786625  -30.646509\n",
       "Pancreas    118.330642  162.342412  -44.011771"
      ]
     },
     "execution_count": 139,
     "metadata": {},
     "output_type": "execute_result"
    }
   ],
   "source": [
    "DE_gene_cellsF_grouped=DE_gene_cellsF.groupby(\"organ\")[[\"max.expr\"]].mean()\n",
    "DE_gene_cells_grouped=DE_gene_cells.groupby(\"organ\")[[\"max.expr\"]].mean()\n",
    "DE_means=DE_gene_cellsF_grouped.merge(DE_gene_cells_grouped,on=[\"organ\"])\n",
    "DE_means.columns=[\"IntrogrDes\",\"General\"]\n",
    "DE_means[\"diff\"]=DE_means[\"IntrogrDes\"]-DE_means[\"General\"]\n",
    "# DE_means.sort_values(by=[\"diff\"],ascending=False).to_excel(\"geneExpression_organs.xlsx\")\n",
    "DE_means.sort_values(by=[\"diff\"],ascending=False)\n"
   ]
  },
  {
   "cell_type": "markdown",
   "metadata": {},
   "source": [
    "These are just a few tests but the results with the S5 data looks quite interesting. In Introgression deserts the expression values in the Cerebellum and Cerebrum is completely different than in the rest of the organs"
   ]
  },
  {
   "cell_type": "markdown",
   "metadata": {},
   "source": [
    "## Plots"
   ]
  },
  {
   "cell_type": "markdown",
   "metadata": {},
   "source": [
    "### Plots with cerebrum and cerebellum"
   ]
  },
  {
   "cell_type": "code",
   "execution_count": 28,
   "metadata": {},
   "outputs": [],
   "source": [
    "import plotly.express as px"
   ]
  },
  {
   "cell_type": "code",
   "execution_count": 46,
   "metadata": {},
   "outputs": [
    {
     "data": {
      "application/vnd.plotly.v1+json": {
       "config": {
        "plotlyServerURL": "https://plot.ly"
       },
       "data": [
        {
         "hovertemplate": "<b>%{hovertext}</b><br><br>max.cluster=SKOR2_NPSR1 positive cells<br>max.expr=%{x}<br>fold.change=%{y}<extra></extra>",
         "hovertext": [
          "MIR5688",
          "CTB-111H14.1",
          "FOXP2",
          "MIR3666",
          "RP11-458K10.1",
          "CTTNBP2",
          "WNT16",
          "RP11-159M11.2",
          "CTB-30L5.1",
          "RP11-710N8.3",
          "RN7SL420P",
          "RNA5SP236",
          "AC003989.4",
          "RNA5SP238",
          "Y_RNA",
          "RP4-742N3.1",
          "RP4-773N10.6",
          "AC002463.3"
         ],
         "legendgroup": "SKOR2_NPSR1 positive cells",
         "marker": {
          "color": "#636efa",
          "symbol": "circle"
         },
         "mode": "markers",
         "name": "SKOR2_NPSR1 positive cells",
         "orientation": "v",
         "showlegend": true,
         "type": "scatter",
         "x": [
          0.0935016362786348,
          175.036435771172,
          5125.9039997177,
          0.106382978723404,
          8.53946569550586,
          594.138791870801,
          17.5774001644117,
          0.630018060108753,
          7.21826768583142,
          0.109709270433351,
          0.0543478260869565,
          0.280804380739881,
          0.027348557363599,
          0.478468899521531,
          0.490795706661869,
          0.0263608804534071,
          1.02057248386174,
          4.73737683682423
         ],
         "xaxis": "x",
         "y": [
          1.12644645922052,
          1.15455938866391,
          1.09814090884917,
          1.40097731787816,
          1.38805419767581,
          1.06081304054138,
          1.1116989838967,
          1.11823836077999,
          1.27575600259049,
          11.9709270433351,
          6.43478260869565,
          29.0804380739881,
          3.7348557363599,
          48.8468899521531,
          50.0795706661869,
          3.63608804534071,
          1.08323930625327,
          1.17974791452117
         ],
         "yaxis": "y"
        },
        {
         "hovertemplate": "<b>%{hovertext}</b><br><br>max.cluster=Excitatory neurons<br>max.expr=%{x}<br>fold.change=%{y}<extra></extra>",
         "hovertext": [
          "WDR47",
          "ROBO2",
          "RP11-659E9.4",
          "RN7SKP277",
          "NKAIN3",
          "SLC26A4-AS1",
          "EPHA3"
         ],
         "legendgroup": "Excitatory neurons",
         "marker": {
          "color": "#EF553B",
          "symbol": "circle"
         },
         "mode": "markers",
         "name": "Excitatory neurons",
         "orientation": "v",
         "showlegend": true,
         "type": "scatter",
         "x": [
          137.306783525832,
          7651.64740629181,
          1.17211438114496,
          0.0947867298578198,
          2293.49922235464,
          7.35192059097816,
          1794.29089142096
         ],
         "xaxis": "x",
         "y": [
          1.10876174532534,
          1.05509630704578,
          1.14171080857823,
          10.4786729857819,
          1.13694639454504,
          1.1682887055561,
          1.25356421394776
         ],
         "yaxis": "y"
        },
        {
         "hovertemplate": "<b>%{hovertext}</b><br><br>max.cluster=Limbic system neurons<br>max.expr=%{x}<br>fold.change=%{y}<extra></extra>",
         "hovertext": [
          "RP11-579E24.1",
          "AC114491.1",
          "RP5-965F6.1",
          "NTNG1",
          "OR7E66P",
          "OPRK1"
         ],
         "legendgroup": "Limbic system neurons",
         "marker": {
          "color": "#00cc96",
          "symbol": "circle"
         },
         "mode": "markers",
         "name": "Limbic system neurons",
         "orientation": "v",
         "showlegend": true,
         "type": "scatter",
         "x": [
          2.32108205199483,
          0.110997338202854,
          0.0652954619653933,
          3326.84757667149,
          0.312012480499219,
          54.5149803756809
         ],
         "xaxis": "x",
         "y": [
          1.20745156797837,
          12.0997338202854,
          7.52954619653933,
          2.63069125514845,
          1.15941255570886,
          2.00078983705109
         ],
         "yaxis": "y"
        },
        {
         "hovertemplate": "<b>%{hovertext}</b><br><br>max.cluster=Oligodendrocytes<br>max.expr=%{x}<br>fold.change=%{y}<extra></extra>",
         "hovertext": [
          "CADM2-AS1",
          "GPSM2",
          "RP11-475E11.2",
          "RPL31P41",
          "KCND2",
          "RP4-797C5.2",
          "PTPRZ1",
          "RP11-109P6.2",
          "SNTG1",
          "RNU6-581P",
          "RPS3AP15"
         ],
         "legendgroup": "Oligodendrocytes",
         "marker": {
          "color": "#ab63fa",
          "symbol": "circle"
         },
         "mode": "markers",
         "name": "Oligodendrocytes",
         "orientation": "v",
         "showlegend": true,
         "type": "scatter",
         "x": [
          12.5589221315309,
          159.214927494989,
          0.118203309692671,
          0.0970873786407766,
          8188.10446678698,
          10.8465571381235,
          4229.30158346736,
          1.70933182262082,
          3054.21870863626,
          3.96005014557706,
          0.271616115889542
         ],
         "xaxis": "x",
         "y": [
          1.03581219513675,
          1.00583051797331,
          12.8203309692671,
          10.7087378640776,
          1.78212911673446,
          1.35182344326174,
          1.46048384723148,
          1.46589930632147,
          1.13083088459144,
          3.85966421196644,
          1.01501038609617
         ],
         "yaxis": "y"
        },
        {
         "hovertemplate": "<b>%{hovertext}</b><br><br>max.cluster=Inhibitory neurons<br>max.expr=%{x}<br>fold.change=%{y}<extra></extra>",
         "hovertext": [
          "MTND5P8",
          "RP4-712E4.2",
          "NRBF2P3"
         ],
         "legendgroup": "Inhibitory neurons",
         "marker": {
          "color": "#FFA15A",
          "symbol": "circle"
         },
         "mode": "markers",
         "name": "Inhibitory neurons",
         "orientation": "v",
         "showlegend": true,
         "type": "scatter",
         "x": [
          0.255102040816326,
          0.265151515151515,
          0.595238095238095
         ],
         "xaxis": "x",
         "y": [
          26.5102040816326,
          2.42153408227279,
          3.323346879627
         ],
         "yaxis": "y"
        }
       ],
       "layout": {
        "legend": {
         "title": {
          "text": "max.cluster"
         },
         "tracegroupgap": 0
        },
        "margin": {
         "t": 60
        },
        "template": {
         "data": {
          "bar": [
           {
            "error_x": {
             "color": "#2a3f5f"
            },
            "error_y": {
             "color": "#2a3f5f"
            },
            "marker": {
             "line": {
              "color": "#E5ECF6",
              "width": 0.5
             }
            },
            "type": "bar"
           }
          ],
          "barpolar": [
           {
            "marker": {
             "line": {
              "color": "#E5ECF6",
              "width": 0.5
             }
            },
            "type": "barpolar"
           }
          ],
          "carpet": [
           {
            "aaxis": {
             "endlinecolor": "#2a3f5f",
             "gridcolor": "white",
             "linecolor": "white",
             "minorgridcolor": "white",
             "startlinecolor": "#2a3f5f"
            },
            "baxis": {
             "endlinecolor": "#2a3f5f",
             "gridcolor": "white",
             "linecolor": "white",
             "minorgridcolor": "white",
             "startlinecolor": "#2a3f5f"
            },
            "type": "carpet"
           }
          ],
          "choropleth": [
           {
            "colorbar": {
             "outlinewidth": 0,
             "ticks": ""
            },
            "type": "choropleth"
           }
          ],
          "contour": [
           {
            "colorbar": {
             "outlinewidth": 0,
             "ticks": ""
            },
            "colorscale": [
             [
              0,
              "#0d0887"
             ],
             [
              0.1111111111111111,
              "#46039f"
             ],
             [
              0.2222222222222222,
              "#7201a8"
             ],
             [
              0.3333333333333333,
              "#9c179e"
             ],
             [
              0.4444444444444444,
              "#bd3786"
             ],
             [
              0.5555555555555556,
              "#d8576b"
             ],
             [
              0.6666666666666666,
              "#ed7953"
             ],
             [
              0.7777777777777778,
              "#fb9f3a"
             ],
             [
              0.8888888888888888,
              "#fdca26"
             ],
             [
              1,
              "#f0f921"
             ]
            ],
            "type": "contour"
           }
          ],
          "contourcarpet": [
           {
            "colorbar": {
             "outlinewidth": 0,
             "ticks": ""
            },
            "type": "contourcarpet"
           }
          ],
          "heatmap": [
           {
            "colorbar": {
             "outlinewidth": 0,
             "ticks": ""
            },
            "colorscale": [
             [
              0,
              "#0d0887"
             ],
             [
              0.1111111111111111,
              "#46039f"
             ],
             [
              0.2222222222222222,
              "#7201a8"
             ],
             [
              0.3333333333333333,
              "#9c179e"
             ],
             [
              0.4444444444444444,
              "#bd3786"
             ],
             [
              0.5555555555555556,
              "#d8576b"
             ],
             [
              0.6666666666666666,
              "#ed7953"
             ],
             [
              0.7777777777777778,
              "#fb9f3a"
             ],
             [
              0.8888888888888888,
              "#fdca26"
             ],
             [
              1,
              "#f0f921"
             ]
            ],
            "type": "heatmap"
           }
          ],
          "heatmapgl": [
           {
            "colorbar": {
             "outlinewidth": 0,
             "ticks": ""
            },
            "colorscale": [
             [
              0,
              "#0d0887"
             ],
             [
              0.1111111111111111,
              "#46039f"
             ],
             [
              0.2222222222222222,
              "#7201a8"
             ],
             [
              0.3333333333333333,
              "#9c179e"
             ],
             [
              0.4444444444444444,
              "#bd3786"
             ],
             [
              0.5555555555555556,
              "#d8576b"
             ],
             [
              0.6666666666666666,
              "#ed7953"
             ],
             [
              0.7777777777777778,
              "#fb9f3a"
             ],
             [
              0.8888888888888888,
              "#fdca26"
             ],
             [
              1,
              "#f0f921"
             ]
            ],
            "type": "heatmapgl"
           }
          ],
          "histogram": [
           {
            "marker": {
             "colorbar": {
              "outlinewidth": 0,
              "ticks": ""
             }
            },
            "type": "histogram"
           }
          ],
          "histogram2d": [
           {
            "colorbar": {
             "outlinewidth": 0,
             "ticks": ""
            },
            "colorscale": [
             [
              0,
              "#0d0887"
             ],
             [
              0.1111111111111111,
              "#46039f"
             ],
             [
              0.2222222222222222,
              "#7201a8"
             ],
             [
              0.3333333333333333,
              "#9c179e"
             ],
             [
              0.4444444444444444,
              "#bd3786"
             ],
             [
              0.5555555555555556,
              "#d8576b"
             ],
             [
              0.6666666666666666,
              "#ed7953"
             ],
             [
              0.7777777777777778,
              "#fb9f3a"
             ],
             [
              0.8888888888888888,
              "#fdca26"
             ],
             [
              1,
              "#f0f921"
             ]
            ],
            "type": "histogram2d"
           }
          ],
          "histogram2dcontour": [
           {
            "colorbar": {
             "outlinewidth": 0,
             "ticks": ""
            },
            "colorscale": [
             [
              0,
              "#0d0887"
             ],
             [
              0.1111111111111111,
              "#46039f"
             ],
             [
              0.2222222222222222,
              "#7201a8"
             ],
             [
              0.3333333333333333,
              "#9c179e"
             ],
             [
              0.4444444444444444,
              "#bd3786"
             ],
             [
              0.5555555555555556,
              "#d8576b"
             ],
             [
              0.6666666666666666,
              "#ed7953"
             ],
             [
              0.7777777777777778,
              "#fb9f3a"
             ],
             [
              0.8888888888888888,
              "#fdca26"
             ],
             [
              1,
              "#f0f921"
             ]
            ],
            "type": "histogram2dcontour"
           }
          ],
          "mesh3d": [
           {
            "colorbar": {
             "outlinewidth": 0,
             "ticks": ""
            },
            "type": "mesh3d"
           }
          ],
          "parcoords": [
           {
            "line": {
             "colorbar": {
              "outlinewidth": 0,
              "ticks": ""
             }
            },
            "type": "parcoords"
           }
          ],
          "pie": [
           {
            "automargin": true,
            "type": "pie"
           }
          ],
          "scatter": [
           {
            "marker": {
             "colorbar": {
              "outlinewidth": 0,
              "ticks": ""
             }
            },
            "type": "scatter"
           }
          ],
          "scatter3d": [
           {
            "line": {
             "colorbar": {
              "outlinewidth": 0,
              "ticks": ""
             }
            },
            "marker": {
             "colorbar": {
              "outlinewidth": 0,
              "ticks": ""
             }
            },
            "type": "scatter3d"
           }
          ],
          "scattercarpet": [
           {
            "marker": {
             "colorbar": {
              "outlinewidth": 0,
              "ticks": ""
             }
            },
            "type": "scattercarpet"
           }
          ],
          "scattergeo": [
           {
            "marker": {
             "colorbar": {
              "outlinewidth": 0,
              "ticks": ""
             }
            },
            "type": "scattergeo"
           }
          ],
          "scattergl": [
           {
            "marker": {
             "colorbar": {
              "outlinewidth": 0,
              "ticks": ""
             }
            },
            "type": "scattergl"
           }
          ],
          "scattermapbox": [
           {
            "marker": {
             "colorbar": {
              "outlinewidth": 0,
              "ticks": ""
             }
            },
            "type": "scattermapbox"
           }
          ],
          "scatterpolar": [
           {
            "marker": {
             "colorbar": {
              "outlinewidth": 0,
              "ticks": ""
             }
            },
            "type": "scatterpolar"
           }
          ],
          "scatterpolargl": [
           {
            "marker": {
             "colorbar": {
              "outlinewidth": 0,
              "ticks": ""
             }
            },
            "type": "scatterpolargl"
           }
          ],
          "scatterternary": [
           {
            "marker": {
             "colorbar": {
              "outlinewidth": 0,
              "ticks": ""
             }
            },
            "type": "scatterternary"
           }
          ],
          "surface": [
           {
            "colorbar": {
             "outlinewidth": 0,
             "ticks": ""
            },
            "colorscale": [
             [
              0,
              "#0d0887"
             ],
             [
              0.1111111111111111,
              "#46039f"
             ],
             [
              0.2222222222222222,
              "#7201a8"
             ],
             [
              0.3333333333333333,
              "#9c179e"
             ],
             [
              0.4444444444444444,
              "#bd3786"
             ],
             [
              0.5555555555555556,
              "#d8576b"
             ],
             [
              0.6666666666666666,
              "#ed7953"
             ],
             [
              0.7777777777777778,
              "#fb9f3a"
             ],
             [
              0.8888888888888888,
              "#fdca26"
             ],
             [
              1,
              "#f0f921"
             ]
            ],
            "type": "surface"
           }
          ],
          "table": [
           {
            "cells": {
             "fill": {
              "color": "#EBF0F8"
             },
             "line": {
              "color": "white"
             }
            },
            "header": {
             "fill": {
              "color": "#C8D4E3"
             },
             "line": {
              "color": "white"
             }
            },
            "type": "table"
           }
          ]
         },
         "layout": {
          "annotationdefaults": {
           "arrowcolor": "#2a3f5f",
           "arrowhead": 0,
           "arrowwidth": 1
          },
          "coloraxis": {
           "colorbar": {
            "outlinewidth": 0,
            "ticks": ""
           }
          },
          "colorscale": {
           "diverging": [
            [
             0,
             "#8e0152"
            ],
            [
             0.1,
             "#c51b7d"
            ],
            [
             0.2,
             "#de77ae"
            ],
            [
             0.3,
             "#f1b6da"
            ],
            [
             0.4,
             "#fde0ef"
            ],
            [
             0.5,
             "#f7f7f7"
            ],
            [
             0.6,
             "#e6f5d0"
            ],
            [
             0.7,
             "#b8e186"
            ],
            [
             0.8,
             "#7fbc41"
            ],
            [
             0.9,
             "#4d9221"
            ],
            [
             1,
             "#276419"
            ]
           ],
           "sequential": [
            [
             0,
             "#0d0887"
            ],
            [
             0.1111111111111111,
             "#46039f"
            ],
            [
             0.2222222222222222,
             "#7201a8"
            ],
            [
             0.3333333333333333,
             "#9c179e"
            ],
            [
             0.4444444444444444,
             "#bd3786"
            ],
            [
             0.5555555555555556,
             "#d8576b"
            ],
            [
             0.6666666666666666,
             "#ed7953"
            ],
            [
             0.7777777777777778,
             "#fb9f3a"
            ],
            [
             0.8888888888888888,
             "#fdca26"
            ],
            [
             1,
             "#f0f921"
            ]
           ],
           "sequentialminus": [
            [
             0,
             "#0d0887"
            ],
            [
             0.1111111111111111,
             "#46039f"
            ],
            [
             0.2222222222222222,
             "#7201a8"
            ],
            [
             0.3333333333333333,
             "#9c179e"
            ],
            [
             0.4444444444444444,
             "#bd3786"
            ],
            [
             0.5555555555555556,
             "#d8576b"
            ],
            [
             0.6666666666666666,
             "#ed7953"
            ],
            [
             0.7777777777777778,
             "#fb9f3a"
            ],
            [
             0.8888888888888888,
             "#fdca26"
            ],
            [
             1,
             "#f0f921"
            ]
           ]
          },
          "colorway": [
           "#636efa",
           "#EF553B",
           "#00cc96",
           "#ab63fa",
           "#FFA15A",
           "#19d3f3",
           "#FF6692",
           "#B6E880",
           "#FF97FF",
           "#FECB52"
          ],
          "font": {
           "color": "#2a3f5f"
          },
          "geo": {
           "bgcolor": "white",
           "lakecolor": "white",
           "landcolor": "#E5ECF6",
           "showlakes": true,
           "showland": true,
           "subunitcolor": "white"
          },
          "hoverlabel": {
           "align": "left"
          },
          "hovermode": "closest",
          "mapbox": {
           "style": "light"
          },
          "paper_bgcolor": "white",
          "plot_bgcolor": "#E5ECF6",
          "polar": {
           "angularaxis": {
            "gridcolor": "white",
            "linecolor": "white",
            "ticks": ""
           },
           "bgcolor": "#E5ECF6",
           "radialaxis": {
            "gridcolor": "white",
            "linecolor": "white",
            "ticks": ""
           }
          },
          "scene": {
           "xaxis": {
            "backgroundcolor": "#E5ECF6",
            "gridcolor": "white",
            "gridwidth": 2,
            "linecolor": "white",
            "showbackground": true,
            "ticks": "",
            "zerolinecolor": "white"
           },
           "yaxis": {
            "backgroundcolor": "#E5ECF6",
            "gridcolor": "white",
            "gridwidth": 2,
            "linecolor": "white",
            "showbackground": true,
            "ticks": "",
            "zerolinecolor": "white"
           },
           "zaxis": {
            "backgroundcolor": "#E5ECF6",
            "gridcolor": "white",
            "gridwidth": 2,
            "linecolor": "white",
            "showbackground": true,
            "ticks": "",
            "zerolinecolor": "white"
           }
          },
          "shapedefaults": {
           "line": {
            "color": "#2a3f5f"
           }
          },
          "ternary": {
           "aaxis": {
            "gridcolor": "white",
            "linecolor": "white",
            "ticks": ""
           },
           "baxis": {
            "gridcolor": "white",
            "linecolor": "white",
            "ticks": ""
           },
           "bgcolor": "#E5ECF6",
           "caxis": {
            "gridcolor": "white",
            "linecolor": "white",
            "ticks": ""
           }
          },
          "title": {
           "x": 0.05
          },
          "xaxis": {
           "automargin": true,
           "gridcolor": "white",
           "linecolor": "white",
           "ticks": "",
           "title": {
            "standoff": 15
           },
           "zerolinecolor": "white",
           "zerolinewidth": 2
          },
          "yaxis": {
           "automargin": true,
           "gridcolor": "white",
           "linecolor": "white",
           "ticks": "",
           "title": {
            "standoff": 15
           },
           "zerolinecolor": "white",
           "zerolinewidth": 2
          }
         }
        },
        "xaxis": {
         "anchor": "y",
         "domain": [
          0,
          1
         ],
         "title": {
          "text": "max.expr"
         }
        },
        "yaxis": {
         "anchor": "x",
         "domain": [
          0,
          1
         ],
         "title": {
          "text": "fold.change"
         }
        }
       }
      },
      "text/html": [
       "<div>                            <div id=\"052b826a-49d0-438a-9a16-4eec3df55597\" class=\"plotly-graph-div\" style=\"height:525px; width:100%;\"></div>            <script type=\"text/javascript\">                require([\"plotly\"], function(Plotly) {                    window.PLOTLYENV=window.PLOTLYENV || {};                                    if (document.getElementById(\"052b826a-49d0-438a-9a16-4eec3df55597\")) {                    Plotly.newPlot(                        \"052b826a-49d0-438a-9a16-4eec3df55597\",                        [{\"hovertemplate\": \"<b>%{hovertext}</b><br><br>max.cluster=SKOR2_NPSR1 positive cells<br>max.expr=%{x}<br>fold.change=%{y}<extra></extra>\", \"hovertext\": [\"MIR5688\", \"CTB-111H14.1\", \"FOXP2\", \"MIR3666\", \"RP11-458K10.1\", \"CTTNBP2\", \"WNT16\", \"RP11-159M11.2\", \"CTB-30L5.1\", \"RP11-710N8.3\", \"RN7SL420P\", \"RNA5SP236\", \"AC003989.4\", \"RNA5SP238\", \"Y_RNA\", \"RP4-742N3.1\", \"RP4-773N10.6\", \"AC002463.3\"], \"legendgroup\": \"SKOR2_NPSR1 positive cells\", \"marker\": {\"color\": \"#636efa\", \"symbol\": \"circle\"}, \"mode\": \"markers\", \"name\": \"SKOR2_NPSR1 positive cells\", \"orientation\": \"v\", \"showlegend\": true, \"type\": \"scatter\", \"x\": [0.0935016362786348, 175.036435771172, 5125.9039997177, 0.106382978723404, 8.53946569550586, 594.138791870801, 17.5774001644117, 0.630018060108753, 7.21826768583142, 0.109709270433351, 0.0543478260869565, 0.280804380739881, 0.027348557363599, 0.478468899521531, 0.490795706661869, 0.0263608804534071, 1.02057248386174, 4.73737683682423], \"xaxis\": \"x\", \"y\": [1.12644645922052, 1.15455938866391, 1.09814090884917, 1.40097731787816, 1.38805419767581, 1.06081304054138, 1.1116989838967, 1.11823836077999, 1.27575600259049, 11.9709270433351, 6.43478260869565, 29.0804380739881, 3.7348557363599, 48.8468899521531, 50.0795706661869, 3.63608804534071, 1.08323930625327, 1.17974791452117], \"yaxis\": \"y\"}, {\"hovertemplate\": \"<b>%{hovertext}</b><br><br>max.cluster=Excitatory neurons<br>max.expr=%{x}<br>fold.change=%{y}<extra></extra>\", \"hovertext\": [\"WDR47\", \"ROBO2\", \"RP11-659E9.4\", \"RN7SKP277\", \"NKAIN3\", \"SLC26A4-AS1\", \"EPHA3\"], \"legendgroup\": \"Excitatory neurons\", \"marker\": {\"color\": \"#EF553B\", \"symbol\": \"circle\"}, \"mode\": \"markers\", \"name\": \"Excitatory neurons\", \"orientation\": \"v\", \"showlegend\": true, \"type\": \"scatter\", \"x\": [137.306783525832, 7651.64740629181, 1.17211438114496, 0.0947867298578198, 2293.49922235464, 7.35192059097816, 1794.29089142096], \"xaxis\": \"x\", \"y\": [1.10876174532534, 1.05509630704578, 1.14171080857823, 10.4786729857819, 1.13694639454504, 1.1682887055561, 1.25356421394776], \"yaxis\": \"y\"}, {\"hovertemplate\": \"<b>%{hovertext}</b><br><br>max.cluster=Limbic system neurons<br>max.expr=%{x}<br>fold.change=%{y}<extra></extra>\", \"hovertext\": [\"RP11-579E24.1\", \"AC114491.1\", \"RP5-965F6.1\", \"NTNG1\", \"OR7E66P\", \"OPRK1\"], \"legendgroup\": \"Limbic system neurons\", \"marker\": {\"color\": \"#00cc96\", \"symbol\": \"circle\"}, \"mode\": \"markers\", \"name\": \"Limbic system neurons\", \"orientation\": \"v\", \"showlegend\": true, \"type\": \"scatter\", \"x\": [2.32108205199483, 0.110997338202854, 0.0652954619653933, 3326.84757667149, 0.312012480499219, 54.5149803756809], \"xaxis\": \"x\", \"y\": [1.20745156797837, 12.0997338202854, 7.52954619653933, 2.63069125514845, 1.15941255570886, 2.00078983705109], \"yaxis\": \"y\"}, {\"hovertemplate\": \"<b>%{hovertext}</b><br><br>max.cluster=Oligodendrocytes<br>max.expr=%{x}<br>fold.change=%{y}<extra></extra>\", \"hovertext\": [\"CADM2-AS1\", \"GPSM2\", \"RP11-475E11.2\", \"RPL31P41\", \"KCND2\", \"RP4-797C5.2\", \"PTPRZ1\", \"RP11-109P6.2\", \"SNTG1\", \"RNU6-581P\", \"RPS3AP15\"], \"legendgroup\": \"Oligodendrocytes\", \"marker\": {\"color\": \"#ab63fa\", \"symbol\": \"circle\"}, \"mode\": \"markers\", \"name\": \"Oligodendrocytes\", \"orientation\": \"v\", \"showlegend\": true, \"type\": \"scatter\", \"x\": [12.5589221315309, 159.214927494989, 0.118203309692671, 0.0970873786407766, 8188.10446678698, 10.8465571381235, 4229.30158346736, 1.70933182262082, 3054.21870863626, 3.96005014557706, 0.271616115889542], \"xaxis\": \"x\", \"y\": [1.03581219513675, 1.00583051797331, 12.8203309692671, 10.7087378640776, 1.78212911673446, 1.35182344326174, 1.46048384723148, 1.46589930632147, 1.13083088459144, 3.85966421196644, 1.01501038609617], \"yaxis\": \"y\"}, {\"hovertemplate\": \"<b>%{hovertext}</b><br><br>max.cluster=Inhibitory neurons<br>max.expr=%{x}<br>fold.change=%{y}<extra></extra>\", \"hovertext\": [\"MTND5P8\", \"RP4-712E4.2\", \"NRBF2P3\"], \"legendgroup\": \"Inhibitory neurons\", \"marker\": {\"color\": \"#FFA15A\", \"symbol\": \"circle\"}, \"mode\": \"markers\", \"name\": \"Inhibitory neurons\", \"orientation\": \"v\", \"showlegend\": true, \"type\": \"scatter\", \"x\": [0.255102040816326, 0.265151515151515, 0.595238095238095], \"xaxis\": \"x\", \"y\": [26.5102040816326, 2.42153408227279, 3.323346879627], \"yaxis\": \"y\"}],                        {\"legend\": {\"title\": {\"text\": \"max.cluster\"}, \"tracegroupgap\": 0}, \"margin\": {\"t\": 60}, \"template\": {\"data\": {\"bar\": [{\"error_x\": {\"color\": \"#2a3f5f\"}, \"error_y\": {\"color\": \"#2a3f5f\"}, \"marker\": {\"line\": {\"color\": \"#E5ECF6\", \"width\": 0.5}}, \"type\": \"bar\"}], \"barpolar\": [{\"marker\": {\"line\": {\"color\": \"#E5ECF6\", \"width\": 0.5}}, \"type\": \"barpolar\"}], \"carpet\": [{\"aaxis\": {\"endlinecolor\": \"#2a3f5f\", \"gridcolor\": \"white\", \"linecolor\": \"white\", \"minorgridcolor\": \"white\", \"startlinecolor\": \"#2a3f5f\"}, \"baxis\": {\"endlinecolor\": \"#2a3f5f\", \"gridcolor\": \"white\", \"linecolor\": \"white\", \"minorgridcolor\": \"white\", \"startlinecolor\": \"#2a3f5f\"}, \"type\": \"carpet\"}], \"choropleth\": [{\"colorbar\": {\"outlinewidth\": 0, \"ticks\": \"\"}, \"type\": \"choropleth\"}], \"contour\": [{\"colorbar\": {\"outlinewidth\": 0, \"ticks\": \"\"}, \"colorscale\": [[0.0, \"#0d0887\"], [0.1111111111111111, \"#46039f\"], [0.2222222222222222, \"#7201a8\"], [0.3333333333333333, \"#9c179e\"], [0.4444444444444444, \"#bd3786\"], [0.5555555555555556, \"#d8576b\"], [0.6666666666666666, \"#ed7953\"], [0.7777777777777778, \"#fb9f3a\"], [0.8888888888888888, \"#fdca26\"], [1.0, \"#f0f921\"]], \"type\": \"contour\"}], \"contourcarpet\": [{\"colorbar\": {\"outlinewidth\": 0, \"ticks\": \"\"}, \"type\": \"contourcarpet\"}], \"heatmap\": [{\"colorbar\": {\"outlinewidth\": 0, \"ticks\": \"\"}, \"colorscale\": [[0.0, \"#0d0887\"], [0.1111111111111111, \"#46039f\"], [0.2222222222222222, \"#7201a8\"], [0.3333333333333333, \"#9c179e\"], [0.4444444444444444, \"#bd3786\"], [0.5555555555555556, \"#d8576b\"], [0.6666666666666666, \"#ed7953\"], [0.7777777777777778, \"#fb9f3a\"], [0.8888888888888888, \"#fdca26\"], [1.0, \"#f0f921\"]], \"type\": \"heatmap\"}], \"heatmapgl\": [{\"colorbar\": {\"outlinewidth\": 0, \"ticks\": \"\"}, \"colorscale\": [[0.0, \"#0d0887\"], [0.1111111111111111, \"#46039f\"], [0.2222222222222222, \"#7201a8\"], [0.3333333333333333, \"#9c179e\"], [0.4444444444444444, \"#bd3786\"], [0.5555555555555556, \"#d8576b\"], [0.6666666666666666, \"#ed7953\"], [0.7777777777777778, \"#fb9f3a\"], [0.8888888888888888, \"#fdca26\"], [1.0, \"#f0f921\"]], \"type\": \"heatmapgl\"}], \"histogram\": [{\"marker\": {\"colorbar\": {\"outlinewidth\": 0, \"ticks\": \"\"}}, \"type\": \"histogram\"}], \"histogram2d\": [{\"colorbar\": {\"outlinewidth\": 0, \"ticks\": \"\"}, \"colorscale\": [[0.0, \"#0d0887\"], [0.1111111111111111, \"#46039f\"], [0.2222222222222222, \"#7201a8\"], [0.3333333333333333, \"#9c179e\"], [0.4444444444444444, \"#bd3786\"], [0.5555555555555556, \"#d8576b\"], [0.6666666666666666, \"#ed7953\"], [0.7777777777777778, \"#fb9f3a\"], [0.8888888888888888, \"#fdca26\"], [1.0, \"#f0f921\"]], \"type\": \"histogram2d\"}], \"histogram2dcontour\": [{\"colorbar\": {\"outlinewidth\": 0, \"ticks\": \"\"}, \"colorscale\": [[0.0, \"#0d0887\"], [0.1111111111111111, \"#46039f\"], [0.2222222222222222, \"#7201a8\"], [0.3333333333333333, \"#9c179e\"], [0.4444444444444444, \"#bd3786\"], [0.5555555555555556, \"#d8576b\"], [0.6666666666666666, \"#ed7953\"], [0.7777777777777778, \"#fb9f3a\"], [0.8888888888888888, \"#fdca26\"], [1.0, \"#f0f921\"]], \"type\": \"histogram2dcontour\"}], \"mesh3d\": [{\"colorbar\": {\"outlinewidth\": 0, \"ticks\": \"\"}, \"type\": \"mesh3d\"}], \"parcoords\": [{\"line\": {\"colorbar\": {\"outlinewidth\": 0, \"ticks\": \"\"}}, \"type\": \"parcoords\"}], \"pie\": [{\"automargin\": true, \"type\": \"pie\"}], \"scatter\": [{\"marker\": {\"colorbar\": {\"outlinewidth\": 0, \"ticks\": \"\"}}, \"type\": \"scatter\"}], \"scatter3d\": [{\"line\": {\"colorbar\": {\"outlinewidth\": 0, \"ticks\": \"\"}}, \"marker\": {\"colorbar\": {\"outlinewidth\": 0, \"ticks\": \"\"}}, \"type\": \"scatter3d\"}], \"scattercarpet\": [{\"marker\": {\"colorbar\": {\"outlinewidth\": 0, \"ticks\": \"\"}}, \"type\": \"scattercarpet\"}], \"scattergeo\": [{\"marker\": {\"colorbar\": {\"outlinewidth\": 0, \"ticks\": \"\"}}, \"type\": \"scattergeo\"}], \"scattergl\": [{\"marker\": {\"colorbar\": {\"outlinewidth\": 0, \"ticks\": \"\"}}, \"type\": \"scattergl\"}], \"scattermapbox\": [{\"marker\": {\"colorbar\": {\"outlinewidth\": 0, \"ticks\": \"\"}}, \"type\": \"scattermapbox\"}], \"scatterpolar\": [{\"marker\": {\"colorbar\": {\"outlinewidth\": 0, \"ticks\": \"\"}}, \"type\": \"scatterpolar\"}], \"scatterpolargl\": [{\"marker\": {\"colorbar\": {\"outlinewidth\": 0, \"ticks\": \"\"}}, \"type\": \"scatterpolargl\"}], \"scatterternary\": [{\"marker\": {\"colorbar\": {\"outlinewidth\": 0, \"ticks\": \"\"}}, \"type\": \"scatterternary\"}], \"surface\": [{\"colorbar\": {\"outlinewidth\": 0, \"ticks\": \"\"}, \"colorscale\": [[0.0, \"#0d0887\"], [0.1111111111111111, \"#46039f\"], [0.2222222222222222, \"#7201a8\"], [0.3333333333333333, \"#9c179e\"], [0.4444444444444444, \"#bd3786\"], [0.5555555555555556, \"#d8576b\"], [0.6666666666666666, \"#ed7953\"], [0.7777777777777778, \"#fb9f3a\"], [0.8888888888888888, \"#fdca26\"], [1.0, \"#f0f921\"]], \"type\": \"surface\"}], \"table\": [{\"cells\": {\"fill\": {\"color\": \"#EBF0F8\"}, \"line\": {\"color\": \"white\"}}, \"header\": {\"fill\": {\"color\": \"#C8D4E3\"}, \"line\": {\"color\": \"white\"}}, \"type\": \"table\"}]}, \"layout\": {\"annotationdefaults\": {\"arrowcolor\": \"#2a3f5f\", \"arrowhead\": 0, \"arrowwidth\": 1}, \"coloraxis\": {\"colorbar\": {\"outlinewidth\": 0, \"ticks\": \"\"}}, \"colorscale\": {\"diverging\": [[0, \"#8e0152\"], [0.1, \"#c51b7d\"], [0.2, \"#de77ae\"], [0.3, \"#f1b6da\"], [0.4, \"#fde0ef\"], [0.5, \"#f7f7f7\"], [0.6, \"#e6f5d0\"], [0.7, \"#b8e186\"], [0.8, \"#7fbc41\"], [0.9, \"#4d9221\"], [1, \"#276419\"]], \"sequential\": [[0.0, \"#0d0887\"], [0.1111111111111111, \"#46039f\"], [0.2222222222222222, \"#7201a8\"], [0.3333333333333333, \"#9c179e\"], [0.4444444444444444, \"#bd3786\"], [0.5555555555555556, \"#d8576b\"], [0.6666666666666666, \"#ed7953\"], [0.7777777777777778, \"#fb9f3a\"], [0.8888888888888888, \"#fdca26\"], [1.0, \"#f0f921\"]], \"sequentialminus\": [[0.0, \"#0d0887\"], [0.1111111111111111, \"#46039f\"], [0.2222222222222222, \"#7201a8\"], [0.3333333333333333, \"#9c179e\"], [0.4444444444444444, \"#bd3786\"], [0.5555555555555556, \"#d8576b\"], [0.6666666666666666, \"#ed7953\"], [0.7777777777777778, \"#fb9f3a\"], [0.8888888888888888, \"#fdca26\"], [1.0, \"#f0f921\"]]}, \"colorway\": [\"#636efa\", \"#EF553B\", \"#00cc96\", \"#ab63fa\", \"#FFA15A\", \"#19d3f3\", \"#FF6692\", \"#B6E880\", \"#FF97FF\", \"#FECB52\"], \"font\": {\"color\": \"#2a3f5f\"}, \"geo\": {\"bgcolor\": \"white\", \"lakecolor\": \"white\", \"landcolor\": \"#E5ECF6\", \"showlakes\": true, \"showland\": true, \"subunitcolor\": \"white\"}, \"hoverlabel\": {\"align\": \"left\"}, \"hovermode\": \"closest\", \"mapbox\": {\"style\": \"light\"}, \"paper_bgcolor\": \"white\", \"plot_bgcolor\": \"#E5ECF6\", \"polar\": {\"angularaxis\": {\"gridcolor\": \"white\", \"linecolor\": \"white\", \"ticks\": \"\"}, \"bgcolor\": \"#E5ECF6\", \"radialaxis\": {\"gridcolor\": \"white\", \"linecolor\": \"white\", \"ticks\": \"\"}}, \"scene\": {\"xaxis\": {\"backgroundcolor\": \"#E5ECF6\", \"gridcolor\": \"white\", \"gridwidth\": 2, \"linecolor\": \"white\", \"showbackground\": true, \"ticks\": \"\", \"zerolinecolor\": \"white\"}, \"yaxis\": {\"backgroundcolor\": \"#E5ECF6\", \"gridcolor\": \"white\", \"gridwidth\": 2, \"linecolor\": \"white\", \"showbackground\": true, \"ticks\": \"\", \"zerolinecolor\": \"white\"}, \"zaxis\": {\"backgroundcolor\": \"#E5ECF6\", \"gridcolor\": \"white\", \"gridwidth\": 2, \"linecolor\": \"white\", \"showbackground\": true, \"ticks\": \"\", \"zerolinecolor\": \"white\"}}, \"shapedefaults\": {\"line\": {\"color\": \"#2a3f5f\"}}, \"ternary\": {\"aaxis\": {\"gridcolor\": \"white\", \"linecolor\": \"white\", \"ticks\": \"\"}, \"baxis\": {\"gridcolor\": \"white\", \"linecolor\": \"white\", \"ticks\": \"\"}, \"bgcolor\": \"#E5ECF6\", \"caxis\": {\"gridcolor\": \"white\", \"linecolor\": \"white\", \"ticks\": \"\"}}, \"title\": {\"x\": 0.05}, \"xaxis\": {\"automargin\": true, \"gridcolor\": \"white\", \"linecolor\": \"white\", \"ticks\": \"\", \"title\": {\"standoff\": 15}, \"zerolinecolor\": \"white\", \"zerolinewidth\": 2}, \"yaxis\": {\"automargin\": true, \"gridcolor\": \"white\", \"linecolor\": \"white\", \"ticks\": \"\", \"title\": {\"standoff\": 15}, \"zerolinecolor\": \"white\", \"zerolinewidth\": 2}}}, \"xaxis\": {\"anchor\": \"y\", \"domain\": [0.0, 1.0], \"title\": {\"text\": \"max.expr\"}}, \"yaxis\": {\"anchor\": \"x\", \"domain\": [0.0, 1.0], \"title\": {\"text\": \"fold.change\"}}},                        {\"responsive\": true}                    ).then(function(){\n",
       "                            \n",
       "var gd = document.getElementById('052b826a-49d0-438a-9a16-4eec3df55597');\n",
       "var x = new MutationObserver(function (mutations, observer) {{\n",
       "        var display = window.getComputedStyle(gd).display;\n",
       "        if (!display || display === 'none') {{\n",
       "            console.log([gd, 'removed!']);\n",
       "            Plotly.purge(gd);\n",
       "            observer.disconnect();\n",
       "        }}\n",
       "}});\n",
       "\n",
       "// Listen for the removal of the full notebook cells\n",
       "var notebookContainer = gd.closest('#notebook-container');\n",
       "if (notebookContainer) {{\n",
       "    x.observe(notebookContainer, {childList: true});\n",
       "}}\n",
       "\n",
       "// Listen for the clearing of the current output cell\n",
       "var outputEl = gd.closest('.output');\n",
       "if (outputEl) {{\n",
       "    x.observe(outputEl, {childList: true});\n",
       "}}\n",
       "\n",
       "                        })                };                });            </script>        </div>"
      ]
     },
     "metadata": {},
     "output_type": "display_data"
    }
   ],
   "source": [
    "# Max value\n",
    "\n",
    "#Filter first by cerebrum and cerebellum\n",
    "exp_cerebr_cerebel=introgression_genesF[(introgression_genesF[\"OrganMax\"]==\"Cerebrum\") | (introgression_genesF[\"OrganMax\"]==\"Cerebrum\") | (introgression_genesF[\"OrganMax\"]==\"Cerebrum or Cerebellum\")]\n",
    "#Plotting using value of expression and fold change\n",
    "fig = px.scatter(exp_cerebr_cerebel, x=\"max.expr\", y=\"fold.change\", color=\"max.cluster\",\n",
    "                 hover_name=\"gene_short_name\")\n",
    "\n",
    "fig.show()"
   ]
  },
  {
   "cell_type": "code",
   "execution_count": 50,
   "metadata": {},
   "outputs": [
    {
     "data": {
      "application/vnd.plotly.v1+json": {
       "config": {
        "plotlyServerURL": "https://plot.ly"
       },
       "data": [
        {
         "hovertemplate": "<b>%{hovertext}</b><br><br>second.cluster=Excitatory neurons<br>second.expr=%{x}<br>fold.change=%{y}<extra></extra>",
         "hovertext": [
          "RP11-550F7.1",
          "AC000032.2",
          "RNU6-1331P",
          "CELSR2",
          "SNORA25"
         ],
         "legendgroup": "Excitatory neurons",
         "marker": {
          "color": "#636efa",
          "symbol": "circle"
         },
         "mode": "markers",
         "name": "Excitatory neurons",
         "orientation": "v",
         "showlegend": true,
         "type": "scatter",
         "x": [
          0.0779727095516569,
          0.047270148900969,
          3.9398471391433,
          144.077798141337,
          0.410677618069815
         ],
         "xaxis": "x",
         "y": [
          1.89247813098294,
          4.08527252370255,
          3.02051926411776,
          1.23257059047277,
          1.70210074537651
         ],
         "yaxis": "y"
        },
        {
         "hovertemplate": "<b>%{hovertext}</b><br><br>second.cluster=SKOR2_NPSR1 positive cells<br>second.expr=%{x}<br>fold.change=%{y}<extra></extra>",
         "hovertext": [
          "AC004917.1",
          "RP11-12L8.1",
          "RP11-17A4.2",
          "RP11-577N1.1",
          "AC073071.1",
          "AC068610.3",
          "RP11-359D24.1",
          "RP11-222O23.1",
          "AASS",
          "CA8",
          "RNF133"
         ],
         "legendgroup": "SKOR2_NPSR1 positive cells",
         "marker": {
          "color": "#EF553B",
          "symbol": "circle"
         },
         "mode": "markers",
         "name": "SKOR2_NPSR1 positive cells",
         "orientation": "v",
         "showlegend": true,
         "type": "scatter",
         "x": [
          0.0587371512481644,
          1.33322009902742,
          29.9242907348955,
          0.10854816824966,
          5.6491136427291,
          1.63078040110332,
          4.43421874240526,
          3.28740790398143,
          119.703231777004,
          1441.78362574667,
          0.0774893452150329
         ],
         "xaxis": "x",
         "y": [
          1.7986832650366,
          1.32067541129267,
          1.31311169120314,
          9.36252766902438,
          1.03520818877005,
          1.73737644617581,
          1.02038739462693,
          1.0786106579275,
          1.03890039275948,
          1.18593075751659,
          3.52622895883277
         ],
         "yaxis": "y"
        },
        {
         "hovertemplate": "<b>%{hovertext}</b><br><br>second.cluster=Oligodendrocytes<br>second.expr=%{x}<br>fold.change=%{y}<extra></extra>",
         "hovertext": [
          "KCND3-IT1",
          "RP11-400K9.2",
          "HMGB1P38",
          "RP11-759A9.1",
          "RP11-163N6.2",
          "KCND3",
          "CADM2"
         ],
         "legendgroup": "Oligodendrocytes",
         "marker": {
          "color": "#00cc96",
          "symbol": "circle"
         },
         "mode": "markers",
         "name": "Oligodendrocytes",
         "orientation": "v",
         "showlegend": true,
         "type": "scatter",
         "x": [
          1.03377957364853,
          0.118906064209274,
          0.345233217094131,
          1.48643057086799,
          89.6763401847136,
          457.811050420281,
          10459.1046369428
         ],
         "xaxis": "x",
         "y": [
          1.24687235831466,
          3.12965316229208,
          1.95626837077335,
          1.70687405587985,
          2.98485933984816,
          1.05790006886489,
          1.02692753643572
         ],
         "yaxis": "y"
        },
        {
         "hovertemplate": "<b>%{hovertext}</b><br><br>second.cluster=Limbic system neurons<br>second.expr=%{x}<br>fold.change=%{y}<extra></extra>",
         "hovertext": [
          "ENPP7P2",
          "RP11-767C6.1",
          "RP11-759A9.2",
          "RNU6-581P",
          "EPHA3",
          "GAPDHP32",
          "AC006926.1",
          "RP4-663N10.1",
          "RPS15AP9",
          "RP11-787D18.1"
         ],
         "legendgroup": "Limbic system neurons",
         "marker": {
          "color": "#ab63fa",
          "symbol": "circle"
         },
         "mode": "markers",
         "name": "Limbic system neurons",
         "orientation": "v",
         "showlegend": true,
         "type": "scatter",
         "x": [
          17.7139039291246,
          0.0886524822695035,
          0.10533257113514399,
          1.01859988007982,
          1431.34937629416,
          0.0277161862527716,
          0.123304562268803,
          11.3533267220888,
          0.0482858522452921,
          0.150602409638554
         ],
         "xaxis": "x",
         "y": [
          1.51664369217586,
          7.16519336601397,
          2.04837490022289,
          3.85966421196644,
          1.25356421394776,
          10.8494956002163,
          1.49443316388131,
          1.04739903365144,
          3.56307033375693,
          2.00721478678975
         ],
         "yaxis": "y"
        },
        {
         "hovertemplate": "<b>%{hovertext}</b><br><br>second.cluster=Inhibitory neurons<br>second.expr=%{x}<br>fold.change=%{y}<extra></extra>",
         "hovertext": [
          "RPS3AP15",
          "RP11-30L15.4",
          "UBXN2B"
         ],
         "legendgroup": "Inhibitory neurons",
         "marker": {
          "color": "#FFA15A",
          "symbol": "circle"
         },
         "mode": "markers",
         "name": "Inhibitory neurons",
         "orientation": "v",
         "showlegend": true,
         "type": "scatter",
         "x": [
          0.267451462317211,
          0.8116351733373,
          65.2075717573198
         ],
         "xaxis": "x",
         "y": [
          1.01501038609617,
          7.07363194822114,
          1.00427530006494
         ],
         "yaxis": "y"
        }
       ],
       "layout": {
        "legend": {
         "title": {
          "text": "second.cluster"
         },
         "tracegroupgap": 0
        },
        "margin": {
         "t": 60
        },
        "template": {
         "data": {
          "bar": [
           {
            "error_x": {
             "color": "#2a3f5f"
            },
            "error_y": {
             "color": "#2a3f5f"
            },
            "marker": {
             "line": {
              "color": "#E5ECF6",
              "width": 0.5
             }
            },
            "type": "bar"
           }
          ],
          "barpolar": [
           {
            "marker": {
             "line": {
              "color": "#E5ECF6",
              "width": 0.5
             }
            },
            "type": "barpolar"
           }
          ],
          "carpet": [
           {
            "aaxis": {
             "endlinecolor": "#2a3f5f",
             "gridcolor": "white",
             "linecolor": "white",
             "minorgridcolor": "white",
             "startlinecolor": "#2a3f5f"
            },
            "baxis": {
             "endlinecolor": "#2a3f5f",
             "gridcolor": "white",
             "linecolor": "white",
             "minorgridcolor": "white",
             "startlinecolor": "#2a3f5f"
            },
            "type": "carpet"
           }
          ],
          "choropleth": [
           {
            "colorbar": {
             "outlinewidth": 0,
             "ticks": ""
            },
            "type": "choropleth"
           }
          ],
          "contour": [
           {
            "colorbar": {
             "outlinewidth": 0,
             "ticks": ""
            },
            "colorscale": [
             [
              0,
              "#0d0887"
             ],
             [
              0.1111111111111111,
              "#46039f"
             ],
             [
              0.2222222222222222,
              "#7201a8"
             ],
             [
              0.3333333333333333,
              "#9c179e"
             ],
             [
              0.4444444444444444,
              "#bd3786"
             ],
             [
              0.5555555555555556,
              "#d8576b"
             ],
             [
              0.6666666666666666,
              "#ed7953"
             ],
             [
              0.7777777777777778,
              "#fb9f3a"
             ],
             [
              0.8888888888888888,
              "#fdca26"
             ],
             [
              1,
              "#f0f921"
             ]
            ],
            "type": "contour"
           }
          ],
          "contourcarpet": [
           {
            "colorbar": {
             "outlinewidth": 0,
             "ticks": ""
            },
            "type": "contourcarpet"
           }
          ],
          "heatmap": [
           {
            "colorbar": {
             "outlinewidth": 0,
             "ticks": ""
            },
            "colorscale": [
             [
              0,
              "#0d0887"
             ],
             [
              0.1111111111111111,
              "#46039f"
             ],
             [
              0.2222222222222222,
              "#7201a8"
             ],
             [
              0.3333333333333333,
              "#9c179e"
             ],
             [
              0.4444444444444444,
              "#bd3786"
             ],
             [
              0.5555555555555556,
              "#d8576b"
             ],
             [
              0.6666666666666666,
              "#ed7953"
             ],
             [
              0.7777777777777778,
              "#fb9f3a"
             ],
             [
              0.8888888888888888,
              "#fdca26"
             ],
             [
              1,
              "#f0f921"
             ]
            ],
            "type": "heatmap"
           }
          ],
          "heatmapgl": [
           {
            "colorbar": {
             "outlinewidth": 0,
             "ticks": ""
            },
            "colorscale": [
             [
              0,
              "#0d0887"
             ],
             [
              0.1111111111111111,
              "#46039f"
             ],
             [
              0.2222222222222222,
              "#7201a8"
             ],
             [
              0.3333333333333333,
              "#9c179e"
             ],
             [
              0.4444444444444444,
              "#bd3786"
             ],
             [
              0.5555555555555556,
              "#d8576b"
             ],
             [
              0.6666666666666666,
              "#ed7953"
             ],
             [
              0.7777777777777778,
              "#fb9f3a"
             ],
             [
              0.8888888888888888,
              "#fdca26"
             ],
             [
              1,
              "#f0f921"
             ]
            ],
            "type": "heatmapgl"
           }
          ],
          "histogram": [
           {
            "marker": {
             "colorbar": {
              "outlinewidth": 0,
              "ticks": ""
             }
            },
            "type": "histogram"
           }
          ],
          "histogram2d": [
           {
            "colorbar": {
             "outlinewidth": 0,
             "ticks": ""
            },
            "colorscale": [
             [
              0,
              "#0d0887"
             ],
             [
              0.1111111111111111,
              "#46039f"
             ],
             [
              0.2222222222222222,
              "#7201a8"
             ],
             [
              0.3333333333333333,
              "#9c179e"
             ],
             [
              0.4444444444444444,
              "#bd3786"
             ],
             [
              0.5555555555555556,
              "#d8576b"
             ],
             [
              0.6666666666666666,
              "#ed7953"
             ],
             [
              0.7777777777777778,
              "#fb9f3a"
             ],
             [
              0.8888888888888888,
              "#fdca26"
             ],
             [
              1,
              "#f0f921"
             ]
            ],
            "type": "histogram2d"
           }
          ],
          "histogram2dcontour": [
           {
            "colorbar": {
             "outlinewidth": 0,
             "ticks": ""
            },
            "colorscale": [
             [
              0,
              "#0d0887"
             ],
             [
              0.1111111111111111,
              "#46039f"
             ],
             [
              0.2222222222222222,
              "#7201a8"
             ],
             [
              0.3333333333333333,
              "#9c179e"
             ],
             [
              0.4444444444444444,
              "#bd3786"
             ],
             [
              0.5555555555555556,
              "#d8576b"
             ],
             [
              0.6666666666666666,
              "#ed7953"
             ],
             [
              0.7777777777777778,
              "#fb9f3a"
             ],
             [
              0.8888888888888888,
              "#fdca26"
             ],
             [
              1,
              "#f0f921"
             ]
            ],
            "type": "histogram2dcontour"
           }
          ],
          "mesh3d": [
           {
            "colorbar": {
             "outlinewidth": 0,
             "ticks": ""
            },
            "type": "mesh3d"
           }
          ],
          "parcoords": [
           {
            "line": {
             "colorbar": {
              "outlinewidth": 0,
              "ticks": ""
             }
            },
            "type": "parcoords"
           }
          ],
          "pie": [
           {
            "automargin": true,
            "type": "pie"
           }
          ],
          "scatter": [
           {
            "marker": {
             "colorbar": {
              "outlinewidth": 0,
              "ticks": ""
             }
            },
            "type": "scatter"
           }
          ],
          "scatter3d": [
           {
            "line": {
             "colorbar": {
              "outlinewidth": 0,
              "ticks": ""
             }
            },
            "marker": {
             "colorbar": {
              "outlinewidth": 0,
              "ticks": ""
             }
            },
            "type": "scatter3d"
           }
          ],
          "scattercarpet": [
           {
            "marker": {
             "colorbar": {
              "outlinewidth": 0,
              "ticks": ""
             }
            },
            "type": "scattercarpet"
           }
          ],
          "scattergeo": [
           {
            "marker": {
             "colorbar": {
              "outlinewidth": 0,
              "ticks": ""
             }
            },
            "type": "scattergeo"
           }
          ],
          "scattergl": [
           {
            "marker": {
             "colorbar": {
              "outlinewidth": 0,
              "ticks": ""
             }
            },
            "type": "scattergl"
           }
          ],
          "scattermapbox": [
           {
            "marker": {
             "colorbar": {
              "outlinewidth": 0,
              "ticks": ""
             }
            },
            "type": "scattermapbox"
           }
          ],
          "scatterpolar": [
           {
            "marker": {
             "colorbar": {
              "outlinewidth": 0,
              "ticks": ""
             }
            },
            "type": "scatterpolar"
           }
          ],
          "scatterpolargl": [
           {
            "marker": {
             "colorbar": {
              "outlinewidth": 0,
              "ticks": ""
             }
            },
            "type": "scatterpolargl"
           }
          ],
          "scatterternary": [
           {
            "marker": {
             "colorbar": {
              "outlinewidth": 0,
              "ticks": ""
             }
            },
            "type": "scatterternary"
           }
          ],
          "surface": [
           {
            "colorbar": {
             "outlinewidth": 0,
             "ticks": ""
            },
            "colorscale": [
             [
              0,
              "#0d0887"
             ],
             [
              0.1111111111111111,
              "#46039f"
             ],
             [
              0.2222222222222222,
              "#7201a8"
             ],
             [
              0.3333333333333333,
              "#9c179e"
             ],
             [
              0.4444444444444444,
              "#bd3786"
             ],
             [
              0.5555555555555556,
              "#d8576b"
             ],
             [
              0.6666666666666666,
              "#ed7953"
             ],
             [
              0.7777777777777778,
              "#fb9f3a"
             ],
             [
              0.8888888888888888,
              "#fdca26"
             ],
             [
              1,
              "#f0f921"
             ]
            ],
            "type": "surface"
           }
          ],
          "table": [
           {
            "cells": {
             "fill": {
              "color": "#EBF0F8"
             },
             "line": {
              "color": "white"
             }
            },
            "header": {
             "fill": {
              "color": "#C8D4E3"
             },
             "line": {
              "color": "white"
             }
            },
            "type": "table"
           }
          ]
         },
         "layout": {
          "annotationdefaults": {
           "arrowcolor": "#2a3f5f",
           "arrowhead": 0,
           "arrowwidth": 1
          },
          "coloraxis": {
           "colorbar": {
            "outlinewidth": 0,
            "ticks": ""
           }
          },
          "colorscale": {
           "diverging": [
            [
             0,
             "#8e0152"
            ],
            [
             0.1,
             "#c51b7d"
            ],
            [
             0.2,
             "#de77ae"
            ],
            [
             0.3,
             "#f1b6da"
            ],
            [
             0.4,
             "#fde0ef"
            ],
            [
             0.5,
             "#f7f7f7"
            ],
            [
             0.6,
             "#e6f5d0"
            ],
            [
             0.7,
             "#b8e186"
            ],
            [
             0.8,
             "#7fbc41"
            ],
            [
             0.9,
             "#4d9221"
            ],
            [
             1,
             "#276419"
            ]
           ],
           "sequential": [
            [
             0,
             "#0d0887"
            ],
            [
             0.1111111111111111,
             "#46039f"
            ],
            [
             0.2222222222222222,
             "#7201a8"
            ],
            [
             0.3333333333333333,
             "#9c179e"
            ],
            [
             0.4444444444444444,
             "#bd3786"
            ],
            [
             0.5555555555555556,
             "#d8576b"
            ],
            [
             0.6666666666666666,
             "#ed7953"
            ],
            [
             0.7777777777777778,
             "#fb9f3a"
            ],
            [
             0.8888888888888888,
             "#fdca26"
            ],
            [
             1,
             "#f0f921"
            ]
           ],
           "sequentialminus": [
            [
             0,
             "#0d0887"
            ],
            [
             0.1111111111111111,
             "#46039f"
            ],
            [
             0.2222222222222222,
             "#7201a8"
            ],
            [
             0.3333333333333333,
             "#9c179e"
            ],
            [
             0.4444444444444444,
             "#bd3786"
            ],
            [
             0.5555555555555556,
             "#d8576b"
            ],
            [
             0.6666666666666666,
             "#ed7953"
            ],
            [
             0.7777777777777778,
             "#fb9f3a"
            ],
            [
             0.8888888888888888,
             "#fdca26"
            ],
            [
             1,
             "#f0f921"
            ]
           ]
          },
          "colorway": [
           "#636efa",
           "#EF553B",
           "#00cc96",
           "#ab63fa",
           "#FFA15A",
           "#19d3f3",
           "#FF6692",
           "#B6E880",
           "#FF97FF",
           "#FECB52"
          ],
          "font": {
           "color": "#2a3f5f"
          },
          "geo": {
           "bgcolor": "white",
           "lakecolor": "white",
           "landcolor": "#E5ECF6",
           "showlakes": true,
           "showland": true,
           "subunitcolor": "white"
          },
          "hoverlabel": {
           "align": "left"
          },
          "hovermode": "closest",
          "mapbox": {
           "style": "light"
          },
          "paper_bgcolor": "white",
          "plot_bgcolor": "#E5ECF6",
          "polar": {
           "angularaxis": {
            "gridcolor": "white",
            "linecolor": "white",
            "ticks": ""
           },
           "bgcolor": "#E5ECF6",
           "radialaxis": {
            "gridcolor": "white",
            "linecolor": "white",
            "ticks": ""
           }
          },
          "scene": {
           "xaxis": {
            "backgroundcolor": "#E5ECF6",
            "gridcolor": "white",
            "gridwidth": 2,
            "linecolor": "white",
            "showbackground": true,
            "ticks": "",
            "zerolinecolor": "white"
           },
           "yaxis": {
            "backgroundcolor": "#E5ECF6",
            "gridcolor": "white",
            "gridwidth": 2,
            "linecolor": "white",
            "showbackground": true,
            "ticks": "",
            "zerolinecolor": "white"
           },
           "zaxis": {
            "backgroundcolor": "#E5ECF6",
            "gridcolor": "white",
            "gridwidth": 2,
            "linecolor": "white",
            "showbackground": true,
            "ticks": "",
            "zerolinecolor": "white"
           }
          },
          "shapedefaults": {
           "line": {
            "color": "#2a3f5f"
           }
          },
          "ternary": {
           "aaxis": {
            "gridcolor": "white",
            "linecolor": "white",
            "ticks": ""
           },
           "baxis": {
            "gridcolor": "white",
            "linecolor": "white",
            "ticks": ""
           },
           "bgcolor": "#E5ECF6",
           "caxis": {
            "gridcolor": "white",
            "linecolor": "white",
            "ticks": ""
           }
          },
          "title": {
           "x": 0.05
          },
          "xaxis": {
           "automargin": true,
           "gridcolor": "white",
           "linecolor": "white",
           "ticks": "",
           "title": {
            "standoff": 15
           },
           "zerolinecolor": "white",
           "zerolinewidth": 2
          },
          "yaxis": {
           "automargin": true,
           "gridcolor": "white",
           "linecolor": "white",
           "ticks": "",
           "title": {
            "standoff": 15
           },
           "zerolinecolor": "white",
           "zerolinewidth": 2
          }
         }
        },
        "xaxis": {
         "anchor": "y",
         "domain": [
          0,
          1
         ],
         "title": {
          "text": "second.expr"
         }
        },
        "yaxis": {
         "anchor": "x",
         "domain": [
          0,
          1
         ],
         "title": {
          "text": "fold.change"
         }
        }
       }
      },
      "text/html": [
       "<div>                            <div id=\"a3145c0d-d28f-4248-be69-135ac313b59d\" class=\"plotly-graph-div\" style=\"height:525px; width:100%;\"></div>            <script type=\"text/javascript\">                require([\"plotly\"], function(Plotly) {                    window.PLOTLYENV=window.PLOTLYENV || {};                                    if (document.getElementById(\"a3145c0d-d28f-4248-be69-135ac313b59d\")) {                    Plotly.newPlot(                        \"a3145c0d-d28f-4248-be69-135ac313b59d\",                        [{\"hovertemplate\": \"<b>%{hovertext}</b><br><br>second.cluster=Excitatory neurons<br>second.expr=%{x}<br>fold.change=%{y}<extra></extra>\", \"hovertext\": [\"RP11-550F7.1\", \"AC000032.2\", \"RNU6-1331P\", \"CELSR2\", \"SNORA25\"], \"legendgroup\": \"Excitatory neurons\", \"marker\": {\"color\": \"#636efa\", \"symbol\": \"circle\"}, \"mode\": \"markers\", \"name\": \"Excitatory neurons\", \"orientation\": \"v\", \"showlegend\": true, \"type\": \"scatter\", \"x\": [0.0779727095516569, 0.047270148900969, 3.9398471391433, 144.077798141337, 0.410677618069815], \"xaxis\": \"x\", \"y\": [1.89247813098294, 4.08527252370255, 3.02051926411776, 1.23257059047277, 1.70210074537651], \"yaxis\": \"y\"}, {\"hovertemplate\": \"<b>%{hovertext}</b><br><br>second.cluster=SKOR2_NPSR1 positive cells<br>second.expr=%{x}<br>fold.change=%{y}<extra></extra>\", \"hovertext\": [\"AC004917.1\", \"RP11-12L8.1\", \"RP11-17A4.2\", \"RP11-577N1.1\", \"AC073071.1\", \"AC068610.3\", \"RP11-359D24.1\", \"RP11-222O23.1\", \"AASS\", \"CA8\", \"RNF133\"], \"legendgroup\": \"SKOR2_NPSR1 positive cells\", \"marker\": {\"color\": \"#EF553B\", \"symbol\": \"circle\"}, \"mode\": \"markers\", \"name\": \"SKOR2_NPSR1 positive cells\", \"orientation\": \"v\", \"showlegend\": true, \"type\": \"scatter\", \"x\": [0.0587371512481644, 1.33322009902742, 29.9242907348955, 0.10854816824966, 5.6491136427291, 1.63078040110332, 4.43421874240526, 3.28740790398143, 119.703231777004, 1441.78362574667, 0.0774893452150329], \"xaxis\": \"x\", \"y\": [1.7986832650366, 1.32067541129267, 1.31311169120314, 9.36252766902438, 1.03520818877005, 1.73737644617581, 1.02038739462693, 1.0786106579275, 1.03890039275948, 1.18593075751659, 3.52622895883277], \"yaxis\": \"y\"}, {\"hovertemplate\": \"<b>%{hovertext}</b><br><br>second.cluster=Oligodendrocytes<br>second.expr=%{x}<br>fold.change=%{y}<extra></extra>\", \"hovertext\": [\"KCND3-IT1\", \"RP11-400K9.2\", \"HMGB1P38\", \"RP11-759A9.1\", \"RP11-163N6.2\", \"KCND3\", \"CADM2\"], \"legendgroup\": \"Oligodendrocytes\", \"marker\": {\"color\": \"#00cc96\", \"symbol\": \"circle\"}, \"mode\": \"markers\", \"name\": \"Oligodendrocytes\", \"orientation\": \"v\", \"showlegend\": true, \"type\": \"scatter\", \"x\": [1.03377957364853, 0.118906064209274, 0.345233217094131, 1.48643057086799, 89.6763401847136, 457.811050420281, 10459.1046369428], \"xaxis\": \"x\", \"y\": [1.24687235831466, 3.12965316229208, 1.95626837077335, 1.70687405587985, 2.98485933984816, 1.05790006886489, 1.02692753643572], \"yaxis\": \"y\"}, {\"hovertemplate\": \"<b>%{hovertext}</b><br><br>second.cluster=Limbic system neurons<br>second.expr=%{x}<br>fold.change=%{y}<extra></extra>\", \"hovertext\": [\"ENPP7P2\", \"RP11-767C6.1\", \"RP11-759A9.2\", \"RNU6-581P\", \"EPHA3\", \"GAPDHP32\", \"AC006926.1\", \"RP4-663N10.1\", \"RPS15AP9\", \"RP11-787D18.1\"], \"legendgroup\": \"Limbic system neurons\", \"marker\": {\"color\": \"#ab63fa\", \"symbol\": \"circle\"}, \"mode\": \"markers\", \"name\": \"Limbic system neurons\", \"orientation\": \"v\", \"showlegend\": true, \"type\": \"scatter\", \"x\": [17.7139039291246, 0.0886524822695035, 0.10533257113514399, 1.01859988007982, 1431.34937629416, 0.0277161862527716, 0.123304562268803, 11.3533267220888, 0.0482858522452921, 0.150602409638554], \"xaxis\": \"x\", \"y\": [1.51664369217586, 7.16519336601397, 2.04837490022289, 3.85966421196644, 1.25356421394776, 10.8494956002163, 1.49443316388131, 1.04739903365144, 3.56307033375693, 2.00721478678975], \"yaxis\": \"y\"}, {\"hovertemplate\": \"<b>%{hovertext}</b><br><br>second.cluster=Inhibitory neurons<br>second.expr=%{x}<br>fold.change=%{y}<extra></extra>\", \"hovertext\": [\"RPS3AP15\", \"RP11-30L15.4\", \"UBXN2B\"], \"legendgroup\": \"Inhibitory neurons\", \"marker\": {\"color\": \"#FFA15A\", \"symbol\": \"circle\"}, \"mode\": \"markers\", \"name\": \"Inhibitory neurons\", \"orientation\": \"v\", \"showlegend\": true, \"type\": \"scatter\", \"x\": [0.267451462317211, 0.8116351733373, 65.2075717573198], \"xaxis\": \"x\", \"y\": [1.01501038609617, 7.07363194822114, 1.00427530006494], \"yaxis\": \"y\"}],                        {\"legend\": {\"title\": {\"text\": \"second.cluster\"}, \"tracegroupgap\": 0}, \"margin\": {\"t\": 60}, \"template\": {\"data\": {\"bar\": [{\"error_x\": {\"color\": \"#2a3f5f\"}, \"error_y\": {\"color\": \"#2a3f5f\"}, \"marker\": {\"line\": {\"color\": \"#E5ECF6\", \"width\": 0.5}}, \"type\": \"bar\"}], \"barpolar\": [{\"marker\": {\"line\": {\"color\": \"#E5ECF6\", \"width\": 0.5}}, \"type\": \"barpolar\"}], \"carpet\": [{\"aaxis\": {\"endlinecolor\": \"#2a3f5f\", \"gridcolor\": \"white\", \"linecolor\": \"white\", \"minorgridcolor\": \"white\", \"startlinecolor\": \"#2a3f5f\"}, \"baxis\": {\"endlinecolor\": \"#2a3f5f\", \"gridcolor\": \"white\", \"linecolor\": \"white\", \"minorgridcolor\": \"white\", \"startlinecolor\": \"#2a3f5f\"}, \"type\": \"carpet\"}], \"choropleth\": [{\"colorbar\": {\"outlinewidth\": 0, \"ticks\": \"\"}, \"type\": \"choropleth\"}], \"contour\": [{\"colorbar\": {\"outlinewidth\": 0, \"ticks\": \"\"}, \"colorscale\": [[0.0, \"#0d0887\"], [0.1111111111111111, \"#46039f\"], [0.2222222222222222, \"#7201a8\"], [0.3333333333333333, \"#9c179e\"], [0.4444444444444444, \"#bd3786\"], [0.5555555555555556, \"#d8576b\"], [0.6666666666666666, \"#ed7953\"], [0.7777777777777778, \"#fb9f3a\"], [0.8888888888888888, \"#fdca26\"], [1.0, \"#f0f921\"]], \"type\": \"contour\"}], \"contourcarpet\": [{\"colorbar\": {\"outlinewidth\": 0, \"ticks\": \"\"}, \"type\": \"contourcarpet\"}], \"heatmap\": [{\"colorbar\": {\"outlinewidth\": 0, \"ticks\": \"\"}, \"colorscale\": [[0.0, \"#0d0887\"], [0.1111111111111111, \"#46039f\"], [0.2222222222222222, \"#7201a8\"], [0.3333333333333333, \"#9c179e\"], [0.4444444444444444, \"#bd3786\"], [0.5555555555555556, \"#d8576b\"], [0.6666666666666666, \"#ed7953\"], [0.7777777777777778, \"#fb9f3a\"], [0.8888888888888888, \"#fdca26\"], [1.0, \"#f0f921\"]], \"type\": \"heatmap\"}], \"heatmapgl\": [{\"colorbar\": {\"outlinewidth\": 0, \"ticks\": \"\"}, \"colorscale\": [[0.0, \"#0d0887\"], [0.1111111111111111, \"#46039f\"], [0.2222222222222222, \"#7201a8\"], [0.3333333333333333, \"#9c179e\"], [0.4444444444444444, \"#bd3786\"], [0.5555555555555556, \"#d8576b\"], [0.6666666666666666, \"#ed7953\"], [0.7777777777777778, \"#fb9f3a\"], [0.8888888888888888, \"#fdca26\"], [1.0, \"#f0f921\"]], \"type\": \"heatmapgl\"}], \"histogram\": [{\"marker\": {\"colorbar\": {\"outlinewidth\": 0, \"ticks\": \"\"}}, \"type\": \"histogram\"}], \"histogram2d\": [{\"colorbar\": {\"outlinewidth\": 0, \"ticks\": \"\"}, \"colorscale\": [[0.0, \"#0d0887\"], [0.1111111111111111, \"#46039f\"], [0.2222222222222222, \"#7201a8\"], [0.3333333333333333, \"#9c179e\"], [0.4444444444444444, \"#bd3786\"], [0.5555555555555556, \"#d8576b\"], [0.6666666666666666, \"#ed7953\"], [0.7777777777777778, \"#fb9f3a\"], [0.8888888888888888, \"#fdca26\"], [1.0, \"#f0f921\"]], \"type\": \"histogram2d\"}], \"histogram2dcontour\": [{\"colorbar\": {\"outlinewidth\": 0, \"ticks\": \"\"}, \"colorscale\": [[0.0, \"#0d0887\"], [0.1111111111111111, \"#46039f\"], [0.2222222222222222, \"#7201a8\"], [0.3333333333333333, \"#9c179e\"], [0.4444444444444444, \"#bd3786\"], [0.5555555555555556, \"#d8576b\"], [0.6666666666666666, \"#ed7953\"], [0.7777777777777778, \"#fb9f3a\"], [0.8888888888888888, \"#fdca26\"], [1.0, \"#f0f921\"]], \"type\": \"histogram2dcontour\"}], \"mesh3d\": [{\"colorbar\": {\"outlinewidth\": 0, \"ticks\": \"\"}, \"type\": \"mesh3d\"}], \"parcoords\": [{\"line\": {\"colorbar\": {\"outlinewidth\": 0, \"ticks\": \"\"}}, \"type\": \"parcoords\"}], \"pie\": [{\"automargin\": true, \"type\": \"pie\"}], \"scatter\": [{\"marker\": {\"colorbar\": {\"outlinewidth\": 0, \"ticks\": \"\"}}, \"type\": \"scatter\"}], \"scatter3d\": [{\"line\": {\"colorbar\": {\"outlinewidth\": 0, \"ticks\": \"\"}}, \"marker\": {\"colorbar\": {\"outlinewidth\": 0, \"ticks\": \"\"}}, \"type\": \"scatter3d\"}], \"scattercarpet\": [{\"marker\": {\"colorbar\": {\"outlinewidth\": 0, \"ticks\": \"\"}}, \"type\": \"scattercarpet\"}], \"scattergeo\": [{\"marker\": {\"colorbar\": {\"outlinewidth\": 0, \"ticks\": \"\"}}, \"type\": \"scattergeo\"}], \"scattergl\": [{\"marker\": {\"colorbar\": {\"outlinewidth\": 0, \"ticks\": \"\"}}, \"type\": \"scattergl\"}], \"scattermapbox\": [{\"marker\": {\"colorbar\": {\"outlinewidth\": 0, \"ticks\": \"\"}}, \"type\": \"scattermapbox\"}], \"scatterpolar\": [{\"marker\": {\"colorbar\": {\"outlinewidth\": 0, \"ticks\": \"\"}}, \"type\": \"scatterpolar\"}], \"scatterpolargl\": [{\"marker\": {\"colorbar\": {\"outlinewidth\": 0, \"ticks\": \"\"}}, \"type\": \"scatterpolargl\"}], \"scatterternary\": [{\"marker\": {\"colorbar\": {\"outlinewidth\": 0, \"ticks\": \"\"}}, \"type\": \"scatterternary\"}], \"surface\": [{\"colorbar\": {\"outlinewidth\": 0, \"ticks\": \"\"}, \"colorscale\": [[0.0, \"#0d0887\"], [0.1111111111111111, \"#46039f\"], [0.2222222222222222, \"#7201a8\"], [0.3333333333333333, \"#9c179e\"], [0.4444444444444444, \"#bd3786\"], [0.5555555555555556, \"#d8576b\"], [0.6666666666666666, \"#ed7953\"], [0.7777777777777778, \"#fb9f3a\"], [0.8888888888888888, \"#fdca26\"], [1.0, \"#f0f921\"]], \"type\": \"surface\"}], \"table\": [{\"cells\": {\"fill\": {\"color\": \"#EBF0F8\"}, \"line\": {\"color\": \"white\"}}, \"header\": {\"fill\": {\"color\": \"#C8D4E3\"}, \"line\": {\"color\": \"white\"}}, \"type\": \"table\"}]}, \"layout\": {\"annotationdefaults\": {\"arrowcolor\": \"#2a3f5f\", \"arrowhead\": 0, \"arrowwidth\": 1}, \"coloraxis\": {\"colorbar\": {\"outlinewidth\": 0, \"ticks\": \"\"}}, \"colorscale\": {\"diverging\": [[0, \"#8e0152\"], [0.1, \"#c51b7d\"], [0.2, \"#de77ae\"], [0.3, \"#f1b6da\"], [0.4, \"#fde0ef\"], [0.5, \"#f7f7f7\"], [0.6, \"#e6f5d0\"], [0.7, \"#b8e186\"], [0.8, \"#7fbc41\"], [0.9, \"#4d9221\"], [1, \"#276419\"]], \"sequential\": [[0.0, \"#0d0887\"], [0.1111111111111111, \"#46039f\"], [0.2222222222222222, \"#7201a8\"], [0.3333333333333333, \"#9c179e\"], [0.4444444444444444, \"#bd3786\"], [0.5555555555555556, \"#d8576b\"], [0.6666666666666666, \"#ed7953\"], [0.7777777777777778, \"#fb9f3a\"], [0.8888888888888888, \"#fdca26\"], [1.0, \"#f0f921\"]], \"sequentialminus\": [[0.0, \"#0d0887\"], [0.1111111111111111, \"#46039f\"], [0.2222222222222222, \"#7201a8\"], [0.3333333333333333, \"#9c179e\"], [0.4444444444444444, \"#bd3786\"], [0.5555555555555556, \"#d8576b\"], [0.6666666666666666, \"#ed7953\"], [0.7777777777777778, \"#fb9f3a\"], [0.8888888888888888, \"#fdca26\"], [1.0, \"#f0f921\"]]}, \"colorway\": [\"#636efa\", \"#EF553B\", \"#00cc96\", \"#ab63fa\", \"#FFA15A\", \"#19d3f3\", \"#FF6692\", \"#B6E880\", \"#FF97FF\", \"#FECB52\"], \"font\": {\"color\": \"#2a3f5f\"}, \"geo\": {\"bgcolor\": \"white\", \"lakecolor\": \"white\", \"landcolor\": \"#E5ECF6\", \"showlakes\": true, \"showland\": true, \"subunitcolor\": \"white\"}, \"hoverlabel\": {\"align\": \"left\"}, \"hovermode\": \"closest\", \"mapbox\": {\"style\": \"light\"}, \"paper_bgcolor\": \"white\", \"plot_bgcolor\": \"#E5ECF6\", \"polar\": {\"angularaxis\": {\"gridcolor\": \"white\", \"linecolor\": \"white\", \"ticks\": \"\"}, \"bgcolor\": \"#E5ECF6\", \"radialaxis\": {\"gridcolor\": \"white\", \"linecolor\": \"white\", \"ticks\": \"\"}}, \"scene\": {\"xaxis\": {\"backgroundcolor\": \"#E5ECF6\", \"gridcolor\": \"white\", \"gridwidth\": 2, \"linecolor\": \"white\", \"showbackground\": true, \"ticks\": \"\", \"zerolinecolor\": \"white\"}, \"yaxis\": {\"backgroundcolor\": \"#E5ECF6\", \"gridcolor\": \"white\", \"gridwidth\": 2, \"linecolor\": \"white\", \"showbackground\": true, \"ticks\": \"\", \"zerolinecolor\": \"white\"}, \"zaxis\": {\"backgroundcolor\": \"#E5ECF6\", \"gridcolor\": \"white\", \"gridwidth\": 2, \"linecolor\": \"white\", \"showbackground\": true, \"ticks\": \"\", \"zerolinecolor\": \"white\"}}, \"shapedefaults\": {\"line\": {\"color\": \"#2a3f5f\"}}, \"ternary\": {\"aaxis\": {\"gridcolor\": \"white\", \"linecolor\": \"white\", \"ticks\": \"\"}, \"baxis\": {\"gridcolor\": \"white\", \"linecolor\": \"white\", \"ticks\": \"\"}, \"bgcolor\": \"#E5ECF6\", \"caxis\": {\"gridcolor\": \"white\", \"linecolor\": \"white\", \"ticks\": \"\"}}, \"title\": {\"x\": 0.05}, \"xaxis\": {\"automargin\": true, \"gridcolor\": \"white\", \"linecolor\": \"white\", \"ticks\": \"\", \"title\": {\"standoff\": 15}, \"zerolinecolor\": \"white\", \"zerolinewidth\": 2}, \"yaxis\": {\"automargin\": true, \"gridcolor\": \"white\", \"linecolor\": \"white\", \"ticks\": \"\", \"title\": {\"standoff\": 15}, \"zerolinecolor\": \"white\", \"zerolinewidth\": 2}}}, \"xaxis\": {\"anchor\": \"y\", \"domain\": [0.0, 1.0], \"title\": {\"text\": \"second.expr\"}}, \"yaxis\": {\"anchor\": \"x\", \"domain\": [0.0, 1.0], \"title\": {\"text\": \"fold.change\"}}},                        {\"responsive\": true}                    ).then(function(){\n",
       "                            \n",
       "var gd = document.getElementById('a3145c0d-d28f-4248-be69-135ac313b59d');\n",
       "var x = new MutationObserver(function (mutations, observer) {{\n",
       "        var display = window.getComputedStyle(gd).display;\n",
       "        if (!display || display === 'none') {{\n",
       "            console.log([gd, 'removed!']);\n",
       "            Plotly.purge(gd);\n",
       "            observer.disconnect();\n",
       "        }}\n",
       "}});\n",
       "\n",
       "// Listen for the removal of the full notebook cells\n",
       "var notebookContainer = gd.closest('#notebook-container');\n",
       "if (notebookContainer) {{\n",
       "    x.observe(notebookContainer, {childList: true});\n",
       "}}\n",
       "\n",
       "// Listen for the clearing of the current output cell\n",
       "var outputEl = gd.closest('.output');\n",
       "if (outputEl) {{\n",
       "    x.observe(outputEl, {childList: true});\n",
       "}}\n",
       "\n",
       "                        })                };                });            </script>        </div>"
      ]
     },
     "metadata": {},
     "output_type": "display_data"
    }
   ],
   "source": [
    "# Second value\n",
    "#Filter first by cerebrum and cerebellum\n",
    "exp_cerebr_cerebel=introgression_genesF[(introgression_genesF[\"OrganSecond\"]==\"Cerebrum\") | (introgression_genesF[\"OrganSecond\"]==\"Cerebrum\") | (introgression_genesF[\"OrganSecond\"]==\"Cerebrum or Cerebellum\")]\n",
    "#Plotting using value of expression and fold change\n",
    "fig = px.scatter(exp_cerebr_cerebel, x=\"second.expr\", y=\"fold.change\", color=\"second.cluster\",\n",
    "                 hover_name=\"gene_short_name\")\n",
    "\n",
    "fig.show()"
   ]
  },
  {
   "cell_type": "code",
   "execution_count": 120,
   "metadata": {},
   "outputs": [
    {
     "data": {
      "application/vnd.plotly.v1+json": {
       "config": {
        "plotlyServerURL": "https://plot.ly"
       },
       "data": [
        {
         "hovertemplate": "<b>%{hovertext}</b><br><br>max.cluster=Microglia<br>max.expr=%{x}<br>fold.change=%{y}<extra></extra>",
         "hovertext": [
          "'TFEC'",
          "'RP11-10H3.1'",
          "'CD53'",
          "'CSF1'",
          "'DOCK4'",
          "'LYN'",
          "'FAM102B'",
          "'CPED1'",
          "'RAP1A'",
          "'SYT6'",
          "'OLFML3'",
          "'RP4-543J13.1'",
          "'ADORA3'",
          "'GBE1'",
          "'CAPZA1'",
          "'COG5'",
          "'STXBP3'",
          "'IFRD1'",
          "'PLAG1'",
          "'LYPLA1'",
          "'CAPZA2'",
          "'PIK3CG'",
          "'RP4-735C1.6'",
          "'RAB2A'",
          "'CD58'",
          "'PRPF38B'",
          "'DRAM2'",
          "'C7orf60'",
          "'TMEM168'",
          "'DENND2D'",
          "'ZNF277'",
          "'RP3-522D1.1'",
          "'GSTM4'",
          "'TTF2'",
          "'CEPT1'",
          "'RP11-159G9.5'",
          "'ATP6V1H'",
          "'RP11-426L16.8'",
          "'CHCHD7'",
          "'GDAP2'",
          "'SLC25A24P1'",
          "'DOCK4-AS1'",
          "'YTHDF3'",
          "'PTPN22'",
          "'BCAS2'",
          "'RP5-1180E21.5'",
          "'CYB561D1'",
          "'C1orf162'",
          "'RP11-47P18.2'",
          "'RP11-716D16.1'",
          "'HENMT1'",
          "'SYPL2'",
          "'RP5-1086K13.1'",
          "'AC003080.4'",
          "'RP11-140I16.3'",
          "'AC002543.2'",
          "'snoU13'",
          "'NAP1L4P1'",
          "'RP11-246K15.1'",
          "'RBMX2P3'",
          "'RP11-736E3.1'",
          "'LINC00971'",
          "'RP11-30L15.6'",
          "'RP11-17A4.4'",
          "'RP11-10H3.1'",
          "'TFEC'",
          "'CSF1'",
          "'SYT6'",
          "'DOCK4'",
          "'RAP1A'",
          "'LYN'",
          "'CPED1'",
          "'FAM102B'",
          "'CD53'",
          "'OLFML3'",
          "'ADORA3'",
          "'COG5'",
          "'RP4-543J13.1'",
          "'GBE1'",
          "'CAPZA1'",
          "'LYPLA1'",
          "'RP4-735C1.6'",
          "'STXBP3'",
          "'CAPZA2'",
          "'PIK3CG'",
          "'PLAG1'",
          "'RAB2A'",
          "'C7orf60'",
          "'PRPF38B'",
          "'DRAM2'",
          "'RP3-522D1.1'",
          "'ZNF277'",
          "'DENND2D'",
          "'TTF2'",
          "'RP11-159G9.5'",
          "'CEPT1'",
          "'GNAI3'",
          "'AC022182.1'",
          "'RP11-426L16.8'",
          "'NAA38'",
          "'PTPN22'",
          "'SLC25A24P1'",
          "'DOCK4-AS1'",
          "'ZNF717'",
          "'CLCC1'",
          "'CYB561D1'",
          "'RP5-1086K13.1'",
          "'BCAS2'",
          "'RP5-836N10.1'",
          "'AC003080.4'",
          "'C1orf162'",
          "'NAP1L4P1'",
          "'snoU13'",
          "'LINC00968'",
          "'RP11-30L15.6'",
          "'RP5-1073O3.2'",
          "'RP5-1065J22.8'",
          "'GSTM1'",
          "'LINC00971'",
          "'CTD-2339F6.1'",
          "'RP11-24P14.1'",
          "'CTD-3025N20.2'",
          "'ALG1L6P'"
         ],
         "legendgroup": "Microglia",
         "marker": {
          "color": "#636efa",
          "symbol": "circle"
         },
         "mode": "markers",
         "name": "Microglia",
         "orientation": "v",
         "showlegend": true,
         "type": "scatter",
         "x": [
          233.47520120000001,
          158.0315648,
          397.11525,
          259.9277661,
          5488.9190149999995,
          886.3242057,
          320.1436222,
          428.4951638,
          659.2857742000001,
          359.4673301,
          455.4904448,
          124.48066920000001,
          123.9904406,
          227.14556119999997,
          200.82124119999997,
          341.9420139,
          98.07174976,
          142.62580659999998,
          47.46408918,
          171.45595780000002,
          230.82619590000002,
          46.50561104,
          52.12101072,
          361.0747503,
          34.03094895,
          96.6020824,
          93.12535614,
          160.5096851,
          110.6549501,
          25.34370476,
          112.0066669,
          28.15578411,
          18.55322524,
          32.65181799,
          99.52630812,
          112.79612659999998,
          89.56479166,
          12.65081571,
          15.10832917,
          72.9304406,
          7.604161501,
          9.230021691000001,
          85.11619846,
          11.35956427,
          37.75310593,
          13.568577300000001,
          7.832921975,
          6.598870637999999,
          1.6515897590000002,
          1.746255761,
          6.144519582,
          1.6630273880000002,
          1.520693249,
          2.547385266,
          1.806260762,
          1.582198917,
          3.32443327,
          0.697357563,
          0.660337987,
          1.17386252,
          1.7579663319999999,
          0.805561042,
          2.196694114,
          0.676154466,
          139.16863490000003,
          201.5084354,
          220.3087565,
          506.82739680000003,
          6943.544834,
          858.9293537999998,
          879.4624989,
          546.5319607999999,
          336.4206622,
          373.82199610000004,
          264.0072287,
          128.2459249,
          423.8273344,
          117.8724588,
          224.17573540000004,
          222.39814330000002,
          185.4472492,
          79.45256831,
          108.62238559999999,
          264.4581176,
          62.62756428,
          63.60679408,
          352.91063760000003,
          172.00886609999998,
          100.2753173,
          94.18333018,
          42.51435021,
          133.6605256,
          19.571885,
          29.83854328,
          139.92315480000002,
          110.6872659,
          73.78828597,
          22.19613394,
          15.55615883,
          28.44695243,
          12.73936063,
          7.576718115,
          9.121807439,
          21.5543793,
          56.53391601,
          8.044303708,
          3.1654264530000003,
          26.60139582,
          2.936125937,
          5.053056174,
          7.4411071810000005,
          1.858436475,
          4.072223997,
          3.7385280539999997,
          2.417166823,
          1.3521352690000001,
          2.6774201619999998,
          1.165173154,
          0.89252844,
          0.661550237,
          1.00049623,
          0.962155399,
          1.204680461
         ],
         "xaxis": "x",
         "y": [
          346.3470772,
          337.3222254,
          325.26466,
          19.14741855,
          7.761592114,
          7.567821938,
          5.316203421,
          4.75138122,
          4.466909426,
          3.27107043,
          1.944208601,
          112.52380900000001,
          94.95105688,
          3.495656865,
          1.343763728,
          1.699473258,
          1.148338288,
          3.038465777,
          1.223745221,
          1.72086912,
          2.299474684,
          5.458793741,
          43.838531200000006,
          1.244526867,
          1.032650876,
          1.632351743,
          2.482479996,
          1.474426559,
          1.173031832,
          129.34385659999998,
          1.694855114,
          1.57026785,
          1.425104474,
          1.493094176,
          1.72812355,
          1.381012486,
          1.112538177,
          2.919549888,
          1.380674388,
          1.360144988,
          14.03808458,
          4.464134206000001,
          1.152782751,
          4.488291185,
          1.46559074,
          2.1819145840000003,
          1.024414607,
          1.90221374,
          1.603263729,
          1.5051325519999998,
          1.1532055140000002,
          2.6607490730000003,
          1.7400153569999999,
          3.622634817,
          1.123846451,
          3.731716212,
          2.537370865,
          1.891285084,
          1.238451777,
          2.205320777,
          1.042688315,
          1.0319317129999999,
          2.731282904,
          1.275974387,
          268.5525229,
          218.20360060000002,
          15.30248954,
          10.78026611,
          8.385738935,
          5.161592154,
          4.175078966,
          3.90845346,
          3.775808928,
          3.745324971,
          1.119564971,
          170.049734,
          1.8702302659999999,
          88.4452105,
          3.030926543,
          1.6535273780000002,
          1.861113786,
          23.11640929,
          1.41890213,
          2.473631103,
          1.0121258579999999,
          1.415989021,
          1.13379207,
          1.512836865,
          1.6385531690000001,
          2.745216442,
          2.111454364,
          1.698136087,
          45.89706947,
          1.596686246,
          1.579467705,
          2.202484003,
          1.227812472,
          2.355696349,
          3.0472548610000003,
          1.000305095,
          5.627877058999999,
          6.922556004,
          3.8357074680000003,
          1.3506446140000001,
          1.101630186,
          1.182421334,
          3.5695464639999996,
          1.158406352,
          9.210308944,
          5.50232666,
          2.555969202,
          2.446712465,
          4.60937245,
          2.911456916,
          1.741260455,
          1.09404647,
          1.077289652,
          1.033683112,
          1.1721039690000001,
          1.778011217,
          1.559167687,
          1.780077827,
          1.528392554
         ],
         "yaxis": "y"
        },
        {
         "hovertemplate": "<b>%{hovertext}</b><br><br>max.cluster=Astrocytes<br>max.expr=%{x}<br>fold.change=%{y}<extra></extra>",
         "hovertext": [
          "'RGS20'",
          "'NOTCH2'",
          "'MAGI3'",
          "'FAM212B'",
          "'PHGDH'",
          "'RP11-400K9.4'",
          "'AHCYL1'",
          "'OPRK1'",
          "'RP11-418J17.1'",
          "'WARS2'",
          "'RP11-31F15.1'",
          "'CGGBP1'",
          "'RNU6-1331P'",
          "'WARS2-IT1'",
          "'GSTM5'",
          "'IQUB'",
          "'VGLL3'",
          "'ATP1A1OS'",
          "'GSTM2'",
          "'TCEA1'",
          "'ENPP7P2'",
          "'PSRC1'",
          "'TTPA'",
          "'FNDC7'",
          "'RP11-25K19.1'",
          "'RP5-1042I8.7'",
          "'CTD-2026G6.3'",
          "'FAM86DP'",
          "'RP11-110G21.1'",
          "'RP5-1049N15.2'",
          "'ST7L'",
          "'CLCC1'",
          "'RP11-803B1.8'",
          "'RNU6-817P'",
          "'RBM15'",
          "'PIFO'",
          "'RP4-655J12.4'",
          "'GSTM1'",
          "'RP11-560I19.1'",
          "'AC004014.3'",
          "'RP11-188D8.1'",
          "'RP5-1065J22.4'",
          "'TRIM45'",
          "'DDX20'",
          "'RP11-162D9.3'",
          "'SCARNA2'",
          "'C1orf194'",
          "'ST7-AS1'",
          "'RP4-735C1.4'",
          "'ALG1L6P'",
          "'RP11-39H13.1'",
          "'snoU109'",
          "'ALX3'",
          "'RP5-1160K1.3'",
          "'RGS20'",
          "'NOTCH2'",
          "'SPAG17'",
          "'MAGI3'",
          "'AASS'",
          "'PHGDH'",
          "'CYP7B1'",
          "'RP11-400K9.4'",
          "'IQUB'",
          "'TTPA'",
          "'ASPH'",
          "'PIFO'",
          "'EFCAB1'",
          "'RNU6-1331P'",
          "'WARS2-IT1'",
          "'ATP1A1OS'",
          "'RP11-1D12.1'",
          "'RP11-418J17.1'",
          "'RP5-1049N15.2'",
          "'C1orf194'",
          "'GSTM2'",
          "'RP11-110G21.1'",
          "'RP11-31F15.1'",
          "'ST7L'",
          "'GSTM5'",
          "'FAM86DP'",
          "'FEZF1-AS1'",
          "'RP5-1042I8.7'",
          "'FNDC7'",
          "'RP11-560I19.1'",
          "'RP11-25K19.1'",
          "'FEZF1'",
          "'RP11-1081M5.1'",
          "'RP11-188D8.1'",
          "'RP4-655J12.4'",
          "'AC005487.2'",
          "'AC004014.3'",
          "'RP11-520D19.2'",
          "'RP5-1073O3.7'",
          "'RP5-1065J22.4'",
          "'RP11-451B8.1'",
          "'RP11-1081M5.2'",
          "'RP11-659E9.4'",
          "'SYPL2'",
          "'RP11-512F24.1'",
          "'RP4-730K3.3'",
          "'RP5-1160K1.3'",
          "'LAMTOR5-AS1'",
          "'RP11-446E9.1'",
          "'LINC00622'",
          "'RP11-787D18.2'"
         ],
         "legendgroup": "Astrocytes",
         "marker": {
          "color": "#EF553B",
          "symbol": "circle"
         },
         "mode": "markers",
         "name": "Astrocytes",
         "orientation": "v",
         "showlegend": true,
         "type": "scatter",
         "x": [
          323.41241510000003,
          226.4354335,
          273.3716243,
          89.23201736,
          82.11650688,
          45.93312563,
          127.24900420000002,
          37.37173708,
          135.9667154,
          54.25075955,
          84.23725282,
          128.19671090000003,
          15.1302462,
          18.23814462,
          14.78605272,
          20.33447383,
          14.87145772,
          24.45902983,
          10.89704711,
          59.22038846,
          15.09482596,
          9.003366961000001,
          8.906654627,
          5.064423454,
          11.09349916,
          5.3737942720000005,
          5.886634179,
          9.896710671000001,
          14.80205902,
          3.457653033,
          95.29949565,
          59.45379407,
          6.82562587,
          2.22951099,
          9.822320191000001,
          2.320945424,
          3.1281174789999997,
          1.4114628569999998,
          1.354119389,
          1.5232821890000001,
          1.168833431,
          1.168432009,
          6.015260573,
          11.59386418,
          1.029317522,
          0.840304855,
          1.297832829,
          1.510958373,
          0.9919691340000001,
          0.929107128,
          0.361016754,
          0.48224151,
          0.36608744600000004,
          0.839443209,
          213.7181955,
          227.8008307,
          125.75229420000001,
          294.9624952,
          118.8441125,
          69.14780715,
          116.8972732,
          33.66840155,
          32.14839897,
          19.72421647,
          137.6314053,
          12.94885857,
          14.88402047,
          10.57563941,
          10.495664300000001,
          21.94754724,
          25.68472375,
          101.32583259999998,
          5.873499272,
          8.024111549,
          11.42392909,
          14.86277603,
          82.17137176,
          98.86780427,
          8.206460682000001,
          10.98600358,
          3.13776837,
          3.801135263,
          2.498751641,
          1.963319438,
          4.872201736,
          1.500035267,
          1.187172244,
          1.7110857919999998,
          2.898119977,
          0.9088364259999999,
          1.5500672169999998,
          1.2894774279999999,
          0.8282707490000001,
          0.849579075,
          0.8162124629999999,
          0.38098649700000004,
          0.597293808,
          0.53463347,
          0.317459337,
          0.453058054,
          0.80651503,
          7.381807368,
          0.362318841,
          0.46992118299999996,
          0.483116883
         ],
         "xaxis": "x",
         "y": [
          21.17128175,
          2.1689167069999997,
          1.2256080790000001,
          1.224988271,
          3.0110383360000004,
          4.187004712,
          1.0111647959999999,
          6.247231374,
          1.4638214059999999,
          1.05216902,
          1.044338392,
          1.258361948,
          23.28704675,
          10.940283500000001,
          1.923757723,
          2.335581758,
          1.6318245359999999,
          1.6056784780000002,
          1.128075514,
          1.064909962,
          1.6456034480000001,
          1.5056799280000002,
          4.2708622819999995,
          1.3934442790000001,
          1.762836021,
          1.402342133,
          1.8507221930000002,
          1.252936419,
          1.064669406,
          4.04311129,
          1.0715128740000002,
          1.004033185,
          1.620697355,
          2.274992207,
          1.017649045,
          2.836516275,
          2.494370785,
          1.3673863659999999,
          9.68564031,
          5.171806988999999,
          1.457761536,
          2.7449103210000003,
          1.071909594,
          1.031238651,
          2.6929520819999997,
          1.293331385,
          1.796425521,
          1.218319229,
          2.8938550060000003,
          1.449343066,
          1.407527102,
          1.028522343,
          1.126035857,
          1.020969002,
          3.500467594,
          2.161401651,
          2.059375922,
          1.176102947,
          1.0152980090000001,
          2.850642068,
          1.4579553459999999,
          3.318476785,
          4.23948274,
          9.114463901,
          1.178209155,
          16.54330646,
          5.8810276539999995,
          4.841895475,
          9.667023406,
          1.071149369,
          1.348121025,
          1.3549666130000002,
          16.94995532,
          7.132321697,
          1.016030347,
          1.09429034,
          1.090276615,
          1.071349244,
          1.4774844930000002,
          1.232272878,
          7.342677592,
          1.39193475,
          3.5980803669999997,
          19.63602623,
          1.08778273,
          3.025205174,
          3.329435516,
          2.420502276,
          1.9070899959999998,
          3.535673739,
          3.89869179,
          1.11419077,
          1.022789545,
          1.7791578999999997,
          1.5856601959999999,
          1.988337993,
          1.144656671,
          2.8648793660000003,
          1.2471205459999999,
          1.1839437640000001,
          1.30402862,
          1.128293562,
          1.080544242,
          2.302744444,
          1.145117087
         ],
         "yaxis": "y"
        },
        {
         "hovertemplate": "<b>%{hovertext}</b><br><br>max.cluster=Vascular endothelial cells<br>max.expr=%{x}<br>fold.change=%{y}<extra></extra>",
         "hovertext": [
          "'CAV2'",
          "'CAV1'",
          "'SLC16A1'",
          "'RHOC'",
          "'DENND2C'",
          "'LAMB1'",
          "'RPS20'",
          "'SORT1'",
          "'MDFIC'",
          "'BCAP29'",
          "'SDCBP'",
          "'TES'",
          "'SNAI2'",
          "'CSDE1'",
          "'SOX17'",
          "'SLC16A4'",
          "'MOV10'",
          "'HBP1'",
          "'HTR1F'",
          "'PXDNL'",
          "'HIPK1'",
          "'VANGL1'",
          "'RP11-56A10.1'",
          "'ATP1A1'",
          "'IMPAD1'",
          "'LINC00998'",
          "'CTTNBP2NL'",
          "'FAM46C'",
          "'LAMTOR5'",
          "'KCNC4'",
          "'SIKE1'",
          "'NRAS'",
          "'GNAI3'",
          "'SARS'",
          "'PSMA5'",
          "'CHMP2B'",
          "'NAA38'",
          "'RP11-418J17.3'",
          "'AC002066.1'",
          "'TAF13'",
          "'SLC25A24'",
          "'TBX15'",
          "'CCDC71L'",
          "'ATP5F1'",
          "'TMEM167B'",
          "'DLD'",
          "'THAP5'",
          "'ZNF654'",
          "'GSTM3'",
          "'DCLRE1B'",
          "'WDR77'",
          "'PNPLA8'",
          "'PRMT6'",
          "'ING3'",
          "'RP1'",
          "'AMPD2'",
          "'MRPL15'",
          "'CBLL1'",
          "'RP11-53M11.3'",
          "'SLC26A4'",
          "'C3orf38'",
          "'RP4-773N10.4'",
          "'RP11-770E5.1'",
          "'DNAJB9'",
          "'LRIF1'",
          "'EFCAB1'",
          "'RP11-16E18.3'",
          "'AC068610.3'",
          "'RP5-1065J22.8'",
          "'RP11-442A17.2'",
          "'RP11-388G22.1'",
          "'RP11-17A4.1'",
          "'RP5-834N19.1'",
          "'LINC00968'",
          "'RP11-483I13.5'",
          "'HSD3BP3'",
          "'AC002467.7'",
          "'HNRNPA3P6'",
          "'RP5-965F6.2'",
          "'RP11-90H3.1'",
          "'RHOC'",
          "'CAV2'",
          "'SLC16A1'",
          "'CAV1'",
          "'LAMB1'",
          "'RPS20'",
          "'TES'",
          "'SORT1'",
          "'SNAI2'",
          "'SDCBP'",
          "'BCAP29'",
          "'CSDE1'",
          "'SOX17'",
          "'TSPAN12'",
          "'SLC16A4'",
          "'PXDNL'",
          "'HBP1'",
          "'HIPK1'",
          "'HTR1F'",
          "'MOV10'",
          "'CTTNBP2NL'",
          "'RP11-56A10.1'",
          "'LAMTOR5'",
          "'KCNC4'",
          "'TBX15'",
          "'LINC00998'",
          "'TAF13'",
          "'PSMA5'",
          "'AC002066.1'",
          "'ATP5F1'",
          "'SIKE1'",
          "'SLC25A24'",
          "'TCEA1'",
          "'SARS'",
          "'NRAS'",
          "'TMEM167B'",
          "'RP11-53M11.3'",
          "'WDR77'",
          "'ZNF654'",
          "'CHMP2B'",
          "'DLD'",
          "'RP11-418J17.3'",
          "'MAN1A2'",
          "'CBLL1'",
          "'OVGP1'",
          "'ALX3'",
          "'U3'",
          "'RP1'",
          "'MRPL15'",
          "'PRMT6'",
          "'DNAJB9'",
          "'ING3'",
          "'RBM15'",
          "'RP4-773N10.4'",
          "'RP4-773N10.6'",
          "'LRIF1'",
          "'RP5-1180E21.5'",
          "'ST7-AS1'",
          "'RP11-770E5.1'",
          "'AC002467.7'",
          "'UBL4B'",
          "'RP11-47P18.1'",
          "'C3orf38'",
          "'RP11-736E3.1'",
          "'RP5-834N19.1'",
          "'RP11-246K15.1'",
          "'RP11-17A4.1'",
          "'RP11-16E18.3'",
          "'SLC26A3'",
          "'AC090186.1'"
         ],
         "legendgroup": "Vascular endothelial cells",
         "marker": {
          "color": "#00cc96",
          "symbol": "circle"
         },
         "mode": "markers",
         "name": "Vascular endothelial cells",
         "orientation": "v",
         "showlegend": true,
         "type": "scatter",
         "x": [
          148.66855139999998,
          229.9975602,
          684.5854897,
          238.8047196,
          114.1637133,
          476.52315080000005,
          300.89504689999995,
          250.57248819999998,
          153.3771748,
          155.1670686,
          164.8306877,
          97.31667799,
          59.28820634,
          321.88349839999995,
          48.64233409,
          56.97577145,
          46.774518799999996,
          74.320211,
          23.64198421,
          43.75205238,
          95.18383844,
          40.43339234,
          22.05379778,
          72.06184342,
          84.94842982,
          26.00994579,
          133.4459939,
          15.53285439,
          47.96520532,
          28.01347064,
          48.65347402,
          40.0813251,
          68.89554135,
          72.13000592,
          52.22004506,
          37.67267292,
          34.14126009,
          6.6462386339999995,
          18.15370923,
          34.40823829,
          50.615969799999995,
          12.01388106,
          21.69126751,
          64.36587819,
          34.39938071,
          53.06048981,
          31.82031331,
          29.93597129,
          19.34551705,
          17.87296705,
          20.17291492,
          68.11010398,
          10.08552027,
          27.40347668,
          3.144090336,
          13.16428649,
          17.37880352,
          25.50898033,
          3.2605515539999996,
          4.22856798,
          37.07763541,
          7.429027014,
          5.212327607,
          16.85150337,
          14.89327316,
          1.9824306090000001,
          3.326794107,
          0.867935969,
          2.07297925,
          1.467432825,
          1.1100412709999998,
          0.8390921570000001,
          0.631085994,
          1.588400021,
          1.065540034,
          0.444682794,
          0.438033813,
          0.490483912,
          1.082563298,
          0.67609175,
          212.3402393,
          121.4440117,
          538.325792,
          196.5457533,
          499.32851900000003,
          255.3537742,
          94.69484914,
          279.4487135,
          65.85116201,
          145.4650334,
          143.85272680000003,
          287.8922997,
          35.64790239,
          36.65775041,
          58.29643539,
          68.90873109,
          68.37357489,
          87.96268564,
          23.41022447,
          39.93872183,
          157.5525577,
          16.77970284,
          43.15748154,
          26.65623304,
          16.95932389,
          23.21585948,
          34.18976838,
          50.25933608,
          19.101937799999998,
          60.11108774,
          44.99376504,
          54.52846186,
          53.71025949,
          66.95270231,
          31.04874586,
          28.52232057,
          4.700365442,
          17.59384197,
          27.75324818,
          35.23108683,
          43.69663309,
          5.452298352000001,
          219.54019580000002,
          24.59644888,
          6.959699411,
          4.281199013999999,
          3.75018658,
          2.974784562,
          15.23967207,
          7.407794176,
          14.97817812,
          22.93959368,
          11.11231656,
          8.028918752000001,
          1.94831725,
          15.35906228,
          6.7772671760000005,
          2.110744446,
          14.70110478,
          1.5854008659999999,
          0.760962919,
          0.777012695,
          27.36033267,
          1.947462015,
          0.60887466,
          0.47771031399999997,
          0.540702948,
          1.369550916,
          0.81965903,
          1.355258401
         ],
         "xaxis": "x",
         "y": [
          15.911988599999999,
          15.40312682,
          13.73253149,
          13.46084009,
          10.00847687,
          2.005440427,
          1.9251259969999999,
          1.2104333809999999,
          1.104462562,
          1.793914611,
          2.443242826,
          2.525897317,
          63.59405985,
          2.022511737,
          130.673844,
          2.100833408,
          2.265182212,
          1.427992659,
          251.52690980000003,
          1.118213706,
          2.0038325880000003,
          6.4671442589999995,
          22.19294275,
          1.123799872,
          1.0896989879999999,
          1.37979909,
          1.16211276,
          12.56852992,
          2.9102018339999995,
          1.4996729130000002,
          2.337283919,
          2.488288371,
          1.135843992,
          1.36947798,
          1.926256468,
          1.020059578,
          1.091676395,
          1.090342282,
          2.482016014,
          2.2335121190000002,
          1.106556932,
          2.6844347010000003,
          2.4695401930000003,
          1.9023734730000001,
          1.933536343,
          1.7566321059999999,
          1.516364215,
          2.051126976,
          1.040432662,
          1.904066513,
          1.708908729,
          1.306158487,
          1.98796178,
          1.109354723,
          31.74230673,
          1.488096012,
          1.329104724,
          1.256831449,
          32.2249423,
          1.226167882,
          1.172961787,
          1.085066302,
          2.600922778,
          1.198791154,
          1.322877062,
          1.4090711459999998,
          2.104139403,
          1.195865777,
          1.041127213,
          1.291646441,
          1.0169713009999999,
          1.143395221,
          1.030245314,
          1.280310831,
          1.061882384,
          1.3548438580000002,
          1.06669265,
          1.641010214,
          1.4749332819999998,
          2.541127275,
          12.85676211,
          10.36940812,
          7.809672585,
          5.949120832,
          4.513032777,
          3.1644680380000003,
          2.424353604,
          1.303965697,
          36.89830644,
          1.112625435,
          1.365061001,
          1.967414384,
          131.8628131,
          1.167167955,
          6.878699465,
          2.446571449,
          1.419093154,
          1.388033412,
          45.17521553,
          1.152056093,
          1.374313282,
          15.6212767,
          3.567829465,
          1.101285965,
          9.227400003,
          2.417802531,
          1.854399785,
          2.1201739859999997,
          1.557117735,
          1.7766020519999999,
          2.4427306509999998,
          1.112978754,
          1.062716767,
          1.460033856,
          2.347286893,
          1.6369309269999999,
          47.63290896,
          1.87622303,
          1.53353023,
          1.06663621,
          1.626907436,
          1.0802094740000001,
          1.11277856,
          1.412105079,
          1.097733169,
          10.46859821,
          3.6401874989999996,
          20.20281178,
          1.268156544,
          1.846014882,
          1.228021246,
          1.0688809540000002,
          1.4772758680000002,
          1.6767058819999998,
          2.7045245419999997,
          1.064388527,
          1.001456659,
          1.913439766,
          1.138869771,
          4.631758994,
          77.09629195,
          1.1871097879999999,
          1.00341576,
          1.175098849,
          1.7969434080000002,
          1.243370211,
          1.839338811,
          1.46929119,
          1.073564338,
          1.284497587
         ],
         "yaxis": "y"
        },
        {
         "hovertemplate": "<b>%{hovertext}</b><br><br>max.cluster=Purkinje neurons<br>max.expr=%{x}<br>fold.change=%{y}<extra></extra>",
         "hovertext": [
          "'CA8'",
          "'FOXP2'",
          "'CTB-111H14.1'",
          "'VAV3'",
          "'IMMP2L'",
          "'CTTNBP2'",
          "'AASS'",
          "'SLC6A17'",
          "'SPAG17'",
          "'FAM3C'",
          "'RP11-260O18.1'",
          "'RP11-17A4.2'",
          "'PENK'",
          "'CFTR'",
          "'NDUFA5'",
          "'WNT16'",
          "'AC003088.1'",
          "'SDR16C5'",
          "'RP11-458K10.1'",
          "'GPR85'",
          "'GPR61'",
          "'VAV3-AS1'",
          "'CTB-30L5.1'",
          "'RP11-359D24.1'",
          "'RP11-222O23.1'",
          "'AC073071.1'",
          "'AC002463.3'",
          "'IMMP2L-IT1'",
          "'snoU13'",
          "'AC003989.3'",
          "'RP5-1074L1.1'",
          "'CASQ2'",
          "'LAMB4'",
          "'AC073626.2'",
          "'DUS4L'",
          "'AC000111.6'",
          "'CHIAP3'",
          "'AC068610.5'",
          "'RP5-884M6.1'"
         ],
         "legendgroup": "Purkinje neurons",
         "marker": {
          "color": "#ab63fa",
          "symbol": "circle"
         },
         "mode": "markers",
         "name": "Purkinje neurons",
         "orientation": "v",
         "showlegend": true,
         "type": "scatter",
         "x": [
          1675.740381,
          4758.759272,
          141.2187064,
          204.8142407,
          3275.309447,
          571.7452084,
          130.7012297,
          50.98767953,
          55.09222905,
          122.1201803,
          39.22350086,
          24.47476302,
          20.46297562,
          26.77742462,
          80.33891657,
          15.561254000000002,
          15.18656339,
          13.43203187,
          8.330745787,
          28.04106965,
          5.539474871,
          4.706670066,
          5.547906574,
          3.646719048,
          2.809099372,
          4.614205768,
          3.7464327089999996,
          3.508082632,
          3.4039713939999996,
          1.6685596180000002,
          4.273536865,
          2.13029725,
          4.02925932,
          1.192143383,
          10.90279576,
          1.007165729,
          0.99974209,
          1.244654267,
          0.47412863200000005
         ],
         "xaxis": "x",
         "y": [
          12.47480245,
          7.561547827999999,
          4.156404649,
          1.635626904,
          1.5759646369999998,
          1.418993781,
          1.357466279,
          1.048041871,
          1.348192092,
          1.580288785,
          6.948382035,
          7.25171407,
          1.834693394,
          3.45772761,
          1.383180406,
          10.78584846,
          1.4016083519999998,
          1.8080472840000001,
          1.9441712740000001,
          1.090848755,
          1.1778120140000001,
          1.4927148280000002,
          3.10781602,
          2.606258401,
          5.293192519,
          2.74933161,
          1.861859274,
          1.759194954,
          1.366597244,
          2.007151699,
          1.236088684,
          1.245031566,
          1.4019067630000002,
          1.8239581059999999,
          1.183872932,
          1.299838233,
          4.345227123,
          1.5345706000000001,
          1.697682255
         ],
         "yaxis": "y"
        },
        {
         "hovertemplate": "<b>%{hovertext}</b><br><br>max.cluster=Granule neurons<br>max.expr=%{x}<br>fold.change=%{y}<extra></extra>",
         "hovertext": [
          "'ST18'",
          "'NKAIN3'",
          "'ROBO1'",
          "'ROBO2'",
          "'NRCAM'",
          "'CHD7'",
          "'KCND3'",
          "'NHLH2'",
          "'RP11-705O24.1'",
          "'RP5-1101C3.1'",
          "'RP11-328J2.1'",
          "'ASPH'",
          "'RP11-513O17.2'",
          "'GGH'",
          "'ST7-OT4'",
          "'AC022182.3'",
          "'STRIP1'",
          "'FAM150A'",
          "'RP11-659E9.2'",
          "'RN7SL751P'",
          "'MET'",
          "'MYBPHL'",
          "'RP11-88H9.2'",
          "'RP11-26M5.2'",
          "'RNU6-386P'",
          "'RP11-26M5.3'",
          "'RP11-705O24.2'",
          "'RNF148'",
          "'RP11-12L8.1'",
          "'RP11-401H2.1'",
          "'RP11-91I20.1'",
          "'RP5-1065J22.2'",
          "'SDR16C6P'",
          "'RP11-251P6.1'"
         ],
         "legendgroup": "Granule neurons",
         "marker": {
          "color": "#FFA15A",
          "symbol": "circle"
         },
         "mode": "markers",
         "name": "Granule neurons",
         "orientation": "v",
         "showlegend": true,
         "type": "scatter",
         "x": [
          528.7038791,
          2109.834542,
          5608.017586999999,
          3831.7386380000003,
          995.4550958999998,
          1011.659123,
          499.3327575,
          92.05512306,
          38.49481369,
          28.29450524,
          32.52698993,
          144.8937096,
          26.83312572,
          54.13242397,
          55.64095907,
          5.389467272999999,
          43.83533677,
          3.012282963,
          4.12811302,
          2.067395831,
          4.276501324,
          2.56977876,
          3.31254916,
          1.250497853,
          1.04196576,
          1.191542752,
          1.018000237,
          0.68312707,
          1.147904737,
          0.662478708,
          0.8418091759999999,
          0.43716098299999995,
          0.28672101899999997,
          0.35944968
         ],
         "xaxis": "x",
         "y": [
          5.4484366060000005,
          1.759798655,
          1.597877004,
          1.425590467,
          1.379363984,
          1.214157876,
          1.119354978,
          1.0730956390000002,
          14.62943022,
          1.00232018,
          20.53070854,
          1.348395129,
          3.204222998,
          1.024939861,
          1.242632373,
          3.78010861,
          1.159667498,
          1.6116764540000001,
          2.480079166,
          3.154898461,
          1.3799946859999999,
          1.7270746419999998,
          1.304998294,
          3.9337173180000002,
          1.563571025,
          5.667114455,
          25.98039756,
          1.096271427,
          1.1182276340000001,
          2.79205478,
          1.53240393,
          1.790017565,
          1.6183820309999999,
          1.626726555
         ],
         "yaxis": "y"
        },
        {
         "hovertemplate": "<b>%{hovertext}</b><br><br>max.cluster=Inhibitory interneurons<br>max.expr=%{x}<br>fold.change=%{y}<extra></extra>",
         "hovertext": [
          "'XKR4'",
          "'BHLHE22'",
          "'ST7'",
          "'EPHA3'",
          "'RP11-386G21.2'",
          "'CELSR2'",
          "'KIAA1324'",
          "'TGS1'",
          "'NSMAF'",
          "'RP11-386G21.1'",
          "'UBXN2B'",
          "'NGF'",
          "'RP11-284N8.3'",
          "'AMIGO1'",
          "'AKNAD1'",
          "'PPP1R3A'",
          "'RP11-21C4.1'",
          "'ST7-AS2'",
          "'CTD-3025N20.2'",
          "'WDR3'",
          "'ATXN7L2'",
          "'AC004112.4'",
          "'RP11-109P6.2'",
          "'RP11-546K22.3'",
          "'ZNF717'",
          "'AC068522.4'",
          "'CTB-13F3.1'",
          "'RP11-1D12.2'",
          "'RP11-11C20.3'",
          "'RP11-451B8.1'",
          "'RP11-567J20.1'",
          "'RP11-546K22.1'",
          "'MIPEPP1'",
          "'RP11-91I20.4'",
          "'RP11-96K19.4'",
          "'RP11-47P18.1'",
          "'RP11-446E9.1'",
          "'KCND3-IT1'",
          "'ASZ1'",
          "'AL136376.1'"
         ],
         "legendgroup": "Inhibitory interneurons",
         "marker": {
          "color": "#19d3f3",
          "symbol": "circle"
         },
         "mode": "markers",
         "name": "Inhibitory interneurons",
         "orientation": "v",
         "showlegend": true,
         "type": "scatter",
         "x": [
          5266.407253,
          180.5347371,
          348.1856722,
          684.1057397999999,
          71.57408567,
          118.8174129,
          34.3654731,
          75.87160258,
          95.7534394,
          16.46232947,
          60.28253334,
          8.810358828,
          14.20626169,
          11.46224788,
          37.00729358,
          6.758458642999999,
          4.372953133999999,
          10.39623812,
          3.993294358,
          24.80387572,
          6.920813567000001,
          8.433787385,
          0.839842064,
          1.62065178,
          11.15759162,
          2.016811632,
          0.860930585,
          0.493415915,
          0.592671135,
          0.775491136,
          0.747996199,
          2.320732242,
          0.46272561100000004,
          0.7125861379999999,
          0.53792664,
          0.536193218,
          0.478012641,
          0.536658104,
          0.380228137,
          1.277941885
         ],
         "xaxis": "x",
         "y": [
          4.456110908,
          1.588655914,
          1.110054624,
          1.005833606,
          5.156002783,
          1.27325548,
          1.110526407,
          1.52634368,
          1.020242501,
          4.46313131,
          1.04881792,
          3.291233325,
          1.1410571409999999,
          1.247671831,
          1.0915824570000001,
          2.7725028010000003,
          1.139554165,
          1.043510971,
          2.665426991,
          1.010777764,
          1.069674917,
          1.0393329409999998,
          1.588055356,
          1.8106865730000001,
          1.105385054,
          1.888565795,
          1.028784079,
          1.08032711,
          1.09630006,
          1.6636108330000001,
          2.559647631,
          1.495367095,
          1.098539108,
          1.4352012180000002,
          1.091212685,
          1.164715278,
          2.151897562,
          1.836898801,
          1.938437605,
          1.1350816259999998
         ],
         "yaxis": "y"
        },
        {
         "hovertemplate": "<b>%{hovertext}</b><br><br>max.cluster=Oligodendrocytes<br>max.expr=%{x}<br>fold.change=%{y}<extra></extra>",
         "hovertext": [
          "'NTNG1'",
          "'CADM2'",
          "'PTPRZ1'",
          "'SNTG1'",
          "'KCND2'",
          "'GPSM2'",
          "'CNTN3'",
          "'TSPAN12'",
          "'RP11-163N6.2'",
          "'KCNA2'",
          "'RP4-797C5.2'",
          "'CADM2-AS1'",
          "'LRIG2'",
          "'CADM2-AS2'",
          "'GPR22'",
          "'TMEM68'",
          "'PRKRIRP2'",
          "'RNU6-581P'",
          "'RP11-33I11.2'",
          "'RP11-759A9.1'",
          "'RPS3AP12'",
          "'RP11-27K13.3'",
          "'GAPDHP33'",
          "'RP11-401N18.1'",
          "'RP11-91I20.3'",
          "'SYCP1'",
          "'CTA-363E19.2'",
          "'RP5-1006K12.1'",
          "'KCND2'",
          "'CADM2'",
          "'KCND3'",
          "'FAM110B'",
          "'GPSM2'",
          "'CHD7'",
          "'CNTN3'",
          "'SNTG1'",
          "'ST18'",
          "'PTPRZ1'",
          "'RP11-163N6.2'",
          "'KCNA2'",
          "'VGLL3'",
          "'RP4-797C5.2'",
          "'CADM2-AS1'",
          "'CADM2-AS2'",
          "'TGS1'",
          "'TMEM68'",
          "'LRIG2'",
          "'PRKRIRP2'",
          "'RP11-33I11.2'",
          "'RP11-88H9.2'",
          "'RP11-109P6.2'",
          "'RNU6-581P'",
          "'RP11-91I20.1'",
          "'RP11-759A9.1'",
          "'RP11-270C12.3'",
          "'RNU6-817P'",
          "'RP11-401N18.1'",
          "'RP4-773A18.4'",
          "'RP11-11C20.3'",
          "'RP11-388G22.1'",
          "'KCND3-IT1'",
          "'AL136376.1'",
          "'MIPEPP1'",
          "'RBMX2P3'",
          "'RPS3AP12'",
          "'SYCP1'"
         ],
         "legendgroup": "Oligodendrocytes",
         "marker": {
          "color": "#FF6692",
          "symbol": "circle"
         },
         "mode": "markers",
         "name": "Oligodendrocytes",
         "orientation": "v",
         "showlegend": true,
         "type": "scatter",
         "x": [
          729.7726428999999,
          10724.32443,
          4148.761708,
          3151.639221,
          8991.18816,
          147.5955276,
          278.5452863,
          39.44130084,
          69.22552012,
          33.14750631,
          14.85061437,
          11.49882722,
          67.05995703,
          11.8160522,
          6.629861437000001,
          47.1399638,
          3.362556384,
          2.447691743,
          2.4857566490000003,
          1.2403831909999998,
          1.529805214,
          2.281033059,
          0.52980969,
          1.1755168679999999,
          0.40323193700000004,
          1.174544507,
          0.602099714,
          0.327819729,
          7256.054743000001,
          10122.19519,
          473.3177688999999,
          398.38545780000004,
          143.98621880000002,
          803.0712006,
          439.2930158,
          2986.091649,
          77.10014498,
          4329.596013,
          96.28373024,
          26.24174367,
          9.198512739,
          9.570243625,
          11.17664781,
          9.469451573999999,
          53.10214069,
          41.63230265,
          67.93408207,
          3.357654478,
          1.560939079,
          3.265712826,
          1.952263769,
          1.5668551830000002,
          1.86160383,
          0.926365938,
          1.009370517,
          0.83186191,
          0.8064325990000001,
          1.622752831,
          0.966485296,
          1.764735757,
          0.7550407090000001,
          1.2203032390000002,
          0.8152084829999999,
          0.8860937759999999,
          1.713278776,
          1.072620881
         ],
         "xaxis": "x",
         "y": [
          2.640155915,
          2.490670474,
          2.360114896,
          2.035393889,
          1.90474525,
          1.201396202,
          1.159274491,
          1.278849981,
          1.943589649,
          1.361899821,
          2.132303754,
          1.892336253,
          1.102435918,
          2.502464886,
          1.051817936,
          1.048340923,
          1.957850586,
          4.254508434,
          1.220012975,
          1.32694975,
          1.463395194,
          1.1670203909999999,
          1.337950263,
          4.418915462,
          1.237856516,
          1.070692088,
          1.258971008,
          1.261783355,
          2.890190495,
          2.284994531,
          1.978947768,
          1.567980779,
          1.525499804,
          1.472917455,
          1.4288219619999998,
          1.2195587270000001,
          1.1946750959999999,
          1.042484567,
          1.312306303,
          2.794937053,
          1.287977214,
          2.599892218,
          1.947182826,
          1.936939111,
          1.308531205,
          1.157067397,
          1.207364873,
          1.356533534,
          1.2562759620000001,
          2.045402116,
          3.651297579,
          1.570313869,
          2.62155337,
          1.0163489909999999,
          1.733326799,
          1.018997827,
          1.4102953759999999,
          1.048509582,
          1.0150783540000001,
          1.6825771580000002,
          3.579436321,
          1.145679752,
          1.778345614,
          2.182515444,
          1.305988272,
          1.039147023
         ],
         "yaxis": "y"
        },
        {
         "hovertemplate": "<b>%{hovertext}</b><br><br>max.cluster=SLC24A4_PEX5L positive cells<br>max.expr=%{x}<br>fold.change=%{y}<extra></extra>",
         "hovertext": [
          "'TOX'",
          "'RP11-32K4.1'",
          "'PRKAR2B'",
          "'LINC00966'",
          "'IGSF3'",
          "'SLC22A15'",
          "'PTGFRN'",
          "'TSPAN2'",
          "'MAN1A2'",
          "'WDR47'",
          "'RP4-666F24.3'",
          "'PCMTD1'",
          "'CD101'",
          "'RP4-663N10.1'",
          "'RP11-579E24.2'",
          "'RP11-389O22.1'",
          "'CTA-360L10.1'",
          "'OVGP1'",
          "'ZNF697'",
          "'RP11-31F15.2'",
          "'RNU4-50P'",
          "'ANKRD7'",
          "'RP11-552M11.8'",
          "'MAB21L3'",
          "'PPM1J'",
          "'WNT2'",
          "'RP11-579E24.1'",
          "'RP11-110G21.2'",
          "'LSMEM1'",
          "'CTD-3046C4.1'",
          "'RP11-328K2.1'",
          "'AP4B1-AS1'",
          "'AP4B1'",
          "'RP11-552M11.4'",
          "'RP4-671G15.2'",
          "'HSD3BP5'",
          "'RP11-159M11.2'",
          "'LINC00622'",
          "'RP11-45K10.2'",
          "'RP11-6B4.1'",
          "'SLC26A3'",
          "'FAM19A3'",
          "'CBX5P1'",
          "'RNA5SP265'",
          "'RP11-426L16.10'"
         ],
         "legendgroup": "SLC24A4_PEX5L positive cells",
         "marker": {
          "color": "#B6E880",
          "symbol": "circle"
         },
         "mode": "markers",
         "name": "SLC24A4_PEX5L positive cells",
         "orientation": "v",
         "showlegend": true,
         "type": "scatter",
         "x": [
          902.0020814999999,
          437.4326065,
          320.9270851,
          112.8203226,
          156.3337165,
          96.60887314,
          87.21503111,
          68.60053238,
          363.697766,
          88.20901656,
          14.93352438,
          146.9300379,
          9.635550313,
          11.24468675,
          7.863262773,
          66.66594903,
          11.14750343,
          8.553577978,
          15.50945134,
          16.94528672,
          4.855935241,
          5.043235601,
          5.590439056,
          1.9845529530000001,
          2.732641348,
          2.8493181689999996,
          1.272337863,
          7.022160368,
          3.34823715,
          3.0078428410000004,
          2.726643842,
          2.732921391,
          11.74710293,
          3.330671485,
          1.484162868,
          0.508604995,
          0.35776586299999996,
          0.507136056,
          0.87076692,
          1.21813287,
          1.260439069,
          0.394367883,
          0.32441789600000004,
          0.238172613,
          0.399651335
         ],
         "xaxis": "x",
         "y": [
          1.9048925819999998,
          1.7454756980000001,
          1.735578275,
          1.413683988,
          1.012791849,
          1.127803004,
          1.182589538,
          1.7354591609999999,
          1.7064990269999998,
          1.010522306,
          3.103414215,
          1.046091177,
          1.004303571,
          2.922652075,
          1.163924196,
          1.0329131040000001,
          1.2904922909999998,
          1.1331202809999998,
          1.165611377,
          1.096162885,
          3.8226391860000004,
          1.546294485,
          1.440606202,
          3.170794055,
          2.041421868,
          2.182231397,
          2.035030873,
          1.105442922,
          1.1107371000000001,
          2.9553072869999997,
          1.250917323,
          1.043229072,
          1.11569159,
          1.1856515970000001,
          1.624204081,
          1.9318415869999999,
          1.2615705529999999,
          3.466740044,
          8.612053947,
          1.115385965,
          1.402064835,
          2.8840502810000004,
          1.266506693,
          2.096687945,
          2.9885245310000004
         ],
         "yaxis": "y"
        },
        {
         "hovertemplate": "<b>%{hovertext}</b><br><br>max.cluster=Unipolar brush cells<br>max.expr=%{x}<br>fold.change=%{y}<extra></extra>",
         "hovertext": [
          "'CLVS1'",
          "'LRRN3'",
          "'CADPS2'",
          "'FAM110B'",
          "'CYP7B1'",
          "'AC022182.1'",
          "'PHTF1'",
          "'TRIM33'",
          "'RB1CC1'",
          "'RP11-1D12.1'",
          "'RSBN1'",
          "'VTCN1'",
          "'KCNA3'",
          "'U3'",
          "'RP11-648L3.2'",
          "'WNT2B'",
          "'LAMTOR5-AS1'",
          "'RP5-1073O3.2'",
          "'RP11-659E9.4'",
          "'RP5-1074L1.4'",
          "'BCL2L15'",
          "'RP4-753F5.1'",
          "'RP11-787D18.2'",
          "'RP11-628E19.2'",
          "'RP4-773A18.4'",
          "'RP11-803B1.2'",
          "'RP5-1073O3.7'",
          "'SLC13A1'",
          "'AC090186.1'",
          "'RP11-520D19.2'",
          "'RP4-730K3.3'",
          "'RP11-24P14.1'",
          "'RP11-96K19.2'"
         ],
         "legendgroup": "Unipolar brush cells",
         "marker": {
          "color": "#FF97FF",
          "symbol": "circle"
         },
         "mode": "markers",
         "name": "Unipolar brush cells",
         "orientation": "v",
         "showlegend": true,
         "type": "scatter",
         "x": [
          419.7265608,
          450.3551045,
          1400.580277,
          305.0802762,
          98.43994333,
          33.33307969,
          97.68065666,
          264.7219453,
          188.8287772,
          33.27008606,
          83.80666136,
          6.247524362,
          6.629661479,
          3.391446197,
          5.65153828,
          25.67676263,
          9.95706001,
          2.230007535,
          0.8435658859999999,
          7.051931831,
          2.505640185,
          0.491240471,
          1.016916753,
          0.546155156,
          2.664200363,
          1.5553563999999998,
          1.19342344,
          0.542184984,
          1.1457307490000002,
          0.88672129,
          0.537675075,
          0.597814171,
          1.536180572
         ],
         "xaxis": "x",
         "y": [
          1.587721065,
          1.2261099309999999,
          1.111859811,
          1.05553458,
          1.091344434,
          1.5799526640000001,
          1.495528208,
          1.1192942209999999,
          1.093118709,
          1.465564457,
          1.161620906,
          1.3517738990000001,
          1.057979875,
          1.167037017,
          1.15621919,
          1.046070585,
          1.4802712530000002,
          1.4339956619999998,
          1.59090672,
          1.067000919,
          1.6250268069999998,
          1.052792816,
          1.579606766,
          1.5250701740000001,
          1.445849947,
          1.008191134,
          1.31260553,
          1.0847147320000001,
          1.12551923,
          1.100581443,
          2.543944481,
          1.373073311,
          1.8965168669999999
         ],
         "yaxis": "y"
        },
        {
         "hovertemplate": "<b>%{hovertext}</b><br><br>max.cluster=SKOR2_NPSR1 positive cells<br>max.expr=%{x}<br>fold.change=%{y}<extra></extra>",
         "hovertext": [
          "'CTB-111H14.1'",
          "'CA8'",
          "'FOXP2'",
          "'IMMP2L'",
          "'CTTNBP2'",
          "'CADPS2'",
          "'LRRN3'",
          "'NRCAM'",
          "'MDFIC'",
          "'SLC22A15'",
          "'SLC6A17'",
          "'RP11-260O18.1'",
          "'CFTR'",
          "'RP11-17A4.2'",
          "'WNT16'",
          "'FAM3C'",
          "'UBXN2B'",
          "'SDR16C5'",
          "'NDUFA5'",
          "'RP11-458K10.1'",
          "'CTB-30L5.1'",
          "'RP5-1101C3.1'",
          "'GPR61'",
          "'CD101'",
          "'AC073071.1'",
          "'AKNAD1'",
          "'VAV3-AS1'",
          "'GSTM3'",
          "'RP11-359D24.1'",
          "'AC002463.3'",
          "'RP11-222O23.1'",
          "'RP5-1074L1.1'",
          "'AMIGO1'",
          "'PPP1R3A'",
          "'RP4-671G15.2'",
          "'AC068610.3'",
          "'RP11-552M11.8'",
          "'IMMP2L-IT1'",
          "'DCLRE1B'",
          "'AC068610.5'",
          "'AC073626.2'",
          "'ATXN7L2'",
          "'RP11-12L8.1'",
          "'CASQ2'",
          "'CTB-13F3.1'",
          "'snoU13'",
          "'RP5-884M6.1'",
          "'RP11-27K13.3'",
          "'RP11-90H3.1'",
          "'RP11-552M11.4'",
          "'RP11-96K19.4'",
          "'RP11-140I16.3'",
          "'AC000111.6'",
          "'MAB21L3'",
          "'RP11-6B4.1'",
          "'ASZ1'",
          "'CHIAP3'",
          "'snoU109'",
          "'RP11-61D3.1'",
          "'BCL2L15'"
         ],
         "legendgroup": "SKOR2_NPSR1 positive cells",
         "marker": {
          "color": "#FECB52",
          "symbol": "circle"
         },
         "mode": "markers",
         "name": "SKOR2_NPSR1 positive cells",
         "orientation": "v",
         "showlegend": true,
         "type": "scatter",
         "x": [
          164.7735401,
          1444.093943,
          5066.35878,
          2531.8595649999997,
          596.5052206,
          371.0520053999999,
          258.4231738,
          581.8225621,
          141.213954,
          91.31017626,
          54.66250304,
          33.97791887,
          34.20844745,
          25.80646478,
          16.85914049,
          93.44699878,
          63.959670499999994,
          12.13338443,
          58.20277538,
          7.046425785,
          7.764979942,
          8.476170605,
          3.8223379260000003,
          9.423403913,
          5.510322547,
          35.21902163,
          4.260545287,
          19.46457925,
          3.6545352419999997,
          4.3438768439999995,
          2.816402928,
          5.503683662,
          7.346913497,
          2.86548121,
          1.8657023640000001,
          1.2352059770000001,
          4.27862381,
          2.226328318,
          18.39525117,
          1.6370056819999999,
          1.1828807129999999,
          5.664112944,
          1.1158063520000001,
          2.061686566,
          0.880830784,
          1.377338252,
          0.6259777329999999,
          1.372582472,
          0.636517448,
          2.635693523,
          0.801036251,
          1.4799652369999998,
          0.5134495139999999,
          0.780277263,
          1.666545324,
          0.511799433,
          0.346922525,
          0.35385882399999996,
          0.19362822699999999,
          1.592197267
         ],
         "xaxis": "x",
         "y": [
          18.32425697,
          10.55453112,
          3.20114108,
          1.619763864,
          1.24199368,
          1.2033736240000001,
          1.157732127,
          1.1235250209999998,
          1.051175303,
          1.044252534,
          1.74956154,
          2.505398879,
          6.231660819,
          3.0367554119999998,
          32.85187809,
          1.499543934,
          1.006400435,
          2.305180634,
          1.416179565,
          3.536666495,
          2.82700292,
          1.304606843,
          1.045033154,
          1.084949034,
          3.035438135,
          1.112682289,
          1.961150325,
          1.25325756,
          4.501858578,
          2.6848629330000002,
          7.001232142,
          1.212020075,
          1.077437153,
          1.401272918,
          1.055549279,
          1.132460563,
          1.329732327,
          1.298862055,
          1.095310277,
          1.3905838659999998,
          1.353647525,
          1.0370129829999999,
          2.959750461,
          2.1080749030000003,
          1.1303416579999999,
          1.287387743,
          1.7566653140000001,
          1.104560961,
          1.6303019140000001,
          1.044213294,
          1.039522883,
          1.06182586,
          2.777480994,
          3.038754323,
          1.874573061,
          1.255733727,
          1.247188107,
          1.081953883,
          1.1666838640000001,
          1.1509523990000001
         ],
         "yaxis": "y"
        },
        {
         "hovertemplate": "<b>%{hovertext}</b><br><br>max.cluster=Megakaryocytes<br>max.expr=%{x}<br>fold.change=%{y}<extra></extra>",
         "hovertext": [
          "'PRKAR2B'",
          "'DENND2C'",
          "'LINC00966'",
          "'VAV3'",
          "'FAM212B'",
          "'CELSR2'",
          "'IFRD1'",
          "'AHCYL1'",
          "'CD58'",
          "'PTGFRN'",
          "'VANGL1'",
          "'IMPAD1'",
          "'RB1CC1'",
          "'RP11-284N8.3'",
          "'CGGBP1'",
          "'PHTF1'",
          "'FAM46C'",
          "'WARS2'",
          "'ATP6V1H'",
          "'CTA-360L10.1'",
          "'AC003088.1'",
          "'ATP1A1'",
          "'CCDC71L'",
          "'GSTM4'",
          "'THAP5'",
          "'PSRC1'",
          "'YTHDF3'",
          "'GDAP2'",
          "'KCNA3'",
          "'CHCHD7'",
          "'TRIM33'",
          "'TMEM168'",
          "'PNPLA8'",
          "'AMPD2'",
          "'ZNF697'",
          "'WDR3'",
          "'STRIP1'",
          "'RP11-328J2.1'",
          "'GNAT2'",
          "'RP11-96K19.2'",
          "'RP11-47P18.2'",
          "'AC002465.2'"
         ],
         "legendgroup": "Megakaryocytes",
         "marker": {
          "color": "#636efa",
          "symbol": "circle"
         },
         "mode": "markers",
         "name": "Megakaryocytes",
         "orientation": "v",
         "showlegend": true,
         "type": "scatter",
         "x": [
          1673.473291,
          254.42896299999998,
          300.5194599,
          310.9941244,
          140.9742913,
          166.72508480000002,
          392.7813307,
          273.01782210000005,
          275.5571848,
          114.9439798,
          140.2627438,
          92.17101988,
          255.25636969999996,
          180.4020499,
          100.8724247,
          101.8666258,
          73.0994152,
          53.51308425,
          233.1987676,
          18.15051444,
          18.43250018,
          83.04110661,
          36.80988879,
          13.09942384,
          134.9662615,
          24.20165317,
          291.8865469,
          92.24081887,
          83.1399287,
          66.17369228,
          257.9790777,
          138.6437842,
          126.67891180000001,
          52.73633454,
          19.70484252,
          83.31069675,
          55.64123927,
          51.82421227,
          45.98969831,
          1.272342331,
          1.272342331,
          2.155153835
         ],
         "xaxis": "x",
         "y": [
          6.873575814,
          2.640252736,
          2.2508952840000003,
          1.304514999,
          2.281858573,
          1.116365656,
          2.286662002,
          2.272592239,
          5.379731274,
          1.676374476,
          3.9060479060000004,
          1.214584312,
          1.463651676,
          7.922143469,
          1.004446198,
          1.357300299,
          6.990653168,
          1.111374803,
          2.131534107,
          1.782484931,
          1.482005861,
          1.300487303,
          2.4407994669999997,
          1.0962160570000001,
          4.979147952,
          2.428642453,
          2.9556862689999996,
          1.246888213,
          9.383764109,
          5.223925212,
          1.23673863,
          1.333716625,
          1.9748230080000002,
          3.481554383,
          1.955572958,
          3.7118446880000002,
          1.700406664,
          26.54201233,
          151.3561976,
          1.046071809,
          1.612487559,
          20.62991148
         ],
         "yaxis": "y"
        },
        {
         "hovertemplate": "<b>%{hovertext}</b><br><br>max.cluster=Limbic system neurons<br>max.expr=%{x}<br>fold.change=%{y}<extra></extra>",
         "hovertext": [
          "'NTNG1'",
          "'RP11-32K4.1'",
          "'TOX'",
          "'XKR4'",
          "'TSPAN2'",
          "'OPRK1'",
          "'RP11-386G21.2'",
          "'NSMAF'",
          "'GGH'",
          "'RP4-663N10.1'",
          "'RP4-666F24.3'",
          "'RP11-579E24.2'",
          "'ENPP7P2'",
          "'RP11-31F15.2'",
          "'CTD-2026G6.3'",
          "'RP11-386G21.1'",
          "'ANKRD7'",
          "'NGF'",
          "'VTCN1'",
          "'RNU4-50P'",
          "'RP11-579E24.1'",
          "'RP11-162D9.3'",
          "'RP11-803B1.8'",
          "'WNT2'",
          "'PPM1J'",
          "'RP11-110G21.2'",
          "'TRIM45'",
          "'RP11-45K10.2'",
          "'FAM150A'",
          "'RP11-328K2.1'",
          "'DUS4L'",
          "'RP11-442A17.2'",
          "'AC068522.4'",
          "'RPS3AP15'",
          "'RP11-803B1.2'",
          "'FAM19A3'",
          "'LSMEM1'",
          "'CTD-3046C4.1'",
          "'CBX5P1'",
          "'RP11-354H21.1'",
          "'RP11-426L16.10'"
         ],
         "legendgroup": "Limbic system neurons",
         "marker": {
          "color": "#EF553B",
          "symbol": "circle"
         },
         "mode": "markers",
         "name": "Limbic system neurons",
         "orientation": "v",
         "showlegend": true,
         "type": "scatter",
         "x": [
          3330.363179,
          574.6080995,
          795.5530025,
          1707.6350079999997,
          84.3072307,
          53.06759372,
          19.59208975,
          111.74400870000001,
          56.83636996,
          11.33439707,
          12.92120605,
          6.296386996,
          15.64479857,
          21.57050078,
          7.9056438689999995,
          5.178736736,
          4.956430628000001,
          5.989774897999999,
          6.300618474,
          2.7219867960000004,
          2.0741225969999997,
          2.050333668,
          7.1257905489999995,
          2.853171653,
          2.9996895039999996,
          7.570287336,
          5.62438581,
          0.970468487,
          1.47684962,
          2.201494683,
          8.550020444,
          0.929135362,
          1.290281394,
          0.319957418,
          0.924257511,
          0.26623700699999997,
          3.42647926,
          1.150500108,
          0.382655284,
          0.142404811,
          0.301495014
         ],
         "xaxis": "x",
         "y": [
          4.677486611,
          2.198035925,
          1.82888315,
          1.3764374730000002,
          1.395447174,
          9.539713905,
          1.2067108999999998,
          1.040684393,
          1.6700911269999998,
          2.918451821,
          2.435577587,
          1.085886074,
          2.055588387,
          1.214605717,
          1.516351217,
          1.13026661,
          1.188055701,
          3.555481992,
          3.6705875619999997,
          1.584691499,
          2.44967747,
          6.137271561,
          1.301588032,
          2.4297173080000003,
          1.545272485,
          1.051885513,
          1.080835623,
          2.694212682,
          1.563487232,
          1.217723122,
          1.029882192,
          1.0251652629999999,
          1.093264953,
          1.2831911870000001,
          1.13690959,
          1.340623184,
          1.123983081,
          1.652809721,
          1.593325334,
          1.031567153,
          4.613013704
         ],
         "yaxis": "y"
        },
        {
         "hovertemplate": "<b>%{hovertext}</b><br><br>max.cluster=Excitatory neurons<br>max.expr=%{x}<br>fold.change=%{y}<extra></extra>",
         "hovertext": [
          "'KIAA1324'",
          "'ROBO2'",
          "'IGSF3'",
          "'EPHA3'",
          "'CLVS1'",
          "'NKAIN3'",
          "'SLC26A4'",
          "'WDR47'",
          "'BHLHE22'",
          "'GPR85'",
          "'GPR22'",
          "'RP11-513O17.2'",
          "'PCMTD1'",
          "'RP11-389O22.1'",
          "'SLC26A4-AS1'",
          "'MET'",
          "'RSBN1'",
          "'WNT2B'",
          "'RP11-21C4.1'",
          "'RP11-659E9.2'",
          "'AC004112.4'",
          "'RNU6-386P'",
          "'RP5-965F6.2'",
          "'SCARNA2'",
          "'RP11-379I19.1'",
          "'RP11-401H2.1'",
          "'AC003989.3'",
          "'SLC13A1'",
          "'RP4-753F5.1'",
          "'HSD3BP5'",
          "'RP11-648L3.2'",
          "'RP11-91I20.4'"
         ],
         "legendgroup": "Excitatory neurons",
         "marker": {
          "color": "#00cc96",
          "symbol": "circle"
         },
         "mode": "markers",
         "name": "Excitatory neurons",
         "orientation": "v",
         "showlegend": true,
         "type": "scatter",
         "x": [
          146.56397919999998,
          7749.319012000001,
          145.2450782,
          1744.9778820000001,
          265.6173216,
          2137.810203,
          45.02769805,
          136.9644145,
          52.71924619,
          53.77001633,
          30.30102364,
          16.20742405,
          169.9932629,
          79.95513815,
          7.62896952,
          5.857831751,
          63.63533617,
          33.67452783,
          2.520834905,
          3.107051735,
          8.732852625,
          0.9972594909999999,
          0.9417225909999999,
          1.3459247859999999,
          0.602653625,
          0.36504523200000005,
          0.782763008,
          0.640445597,
          0.471961309,
          0.312210853,
          3.688065237,
          0.294966428
         ],
         "xaxis": "x",
         "y": [
          2.225584286,
          1.7651111369999999,
          1.4951239180000002,
          1.239710446,
          1.186489385,
          1.164649173,
          10.88865543,
          1.31217783,
          1.115442563,
          1.318986215,
          3.25230191,
          1.158437746,
          1.119568047,
          1.22328375,
          4.085957995,
          1.077663478,
          1.107936488,
          1.167535688,
          4.65781269,
          1.4983894830000002,
          1.052223661,
          2.095190365,
          1.057008791,
          1.90517913,
          5.305038701,
          1.230600844,
          1.12875523,
          4.142838994,
          1.183583281,
          2.639269445,
          1.014364951,
          1.076303327
         ],
         "yaxis": "y"
        },
        {
         "hovertemplate": "<b>%{hovertext}</b><br><br>max.cluster=Inhibitory neurons<br>max.expr=%{x}<br>fold.change=%{y}<extra></extra>",
         "hovertext": [
          "'ROBO1'",
          "'ST7'",
          "'PENK'",
          "'NHLH2'",
          "'ST7-AS2'",
          "'ST7-OT4'",
          "'LAMB4'",
          "'HENMT1'",
          "'RP11-705O24.1'",
          "'AP4B1'",
          "'RP11-567J20.1'",
          "'RN7SL751P'",
          "'MYBPHL'",
          "'RP11-546K22.1'",
          "'DDX20'",
          "'RP5-1065J22.2'",
          "'RP5-1074L1.4'",
          "'RP11-159M11.2'",
          "'AC002543.2'",
          "'RP4-735C1.4'",
          "'CTA-363E19.2'",
          "'RP11-483I13.5'",
          "'AP4B1-AS1'",
          "'RP11-546K22.3'"
         ],
         "legendgroup": "Inhibitory neurons",
         "marker": {
          "color": "#ab63fa",
          "symbol": "circle"
         },
         "mode": "markers",
         "name": "Inhibitory neurons",
         "orientation": "v",
         "showlegend": true,
         "type": "scatter",
         "x": [
          4479.03543,
          340.9366985,
          56.60710676,
          8.34847008,
          11.38235755,
          46.60783738,
          6.789032487,
          6.39430088,
          3.078394718,
          12.20722942,
          1.1760336999999998,
          1.52101292,
          1.605775666,
          2.116236857,
          13.18270904,
          0.590046968,
          5.90745845,
          0.404612142,
          0.555979445,
          0.852507754,
          0.858036238,
          0.5498276,
          1.954227418,
          0.992544012
         ],
         "xaxis": "x",
         "y": [
          1.224241223,
          1.108562112,
          2.689993365,
          1.575505642,
          1.241085025,
          1.01888246,
          1.435146222,
          1.115421437,
          2.721796776,
          1.062500755,
          1.604356209,
          1.406107396,
          1.369970145,
          1.377734912,
          1.110237444,
          1.210525089,
          1.060756032,
          1.645157235,
          1.178734998,
          1.551885075,
          1.031759445,
          1.144059746,
          1.040476232,
          1.479863825
         ],
         "yaxis": "y"
        }
       ],
       "layout": {
        "legend": {
         "title": {
          "text": "max.cluster"
         },
         "tracegroupgap": 0
        },
        "margin": {
         "t": 60
        },
        "template": {
         "data": {
          "bar": [
           {
            "error_x": {
             "color": "#2a3f5f"
            },
            "error_y": {
             "color": "#2a3f5f"
            },
            "marker": {
             "line": {
              "color": "#E5ECF6",
              "width": 0.5
             }
            },
            "type": "bar"
           }
          ],
          "barpolar": [
           {
            "marker": {
             "line": {
              "color": "#E5ECF6",
              "width": 0.5
             }
            },
            "type": "barpolar"
           }
          ],
          "carpet": [
           {
            "aaxis": {
             "endlinecolor": "#2a3f5f",
             "gridcolor": "white",
             "linecolor": "white",
             "minorgridcolor": "white",
             "startlinecolor": "#2a3f5f"
            },
            "baxis": {
             "endlinecolor": "#2a3f5f",
             "gridcolor": "white",
             "linecolor": "white",
             "minorgridcolor": "white",
             "startlinecolor": "#2a3f5f"
            },
            "type": "carpet"
           }
          ],
          "choropleth": [
           {
            "colorbar": {
             "outlinewidth": 0,
             "ticks": ""
            },
            "type": "choropleth"
           }
          ],
          "contour": [
           {
            "colorbar": {
             "outlinewidth": 0,
             "ticks": ""
            },
            "colorscale": [
             [
              0,
              "#0d0887"
             ],
             [
              0.1111111111111111,
              "#46039f"
             ],
             [
              0.2222222222222222,
              "#7201a8"
             ],
             [
              0.3333333333333333,
              "#9c179e"
             ],
             [
              0.4444444444444444,
              "#bd3786"
             ],
             [
              0.5555555555555556,
              "#d8576b"
             ],
             [
              0.6666666666666666,
              "#ed7953"
             ],
             [
              0.7777777777777778,
              "#fb9f3a"
             ],
             [
              0.8888888888888888,
              "#fdca26"
             ],
             [
              1,
              "#f0f921"
             ]
            ],
            "type": "contour"
           }
          ],
          "contourcarpet": [
           {
            "colorbar": {
             "outlinewidth": 0,
             "ticks": ""
            },
            "type": "contourcarpet"
           }
          ],
          "heatmap": [
           {
            "colorbar": {
             "outlinewidth": 0,
             "ticks": ""
            },
            "colorscale": [
             [
              0,
              "#0d0887"
             ],
             [
              0.1111111111111111,
              "#46039f"
             ],
             [
              0.2222222222222222,
              "#7201a8"
             ],
             [
              0.3333333333333333,
              "#9c179e"
             ],
             [
              0.4444444444444444,
              "#bd3786"
             ],
             [
              0.5555555555555556,
              "#d8576b"
             ],
             [
              0.6666666666666666,
              "#ed7953"
             ],
             [
              0.7777777777777778,
              "#fb9f3a"
             ],
             [
              0.8888888888888888,
              "#fdca26"
             ],
             [
              1,
              "#f0f921"
             ]
            ],
            "type": "heatmap"
           }
          ],
          "heatmapgl": [
           {
            "colorbar": {
             "outlinewidth": 0,
             "ticks": ""
            },
            "colorscale": [
             [
              0,
              "#0d0887"
             ],
             [
              0.1111111111111111,
              "#46039f"
             ],
             [
              0.2222222222222222,
              "#7201a8"
             ],
             [
              0.3333333333333333,
              "#9c179e"
             ],
             [
              0.4444444444444444,
              "#bd3786"
             ],
             [
              0.5555555555555556,
              "#d8576b"
             ],
             [
              0.6666666666666666,
              "#ed7953"
             ],
             [
              0.7777777777777778,
              "#fb9f3a"
             ],
             [
              0.8888888888888888,
              "#fdca26"
             ],
             [
              1,
              "#f0f921"
             ]
            ],
            "type": "heatmapgl"
           }
          ],
          "histogram": [
           {
            "marker": {
             "colorbar": {
              "outlinewidth": 0,
              "ticks": ""
             }
            },
            "type": "histogram"
           }
          ],
          "histogram2d": [
           {
            "colorbar": {
             "outlinewidth": 0,
             "ticks": ""
            },
            "colorscale": [
             [
              0,
              "#0d0887"
             ],
             [
              0.1111111111111111,
              "#46039f"
             ],
             [
              0.2222222222222222,
              "#7201a8"
             ],
             [
              0.3333333333333333,
              "#9c179e"
             ],
             [
              0.4444444444444444,
              "#bd3786"
             ],
             [
              0.5555555555555556,
              "#d8576b"
             ],
             [
              0.6666666666666666,
              "#ed7953"
             ],
             [
              0.7777777777777778,
              "#fb9f3a"
             ],
             [
              0.8888888888888888,
              "#fdca26"
             ],
             [
              1,
              "#f0f921"
             ]
            ],
            "type": "histogram2d"
           }
          ],
          "histogram2dcontour": [
           {
            "colorbar": {
             "outlinewidth": 0,
             "ticks": ""
            },
            "colorscale": [
             [
              0,
              "#0d0887"
             ],
             [
              0.1111111111111111,
              "#46039f"
             ],
             [
              0.2222222222222222,
              "#7201a8"
             ],
             [
              0.3333333333333333,
              "#9c179e"
             ],
             [
              0.4444444444444444,
              "#bd3786"
             ],
             [
              0.5555555555555556,
              "#d8576b"
             ],
             [
              0.6666666666666666,
              "#ed7953"
             ],
             [
              0.7777777777777778,
              "#fb9f3a"
             ],
             [
              0.8888888888888888,
              "#fdca26"
             ],
             [
              1,
              "#f0f921"
             ]
            ],
            "type": "histogram2dcontour"
           }
          ],
          "mesh3d": [
           {
            "colorbar": {
             "outlinewidth": 0,
             "ticks": ""
            },
            "type": "mesh3d"
           }
          ],
          "parcoords": [
           {
            "line": {
             "colorbar": {
              "outlinewidth": 0,
              "ticks": ""
             }
            },
            "type": "parcoords"
           }
          ],
          "pie": [
           {
            "automargin": true,
            "type": "pie"
           }
          ],
          "scatter": [
           {
            "marker": {
             "colorbar": {
              "outlinewidth": 0,
              "ticks": ""
             }
            },
            "type": "scatter"
           }
          ],
          "scatter3d": [
           {
            "line": {
             "colorbar": {
              "outlinewidth": 0,
              "ticks": ""
             }
            },
            "marker": {
             "colorbar": {
              "outlinewidth": 0,
              "ticks": ""
             }
            },
            "type": "scatter3d"
           }
          ],
          "scattercarpet": [
           {
            "marker": {
             "colorbar": {
              "outlinewidth": 0,
              "ticks": ""
             }
            },
            "type": "scattercarpet"
           }
          ],
          "scattergeo": [
           {
            "marker": {
             "colorbar": {
              "outlinewidth": 0,
              "ticks": ""
             }
            },
            "type": "scattergeo"
           }
          ],
          "scattergl": [
           {
            "marker": {
             "colorbar": {
              "outlinewidth": 0,
              "ticks": ""
             }
            },
            "type": "scattergl"
           }
          ],
          "scattermapbox": [
           {
            "marker": {
             "colorbar": {
              "outlinewidth": 0,
              "ticks": ""
             }
            },
            "type": "scattermapbox"
           }
          ],
          "scatterpolar": [
           {
            "marker": {
             "colorbar": {
              "outlinewidth": 0,
              "ticks": ""
             }
            },
            "type": "scatterpolar"
           }
          ],
          "scatterpolargl": [
           {
            "marker": {
             "colorbar": {
              "outlinewidth": 0,
              "ticks": ""
             }
            },
            "type": "scatterpolargl"
           }
          ],
          "scatterternary": [
           {
            "marker": {
             "colorbar": {
              "outlinewidth": 0,
              "ticks": ""
             }
            },
            "type": "scatterternary"
           }
          ],
          "surface": [
           {
            "colorbar": {
             "outlinewidth": 0,
             "ticks": ""
            },
            "colorscale": [
             [
              0,
              "#0d0887"
             ],
             [
              0.1111111111111111,
              "#46039f"
             ],
             [
              0.2222222222222222,
              "#7201a8"
             ],
             [
              0.3333333333333333,
              "#9c179e"
             ],
             [
              0.4444444444444444,
              "#bd3786"
             ],
             [
              0.5555555555555556,
              "#d8576b"
             ],
             [
              0.6666666666666666,
              "#ed7953"
             ],
             [
              0.7777777777777778,
              "#fb9f3a"
             ],
             [
              0.8888888888888888,
              "#fdca26"
             ],
             [
              1,
              "#f0f921"
             ]
            ],
            "type": "surface"
           }
          ],
          "table": [
           {
            "cells": {
             "fill": {
              "color": "#EBF0F8"
             },
             "line": {
              "color": "white"
             }
            },
            "header": {
             "fill": {
              "color": "#C8D4E3"
             },
             "line": {
              "color": "white"
             }
            },
            "type": "table"
           }
          ]
         },
         "layout": {
          "annotationdefaults": {
           "arrowcolor": "#2a3f5f",
           "arrowhead": 0,
           "arrowwidth": 1
          },
          "coloraxis": {
           "colorbar": {
            "outlinewidth": 0,
            "ticks": ""
           }
          },
          "colorscale": {
           "diverging": [
            [
             0,
             "#8e0152"
            ],
            [
             0.1,
             "#c51b7d"
            ],
            [
             0.2,
             "#de77ae"
            ],
            [
             0.3,
             "#f1b6da"
            ],
            [
             0.4,
             "#fde0ef"
            ],
            [
             0.5,
             "#f7f7f7"
            ],
            [
             0.6,
             "#e6f5d0"
            ],
            [
             0.7,
             "#b8e186"
            ],
            [
             0.8,
             "#7fbc41"
            ],
            [
             0.9,
             "#4d9221"
            ],
            [
             1,
             "#276419"
            ]
           ],
           "sequential": [
            [
             0,
             "#0d0887"
            ],
            [
             0.1111111111111111,
             "#46039f"
            ],
            [
             0.2222222222222222,
             "#7201a8"
            ],
            [
             0.3333333333333333,
             "#9c179e"
            ],
            [
             0.4444444444444444,
             "#bd3786"
            ],
            [
             0.5555555555555556,
             "#d8576b"
            ],
            [
             0.6666666666666666,
             "#ed7953"
            ],
            [
             0.7777777777777778,
             "#fb9f3a"
            ],
            [
             0.8888888888888888,
             "#fdca26"
            ],
            [
             1,
             "#f0f921"
            ]
           ],
           "sequentialminus": [
            [
             0,
             "#0d0887"
            ],
            [
             0.1111111111111111,
             "#46039f"
            ],
            [
             0.2222222222222222,
             "#7201a8"
            ],
            [
             0.3333333333333333,
             "#9c179e"
            ],
            [
             0.4444444444444444,
             "#bd3786"
            ],
            [
             0.5555555555555556,
             "#d8576b"
            ],
            [
             0.6666666666666666,
             "#ed7953"
            ],
            [
             0.7777777777777778,
             "#fb9f3a"
            ],
            [
             0.8888888888888888,
             "#fdca26"
            ],
            [
             1,
             "#f0f921"
            ]
           ]
          },
          "colorway": [
           "#636efa",
           "#EF553B",
           "#00cc96",
           "#ab63fa",
           "#FFA15A",
           "#19d3f3",
           "#FF6692",
           "#B6E880",
           "#FF97FF",
           "#FECB52"
          ],
          "font": {
           "color": "#2a3f5f"
          },
          "geo": {
           "bgcolor": "white",
           "lakecolor": "white",
           "landcolor": "#E5ECF6",
           "showlakes": true,
           "showland": true,
           "subunitcolor": "white"
          },
          "hoverlabel": {
           "align": "left"
          },
          "hovermode": "closest",
          "mapbox": {
           "style": "light"
          },
          "paper_bgcolor": "white",
          "plot_bgcolor": "#E5ECF6",
          "polar": {
           "angularaxis": {
            "gridcolor": "white",
            "linecolor": "white",
            "ticks": ""
           },
           "bgcolor": "#E5ECF6",
           "radialaxis": {
            "gridcolor": "white",
            "linecolor": "white",
            "ticks": ""
           }
          },
          "scene": {
           "xaxis": {
            "backgroundcolor": "#E5ECF6",
            "gridcolor": "white",
            "gridwidth": 2,
            "linecolor": "white",
            "showbackground": true,
            "ticks": "",
            "zerolinecolor": "white"
           },
           "yaxis": {
            "backgroundcolor": "#E5ECF6",
            "gridcolor": "white",
            "gridwidth": 2,
            "linecolor": "white",
            "showbackground": true,
            "ticks": "",
            "zerolinecolor": "white"
           },
           "zaxis": {
            "backgroundcolor": "#E5ECF6",
            "gridcolor": "white",
            "gridwidth": 2,
            "linecolor": "white",
            "showbackground": true,
            "ticks": "",
            "zerolinecolor": "white"
           }
          },
          "shapedefaults": {
           "line": {
            "color": "#2a3f5f"
           }
          },
          "ternary": {
           "aaxis": {
            "gridcolor": "white",
            "linecolor": "white",
            "ticks": ""
           },
           "baxis": {
            "gridcolor": "white",
            "linecolor": "white",
            "ticks": ""
           },
           "bgcolor": "#E5ECF6",
           "caxis": {
            "gridcolor": "white",
            "linecolor": "white",
            "ticks": ""
           }
          },
          "title": {
           "x": 0.05
          },
          "xaxis": {
           "automargin": true,
           "gridcolor": "white",
           "linecolor": "white",
           "ticks": "",
           "title": {
            "standoff": 15
           },
           "zerolinecolor": "white",
           "zerolinewidth": 2
          },
          "yaxis": {
           "automargin": true,
           "gridcolor": "white",
           "linecolor": "white",
           "ticks": "",
           "title": {
            "standoff": 15
           },
           "zerolinecolor": "white",
           "zerolinewidth": 2
          }
         }
        },
        "xaxis": {
         "anchor": "y",
         "domain": [
          0,
          1
         ],
         "title": {
          "text": "max.expr"
         }
        },
        "yaxis": {
         "anchor": "x",
         "domain": [
          0,
          1
         ],
         "title": {
          "text": "fold.change"
         }
        }
       }
      },
      "text/html": [
       "<div>                            <div id=\"bb0a95cd-123b-4dc0-83ad-36d26aa5b8f9\" class=\"plotly-graph-div\" style=\"height:525px; width:100%;\"></div>            <script type=\"text/javascript\">                require([\"plotly\"], function(Plotly) {                    window.PLOTLYENV=window.PLOTLYENV || {};                                    if (document.getElementById(\"bb0a95cd-123b-4dc0-83ad-36d26aa5b8f9\")) {                    Plotly.newPlot(                        \"bb0a95cd-123b-4dc0-83ad-36d26aa5b8f9\",                        [{\"hovertemplate\": \"<b>%{hovertext}</b><br><br>max.cluster=Microglia<br>max.expr=%{x}<br>fold.change=%{y}<extra></extra>\", \"hovertext\": [\"'TFEC'\", \"'RP11-10H3.1'\", \"'CD53'\", \"'CSF1'\", \"'DOCK4'\", \"'LYN'\", \"'FAM102B'\", \"'CPED1'\", \"'RAP1A'\", \"'SYT6'\", \"'OLFML3'\", \"'RP4-543J13.1'\", \"'ADORA3'\", \"'GBE1'\", \"'CAPZA1'\", \"'COG5'\", \"'STXBP3'\", \"'IFRD1'\", \"'PLAG1'\", \"'LYPLA1'\", \"'CAPZA2'\", \"'PIK3CG'\", \"'RP4-735C1.6'\", \"'RAB2A'\", \"'CD58'\", \"'PRPF38B'\", \"'DRAM2'\", \"'C7orf60'\", \"'TMEM168'\", \"'DENND2D'\", \"'ZNF277'\", \"'RP3-522D1.1'\", \"'GSTM4'\", \"'TTF2'\", \"'CEPT1'\", \"'RP11-159G9.5'\", \"'ATP6V1H'\", \"'RP11-426L16.8'\", \"'CHCHD7'\", \"'GDAP2'\", \"'SLC25A24P1'\", \"'DOCK4-AS1'\", \"'YTHDF3'\", \"'PTPN22'\", \"'BCAS2'\", \"'RP5-1180E21.5'\", \"'CYB561D1'\", \"'C1orf162'\", \"'RP11-47P18.2'\", \"'RP11-716D16.1'\", \"'HENMT1'\", \"'SYPL2'\", \"'RP5-1086K13.1'\", \"'AC003080.4'\", \"'RP11-140I16.3'\", \"'AC002543.2'\", \"'snoU13'\", \"'NAP1L4P1'\", \"'RP11-246K15.1'\", \"'RBMX2P3'\", \"'RP11-736E3.1'\", \"'LINC00971'\", \"'RP11-30L15.6'\", \"'RP11-17A4.4'\", \"'RP11-10H3.1'\", \"'TFEC'\", \"'CSF1'\", \"'SYT6'\", \"'DOCK4'\", \"'RAP1A'\", \"'LYN'\", \"'CPED1'\", \"'FAM102B'\", \"'CD53'\", \"'OLFML3'\", \"'ADORA3'\", \"'COG5'\", \"'RP4-543J13.1'\", \"'GBE1'\", \"'CAPZA1'\", \"'LYPLA1'\", \"'RP4-735C1.6'\", \"'STXBP3'\", \"'CAPZA2'\", \"'PIK3CG'\", \"'PLAG1'\", \"'RAB2A'\", \"'C7orf60'\", \"'PRPF38B'\", \"'DRAM2'\", \"'RP3-522D1.1'\", \"'ZNF277'\", \"'DENND2D'\", \"'TTF2'\", \"'RP11-159G9.5'\", \"'CEPT1'\", \"'GNAI3'\", \"'AC022182.1'\", \"'RP11-426L16.8'\", \"'NAA38'\", \"'PTPN22'\", \"'SLC25A24P1'\", \"'DOCK4-AS1'\", \"'ZNF717'\", \"'CLCC1'\", \"'CYB561D1'\", \"'RP5-1086K13.1'\", \"'BCAS2'\", \"'RP5-836N10.1'\", \"'AC003080.4'\", \"'C1orf162'\", \"'NAP1L4P1'\", \"'snoU13'\", \"'LINC00968'\", \"'RP11-30L15.6'\", \"'RP5-1073O3.2'\", \"'RP5-1065J22.8'\", \"'GSTM1'\", \"'LINC00971'\", \"'CTD-2339F6.1'\", \"'RP11-24P14.1'\", \"'CTD-3025N20.2'\", \"'ALG1L6P'\"], \"legendgroup\": \"Microglia\", \"marker\": {\"color\": \"#636efa\", \"symbol\": \"circle\"}, \"mode\": \"markers\", \"name\": \"Microglia\", \"orientation\": \"v\", \"showlegend\": true, \"type\": \"scatter\", \"x\": [233.47520120000001, 158.0315648, 397.11525, 259.9277661, 5488.9190149999995, 886.3242057, 320.1436222, 428.4951638, 659.2857742000001, 359.4673301, 455.4904448, 124.48066920000001, 123.9904406, 227.14556119999997, 200.82124119999997, 341.9420139, 98.07174976, 142.62580659999998, 47.46408918, 171.45595780000002, 230.82619590000002, 46.50561104, 52.12101072, 361.0747503, 34.03094895, 96.6020824, 93.12535614, 160.5096851, 110.6549501, 25.34370476, 112.0066669, 28.15578411, 18.55322524, 32.65181799, 99.52630812, 112.79612659999998, 89.56479166, 12.65081571, 15.10832917, 72.9304406, 7.604161501, 9.230021691000001, 85.11619846, 11.35956427, 37.75310593, 13.568577300000001, 7.832921975, 6.598870637999999, 1.6515897590000002, 1.746255761, 6.144519582, 1.6630273880000002, 1.520693249, 2.547385266, 1.806260762, 1.582198917, 3.32443327, 0.697357563, 0.660337987, 1.17386252, 1.7579663319999999, 0.805561042, 2.196694114, 0.676154466, 139.16863490000003, 201.5084354, 220.3087565, 506.82739680000003, 6943.544834, 858.9293537999998, 879.4624989, 546.5319607999999, 336.4206622, 373.82199610000004, 264.0072287, 128.2459249, 423.8273344, 117.8724588, 224.17573540000004, 222.39814330000002, 185.4472492, 79.45256831, 108.62238559999999, 264.4581176, 62.62756428, 63.60679408, 352.91063760000003, 172.00886609999998, 100.2753173, 94.18333018, 42.51435021, 133.6605256, 19.571885, 29.83854328, 139.92315480000002, 110.6872659, 73.78828597, 22.19613394, 15.55615883, 28.44695243, 12.73936063, 7.576718115, 9.121807439, 21.5543793, 56.53391601, 8.044303708, 3.1654264530000003, 26.60139582, 2.936125937, 5.053056174, 7.4411071810000005, 1.858436475, 4.072223997, 3.7385280539999997, 2.417166823, 1.3521352690000001, 2.6774201619999998, 1.165173154, 0.89252844, 0.661550237, 1.00049623, 0.962155399, 1.204680461], \"xaxis\": \"x\", \"y\": [346.3470772, 337.3222254, 325.26466, 19.14741855, 7.761592114, 7.567821938, 5.316203421, 4.75138122, 4.466909426, 3.27107043, 1.944208601, 112.52380900000001, 94.95105688, 3.495656865, 1.343763728, 1.699473258, 1.148338288, 3.038465777, 1.223745221, 1.72086912, 2.299474684, 5.458793741, 43.838531200000006, 1.244526867, 1.032650876, 1.632351743, 2.482479996, 1.474426559, 1.173031832, 129.34385659999998, 1.694855114, 1.57026785, 1.425104474, 1.493094176, 1.72812355, 1.381012486, 1.112538177, 2.919549888, 1.380674388, 1.360144988, 14.03808458, 4.464134206000001, 1.152782751, 4.488291185, 1.46559074, 2.1819145840000003, 1.024414607, 1.90221374, 1.603263729, 1.5051325519999998, 1.1532055140000002, 2.6607490730000003, 1.7400153569999999, 3.622634817, 1.123846451, 3.731716212, 2.537370865, 1.891285084, 1.238451777, 2.205320777, 1.042688315, 1.0319317129999999, 2.731282904, 1.275974387, 268.5525229, 218.20360060000002, 15.30248954, 10.78026611, 8.385738935, 5.161592154, 4.175078966, 3.90845346, 3.775808928, 3.745324971, 1.119564971, 170.049734, 1.8702302659999999, 88.4452105, 3.030926543, 1.6535273780000002, 1.861113786, 23.11640929, 1.41890213, 2.473631103, 1.0121258579999999, 1.415989021, 1.13379207, 1.512836865, 1.6385531690000001, 2.745216442, 2.111454364, 1.698136087, 45.89706947, 1.596686246, 1.579467705, 2.202484003, 1.227812472, 2.355696349, 3.0472548610000003, 1.000305095, 5.627877058999999, 6.922556004, 3.8357074680000003, 1.3506446140000001, 1.101630186, 1.182421334, 3.5695464639999996, 1.158406352, 9.210308944, 5.50232666, 2.555969202, 2.446712465, 4.60937245, 2.911456916, 1.741260455, 1.09404647, 1.077289652, 1.033683112, 1.1721039690000001, 1.778011217, 1.559167687, 1.780077827, 1.528392554], \"yaxis\": \"y\"}, {\"hovertemplate\": \"<b>%{hovertext}</b><br><br>max.cluster=Astrocytes<br>max.expr=%{x}<br>fold.change=%{y}<extra></extra>\", \"hovertext\": [\"'RGS20'\", \"'NOTCH2'\", \"'MAGI3'\", \"'FAM212B'\", \"'PHGDH'\", \"'RP11-400K9.4'\", \"'AHCYL1'\", \"'OPRK1'\", \"'RP11-418J17.1'\", \"'WARS2'\", \"'RP11-31F15.1'\", \"'CGGBP1'\", \"'RNU6-1331P'\", \"'WARS2-IT1'\", \"'GSTM5'\", \"'IQUB'\", \"'VGLL3'\", \"'ATP1A1OS'\", \"'GSTM2'\", \"'TCEA1'\", \"'ENPP7P2'\", \"'PSRC1'\", \"'TTPA'\", \"'FNDC7'\", \"'RP11-25K19.1'\", \"'RP5-1042I8.7'\", \"'CTD-2026G6.3'\", \"'FAM86DP'\", \"'RP11-110G21.1'\", \"'RP5-1049N15.2'\", \"'ST7L'\", \"'CLCC1'\", \"'RP11-803B1.8'\", \"'RNU6-817P'\", \"'RBM15'\", \"'PIFO'\", \"'RP4-655J12.4'\", \"'GSTM1'\", \"'RP11-560I19.1'\", \"'AC004014.3'\", \"'RP11-188D8.1'\", \"'RP5-1065J22.4'\", \"'TRIM45'\", \"'DDX20'\", \"'RP11-162D9.3'\", \"'SCARNA2'\", \"'C1orf194'\", \"'ST7-AS1'\", \"'RP4-735C1.4'\", \"'ALG1L6P'\", \"'RP11-39H13.1'\", \"'snoU109'\", \"'ALX3'\", \"'RP5-1160K1.3'\", \"'RGS20'\", \"'NOTCH2'\", \"'SPAG17'\", \"'MAGI3'\", \"'AASS'\", \"'PHGDH'\", \"'CYP7B1'\", \"'RP11-400K9.4'\", \"'IQUB'\", \"'TTPA'\", \"'ASPH'\", \"'PIFO'\", \"'EFCAB1'\", \"'RNU6-1331P'\", \"'WARS2-IT1'\", \"'ATP1A1OS'\", \"'RP11-1D12.1'\", \"'RP11-418J17.1'\", \"'RP5-1049N15.2'\", \"'C1orf194'\", \"'GSTM2'\", \"'RP11-110G21.1'\", \"'RP11-31F15.1'\", \"'ST7L'\", \"'GSTM5'\", \"'FAM86DP'\", \"'FEZF1-AS1'\", \"'RP5-1042I8.7'\", \"'FNDC7'\", \"'RP11-560I19.1'\", \"'RP11-25K19.1'\", \"'FEZF1'\", \"'RP11-1081M5.1'\", \"'RP11-188D8.1'\", \"'RP4-655J12.4'\", \"'AC005487.2'\", \"'AC004014.3'\", \"'RP11-520D19.2'\", \"'RP5-1073O3.7'\", \"'RP5-1065J22.4'\", \"'RP11-451B8.1'\", \"'RP11-1081M5.2'\", \"'RP11-659E9.4'\", \"'SYPL2'\", \"'RP11-512F24.1'\", \"'RP4-730K3.3'\", \"'RP5-1160K1.3'\", \"'LAMTOR5-AS1'\", \"'RP11-446E9.1'\", \"'LINC00622'\", \"'RP11-787D18.2'\"], \"legendgroup\": \"Astrocytes\", \"marker\": {\"color\": \"#EF553B\", \"symbol\": \"circle\"}, \"mode\": \"markers\", \"name\": \"Astrocytes\", \"orientation\": \"v\", \"showlegend\": true, \"type\": \"scatter\", \"x\": [323.41241510000003, 226.4354335, 273.3716243, 89.23201736, 82.11650688, 45.93312563, 127.24900420000002, 37.37173708, 135.9667154, 54.25075955, 84.23725282, 128.19671090000003, 15.1302462, 18.23814462, 14.78605272, 20.33447383, 14.87145772, 24.45902983, 10.89704711, 59.22038846, 15.09482596, 9.003366961000001, 8.906654627, 5.064423454, 11.09349916, 5.3737942720000005, 5.886634179, 9.896710671000001, 14.80205902, 3.457653033, 95.29949565, 59.45379407, 6.82562587, 2.22951099, 9.822320191000001, 2.320945424, 3.1281174789999997, 1.4114628569999998, 1.354119389, 1.5232821890000001, 1.168833431, 1.168432009, 6.015260573, 11.59386418, 1.029317522, 0.840304855, 1.297832829, 1.510958373, 0.9919691340000001, 0.929107128, 0.361016754, 0.48224151, 0.36608744600000004, 0.839443209, 213.7181955, 227.8008307, 125.75229420000001, 294.9624952, 118.8441125, 69.14780715, 116.8972732, 33.66840155, 32.14839897, 19.72421647, 137.6314053, 12.94885857, 14.88402047, 10.57563941, 10.495664300000001, 21.94754724, 25.68472375, 101.32583259999998, 5.873499272, 8.024111549, 11.42392909, 14.86277603, 82.17137176, 98.86780427, 8.206460682000001, 10.98600358, 3.13776837, 3.801135263, 2.498751641, 1.963319438, 4.872201736, 1.500035267, 1.187172244, 1.7110857919999998, 2.898119977, 0.9088364259999999, 1.5500672169999998, 1.2894774279999999, 0.8282707490000001, 0.849579075, 0.8162124629999999, 0.38098649700000004, 0.597293808, 0.53463347, 0.317459337, 0.453058054, 0.80651503, 7.381807368, 0.362318841, 0.46992118299999996, 0.483116883], \"xaxis\": \"x\", \"y\": [21.17128175, 2.1689167069999997, 1.2256080790000001, 1.224988271, 3.0110383360000004, 4.187004712, 1.0111647959999999, 6.247231374, 1.4638214059999999, 1.05216902, 1.044338392, 1.258361948, 23.28704675, 10.940283500000001, 1.923757723, 2.335581758, 1.6318245359999999, 1.6056784780000002, 1.128075514, 1.064909962, 1.6456034480000001, 1.5056799280000002, 4.2708622819999995, 1.3934442790000001, 1.762836021, 1.402342133, 1.8507221930000002, 1.252936419, 1.064669406, 4.04311129, 1.0715128740000002, 1.004033185, 1.620697355, 2.274992207, 1.017649045, 2.836516275, 2.494370785, 1.3673863659999999, 9.68564031, 5.171806988999999, 1.457761536, 2.7449103210000003, 1.071909594, 1.031238651, 2.6929520819999997, 1.293331385, 1.796425521, 1.218319229, 2.8938550060000003, 1.449343066, 1.407527102, 1.028522343, 1.126035857, 1.020969002, 3.500467594, 2.161401651, 2.059375922, 1.176102947, 1.0152980090000001, 2.850642068, 1.4579553459999999, 3.318476785, 4.23948274, 9.114463901, 1.178209155, 16.54330646, 5.8810276539999995, 4.841895475, 9.667023406, 1.071149369, 1.348121025, 1.3549666130000002, 16.94995532, 7.132321697, 1.016030347, 1.09429034, 1.090276615, 1.071349244, 1.4774844930000002, 1.232272878, 7.342677592, 1.39193475, 3.5980803669999997, 19.63602623, 1.08778273, 3.025205174, 3.329435516, 2.420502276, 1.9070899959999998, 3.535673739, 3.89869179, 1.11419077, 1.022789545, 1.7791578999999997, 1.5856601959999999, 1.988337993, 1.144656671, 2.8648793660000003, 1.2471205459999999, 1.1839437640000001, 1.30402862, 1.128293562, 1.080544242, 2.302744444, 1.145117087], \"yaxis\": \"y\"}, {\"hovertemplate\": \"<b>%{hovertext}</b><br><br>max.cluster=Vascular endothelial cells<br>max.expr=%{x}<br>fold.change=%{y}<extra></extra>\", \"hovertext\": [\"'CAV2'\", \"'CAV1'\", \"'SLC16A1'\", \"'RHOC'\", \"'DENND2C'\", \"'LAMB1'\", \"'RPS20'\", \"'SORT1'\", \"'MDFIC'\", \"'BCAP29'\", \"'SDCBP'\", \"'TES'\", \"'SNAI2'\", \"'CSDE1'\", \"'SOX17'\", \"'SLC16A4'\", \"'MOV10'\", \"'HBP1'\", \"'HTR1F'\", \"'PXDNL'\", \"'HIPK1'\", \"'VANGL1'\", \"'RP11-56A10.1'\", \"'ATP1A1'\", \"'IMPAD1'\", \"'LINC00998'\", \"'CTTNBP2NL'\", \"'FAM46C'\", \"'LAMTOR5'\", \"'KCNC4'\", \"'SIKE1'\", \"'NRAS'\", \"'GNAI3'\", \"'SARS'\", \"'PSMA5'\", \"'CHMP2B'\", \"'NAA38'\", \"'RP11-418J17.3'\", \"'AC002066.1'\", \"'TAF13'\", \"'SLC25A24'\", \"'TBX15'\", \"'CCDC71L'\", \"'ATP5F1'\", \"'TMEM167B'\", \"'DLD'\", \"'THAP5'\", \"'ZNF654'\", \"'GSTM3'\", \"'DCLRE1B'\", \"'WDR77'\", \"'PNPLA8'\", \"'PRMT6'\", \"'ING3'\", \"'RP1'\", \"'AMPD2'\", \"'MRPL15'\", \"'CBLL1'\", \"'RP11-53M11.3'\", \"'SLC26A4'\", \"'C3orf38'\", \"'RP4-773N10.4'\", \"'RP11-770E5.1'\", \"'DNAJB9'\", \"'LRIF1'\", \"'EFCAB1'\", \"'RP11-16E18.3'\", \"'AC068610.3'\", \"'RP5-1065J22.8'\", \"'RP11-442A17.2'\", \"'RP11-388G22.1'\", \"'RP11-17A4.1'\", \"'RP5-834N19.1'\", \"'LINC00968'\", \"'RP11-483I13.5'\", \"'HSD3BP3'\", \"'AC002467.7'\", \"'HNRNPA3P6'\", \"'RP5-965F6.2'\", \"'RP11-90H3.1'\", \"'RHOC'\", \"'CAV2'\", \"'SLC16A1'\", \"'CAV1'\", \"'LAMB1'\", \"'RPS20'\", \"'TES'\", \"'SORT1'\", \"'SNAI2'\", \"'SDCBP'\", \"'BCAP29'\", \"'CSDE1'\", \"'SOX17'\", \"'TSPAN12'\", \"'SLC16A4'\", \"'PXDNL'\", \"'HBP1'\", \"'HIPK1'\", \"'HTR1F'\", \"'MOV10'\", \"'CTTNBP2NL'\", \"'RP11-56A10.1'\", \"'LAMTOR5'\", \"'KCNC4'\", \"'TBX15'\", \"'LINC00998'\", \"'TAF13'\", \"'PSMA5'\", \"'AC002066.1'\", \"'ATP5F1'\", \"'SIKE1'\", \"'SLC25A24'\", \"'TCEA1'\", \"'SARS'\", \"'NRAS'\", \"'TMEM167B'\", \"'RP11-53M11.3'\", \"'WDR77'\", \"'ZNF654'\", \"'CHMP2B'\", \"'DLD'\", \"'RP11-418J17.3'\", \"'MAN1A2'\", \"'CBLL1'\", \"'OVGP1'\", \"'ALX3'\", \"'U3'\", \"'RP1'\", \"'MRPL15'\", \"'PRMT6'\", \"'DNAJB9'\", \"'ING3'\", \"'RBM15'\", \"'RP4-773N10.4'\", \"'RP4-773N10.6'\", \"'LRIF1'\", \"'RP5-1180E21.5'\", \"'ST7-AS1'\", \"'RP11-770E5.1'\", \"'AC002467.7'\", \"'UBL4B'\", \"'RP11-47P18.1'\", \"'C3orf38'\", \"'RP11-736E3.1'\", \"'RP5-834N19.1'\", \"'RP11-246K15.1'\", \"'RP11-17A4.1'\", \"'RP11-16E18.3'\", \"'SLC26A3'\", \"'AC090186.1'\"], \"legendgroup\": \"Vascular endothelial cells\", \"marker\": {\"color\": \"#00cc96\", \"symbol\": \"circle\"}, \"mode\": \"markers\", \"name\": \"Vascular endothelial cells\", \"orientation\": \"v\", \"showlegend\": true, \"type\": \"scatter\", \"x\": [148.66855139999998, 229.9975602, 684.5854897, 238.8047196, 114.1637133, 476.52315080000005, 300.89504689999995, 250.57248819999998, 153.3771748, 155.1670686, 164.8306877, 97.31667799, 59.28820634, 321.88349839999995, 48.64233409, 56.97577145, 46.774518799999996, 74.320211, 23.64198421, 43.75205238, 95.18383844, 40.43339234, 22.05379778, 72.06184342, 84.94842982, 26.00994579, 133.4459939, 15.53285439, 47.96520532, 28.01347064, 48.65347402, 40.0813251, 68.89554135, 72.13000592, 52.22004506, 37.67267292, 34.14126009, 6.6462386339999995, 18.15370923, 34.40823829, 50.615969799999995, 12.01388106, 21.69126751, 64.36587819, 34.39938071, 53.06048981, 31.82031331, 29.93597129, 19.34551705, 17.87296705, 20.17291492, 68.11010398, 10.08552027, 27.40347668, 3.144090336, 13.16428649, 17.37880352, 25.50898033, 3.2605515539999996, 4.22856798, 37.07763541, 7.429027014, 5.212327607, 16.85150337, 14.89327316, 1.9824306090000001, 3.326794107, 0.867935969, 2.07297925, 1.467432825, 1.1100412709999998, 0.8390921570000001, 0.631085994, 1.588400021, 1.065540034, 0.444682794, 0.438033813, 0.490483912, 1.082563298, 0.67609175, 212.3402393, 121.4440117, 538.325792, 196.5457533, 499.32851900000003, 255.3537742, 94.69484914, 279.4487135, 65.85116201, 145.4650334, 143.85272680000003, 287.8922997, 35.64790239, 36.65775041, 58.29643539, 68.90873109, 68.37357489, 87.96268564, 23.41022447, 39.93872183, 157.5525577, 16.77970284, 43.15748154, 26.65623304, 16.95932389, 23.21585948, 34.18976838, 50.25933608, 19.101937799999998, 60.11108774, 44.99376504, 54.52846186, 53.71025949, 66.95270231, 31.04874586, 28.52232057, 4.700365442, 17.59384197, 27.75324818, 35.23108683, 43.69663309, 5.452298352000001, 219.54019580000002, 24.59644888, 6.959699411, 4.281199013999999, 3.75018658, 2.974784562, 15.23967207, 7.407794176, 14.97817812, 22.93959368, 11.11231656, 8.028918752000001, 1.94831725, 15.35906228, 6.7772671760000005, 2.110744446, 14.70110478, 1.5854008659999999, 0.760962919, 0.777012695, 27.36033267, 1.947462015, 0.60887466, 0.47771031399999997, 0.540702948, 1.369550916, 0.81965903, 1.355258401], \"xaxis\": \"x\", \"y\": [15.911988599999999, 15.40312682, 13.73253149, 13.46084009, 10.00847687, 2.005440427, 1.9251259969999999, 1.2104333809999999, 1.104462562, 1.793914611, 2.443242826, 2.525897317, 63.59405985, 2.022511737, 130.673844, 2.100833408, 2.265182212, 1.427992659, 251.52690980000003, 1.118213706, 2.0038325880000003, 6.4671442589999995, 22.19294275, 1.123799872, 1.0896989879999999, 1.37979909, 1.16211276, 12.56852992, 2.9102018339999995, 1.4996729130000002, 2.337283919, 2.488288371, 1.135843992, 1.36947798, 1.926256468, 1.020059578, 1.091676395, 1.090342282, 2.482016014, 2.2335121190000002, 1.106556932, 2.6844347010000003, 2.4695401930000003, 1.9023734730000001, 1.933536343, 1.7566321059999999, 1.516364215, 2.051126976, 1.040432662, 1.904066513, 1.708908729, 1.306158487, 1.98796178, 1.109354723, 31.74230673, 1.488096012, 1.329104724, 1.256831449, 32.2249423, 1.226167882, 1.172961787, 1.085066302, 2.600922778, 1.198791154, 1.322877062, 1.4090711459999998, 2.104139403, 1.195865777, 1.041127213, 1.291646441, 1.0169713009999999, 1.143395221, 1.030245314, 1.280310831, 1.061882384, 1.3548438580000002, 1.06669265, 1.641010214, 1.4749332819999998, 2.541127275, 12.85676211, 10.36940812, 7.809672585, 5.949120832, 4.513032777, 3.1644680380000003, 2.424353604, 1.303965697, 36.89830644, 1.112625435, 1.365061001, 1.967414384, 131.8628131, 1.167167955, 6.878699465, 2.446571449, 1.419093154, 1.388033412, 45.17521553, 1.152056093, 1.374313282, 15.6212767, 3.567829465, 1.101285965, 9.227400003, 2.417802531, 1.854399785, 2.1201739859999997, 1.557117735, 1.7766020519999999, 2.4427306509999998, 1.112978754, 1.062716767, 1.460033856, 2.347286893, 1.6369309269999999, 47.63290896, 1.87622303, 1.53353023, 1.06663621, 1.626907436, 1.0802094740000001, 1.11277856, 1.412105079, 1.097733169, 10.46859821, 3.6401874989999996, 20.20281178, 1.268156544, 1.846014882, 1.228021246, 1.0688809540000002, 1.4772758680000002, 1.6767058819999998, 2.7045245419999997, 1.064388527, 1.001456659, 1.913439766, 1.138869771, 4.631758994, 77.09629195, 1.1871097879999999, 1.00341576, 1.175098849, 1.7969434080000002, 1.243370211, 1.839338811, 1.46929119, 1.073564338, 1.284497587], \"yaxis\": \"y\"}, {\"hovertemplate\": \"<b>%{hovertext}</b><br><br>max.cluster=Purkinje neurons<br>max.expr=%{x}<br>fold.change=%{y}<extra></extra>\", \"hovertext\": [\"'CA8'\", \"'FOXP2'\", \"'CTB-111H14.1'\", \"'VAV3'\", \"'IMMP2L'\", \"'CTTNBP2'\", \"'AASS'\", \"'SLC6A17'\", \"'SPAG17'\", \"'FAM3C'\", \"'RP11-260O18.1'\", \"'RP11-17A4.2'\", \"'PENK'\", \"'CFTR'\", \"'NDUFA5'\", \"'WNT16'\", \"'AC003088.1'\", \"'SDR16C5'\", \"'RP11-458K10.1'\", \"'GPR85'\", \"'GPR61'\", \"'VAV3-AS1'\", \"'CTB-30L5.1'\", \"'RP11-359D24.1'\", \"'RP11-222O23.1'\", \"'AC073071.1'\", \"'AC002463.3'\", \"'IMMP2L-IT1'\", \"'snoU13'\", \"'AC003989.3'\", \"'RP5-1074L1.1'\", \"'CASQ2'\", \"'LAMB4'\", \"'AC073626.2'\", \"'DUS4L'\", \"'AC000111.6'\", \"'CHIAP3'\", \"'AC068610.5'\", \"'RP5-884M6.1'\"], \"legendgroup\": \"Purkinje neurons\", \"marker\": {\"color\": \"#ab63fa\", \"symbol\": \"circle\"}, \"mode\": \"markers\", \"name\": \"Purkinje neurons\", \"orientation\": \"v\", \"showlegend\": true, \"type\": \"scatter\", \"x\": [1675.740381, 4758.759272, 141.2187064, 204.8142407, 3275.309447, 571.7452084, 130.7012297, 50.98767953, 55.09222905, 122.1201803, 39.22350086, 24.47476302, 20.46297562, 26.77742462, 80.33891657, 15.561254000000002, 15.18656339, 13.43203187, 8.330745787, 28.04106965, 5.539474871, 4.706670066, 5.547906574, 3.646719048, 2.809099372, 4.614205768, 3.7464327089999996, 3.508082632, 3.4039713939999996, 1.6685596180000002, 4.273536865, 2.13029725, 4.02925932, 1.192143383, 10.90279576, 1.007165729, 0.99974209, 1.244654267, 0.47412863200000005], \"xaxis\": \"x\", \"y\": [12.47480245, 7.561547827999999, 4.156404649, 1.635626904, 1.5759646369999998, 1.418993781, 1.357466279, 1.048041871, 1.348192092, 1.580288785, 6.948382035, 7.25171407, 1.834693394, 3.45772761, 1.383180406, 10.78584846, 1.4016083519999998, 1.8080472840000001, 1.9441712740000001, 1.090848755, 1.1778120140000001, 1.4927148280000002, 3.10781602, 2.606258401, 5.293192519, 2.74933161, 1.861859274, 1.759194954, 1.366597244, 2.007151699, 1.236088684, 1.245031566, 1.4019067630000002, 1.8239581059999999, 1.183872932, 1.299838233, 4.345227123, 1.5345706000000001, 1.697682255], \"yaxis\": \"y\"}, {\"hovertemplate\": \"<b>%{hovertext}</b><br><br>max.cluster=Granule neurons<br>max.expr=%{x}<br>fold.change=%{y}<extra></extra>\", \"hovertext\": [\"'ST18'\", \"'NKAIN3'\", \"'ROBO1'\", \"'ROBO2'\", \"'NRCAM'\", \"'CHD7'\", \"'KCND3'\", \"'NHLH2'\", \"'RP11-705O24.1'\", \"'RP5-1101C3.1'\", \"'RP11-328J2.1'\", \"'ASPH'\", \"'RP11-513O17.2'\", \"'GGH'\", \"'ST7-OT4'\", \"'AC022182.3'\", \"'STRIP1'\", \"'FAM150A'\", \"'RP11-659E9.2'\", \"'RN7SL751P'\", \"'MET'\", \"'MYBPHL'\", \"'RP11-88H9.2'\", \"'RP11-26M5.2'\", \"'RNU6-386P'\", \"'RP11-26M5.3'\", \"'RP11-705O24.2'\", \"'RNF148'\", \"'RP11-12L8.1'\", \"'RP11-401H2.1'\", \"'RP11-91I20.1'\", \"'RP5-1065J22.2'\", \"'SDR16C6P'\", \"'RP11-251P6.1'\"], \"legendgroup\": \"Granule neurons\", \"marker\": {\"color\": \"#FFA15A\", \"symbol\": \"circle\"}, \"mode\": \"markers\", \"name\": \"Granule neurons\", \"orientation\": \"v\", \"showlegend\": true, \"type\": \"scatter\", \"x\": [528.7038791, 2109.834542, 5608.017586999999, 3831.7386380000003, 995.4550958999998, 1011.659123, 499.3327575, 92.05512306, 38.49481369, 28.29450524, 32.52698993, 144.8937096, 26.83312572, 54.13242397, 55.64095907, 5.389467272999999, 43.83533677, 3.012282963, 4.12811302, 2.067395831, 4.276501324, 2.56977876, 3.31254916, 1.250497853, 1.04196576, 1.191542752, 1.018000237, 0.68312707, 1.147904737, 0.662478708, 0.8418091759999999, 0.43716098299999995, 0.28672101899999997, 0.35944968], \"xaxis\": \"x\", \"y\": [5.4484366060000005, 1.759798655, 1.597877004, 1.425590467, 1.379363984, 1.214157876, 1.119354978, 1.0730956390000002, 14.62943022, 1.00232018, 20.53070854, 1.348395129, 3.204222998, 1.024939861, 1.242632373, 3.78010861, 1.159667498, 1.6116764540000001, 2.480079166, 3.154898461, 1.3799946859999999, 1.7270746419999998, 1.304998294, 3.9337173180000002, 1.563571025, 5.667114455, 25.98039756, 1.096271427, 1.1182276340000001, 2.79205478, 1.53240393, 1.790017565, 1.6183820309999999, 1.626726555], \"yaxis\": \"y\"}, {\"hovertemplate\": \"<b>%{hovertext}</b><br><br>max.cluster=Inhibitory interneurons<br>max.expr=%{x}<br>fold.change=%{y}<extra></extra>\", \"hovertext\": [\"'XKR4'\", \"'BHLHE22'\", \"'ST7'\", \"'EPHA3'\", \"'RP11-386G21.2'\", \"'CELSR2'\", \"'KIAA1324'\", \"'TGS1'\", \"'NSMAF'\", \"'RP11-386G21.1'\", \"'UBXN2B'\", \"'NGF'\", \"'RP11-284N8.3'\", \"'AMIGO1'\", \"'AKNAD1'\", \"'PPP1R3A'\", \"'RP11-21C4.1'\", \"'ST7-AS2'\", \"'CTD-3025N20.2'\", \"'WDR3'\", \"'ATXN7L2'\", \"'AC004112.4'\", \"'RP11-109P6.2'\", \"'RP11-546K22.3'\", \"'ZNF717'\", \"'AC068522.4'\", \"'CTB-13F3.1'\", \"'RP11-1D12.2'\", \"'RP11-11C20.3'\", \"'RP11-451B8.1'\", \"'RP11-567J20.1'\", \"'RP11-546K22.1'\", \"'MIPEPP1'\", \"'RP11-91I20.4'\", \"'RP11-96K19.4'\", \"'RP11-47P18.1'\", \"'RP11-446E9.1'\", \"'KCND3-IT1'\", \"'ASZ1'\", \"'AL136376.1'\"], \"legendgroup\": \"Inhibitory interneurons\", \"marker\": {\"color\": \"#19d3f3\", \"symbol\": \"circle\"}, \"mode\": \"markers\", \"name\": \"Inhibitory interneurons\", \"orientation\": \"v\", \"showlegend\": true, \"type\": \"scatter\", \"x\": [5266.407253, 180.5347371, 348.1856722, 684.1057397999999, 71.57408567, 118.8174129, 34.3654731, 75.87160258, 95.7534394, 16.46232947, 60.28253334, 8.810358828, 14.20626169, 11.46224788, 37.00729358, 6.758458642999999, 4.372953133999999, 10.39623812, 3.993294358, 24.80387572, 6.920813567000001, 8.433787385, 0.839842064, 1.62065178, 11.15759162, 2.016811632, 0.860930585, 0.493415915, 0.592671135, 0.775491136, 0.747996199, 2.320732242, 0.46272561100000004, 0.7125861379999999, 0.53792664, 0.536193218, 0.478012641, 0.536658104, 0.380228137, 1.277941885], \"xaxis\": \"x\", \"y\": [4.456110908, 1.588655914, 1.110054624, 1.005833606, 5.156002783, 1.27325548, 1.110526407, 1.52634368, 1.020242501, 4.46313131, 1.04881792, 3.291233325, 1.1410571409999999, 1.247671831, 1.0915824570000001, 2.7725028010000003, 1.139554165, 1.043510971, 2.665426991, 1.010777764, 1.069674917, 1.0393329409999998, 1.588055356, 1.8106865730000001, 1.105385054, 1.888565795, 1.028784079, 1.08032711, 1.09630006, 1.6636108330000001, 2.559647631, 1.495367095, 1.098539108, 1.4352012180000002, 1.091212685, 1.164715278, 2.151897562, 1.836898801, 1.938437605, 1.1350816259999998], \"yaxis\": \"y\"}, {\"hovertemplate\": \"<b>%{hovertext}</b><br><br>max.cluster=Oligodendrocytes<br>max.expr=%{x}<br>fold.change=%{y}<extra></extra>\", \"hovertext\": [\"'NTNG1'\", \"'CADM2'\", \"'PTPRZ1'\", \"'SNTG1'\", \"'KCND2'\", \"'GPSM2'\", \"'CNTN3'\", \"'TSPAN12'\", \"'RP11-163N6.2'\", \"'KCNA2'\", \"'RP4-797C5.2'\", \"'CADM2-AS1'\", \"'LRIG2'\", \"'CADM2-AS2'\", \"'GPR22'\", \"'TMEM68'\", \"'PRKRIRP2'\", \"'RNU6-581P'\", \"'RP11-33I11.2'\", \"'RP11-759A9.1'\", \"'RPS3AP12'\", \"'RP11-27K13.3'\", \"'GAPDHP33'\", \"'RP11-401N18.1'\", \"'RP11-91I20.3'\", \"'SYCP1'\", \"'CTA-363E19.2'\", \"'RP5-1006K12.1'\", \"'KCND2'\", \"'CADM2'\", \"'KCND3'\", \"'FAM110B'\", \"'GPSM2'\", \"'CHD7'\", \"'CNTN3'\", \"'SNTG1'\", \"'ST18'\", \"'PTPRZ1'\", \"'RP11-163N6.2'\", \"'KCNA2'\", \"'VGLL3'\", \"'RP4-797C5.2'\", \"'CADM2-AS1'\", \"'CADM2-AS2'\", \"'TGS1'\", \"'TMEM68'\", \"'LRIG2'\", \"'PRKRIRP2'\", \"'RP11-33I11.2'\", \"'RP11-88H9.2'\", \"'RP11-109P6.2'\", \"'RNU6-581P'\", \"'RP11-91I20.1'\", \"'RP11-759A9.1'\", \"'RP11-270C12.3'\", \"'RNU6-817P'\", \"'RP11-401N18.1'\", \"'RP4-773A18.4'\", \"'RP11-11C20.3'\", \"'RP11-388G22.1'\", \"'KCND3-IT1'\", \"'AL136376.1'\", \"'MIPEPP1'\", \"'RBMX2P3'\", \"'RPS3AP12'\", \"'SYCP1'\"], \"legendgroup\": \"Oligodendrocytes\", \"marker\": {\"color\": \"#FF6692\", \"symbol\": \"circle\"}, \"mode\": \"markers\", \"name\": \"Oligodendrocytes\", \"orientation\": \"v\", \"showlegend\": true, \"type\": \"scatter\", \"x\": [729.7726428999999, 10724.32443, 4148.761708, 3151.639221, 8991.18816, 147.5955276, 278.5452863, 39.44130084, 69.22552012, 33.14750631, 14.85061437, 11.49882722, 67.05995703, 11.8160522, 6.629861437000001, 47.1399638, 3.362556384, 2.447691743, 2.4857566490000003, 1.2403831909999998, 1.529805214, 2.281033059, 0.52980969, 1.1755168679999999, 0.40323193700000004, 1.174544507, 0.602099714, 0.327819729, 7256.054743000001, 10122.19519, 473.3177688999999, 398.38545780000004, 143.98621880000002, 803.0712006, 439.2930158, 2986.091649, 77.10014498, 4329.596013, 96.28373024, 26.24174367, 9.198512739, 9.570243625, 11.17664781, 9.469451573999999, 53.10214069, 41.63230265, 67.93408207, 3.357654478, 1.560939079, 3.265712826, 1.952263769, 1.5668551830000002, 1.86160383, 0.926365938, 1.009370517, 0.83186191, 0.8064325990000001, 1.622752831, 0.966485296, 1.764735757, 0.7550407090000001, 1.2203032390000002, 0.8152084829999999, 0.8860937759999999, 1.713278776, 1.072620881], \"xaxis\": \"x\", \"y\": [2.640155915, 2.490670474, 2.360114896, 2.035393889, 1.90474525, 1.201396202, 1.159274491, 1.278849981, 1.943589649, 1.361899821, 2.132303754, 1.892336253, 1.102435918, 2.502464886, 1.051817936, 1.048340923, 1.957850586, 4.254508434, 1.220012975, 1.32694975, 1.463395194, 1.1670203909999999, 1.337950263, 4.418915462, 1.237856516, 1.070692088, 1.258971008, 1.261783355, 2.890190495, 2.284994531, 1.978947768, 1.567980779, 1.525499804, 1.472917455, 1.4288219619999998, 1.2195587270000001, 1.1946750959999999, 1.042484567, 1.312306303, 2.794937053, 1.287977214, 2.599892218, 1.947182826, 1.936939111, 1.308531205, 1.157067397, 1.207364873, 1.356533534, 1.2562759620000001, 2.045402116, 3.651297579, 1.570313869, 2.62155337, 1.0163489909999999, 1.733326799, 1.018997827, 1.4102953759999999, 1.048509582, 1.0150783540000001, 1.6825771580000002, 3.579436321, 1.145679752, 1.778345614, 2.182515444, 1.305988272, 1.039147023], \"yaxis\": \"y\"}, {\"hovertemplate\": \"<b>%{hovertext}</b><br><br>max.cluster=SLC24A4_PEX5L positive cells<br>max.expr=%{x}<br>fold.change=%{y}<extra></extra>\", \"hovertext\": [\"'TOX'\", \"'RP11-32K4.1'\", \"'PRKAR2B'\", \"'LINC00966'\", \"'IGSF3'\", \"'SLC22A15'\", \"'PTGFRN'\", \"'TSPAN2'\", \"'MAN1A2'\", \"'WDR47'\", \"'RP4-666F24.3'\", \"'PCMTD1'\", \"'CD101'\", \"'RP4-663N10.1'\", \"'RP11-579E24.2'\", \"'RP11-389O22.1'\", \"'CTA-360L10.1'\", \"'OVGP1'\", \"'ZNF697'\", \"'RP11-31F15.2'\", \"'RNU4-50P'\", \"'ANKRD7'\", \"'RP11-552M11.8'\", \"'MAB21L3'\", \"'PPM1J'\", \"'WNT2'\", \"'RP11-579E24.1'\", \"'RP11-110G21.2'\", \"'LSMEM1'\", \"'CTD-3046C4.1'\", \"'RP11-328K2.1'\", \"'AP4B1-AS1'\", \"'AP4B1'\", \"'RP11-552M11.4'\", \"'RP4-671G15.2'\", \"'HSD3BP5'\", \"'RP11-159M11.2'\", \"'LINC00622'\", \"'RP11-45K10.2'\", \"'RP11-6B4.1'\", \"'SLC26A3'\", \"'FAM19A3'\", \"'CBX5P1'\", \"'RNA5SP265'\", \"'RP11-426L16.10'\"], \"legendgroup\": \"SLC24A4_PEX5L positive cells\", \"marker\": {\"color\": \"#B6E880\", \"symbol\": \"circle\"}, \"mode\": \"markers\", \"name\": \"SLC24A4_PEX5L positive cells\", \"orientation\": \"v\", \"showlegend\": true, \"type\": \"scatter\", \"x\": [902.0020814999999, 437.4326065, 320.9270851, 112.8203226, 156.3337165, 96.60887314, 87.21503111, 68.60053238, 363.697766, 88.20901656, 14.93352438, 146.9300379, 9.635550313, 11.24468675, 7.863262773, 66.66594903, 11.14750343, 8.553577978, 15.50945134, 16.94528672, 4.855935241, 5.043235601, 5.590439056, 1.9845529530000001, 2.732641348, 2.8493181689999996, 1.272337863, 7.022160368, 3.34823715, 3.0078428410000004, 2.726643842, 2.732921391, 11.74710293, 3.330671485, 1.484162868, 0.508604995, 0.35776586299999996, 0.507136056, 0.87076692, 1.21813287, 1.260439069, 0.394367883, 0.32441789600000004, 0.238172613, 0.399651335], \"xaxis\": \"x\", \"y\": [1.9048925819999998, 1.7454756980000001, 1.735578275, 1.413683988, 1.012791849, 1.127803004, 1.182589538, 1.7354591609999999, 1.7064990269999998, 1.010522306, 3.103414215, 1.046091177, 1.004303571, 2.922652075, 1.163924196, 1.0329131040000001, 1.2904922909999998, 1.1331202809999998, 1.165611377, 1.096162885, 3.8226391860000004, 1.546294485, 1.440606202, 3.170794055, 2.041421868, 2.182231397, 2.035030873, 1.105442922, 1.1107371000000001, 2.9553072869999997, 1.250917323, 1.043229072, 1.11569159, 1.1856515970000001, 1.624204081, 1.9318415869999999, 1.2615705529999999, 3.466740044, 8.612053947, 1.115385965, 1.402064835, 2.8840502810000004, 1.266506693, 2.096687945, 2.9885245310000004], \"yaxis\": \"y\"}, {\"hovertemplate\": \"<b>%{hovertext}</b><br><br>max.cluster=Unipolar brush cells<br>max.expr=%{x}<br>fold.change=%{y}<extra></extra>\", \"hovertext\": [\"'CLVS1'\", \"'LRRN3'\", \"'CADPS2'\", \"'FAM110B'\", \"'CYP7B1'\", \"'AC022182.1'\", \"'PHTF1'\", \"'TRIM33'\", \"'RB1CC1'\", \"'RP11-1D12.1'\", \"'RSBN1'\", \"'VTCN1'\", \"'KCNA3'\", \"'U3'\", \"'RP11-648L3.2'\", \"'WNT2B'\", \"'LAMTOR5-AS1'\", \"'RP5-1073O3.2'\", \"'RP11-659E9.4'\", \"'RP5-1074L1.4'\", \"'BCL2L15'\", \"'RP4-753F5.1'\", \"'RP11-787D18.2'\", \"'RP11-628E19.2'\", \"'RP4-773A18.4'\", \"'RP11-803B1.2'\", \"'RP5-1073O3.7'\", \"'SLC13A1'\", \"'AC090186.1'\", \"'RP11-520D19.2'\", \"'RP4-730K3.3'\", \"'RP11-24P14.1'\", \"'RP11-96K19.2'\"], \"legendgroup\": \"Unipolar brush cells\", \"marker\": {\"color\": \"#FF97FF\", \"symbol\": \"circle\"}, \"mode\": \"markers\", \"name\": \"Unipolar brush cells\", \"orientation\": \"v\", \"showlegend\": true, \"type\": \"scatter\", \"x\": [419.7265608, 450.3551045, 1400.580277, 305.0802762, 98.43994333, 33.33307969, 97.68065666, 264.7219453, 188.8287772, 33.27008606, 83.80666136, 6.247524362, 6.629661479, 3.391446197, 5.65153828, 25.67676263, 9.95706001, 2.230007535, 0.8435658859999999, 7.051931831, 2.505640185, 0.491240471, 1.016916753, 0.546155156, 2.664200363, 1.5553563999999998, 1.19342344, 0.542184984, 1.1457307490000002, 0.88672129, 0.537675075, 0.597814171, 1.536180572], \"xaxis\": \"x\", \"y\": [1.587721065, 1.2261099309999999, 1.111859811, 1.05553458, 1.091344434, 1.5799526640000001, 1.495528208, 1.1192942209999999, 1.093118709, 1.465564457, 1.161620906, 1.3517738990000001, 1.057979875, 1.167037017, 1.15621919, 1.046070585, 1.4802712530000002, 1.4339956619999998, 1.59090672, 1.067000919, 1.6250268069999998, 1.052792816, 1.579606766, 1.5250701740000001, 1.445849947, 1.008191134, 1.31260553, 1.0847147320000001, 1.12551923, 1.100581443, 2.543944481, 1.373073311, 1.8965168669999999], \"yaxis\": \"y\"}, {\"hovertemplate\": \"<b>%{hovertext}</b><br><br>max.cluster=SKOR2_NPSR1 positive cells<br>max.expr=%{x}<br>fold.change=%{y}<extra></extra>\", \"hovertext\": [\"'CTB-111H14.1'\", \"'CA8'\", \"'FOXP2'\", \"'IMMP2L'\", \"'CTTNBP2'\", \"'CADPS2'\", \"'LRRN3'\", \"'NRCAM'\", \"'MDFIC'\", \"'SLC22A15'\", \"'SLC6A17'\", \"'RP11-260O18.1'\", \"'CFTR'\", \"'RP11-17A4.2'\", \"'WNT16'\", \"'FAM3C'\", \"'UBXN2B'\", \"'SDR16C5'\", \"'NDUFA5'\", \"'RP11-458K10.1'\", \"'CTB-30L5.1'\", \"'RP5-1101C3.1'\", \"'GPR61'\", \"'CD101'\", \"'AC073071.1'\", \"'AKNAD1'\", \"'VAV3-AS1'\", \"'GSTM3'\", \"'RP11-359D24.1'\", \"'AC002463.3'\", \"'RP11-222O23.1'\", \"'RP5-1074L1.1'\", \"'AMIGO1'\", \"'PPP1R3A'\", \"'RP4-671G15.2'\", \"'AC068610.3'\", \"'RP11-552M11.8'\", \"'IMMP2L-IT1'\", \"'DCLRE1B'\", \"'AC068610.5'\", \"'AC073626.2'\", \"'ATXN7L2'\", \"'RP11-12L8.1'\", \"'CASQ2'\", \"'CTB-13F3.1'\", \"'snoU13'\", \"'RP5-884M6.1'\", \"'RP11-27K13.3'\", \"'RP11-90H3.1'\", \"'RP11-552M11.4'\", \"'RP11-96K19.4'\", \"'RP11-140I16.3'\", \"'AC000111.6'\", \"'MAB21L3'\", \"'RP11-6B4.1'\", \"'ASZ1'\", \"'CHIAP3'\", \"'snoU109'\", \"'RP11-61D3.1'\", \"'BCL2L15'\"], \"legendgroup\": \"SKOR2_NPSR1 positive cells\", \"marker\": {\"color\": \"#FECB52\", \"symbol\": \"circle\"}, \"mode\": \"markers\", \"name\": \"SKOR2_NPSR1 positive cells\", \"orientation\": \"v\", \"showlegend\": true, \"type\": \"scatter\", \"x\": [164.7735401, 1444.093943, 5066.35878, 2531.8595649999997, 596.5052206, 371.0520053999999, 258.4231738, 581.8225621, 141.213954, 91.31017626, 54.66250304, 33.97791887, 34.20844745, 25.80646478, 16.85914049, 93.44699878, 63.959670499999994, 12.13338443, 58.20277538, 7.046425785, 7.764979942, 8.476170605, 3.8223379260000003, 9.423403913, 5.510322547, 35.21902163, 4.260545287, 19.46457925, 3.6545352419999997, 4.3438768439999995, 2.816402928, 5.503683662, 7.346913497, 2.86548121, 1.8657023640000001, 1.2352059770000001, 4.27862381, 2.226328318, 18.39525117, 1.6370056819999999, 1.1828807129999999, 5.664112944, 1.1158063520000001, 2.061686566, 0.880830784, 1.377338252, 0.6259777329999999, 1.372582472, 0.636517448, 2.635693523, 0.801036251, 1.4799652369999998, 0.5134495139999999, 0.780277263, 1.666545324, 0.511799433, 0.346922525, 0.35385882399999996, 0.19362822699999999, 1.592197267], \"xaxis\": \"x\", \"y\": [18.32425697, 10.55453112, 3.20114108, 1.619763864, 1.24199368, 1.2033736240000001, 1.157732127, 1.1235250209999998, 1.051175303, 1.044252534, 1.74956154, 2.505398879, 6.231660819, 3.0367554119999998, 32.85187809, 1.499543934, 1.006400435, 2.305180634, 1.416179565, 3.536666495, 2.82700292, 1.304606843, 1.045033154, 1.084949034, 3.035438135, 1.112682289, 1.961150325, 1.25325756, 4.501858578, 2.6848629330000002, 7.001232142, 1.212020075, 1.077437153, 1.401272918, 1.055549279, 1.132460563, 1.329732327, 1.298862055, 1.095310277, 1.3905838659999998, 1.353647525, 1.0370129829999999, 2.959750461, 2.1080749030000003, 1.1303416579999999, 1.287387743, 1.7566653140000001, 1.104560961, 1.6303019140000001, 1.044213294, 1.039522883, 1.06182586, 2.777480994, 3.038754323, 1.874573061, 1.255733727, 1.247188107, 1.081953883, 1.1666838640000001, 1.1509523990000001], \"yaxis\": \"y\"}, {\"hovertemplate\": \"<b>%{hovertext}</b><br><br>max.cluster=Megakaryocytes<br>max.expr=%{x}<br>fold.change=%{y}<extra></extra>\", \"hovertext\": [\"'PRKAR2B'\", \"'DENND2C'\", \"'LINC00966'\", \"'VAV3'\", \"'FAM212B'\", \"'CELSR2'\", \"'IFRD1'\", \"'AHCYL1'\", \"'CD58'\", \"'PTGFRN'\", \"'VANGL1'\", \"'IMPAD1'\", \"'RB1CC1'\", \"'RP11-284N8.3'\", \"'CGGBP1'\", \"'PHTF1'\", \"'FAM46C'\", \"'WARS2'\", \"'ATP6V1H'\", \"'CTA-360L10.1'\", \"'AC003088.1'\", \"'ATP1A1'\", \"'CCDC71L'\", \"'GSTM4'\", \"'THAP5'\", \"'PSRC1'\", \"'YTHDF3'\", \"'GDAP2'\", \"'KCNA3'\", \"'CHCHD7'\", \"'TRIM33'\", \"'TMEM168'\", \"'PNPLA8'\", \"'AMPD2'\", \"'ZNF697'\", \"'WDR3'\", \"'STRIP1'\", \"'RP11-328J2.1'\", \"'GNAT2'\", \"'RP11-96K19.2'\", \"'RP11-47P18.2'\", \"'AC002465.2'\"], \"legendgroup\": \"Megakaryocytes\", \"marker\": {\"color\": \"#636efa\", \"symbol\": \"circle\"}, \"mode\": \"markers\", \"name\": \"Megakaryocytes\", \"orientation\": \"v\", \"showlegend\": true, \"type\": \"scatter\", \"x\": [1673.473291, 254.42896299999998, 300.5194599, 310.9941244, 140.9742913, 166.72508480000002, 392.7813307, 273.01782210000005, 275.5571848, 114.9439798, 140.2627438, 92.17101988, 255.25636969999996, 180.4020499, 100.8724247, 101.8666258, 73.0994152, 53.51308425, 233.1987676, 18.15051444, 18.43250018, 83.04110661, 36.80988879, 13.09942384, 134.9662615, 24.20165317, 291.8865469, 92.24081887, 83.1399287, 66.17369228, 257.9790777, 138.6437842, 126.67891180000001, 52.73633454, 19.70484252, 83.31069675, 55.64123927, 51.82421227, 45.98969831, 1.272342331, 1.272342331, 2.155153835], \"xaxis\": \"x\", \"y\": [6.873575814, 2.640252736, 2.2508952840000003, 1.304514999, 2.281858573, 1.116365656, 2.286662002, 2.272592239, 5.379731274, 1.676374476, 3.9060479060000004, 1.214584312, 1.463651676, 7.922143469, 1.004446198, 1.357300299, 6.990653168, 1.111374803, 2.131534107, 1.782484931, 1.482005861, 1.300487303, 2.4407994669999997, 1.0962160570000001, 4.979147952, 2.428642453, 2.9556862689999996, 1.246888213, 9.383764109, 5.223925212, 1.23673863, 1.333716625, 1.9748230080000002, 3.481554383, 1.955572958, 3.7118446880000002, 1.700406664, 26.54201233, 151.3561976, 1.046071809, 1.612487559, 20.62991148], \"yaxis\": \"y\"}, {\"hovertemplate\": \"<b>%{hovertext}</b><br><br>max.cluster=Limbic system neurons<br>max.expr=%{x}<br>fold.change=%{y}<extra></extra>\", \"hovertext\": [\"'NTNG1'\", \"'RP11-32K4.1'\", \"'TOX'\", \"'XKR4'\", \"'TSPAN2'\", \"'OPRK1'\", \"'RP11-386G21.2'\", \"'NSMAF'\", \"'GGH'\", \"'RP4-663N10.1'\", \"'RP4-666F24.3'\", \"'RP11-579E24.2'\", \"'ENPP7P2'\", \"'RP11-31F15.2'\", \"'CTD-2026G6.3'\", \"'RP11-386G21.1'\", \"'ANKRD7'\", \"'NGF'\", \"'VTCN1'\", \"'RNU4-50P'\", \"'RP11-579E24.1'\", \"'RP11-162D9.3'\", \"'RP11-803B1.8'\", \"'WNT2'\", \"'PPM1J'\", \"'RP11-110G21.2'\", \"'TRIM45'\", \"'RP11-45K10.2'\", \"'FAM150A'\", \"'RP11-328K2.1'\", \"'DUS4L'\", \"'RP11-442A17.2'\", \"'AC068522.4'\", \"'RPS3AP15'\", \"'RP11-803B1.2'\", \"'FAM19A3'\", \"'LSMEM1'\", \"'CTD-3046C4.1'\", \"'CBX5P1'\", \"'RP11-354H21.1'\", \"'RP11-426L16.10'\"], \"legendgroup\": \"Limbic system neurons\", \"marker\": {\"color\": \"#EF553B\", \"symbol\": \"circle\"}, \"mode\": \"markers\", \"name\": \"Limbic system neurons\", \"orientation\": \"v\", \"showlegend\": true, \"type\": \"scatter\", \"x\": [3330.363179, 574.6080995, 795.5530025, 1707.6350079999997, 84.3072307, 53.06759372, 19.59208975, 111.74400870000001, 56.83636996, 11.33439707, 12.92120605, 6.296386996, 15.64479857, 21.57050078, 7.9056438689999995, 5.178736736, 4.956430628000001, 5.989774897999999, 6.300618474, 2.7219867960000004, 2.0741225969999997, 2.050333668, 7.1257905489999995, 2.853171653, 2.9996895039999996, 7.570287336, 5.62438581, 0.970468487, 1.47684962, 2.201494683, 8.550020444, 0.929135362, 1.290281394, 0.319957418, 0.924257511, 0.26623700699999997, 3.42647926, 1.150500108, 0.382655284, 0.142404811, 0.301495014], \"xaxis\": \"x\", \"y\": [4.677486611, 2.198035925, 1.82888315, 1.3764374730000002, 1.395447174, 9.539713905, 1.2067108999999998, 1.040684393, 1.6700911269999998, 2.918451821, 2.435577587, 1.085886074, 2.055588387, 1.214605717, 1.516351217, 1.13026661, 1.188055701, 3.555481992, 3.6705875619999997, 1.584691499, 2.44967747, 6.137271561, 1.301588032, 2.4297173080000003, 1.545272485, 1.051885513, 1.080835623, 2.694212682, 1.563487232, 1.217723122, 1.029882192, 1.0251652629999999, 1.093264953, 1.2831911870000001, 1.13690959, 1.340623184, 1.123983081, 1.652809721, 1.593325334, 1.031567153, 4.613013704], \"yaxis\": \"y\"}, {\"hovertemplate\": \"<b>%{hovertext}</b><br><br>max.cluster=Excitatory neurons<br>max.expr=%{x}<br>fold.change=%{y}<extra></extra>\", \"hovertext\": [\"'KIAA1324'\", \"'ROBO2'\", \"'IGSF3'\", \"'EPHA3'\", \"'CLVS1'\", \"'NKAIN3'\", \"'SLC26A4'\", \"'WDR47'\", \"'BHLHE22'\", \"'GPR85'\", \"'GPR22'\", \"'RP11-513O17.2'\", \"'PCMTD1'\", \"'RP11-389O22.1'\", \"'SLC26A4-AS1'\", \"'MET'\", \"'RSBN1'\", \"'WNT2B'\", \"'RP11-21C4.1'\", \"'RP11-659E9.2'\", \"'AC004112.4'\", \"'RNU6-386P'\", \"'RP5-965F6.2'\", \"'SCARNA2'\", \"'RP11-379I19.1'\", \"'RP11-401H2.1'\", \"'AC003989.3'\", \"'SLC13A1'\", \"'RP4-753F5.1'\", \"'HSD3BP5'\", \"'RP11-648L3.2'\", \"'RP11-91I20.4'\"], \"legendgroup\": \"Excitatory neurons\", \"marker\": {\"color\": \"#00cc96\", \"symbol\": \"circle\"}, \"mode\": \"markers\", \"name\": \"Excitatory neurons\", \"orientation\": \"v\", \"showlegend\": true, \"type\": \"scatter\", \"x\": [146.56397919999998, 7749.319012000001, 145.2450782, 1744.9778820000001, 265.6173216, 2137.810203, 45.02769805, 136.9644145, 52.71924619, 53.77001633, 30.30102364, 16.20742405, 169.9932629, 79.95513815, 7.62896952, 5.857831751, 63.63533617, 33.67452783, 2.520834905, 3.107051735, 8.732852625, 0.9972594909999999, 0.9417225909999999, 1.3459247859999999, 0.602653625, 0.36504523200000005, 0.782763008, 0.640445597, 0.471961309, 0.312210853, 3.688065237, 0.294966428], \"xaxis\": \"x\", \"y\": [2.225584286, 1.7651111369999999, 1.4951239180000002, 1.239710446, 1.186489385, 1.164649173, 10.88865543, 1.31217783, 1.115442563, 1.318986215, 3.25230191, 1.158437746, 1.119568047, 1.22328375, 4.085957995, 1.077663478, 1.107936488, 1.167535688, 4.65781269, 1.4983894830000002, 1.052223661, 2.095190365, 1.057008791, 1.90517913, 5.305038701, 1.230600844, 1.12875523, 4.142838994, 1.183583281, 2.639269445, 1.014364951, 1.076303327], \"yaxis\": \"y\"}, {\"hovertemplate\": \"<b>%{hovertext}</b><br><br>max.cluster=Inhibitory neurons<br>max.expr=%{x}<br>fold.change=%{y}<extra></extra>\", \"hovertext\": [\"'ROBO1'\", \"'ST7'\", \"'PENK'\", \"'NHLH2'\", \"'ST7-AS2'\", \"'ST7-OT4'\", \"'LAMB4'\", \"'HENMT1'\", \"'RP11-705O24.1'\", \"'AP4B1'\", \"'RP11-567J20.1'\", \"'RN7SL751P'\", \"'MYBPHL'\", \"'RP11-546K22.1'\", \"'DDX20'\", \"'RP5-1065J22.2'\", \"'RP5-1074L1.4'\", \"'RP11-159M11.2'\", \"'AC002543.2'\", \"'RP4-735C1.4'\", \"'CTA-363E19.2'\", \"'RP11-483I13.5'\", \"'AP4B1-AS1'\", \"'RP11-546K22.3'\"], \"legendgroup\": \"Inhibitory neurons\", \"marker\": {\"color\": \"#ab63fa\", \"symbol\": \"circle\"}, \"mode\": \"markers\", \"name\": \"Inhibitory neurons\", \"orientation\": \"v\", \"showlegend\": true, \"type\": \"scatter\", \"x\": [4479.03543, 340.9366985, 56.60710676, 8.34847008, 11.38235755, 46.60783738, 6.789032487, 6.39430088, 3.078394718, 12.20722942, 1.1760336999999998, 1.52101292, 1.605775666, 2.116236857, 13.18270904, 0.590046968, 5.90745845, 0.404612142, 0.555979445, 0.852507754, 0.858036238, 0.5498276, 1.954227418, 0.992544012], \"xaxis\": \"x\", \"y\": [1.224241223, 1.108562112, 2.689993365, 1.575505642, 1.241085025, 1.01888246, 1.435146222, 1.115421437, 2.721796776, 1.062500755, 1.604356209, 1.406107396, 1.369970145, 1.377734912, 1.110237444, 1.210525089, 1.060756032, 1.645157235, 1.178734998, 1.551885075, 1.031759445, 1.144059746, 1.040476232, 1.479863825], \"yaxis\": \"y\"}],                        {\"legend\": {\"title\": {\"text\": \"max.cluster\"}, \"tracegroupgap\": 0}, \"margin\": {\"t\": 60}, \"template\": {\"data\": {\"bar\": [{\"error_x\": {\"color\": \"#2a3f5f\"}, \"error_y\": {\"color\": \"#2a3f5f\"}, \"marker\": {\"line\": {\"color\": \"#E5ECF6\", \"width\": 0.5}}, \"type\": \"bar\"}], \"barpolar\": [{\"marker\": {\"line\": {\"color\": \"#E5ECF6\", \"width\": 0.5}}, \"type\": \"barpolar\"}], \"carpet\": [{\"aaxis\": {\"endlinecolor\": \"#2a3f5f\", \"gridcolor\": \"white\", \"linecolor\": \"white\", \"minorgridcolor\": \"white\", \"startlinecolor\": \"#2a3f5f\"}, \"baxis\": {\"endlinecolor\": \"#2a3f5f\", \"gridcolor\": \"white\", \"linecolor\": \"white\", \"minorgridcolor\": \"white\", \"startlinecolor\": \"#2a3f5f\"}, \"type\": \"carpet\"}], \"choropleth\": [{\"colorbar\": {\"outlinewidth\": 0, \"ticks\": \"\"}, \"type\": \"choropleth\"}], \"contour\": [{\"colorbar\": {\"outlinewidth\": 0, \"ticks\": \"\"}, \"colorscale\": [[0.0, \"#0d0887\"], [0.1111111111111111, \"#46039f\"], [0.2222222222222222, \"#7201a8\"], [0.3333333333333333, \"#9c179e\"], [0.4444444444444444, \"#bd3786\"], [0.5555555555555556, \"#d8576b\"], [0.6666666666666666, \"#ed7953\"], [0.7777777777777778, \"#fb9f3a\"], [0.8888888888888888, \"#fdca26\"], [1.0, \"#f0f921\"]], \"type\": \"contour\"}], \"contourcarpet\": [{\"colorbar\": {\"outlinewidth\": 0, \"ticks\": \"\"}, \"type\": \"contourcarpet\"}], \"heatmap\": [{\"colorbar\": {\"outlinewidth\": 0, \"ticks\": \"\"}, \"colorscale\": [[0.0, \"#0d0887\"], [0.1111111111111111, \"#46039f\"], [0.2222222222222222, \"#7201a8\"], [0.3333333333333333, \"#9c179e\"], [0.4444444444444444, \"#bd3786\"], [0.5555555555555556, \"#d8576b\"], [0.6666666666666666, \"#ed7953\"], [0.7777777777777778, \"#fb9f3a\"], [0.8888888888888888, \"#fdca26\"], [1.0, \"#f0f921\"]], \"type\": \"heatmap\"}], \"heatmapgl\": [{\"colorbar\": {\"outlinewidth\": 0, \"ticks\": \"\"}, \"colorscale\": [[0.0, \"#0d0887\"], [0.1111111111111111, \"#46039f\"], [0.2222222222222222, \"#7201a8\"], [0.3333333333333333, \"#9c179e\"], [0.4444444444444444, \"#bd3786\"], [0.5555555555555556, \"#d8576b\"], [0.6666666666666666, \"#ed7953\"], [0.7777777777777778, \"#fb9f3a\"], [0.8888888888888888, \"#fdca26\"], [1.0, \"#f0f921\"]], \"type\": \"heatmapgl\"}], \"histogram\": [{\"marker\": {\"colorbar\": {\"outlinewidth\": 0, \"ticks\": \"\"}}, \"type\": \"histogram\"}], \"histogram2d\": [{\"colorbar\": {\"outlinewidth\": 0, \"ticks\": \"\"}, \"colorscale\": [[0.0, \"#0d0887\"], [0.1111111111111111, \"#46039f\"], [0.2222222222222222, \"#7201a8\"], [0.3333333333333333, \"#9c179e\"], [0.4444444444444444, \"#bd3786\"], [0.5555555555555556, \"#d8576b\"], [0.6666666666666666, \"#ed7953\"], [0.7777777777777778, \"#fb9f3a\"], [0.8888888888888888, \"#fdca26\"], [1.0, \"#f0f921\"]], \"type\": \"histogram2d\"}], \"histogram2dcontour\": [{\"colorbar\": {\"outlinewidth\": 0, \"ticks\": \"\"}, \"colorscale\": [[0.0, \"#0d0887\"], [0.1111111111111111, \"#46039f\"], [0.2222222222222222, \"#7201a8\"], [0.3333333333333333, \"#9c179e\"], [0.4444444444444444, \"#bd3786\"], [0.5555555555555556, \"#d8576b\"], [0.6666666666666666, \"#ed7953\"], [0.7777777777777778, \"#fb9f3a\"], [0.8888888888888888, \"#fdca26\"], [1.0, \"#f0f921\"]], \"type\": \"histogram2dcontour\"}], \"mesh3d\": [{\"colorbar\": {\"outlinewidth\": 0, \"ticks\": \"\"}, \"type\": \"mesh3d\"}], \"parcoords\": [{\"line\": {\"colorbar\": {\"outlinewidth\": 0, \"ticks\": \"\"}}, \"type\": \"parcoords\"}], \"pie\": [{\"automargin\": true, \"type\": \"pie\"}], \"scatter\": [{\"marker\": {\"colorbar\": {\"outlinewidth\": 0, \"ticks\": \"\"}}, \"type\": \"scatter\"}], \"scatter3d\": [{\"line\": {\"colorbar\": {\"outlinewidth\": 0, \"ticks\": \"\"}}, \"marker\": {\"colorbar\": {\"outlinewidth\": 0, \"ticks\": \"\"}}, \"type\": \"scatter3d\"}], \"scattercarpet\": [{\"marker\": {\"colorbar\": {\"outlinewidth\": 0, \"ticks\": \"\"}}, \"type\": \"scattercarpet\"}], \"scattergeo\": [{\"marker\": {\"colorbar\": {\"outlinewidth\": 0, \"ticks\": \"\"}}, \"type\": \"scattergeo\"}], \"scattergl\": [{\"marker\": {\"colorbar\": {\"outlinewidth\": 0, \"ticks\": \"\"}}, \"type\": \"scattergl\"}], \"scattermapbox\": [{\"marker\": {\"colorbar\": {\"outlinewidth\": 0, \"ticks\": \"\"}}, \"type\": \"scattermapbox\"}], \"scatterpolar\": [{\"marker\": {\"colorbar\": {\"outlinewidth\": 0, \"ticks\": \"\"}}, \"type\": \"scatterpolar\"}], \"scatterpolargl\": [{\"marker\": {\"colorbar\": {\"outlinewidth\": 0, \"ticks\": \"\"}}, \"type\": \"scatterpolargl\"}], \"scatterternary\": [{\"marker\": {\"colorbar\": {\"outlinewidth\": 0, \"ticks\": \"\"}}, \"type\": \"scatterternary\"}], \"surface\": [{\"colorbar\": {\"outlinewidth\": 0, \"ticks\": \"\"}, \"colorscale\": [[0.0, \"#0d0887\"], [0.1111111111111111, \"#46039f\"], [0.2222222222222222, \"#7201a8\"], [0.3333333333333333, \"#9c179e\"], [0.4444444444444444, \"#bd3786\"], [0.5555555555555556, \"#d8576b\"], [0.6666666666666666, \"#ed7953\"], [0.7777777777777778, \"#fb9f3a\"], [0.8888888888888888, \"#fdca26\"], [1.0, \"#f0f921\"]], \"type\": \"surface\"}], \"table\": [{\"cells\": {\"fill\": {\"color\": \"#EBF0F8\"}, \"line\": {\"color\": \"white\"}}, \"header\": {\"fill\": {\"color\": \"#C8D4E3\"}, \"line\": {\"color\": \"white\"}}, \"type\": \"table\"}]}, \"layout\": {\"annotationdefaults\": {\"arrowcolor\": \"#2a3f5f\", \"arrowhead\": 0, \"arrowwidth\": 1}, \"coloraxis\": {\"colorbar\": {\"outlinewidth\": 0, \"ticks\": \"\"}}, \"colorscale\": {\"diverging\": [[0, \"#8e0152\"], [0.1, \"#c51b7d\"], [0.2, \"#de77ae\"], [0.3, \"#f1b6da\"], [0.4, \"#fde0ef\"], [0.5, \"#f7f7f7\"], [0.6, \"#e6f5d0\"], [0.7, \"#b8e186\"], [0.8, \"#7fbc41\"], [0.9, \"#4d9221\"], [1, \"#276419\"]], \"sequential\": [[0.0, \"#0d0887\"], [0.1111111111111111, \"#46039f\"], [0.2222222222222222, \"#7201a8\"], [0.3333333333333333, \"#9c179e\"], [0.4444444444444444, \"#bd3786\"], [0.5555555555555556, \"#d8576b\"], [0.6666666666666666, \"#ed7953\"], [0.7777777777777778, \"#fb9f3a\"], [0.8888888888888888, \"#fdca26\"], [1.0, \"#f0f921\"]], \"sequentialminus\": [[0.0, \"#0d0887\"], [0.1111111111111111, \"#46039f\"], [0.2222222222222222, \"#7201a8\"], [0.3333333333333333, \"#9c179e\"], [0.4444444444444444, \"#bd3786\"], [0.5555555555555556, \"#d8576b\"], [0.6666666666666666, \"#ed7953\"], [0.7777777777777778, \"#fb9f3a\"], [0.8888888888888888, \"#fdca26\"], [1.0, \"#f0f921\"]]}, \"colorway\": [\"#636efa\", \"#EF553B\", \"#00cc96\", \"#ab63fa\", \"#FFA15A\", \"#19d3f3\", \"#FF6692\", \"#B6E880\", \"#FF97FF\", \"#FECB52\"], \"font\": {\"color\": \"#2a3f5f\"}, \"geo\": {\"bgcolor\": \"white\", \"lakecolor\": \"white\", \"landcolor\": \"#E5ECF6\", \"showlakes\": true, \"showland\": true, \"subunitcolor\": \"white\"}, \"hoverlabel\": {\"align\": \"left\"}, \"hovermode\": \"closest\", \"mapbox\": {\"style\": \"light\"}, \"paper_bgcolor\": \"white\", \"plot_bgcolor\": \"#E5ECF6\", \"polar\": {\"angularaxis\": {\"gridcolor\": \"white\", \"linecolor\": \"white\", \"ticks\": \"\"}, \"bgcolor\": \"#E5ECF6\", \"radialaxis\": {\"gridcolor\": \"white\", \"linecolor\": \"white\", \"ticks\": \"\"}}, \"scene\": {\"xaxis\": {\"backgroundcolor\": \"#E5ECF6\", \"gridcolor\": \"white\", \"gridwidth\": 2, \"linecolor\": \"white\", \"showbackground\": true, \"ticks\": \"\", \"zerolinecolor\": \"white\"}, \"yaxis\": {\"backgroundcolor\": \"#E5ECF6\", \"gridcolor\": \"white\", \"gridwidth\": 2, \"linecolor\": \"white\", \"showbackground\": true, \"ticks\": \"\", \"zerolinecolor\": \"white\"}, \"zaxis\": {\"backgroundcolor\": \"#E5ECF6\", \"gridcolor\": \"white\", \"gridwidth\": 2, \"linecolor\": \"white\", \"showbackground\": true, \"ticks\": \"\", \"zerolinecolor\": \"white\"}}, \"shapedefaults\": {\"line\": {\"color\": \"#2a3f5f\"}}, \"ternary\": {\"aaxis\": {\"gridcolor\": \"white\", \"linecolor\": \"white\", \"ticks\": \"\"}, \"baxis\": {\"gridcolor\": \"white\", \"linecolor\": \"white\", \"ticks\": \"\"}, \"bgcolor\": \"#E5ECF6\", \"caxis\": {\"gridcolor\": \"white\", \"linecolor\": \"white\", \"ticks\": \"\"}}, \"title\": {\"x\": 0.05}, \"xaxis\": {\"automargin\": true, \"gridcolor\": \"white\", \"linecolor\": \"white\", \"ticks\": \"\", \"title\": {\"standoff\": 15}, \"zerolinecolor\": \"white\", \"zerolinewidth\": 2}, \"yaxis\": {\"automargin\": true, \"gridcolor\": \"white\", \"linecolor\": \"white\", \"ticks\": \"\", \"title\": {\"standoff\": 15}, \"zerolinecolor\": \"white\", \"zerolinewidth\": 2}}}, \"xaxis\": {\"anchor\": \"y\", \"domain\": [0.0, 1.0], \"title\": {\"text\": \"max.expr\"}}, \"yaxis\": {\"anchor\": \"x\", \"domain\": [0.0, 1.0], \"title\": {\"text\": \"fold.change\"}}},                        {\"responsive\": true}                    ).then(function(){\n",
       "                            \n",
       "var gd = document.getElementById('bb0a95cd-123b-4dc0-83ad-36d26aa5b8f9');\n",
       "var x = new MutationObserver(function (mutations, observer) {{\n",
       "        var display = window.getComputedStyle(gd).display;\n",
       "        if (!display || display === 'none') {{\n",
       "            console.log([gd, 'removed!']);\n",
       "            Plotly.purge(gd);\n",
       "            observer.disconnect();\n",
       "        }}\n",
       "}});\n",
       "\n",
       "// Listen for the removal of the full notebook cells\n",
       "var notebookContainer = gd.closest('#notebook-container');\n",
       "if (notebookContainer) {{\n",
       "    x.observe(notebookContainer, {childList: true});\n",
       "}}\n",
       "\n",
       "// Listen for the clearing of the current output cell\n",
       "var outputEl = gd.closest('.output');\n",
       "if (outputEl) {{\n",
       "    x.observe(outputEl, {childList: true});\n",
       "}}\n",
       "\n",
       "                        })                };                });            </script>        </div>"
      ]
     },
     "metadata": {},
     "output_type": "display_data"
    }
   ],
   "source": [
    "# Plot using S5 in introgression deserts\n",
    "exp_cerebr_cerebel=DE_gene_cellsF[(DE_gene_cellsF[\"organ\"]==\"Cerebellum\") |(DE_gene_cellsF[\"organ\"]==\"Cerebrum\")  ]\n",
    "#Plotting using value of expression and fold change\n",
    "fig = px.scatter(exp_cerebr_cerebel, x=\"max.expr\", y=\"fold.change\", color=\"max.cluster\",\n",
    "                 hover_name=\"gene_short_name\")\n",
    "\n",
    "fig.show()"
   ]
  },
  {
   "cell_type": "markdown",
   "metadata": {},
   "source": [
    "### Preview"
   ]
  },
  {
   "cell_type": "code",
   "execution_count": 69,
   "metadata": {
    "collapsed": true
   },
   "outputs": [
    {
     "data": {
      "text/html": [
       "<div>\n",
       "<style scoped>\n",
       "    .dataframe tbody tr th:only-of-type {\n",
       "        vertical-align: middle;\n",
       "    }\n",
       "\n",
       "    .dataframe tbody tr th {\n",
       "        vertical-align: top;\n",
       "    }\n",
       "\n",
       "    .dataframe thead th {\n",
       "        text-align: right;\n",
       "    }\n",
       "</style>\n",
       "<table border=\"1\" class=\"dataframe\">\n",
       "  <thead>\n",
       "    <tr style=\"text-align: right;\">\n",
       "      <th></th>\n",
       "      <th>gene_id</th>\n",
       "      <th>gene_short_name</th>\n",
       "      <th>gene_type</th>\n",
       "      <th>max.cluster</th>\n",
       "      <th>second.cluster</th>\n",
       "      <th>max.expr</th>\n",
       "      <th>second.expr</th>\n",
       "      <th>fold.change</th>\n",
       "      <th>pval</th>\n",
       "      <th>qval</th>\n",
       "      <th>OrganMax</th>\n",
       "      <th>OrganSecond</th>\n",
       "    </tr>\n",
       "  </thead>\n",
       "  <tbody>\n",
       "    <tr>\n",
       "      <th>653</th>\n",
       "      <td>ENSG00000175161</td>\n",
       "      <td>CADM2</td>\n",
       "      <td>protein_coding</td>\n",
       "      <td>Bipolar cells</td>\n",
       "      <td>Oligodendrocytes</td>\n",
       "      <td>10740.742827</td>\n",
       "      <td>10459.104637</td>\n",
       "      <td>1.026928</td>\n",
       "      <td>0.0</td>\n",
       "      <td>0.0</td>\n",
       "      <td>Eye</td>\n",
       "      <td>Cerebrum or Cerebellum</td>\n",
       "    </tr>\n",
       "    <tr>\n",
       "      <th>547</th>\n",
       "      <td>ENSG00000184408</td>\n",
       "      <td>KCND2</td>\n",
       "      <td>protein_coding</td>\n",
       "      <td>Oligodendrocytes</td>\n",
       "      <td>Granule neurons</td>\n",
       "      <td>8188.104467</td>\n",
       "      <td>4594.558592</td>\n",
       "      <td>1.782129</td>\n",
       "      <td>0.0</td>\n",
       "      <td>0.0</td>\n",
       "      <td>Cerebrum or Cerebellum</td>\n",
       "      <td>Cerebellum</td>\n",
       "    </tr>\n",
       "    <tr>\n",
       "      <th>253</th>\n",
       "      <td>ENSG00000185008</td>\n",
       "      <td>ROBO2</td>\n",
       "      <td>protein_coding</td>\n",
       "      <td>Excitatory neurons</td>\n",
       "      <td>SATB2_LRRC7 positive cells</td>\n",
       "      <td>7651.647406</td>\n",
       "      <td>7252.083819</td>\n",
       "      <td>1.055096</td>\n",
       "      <td>0.0</td>\n",
       "      <td>0.0</td>\n",
       "      <td>Cerebrum</td>\n",
       "      <td>Heart</td>\n",
       "    </tr>\n",
       "    <tr>\n",
       "      <th>330</th>\n",
       "      <td>ENSG00000128512</td>\n",
       "      <td>DOCK4</td>\n",
       "      <td>protein_coding</td>\n",
       "      <td>Microglia</td>\n",
       "      <td>Horizontal cells</td>\n",
       "      <td>6278.182518</td>\n",
       "      <td>2083.134511</td>\n",
       "      <td>3.013806</td>\n",
       "      <td>0.0</td>\n",
       "      <td>0.0</td>\n",
       "      <td>Eye or Cerebrum or Cerebellum</td>\n",
       "      <td>Eye</td>\n",
       "    </tr>\n",
       "    <tr>\n",
       "      <th>544</th>\n",
       "      <td>ENSG00000169855</td>\n",
       "      <td>ROBO1</td>\n",
       "      <td>protein_coding</td>\n",
       "      <td>Sympathoblasts</td>\n",
       "      <td>Granule neurons</td>\n",
       "      <td>5789.519496</td>\n",
       "      <td>5530.025901</td>\n",
       "      <td>1.046924</td>\n",
       "      <td>0.0</td>\n",
       "      <td>0.0</td>\n",
       "      <td>Adrenal</td>\n",
       "      <td>Cerebellum</td>\n",
       "    </tr>\n",
       "    <tr>\n",
       "      <th>871</th>\n",
       "      <td>ENSG00000206579</td>\n",
       "      <td>XKR4</td>\n",
       "      <td>protein_coding</td>\n",
       "      <td>Inhibitory interneurons</td>\n",
       "      <td>Schwann cells</td>\n",
       "      <td>5150.143415</td>\n",
       "      <td>2894.117946</td>\n",
       "      <td>1.779518</td>\n",
       "      <td>0.0</td>\n",
       "      <td>0.0</td>\n",
       "      <td>Cerebellum</td>\n",
       "      <td>Heart or Adrenal or Muscle</td>\n",
       "    </tr>\n",
       "    <tr>\n",
       "      <th>234</th>\n",
       "      <td>ENSG00000128573</td>\n",
       "      <td>FOXP2</td>\n",
       "      <td>protein_coding</td>\n",
       "      <td>SKOR2_NPSR1 positive cells</td>\n",
       "      <td>Purkinje neurons</td>\n",
       "      <td>5125.904000</td>\n",
       "      <td>4667.800805</td>\n",
       "      <td>1.098141</td>\n",
       "      <td>0.0</td>\n",
       "      <td>0.0</td>\n",
       "      <td>Cerebrum</td>\n",
       "      <td>Cerebellum</td>\n",
       "    </tr>\n",
       "    <tr>\n",
       "      <th>272</th>\n",
       "      <td>ENSG00000091129</td>\n",
       "      <td>NRCAM</td>\n",
       "      <td>protein_coding</td>\n",
       "      <td>Lens fibre cells</td>\n",
       "      <td>PDE11A_FAM19A2 positive cells</td>\n",
       "      <td>4585.216749</td>\n",
       "      <td>2217.240481</td>\n",
       "      <td>2.067979</td>\n",
       "      <td>0.0</td>\n",
       "      <td>0.0</td>\n",
       "      <td>Eye</td>\n",
       "      <td>Eye</td>\n",
       "    </tr>\n",
       "    <tr>\n",
       "      <th>737</th>\n",
       "      <td>ENSG00000104388</td>\n",
       "      <td>RAB2A</td>\n",
       "      <td>protein_coding</td>\n",
       "      <td>PAEP_MECOM positive cells</td>\n",
       "      <td>CSH1_CSH2 positive cells</td>\n",
       "      <td>4292.061816</td>\n",
       "      <td>448.947558</td>\n",
       "      <td>9.560084</td>\n",
       "      <td>0.0</td>\n",
       "      <td>0.0</td>\n",
       "      <td>Placenta</td>\n",
       "      <td>Lung or Adrenal</td>\n",
       "    </tr>\n",
       "    <tr>\n",
       "      <th>661</th>\n",
       "      <td>ENSG00000106278</td>\n",
       "      <td>PTPRZ1</td>\n",
       "      <td>protein_coding</td>\n",
       "      <td>Oligodendrocytes</td>\n",
       "      <td>Astrocytes</td>\n",
       "      <td>4229.301583</td>\n",
       "      <td>2895.819072</td>\n",
       "      <td>1.460484</td>\n",
       "      <td>0.0</td>\n",
       "      <td>0.0</td>\n",
       "      <td>Cerebrum or Cerebellum</td>\n",
       "      <td>Eye or Cerebrum or Cerebellum</td>\n",
       "    </tr>\n",
       "    <tr>\n",
       "      <th>231</th>\n",
       "      <td>ENSG00000184903</td>\n",
       "      <td>IMMP2L</td>\n",
       "      <td>protein_coding</td>\n",
       "      <td>Retinal pigment cells</td>\n",
       "      <td>Purkinje neurons</td>\n",
       "      <td>3498.002163</td>\n",
       "      <td>3256.812632</td>\n",
       "      <td>1.074057</td>\n",
       "      <td>0.0</td>\n",
       "      <td>0.0</td>\n",
       "      <td>Eye</td>\n",
       "      <td>Cerebellum</td>\n",
       "    </tr>\n",
       "    <tr>\n",
       "      <th>715</th>\n",
       "      <td>ENSG00000162631</td>\n",
       "      <td>NTNG1</td>\n",
       "      <td>protein_coding</td>\n",
       "      <td>Limbic system neurons</td>\n",
       "      <td>Ganglion cells</td>\n",
       "      <td>3326.847577</td>\n",
       "      <td>1264.622469</td>\n",
       "      <td>2.630691</td>\n",
       "      <td>0.0</td>\n",
       "      <td>0.0</td>\n",
       "      <td>Cerebrum</td>\n",
       "      <td>Eye</td>\n",
       "    </tr>\n",
       "    <tr>\n",
       "      <th>820</th>\n",
       "      <td>ENSG00000147481</td>\n",
       "      <td>SNTG1</td>\n",
       "      <td>protein_coding</td>\n",
       "      <td>Oligodendrocytes</td>\n",
       "      <td>Amacrine cells</td>\n",
       "      <td>3054.218709</td>\n",
       "      <td>2700.861324</td>\n",
       "      <td>1.130831</td>\n",
       "      <td>0.0</td>\n",
       "      <td>0.0</td>\n",
       "      <td>Cerebrum or Cerebellum</td>\n",
       "      <td>Eye</td>\n",
       "    </tr>\n",
       "    <tr>\n",
       "      <th>602</th>\n",
       "      <td>ENSG00000001626</td>\n",
       "      <td>CFTR</td>\n",
       "      <td>protein_coding</td>\n",
       "      <td>Ductal cells</td>\n",
       "      <td>MUC13_DMBT1 positive cells</td>\n",
       "      <td>2910.604812</td>\n",
       "      <td>442.811190</td>\n",
       "      <td>6.572890</td>\n",
       "      <td>0.0</td>\n",
       "      <td>0.0</td>\n",
       "      <td>Pancreas</td>\n",
       "      <td>Stomach</td>\n",
       "    </tr>\n",
       "    <tr>\n",
       "      <th>697</th>\n",
       "      <td>ENSG00000253554</td>\n",
       "      <td>RP11-32K4.1</td>\n",
       "      <td>antisense</td>\n",
       "      <td>PDE11A_FAM19A2 positive cells</td>\n",
       "      <td>Bipolar cells</td>\n",
       "      <td>2465.718265</td>\n",
       "      <td>902.865748</td>\n",
       "      <td>2.730972</td>\n",
       "      <td>0.0</td>\n",
       "      <td>0.0</td>\n",
       "      <td>Eye</td>\n",
       "      <td>Eye</td>\n",
       "    </tr>\n",
       "    <tr>\n",
       "      <th>549</th>\n",
       "      <td>ENSG00000185942</td>\n",
       "      <td>NKAIN3</td>\n",
       "      <td>protein_coding</td>\n",
       "      <td>Excitatory neurons</td>\n",
       "      <td>Granule neurons</td>\n",
       "      <td>2293.499222</td>\n",
       "      <td>2017.243613</td>\n",
       "      <td>1.136946</td>\n",
       "      <td>0.0</td>\n",
       "      <td>0.0</td>\n",
       "      <td>Cerebrum</td>\n",
       "      <td>Cerebellum</td>\n",
       "    </tr>\n",
       "    <tr>\n",
       "      <th>742</th>\n",
       "      <td>ENSG00000206538</td>\n",
       "      <td>VGLL3</td>\n",
       "      <td>protein_coding</td>\n",
       "      <td>Trophoblast giant cells</td>\n",
       "      <td>CSH1_CSH2 positive cells</td>\n",
       "      <td>2088.516873</td>\n",
       "      <td>928.246621</td>\n",
       "      <td>2.249946</td>\n",
       "      <td>0.0</td>\n",
       "      <td>0.0</td>\n",
       "      <td>Placenta</td>\n",
       "      <td>Lung or Adrenal</td>\n",
       "    </tr>\n",
       "    <tr>\n",
       "      <th>740</th>\n",
       "      <td>ENSG00000198162</td>\n",
       "      <td>MAN1A2</td>\n",
       "      <td>protein_coding</td>\n",
       "      <td>Trophoblast giant cells</td>\n",
       "      <td>CSH1_CSH2 positive cells</td>\n",
       "      <td>2073.884531</td>\n",
       "      <td>985.231959</td>\n",
       "      <td>2.104960</td>\n",
       "      <td>0.0</td>\n",
       "      <td>0.0</td>\n",
       "      <td>Placenta</td>\n",
       "      <td>Lung or Adrenal</td>\n",
       "    </tr>\n",
       "    <tr>\n",
       "      <th>833</th>\n",
       "      <td>ENSG00000044524</td>\n",
       "      <td>EPHA3</td>\n",
       "      <td>protein_coding</td>\n",
       "      <td>Excitatory neurons</td>\n",
       "      <td>Limbic system neurons</td>\n",
       "      <td>1794.290891</td>\n",
       "      <td>1431.349376</td>\n",
       "      <td>1.253564</td>\n",
       "      <td>0.0</td>\n",
       "      <td>0.0</td>\n",
       "      <td>Cerebrum</td>\n",
       "      <td>Cerebrum</td>\n",
       "    </tr>\n",
       "    <tr>\n",
       "      <th>425</th>\n",
       "      <td>ENSG00000254608</td>\n",
       "      <td>RP11-56A10.1</td>\n",
       "      <td>pseudogene</td>\n",
       "      <td>Ciliated epithelial cells</td>\n",
       "      <td>Photoreceptor cells</td>\n",
       "      <td>1780.829986</td>\n",
       "      <td>248.788983</td>\n",
       "      <td>7.157746</td>\n",
       "      <td>0.0</td>\n",
       "      <td>0.0</td>\n",
       "      <td>Lung or Stomach</td>\n",
       "      <td>Eye</td>\n",
       "    </tr>\n",
       "  </tbody>\n",
       "</table>\n",
       "</div>"
      ],
      "text/plain": [
       "             gene_id gene_short_name       gene_type  \\\n",
       "653  ENSG00000175161           CADM2  protein_coding   \n",
       "547  ENSG00000184408           KCND2  protein_coding   \n",
       "253  ENSG00000185008           ROBO2  protein_coding   \n",
       "330  ENSG00000128512           DOCK4  protein_coding   \n",
       "544  ENSG00000169855           ROBO1  protein_coding   \n",
       "871  ENSG00000206579            XKR4  protein_coding   \n",
       "234  ENSG00000128573           FOXP2  protein_coding   \n",
       "272  ENSG00000091129           NRCAM  protein_coding   \n",
       "737  ENSG00000104388           RAB2A  protein_coding   \n",
       "661  ENSG00000106278          PTPRZ1  protein_coding   \n",
       "231  ENSG00000184903          IMMP2L  protein_coding   \n",
       "715  ENSG00000162631           NTNG1  protein_coding   \n",
       "820  ENSG00000147481           SNTG1  protein_coding   \n",
       "602  ENSG00000001626            CFTR  protein_coding   \n",
       "697  ENSG00000253554     RP11-32K4.1       antisense   \n",
       "549  ENSG00000185942          NKAIN3  protein_coding   \n",
       "742  ENSG00000206538           VGLL3  protein_coding   \n",
       "740  ENSG00000198162          MAN1A2  protein_coding   \n",
       "833  ENSG00000044524           EPHA3  protein_coding   \n",
       "425  ENSG00000254608    RP11-56A10.1      pseudogene   \n",
       "\n",
       "                       max.cluster                 second.cluster  \\\n",
       "653                  Bipolar cells               Oligodendrocytes   \n",
       "547               Oligodendrocytes                Granule neurons   \n",
       "253             Excitatory neurons     SATB2_LRRC7 positive cells   \n",
       "330                      Microglia               Horizontal cells   \n",
       "544                 Sympathoblasts                Granule neurons   \n",
       "871        Inhibitory interneurons                  Schwann cells   \n",
       "234     SKOR2_NPSR1 positive cells               Purkinje neurons   \n",
       "272               Lens fibre cells  PDE11A_FAM19A2 positive cells   \n",
       "737      PAEP_MECOM positive cells       CSH1_CSH2 positive cells   \n",
       "661               Oligodendrocytes                     Astrocytes   \n",
       "231          Retinal pigment cells               Purkinje neurons   \n",
       "715          Limbic system neurons                 Ganglion cells   \n",
       "820               Oligodendrocytes                 Amacrine cells   \n",
       "602                   Ductal cells     MUC13_DMBT1 positive cells   \n",
       "697  PDE11A_FAM19A2 positive cells                  Bipolar cells   \n",
       "549             Excitatory neurons                Granule neurons   \n",
       "742        Trophoblast giant cells       CSH1_CSH2 positive cells   \n",
       "740        Trophoblast giant cells       CSH1_CSH2 positive cells   \n",
       "833             Excitatory neurons          Limbic system neurons   \n",
       "425      Ciliated epithelial cells            Photoreceptor cells   \n",
       "\n",
       "         max.expr   second.expr  fold.change  pval  qval  \\\n",
       "653  10740.742827  10459.104637     1.026928   0.0   0.0   \n",
       "547   8188.104467   4594.558592     1.782129   0.0   0.0   \n",
       "253   7651.647406   7252.083819     1.055096   0.0   0.0   \n",
       "330   6278.182518   2083.134511     3.013806   0.0   0.0   \n",
       "544   5789.519496   5530.025901     1.046924   0.0   0.0   \n",
       "871   5150.143415   2894.117946     1.779518   0.0   0.0   \n",
       "234   5125.904000   4667.800805     1.098141   0.0   0.0   \n",
       "272   4585.216749   2217.240481     2.067979   0.0   0.0   \n",
       "737   4292.061816    448.947558     9.560084   0.0   0.0   \n",
       "661   4229.301583   2895.819072     1.460484   0.0   0.0   \n",
       "231   3498.002163   3256.812632     1.074057   0.0   0.0   \n",
       "715   3326.847577   1264.622469     2.630691   0.0   0.0   \n",
       "820   3054.218709   2700.861324     1.130831   0.0   0.0   \n",
       "602   2910.604812    442.811190     6.572890   0.0   0.0   \n",
       "697   2465.718265    902.865748     2.730972   0.0   0.0   \n",
       "549   2293.499222   2017.243613     1.136946   0.0   0.0   \n",
       "742   2088.516873    928.246621     2.249946   0.0   0.0   \n",
       "740   2073.884531    985.231959     2.104960   0.0   0.0   \n",
       "833   1794.290891   1431.349376     1.253564   0.0   0.0   \n",
       "425   1780.829986    248.788983     7.157746   0.0   0.0   \n",
       "\n",
       "                          OrganMax                    OrganSecond  \n",
       "653                            Eye         Cerebrum or Cerebellum  \n",
       "547         Cerebrum or Cerebellum                     Cerebellum  \n",
       "253                       Cerebrum                          Heart  \n",
       "330  Eye or Cerebrum or Cerebellum                            Eye  \n",
       "544                        Adrenal                     Cerebellum  \n",
       "871                     Cerebellum     Heart or Adrenal or Muscle  \n",
       "234                       Cerebrum                     Cerebellum  \n",
       "272                            Eye                            Eye  \n",
       "737                       Placenta                Lung or Adrenal  \n",
       "661         Cerebrum or Cerebellum  Eye or Cerebrum or Cerebellum  \n",
       "231                            Eye                     Cerebellum  \n",
       "715                       Cerebrum                            Eye  \n",
       "820         Cerebrum or Cerebellum                            Eye  \n",
       "602                       Pancreas                        Stomach  \n",
       "697                            Eye                            Eye  \n",
       "549                       Cerebrum                     Cerebellum  \n",
       "742                       Placenta                Lung or Adrenal  \n",
       "740                       Placenta                Lung or Adrenal  \n",
       "833                       Cerebrum                       Cerebrum  \n",
       "425                Lung or Stomach                            Eye  "
      ]
     },
     "execution_count": 69,
     "metadata": {},
     "output_type": "execute_result"
    }
   ],
   "source": [
    "ordered_gene_celltype=introgression_genesF.sort_values(by=[\"max.expr\"],ascending=False)\n",
    "ordered_gene_celltype.to_excel(\"gene_expression_per_cell_type.xlsx\")\n",
    "introgression_genesF.sort_values(by=[\"max.expr\"],ascending=False).head(20)"
   ]
  }
 ],
 "metadata": {
  "kernelspec": {
   "display_name": "Python 3",
   "language": "python",
   "name": "python3"
  },
  "language_info": {
   "codemirror_mode": {
    "name": "ipython",
    "version": 3
   },
   "file_extension": ".py",
   "mimetype": "text/x-python",
   "name": "python",
   "nbconvert_exporter": "python",
   "pygments_lexer": "ipython3",
   "version": "3.7.1"
  }
 },
 "nbformat": 4,
 "nbformat_minor": 2
}
