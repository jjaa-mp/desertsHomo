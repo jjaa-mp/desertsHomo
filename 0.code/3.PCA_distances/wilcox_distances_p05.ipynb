{
 "cells": [
  {
   "cell_type": "code",
   "execution_count": 2,
   "id": "676bfbaa-978d-4bf5-b5f9-1fb00d0f4184",
   "metadata": {},
   "outputs": [],
   "source": [
    "import pandas as pd"
   ]
  },
  {
   "cell_type": "code",
   "execution_count": 9,
   "id": "80af2e91-5b2d-4b43-9fc6-7720af5e0abc",
   "metadata": {},
   "outputs": [],
   "source": [
    "df = pd.read_csv(\"/home/juan/desertsHomo/1.data/distances_pvalues/PCA_sig_components/wilcox_AkeyPeySestan_JS.csv\", sep=\",\", index_col=0)"
   ]
  },
  {
   "cell_type": "code",
   "execution_count": 17,
   "id": "4c08383a-ec9a-4d72-81f0-bc8cd946da4e",
   "metadata": {},
   "outputs": [],
   "source": [
    "df[df['pvalAVG']<0.05].to_csv(\"/home/juan/desertsHomo/1.data/distances_pvalues/PCA_sig_components/wilcox_AkeyPeySestan_JS_pval05.csv\", index=False, header=True, sep=\"\\t\")"
   ]
  },
  {
   "cell_type": "code",
   "execution_count": 24,
   "id": "cccf843d-708b-4190-aa8f-cb91a61e9160",
   "metadata": {},
   "outputs": [],
   "source": [
    "df1 = pd.read_csv(\"/home/juan/desertsHomo/1.data/distances_pvalues/PCA_sig_components/wilcox_AkeySestan_JS.csv\", sep=\",\", index_col=0)"
   ]
  },
  {
   "cell_type": "code",
   "execution_count": 25,
   "id": "27128547-f695-4dec-b88c-b2a09b64ea04",
   "metadata": {},
   "outputs": [],
   "source": [
    "df1[df1['pvalAVG']<0.05].to_csv(\"/home/juan/desertsHomo/1.data/distances_pvalues/PCA_sig_components/wilcox_AkeySestan_JS_pval05.csv\", index=False, header=True, sep=\"\\t\")"
   ]
  },
  {
   "cell_type": "code",
   "execution_count": 22,
   "id": "2ef1f0e3-5f5b-45f5-9f2b-a37d473be838",
   "metadata": {},
   "outputs": [],
   "source": [
    "df2 = pd.read_csv(\"/home/juan/desertsHomo/1.data/distances_pvalues/PCA_2_components/wilcox_Akey_2PCA.csv\", sep=\",\", index_col=0)"
   ]
  },
  {
   "cell_type": "code",
   "execution_count": 33,
   "id": "6fb73c4e-594c-4fcb-a135-61737b39052b",
   "metadata": {},
   "outputs": [],
   "source": [
    "df2[df2['pvalAVG']<0.05].iloc[:,0:4].to_csv(\"/home/juan/desertsHomo/1.data/distances_pvalues/PCA_2_components/wilcox_Akey_2PCA_JS_pval05.csv\", index=False, header=True, sep=\"\\t\")"
   ]
  },
  {
   "cell_type": "code",
   "execution_count": 34,
   "id": "a2797c83-588f-40d4-9404-440bf3aa0069",
   "metadata": {},
   "outputs": [],
   "source": [
    "df3 = pd.read_csv(\"/home/juan/desertsHomo/1.data/distances_pvalues/PCA_2_components/wilcox_AkeyPey_2PCA.csv\", sep=\",\", index_col=0)"
   ]
  },
  {
   "cell_type": "code",
   "execution_count": 36,
   "id": "af8926a5-125a-4366-9561-f67662c23d44",
   "metadata": {},
   "outputs": [],
   "source": [
    "df3[df3['pvalAVG']<0.05].iloc[:,0:4].to_csv(\"/home/juan/desertsHomo/1.data/distances_pvalues/PCA_2_components/wilcox_AkeyPey_2PCA_JS_pval05.csv\", index=False, header=True, sep=\"\\t\")"
   ]
  },
  {
   "cell_type": "code",
   "execution_count": 3,
   "id": "c524eec7-da18-4303-9b6a-8e1f246ebd4d",
   "metadata": {},
   "outputs": [],
   "source": [
    "df3 = pd.read_csv(\"/home/juan/desertsHomo/1.data/distances_pvalues/PCA_sig_components/wilcox_PeyNotAkeySestan_JS.csv\", sep=\",\", index_col=0)"
   ]
  },
  {
   "cell_type": "code",
   "execution_count": 6,
   "id": "b127a26d-6154-46ae-8b78-7a19c6209a97",
   "metadata": {},
   "outputs": [
    {
     "data": {
      "text/html": [
       "<div>\n",
       "<style scoped>\n",
       "    .dataframe tbody tr th:only-of-type {\n",
       "        vertical-align: middle;\n",
       "    }\n",
       "\n",
       "    .dataframe tbody tr th {\n",
       "        vertical-align: top;\n",
       "    }\n",
       "\n",
       "    .dataframe thead th {\n",
       "        text-align: right;\n",
       "    }\n",
       "</style>\n",
       "<table border=\"1\" class=\"dataframe\">\n",
       "  <thead>\n",
       "    <tr style=\"text-align: right;\">\n",
       "      <th></th>\n",
       "      <th>Structure</th>\n",
       "      <th>window</th>\n",
       "      <th>pvalAVG</th>\n",
       "      <th>log2(pvalAVG)</th>\n",
       "    </tr>\n",
       "  </thead>\n",
       "  <tbody>\n",
       "    <tr>\n",
       "      <th>1</th>\n",
       "      <td>Amygdala - PeyNotAkey</td>\n",
       "      <td>Fetal_1</td>\n",
       "      <td>9.781411e-03</td>\n",
       "      <td>-6.675742</td>\n",
       "    </tr>\n",
       "    <tr>\n",
       "      <th>2</th>\n",
       "      <td>Cerebellum - PeyNotAkey</td>\n",
       "      <td>Fetal_1</td>\n",
       "      <td>2.606741e-03</td>\n",
       "      <td>-8.583537</td>\n",
       "    </tr>\n",
       "    <tr>\n",
       "      <th>3</th>\n",
       "      <td>Hippocampus - PeyNotAkey</td>\n",
       "      <td>Fetal_1</td>\n",
       "      <td>9.781411e-03</td>\n",
       "      <td>-6.675742</td>\n",
       "    </tr>\n",
       "    <tr>\n",
       "      <th>4</th>\n",
       "      <td>Mediodorsal Nucleus of the Thalamus - PeyNotAkey</td>\n",
       "      <td>Fetal_1</td>\n",
       "      <td>5.632445e-14</td>\n",
       "      <td>-44.013232</td>\n",
       "    </tr>\n",
       "    <tr>\n",
       "      <th>5</th>\n",
       "      <td>Neocortex - PeyNotAkey</td>\n",
       "      <td>Fetal_1</td>\n",
       "      <td>1.995937e-10</td>\n",
       "      <td>-32.222214</td>\n",
       "    </tr>\n",
       "    <tr>\n",
       "      <th>6</th>\n",
       "      <td>Striatum - PeyNotAkey</td>\n",
       "      <td>Fetal_1</td>\n",
       "      <td>2.606741e-03</td>\n",
       "      <td>-8.583537</td>\n",
       "    </tr>\n",
       "    <tr>\n",
       "      <th>8</th>\n",
       "      <td>Cerebellum - PeyNotAkey</td>\n",
       "      <td>Fetal_2</td>\n",
       "      <td>2.024784e-07</td>\n",
       "      <td>-22.235729</td>\n",
       "    </tr>\n",
       "    <tr>\n",
       "      <th>16</th>\n",
       "      <td>Mediodorsal Nucleus of the Thalamus - PeyNotAkey</td>\n",
       "      <td>Fetal_3</td>\n",
       "      <td>6.644027e-26</td>\n",
       "      <td>-83.638073</td>\n",
       "    </tr>\n",
       "    <tr>\n",
       "      <th>20</th>\n",
       "      <td>Cerebellum - PeyNotAkey</td>\n",
       "      <td>Birth/Inf</td>\n",
       "      <td>1.073721e-19</td>\n",
       "      <td>-63.014015</td>\n",
       "    </tr>\n",
       "    <tr>\n",
       "      <th>29</th>\n",
       "      <td>Neocortex - PeyNotAkey</td>\n",
       "      <td>Inf/Child</td>\n",
       "      <td>1.271098e-08</td>\n",
       "      <td>-26.229349</td>\n",
       "    </tr>\n",
       "    <tr>\n",
       "      <th>31</th>\n",
       "      <td>Amygdala - PeyNotAkey</td>\n",
       "      <td>Child</td>\n",
       "      <td>9.162504e-03</td>\n",
       "      <td>-6.770042</td>\n",
       "    </tr>\n",
       "    <tr>\n",
       "      <th>32</th>\n",
       "      <td>Cerebellum - PeyNotAkey</td>\n",
       "      <td>Child</td>\n",
       "      <td>1.951883e-14</td>\n",
       "      <td>-45.542127</td>\n",
       "    </tr>\n",
       "    <tr>\n",
       "      <th>37</th>\n",
       "      <td>Amygdala - PeyNotAkey</td>\n",
       "      <td>Adolescence</td>\n",
       "      <td>8.581999e-03</td>\n",
       "      <td>-6.864471</td>\n",
       "    </tr>\n",
       "    <tr>\n",
       "      <th>38</th>\n",
       "      <td>Cerebellum - PeyNotAkey</td>\n",
       "      <td>Adolescence</td>\n",
       "      <td>4.105642e-19</td>\n",
       "      <td>-61.079026</td>\n",
       "    </tr>\n",
       "    <tr>\n",
       "      <th>41</th>\n",
       "      <td>Neocortex - PeyNotAkey</td>\n",
       "      <td>Adolescence</td>\n",
       "      <td>1.650138e-03</td>\n",
       "      <td>-9.243198</td>\n",
       "    </tr>\n",
       "    <tr>\n",
       "      <th>42</th>\n",
       "      <td>Striatum - PeyNotAkey</td>\n",
       "      <td>Adolescence</td>\n",
       "      <td>4.116399e-19</td>\n",
       "      <td>-61.075251</td>\n",
       "    </tr>\n",
       "    <tr>\n",
       "      <th>43</th>\n",
       "      <td>Amygdala - PeyNotAkey</td>\n",
       "      <td>Adult</td>\n",
       "      <td>4.496670e-06</td>\n",
       "      <td>-17.762712</td>\n",
       "    </tr>\n",
       "    <tr>\n",
       "      <th>44</th>\n",
       "      <td>Cerebellum - PeyNotAkey</td>\n",
       "      <td>Adult</td>\n",
       "      <td>1.422477e-95</td>\n",
       "      <td>-315.074764</td>\n",
       "    </tr>\n",
       "  </tbody>\n",
       "</table>\n",
       "</div>"
      ],
      "text/plain": [
       "                                           Structure       window  \\\n",
       "1                              Amygdala - PeyNotAkey      Fetal_1   \n",
       "2                            Cerebellum - PeyNotAkey      Fetal_1   \n",
       "3                           Hippocampus - PeyNotAkey      Fetal_1   \n",
       "4   Mediodorsal Nucleus of the Thalamus - PeyNotAkey      Fetal_1   \n",
       "5                             Neocortex - PeyNotAkey      Fetal_1   \n",
       "6                              Striatum - PeyNotAkey      Fetal_1   \n",
       "8                            Cerebellum - PeyNotAkey      Fetal_2   \n",
       "16  Mediodorsal Nucleus of the Thalamus - PeyNotAkey      Fetal_3   \n",
       "20                           Cerebellum - PeyNotAkey    Birth/Inf   \n",
       "29                            Neocortex - PeyNotAkey    Inf/Child   \n",
       "31                             Amygdala - PeyNotAkey        Child   \n",
       "32                           Cerebellum - PeyNotAkey        Child   \n",
       "37                             Amygdala - PeyNotAkey  Adolescence   \n",
       "38                           Cerebellum - PeyNotAkey  Adolescence   \n",
       "41                            Neocortex - PeyNotAkey  Adolescence   \n",
       "42                             Striatum - PeyNotAkey  Adolescence   \n",
       "43                             Amygdala - PeyNotAkey        Adult   \n",
       "44                           Cerebellum - PeyNotAkey        Adult   \n",
       "\n",
       "         pvalAVG  log2(pvalAVG)  \n",
       "1   9.781411e-03      -6.675742  \n",
       "2   2.606741e-03      -8.583537  \n",
       "3   9.781411e-03      -6.675742  \n",
       "4   5.632445e-14     -44.013232  \n",
       "5   1.995937e-10     -32.222214  \n",
       "6   2.606741e-03      -8.583537  \n",
       "8   2.024784e-07     -22.235729  \n",
       "16  6.644027e-26     -83.638073  \n",
       "20  1.073721e-19     -63.014015  \n",
       "29  1.271098e-08     -26.229349  \n",
       "31  9.162504e-03      -6.770042  \n",
       "32  1.951883e-14     -45.542127  \n",
       "37  8.581999e-03      -6.864471  \n",
       "38  4.105642e-19     -61.079026  \n",
       "41  1.650138e-03      -9.243198  \n",
       "42  4.116399e-19     -61.075251  \n",
       "43  4.496670e-06     -17.762712  \n",
       "44  1.422477e-95    -315.074764  "
      ]
     },
     "execution_count": 6,
     "metadata": {},
     "output_type": "execute_result"
    }
   ],
   "source": [
    "df3[df3['pvalAVG']<0.01]"
   ]
  },
  {
   "cell_type": "code",
   "execution_count": 36,
   "id": "45f4fe25-08b1-4513-9d0c-52de4d20a2ba",
   "metadata": {},
   "outputs": [],
   "source": [
    "df3[df3['pvalAVG']<0.05].to_csv(\"/home/juan/desertsHomo/1.data/distances_pvalues/PCA_sig_components/wilcox_PeyNotAkeySestan_JS_pval05.csv\", index=False, header=True, sep=\"\\t\")"
   ]
  }
 ],
 "metadata": {
  "kernelspec": {
   "display_name": "Python 3 (ipykernel)",
   "language": "python",
   "name": "python3"
  },
  "language_info": {
   "codemirror_mode": {
    "name": "ipython",
    "version": 3
   },
   "file_extension": ".py",
   "mimetype": "text/x-python",
   "name": "python",
   "nbconvert_exporter": "python",
   "pygments_lexer": "ipython3",
   "version": "3.8.11"
  }
 },
 "nbformat": 4,
 "nbformat_minor": 5
}
