{
 "cells": [
  {
   "cell_type": "code",
   "execution_count": 2,
   "id": "676bfbaa-978d-4bf5-b5f9-1fb00d0f4184",
   "metadata": {},
   "outputs": [],
   "source": [
    "import pandas as pd"
   ]
  },
  {
   "cell_type": "code",
   "execution_count": 9,
   "id": "80af2e91-5b2d-4b43-9fc6-7720af5e0abc",
   "metadata": {},
   "outputs": [],
   "source": [
    "df = pd.read_csv(\"/home/juan/desertsHomo/1.data/distances_pvalues/PCA_sig_components/wilcox_AkeyPeySestan_JS.csv\", sep=\",\", index_col=0)"
   ]
  },
  {
   "cell_type": "code",
   "execution_count": 17,
   "id": "4c08383a-ec9a-4d72-81f0-bc8cd946da4e",
   "metadata": {},
   "outputs": [],
   "source": [
    "df[df['pvalAVG']<0.05].to_csv(\"/home/juan/desertsHomo/1.data/distances_pvalues/PCA_sig_components/wilcox_AkeyPeySestan_JS_pval05.csv\", index=False, header=True, sep=\"\\t\")"
   ]
  },
  {
   "cell_type": "code",
   "execution_count": 24,
   "id": "cccf843d-708b-4190-aa8f-cb91a61e9160",
   "metadata": {},
   "outputs": [],
   "source": [
    "df1 = pd.read_csv(\"/home/juan/desertsHomo/1.data/distances_pvalues/PCA_sig_components/wilcox_AkeySestan_JS.csv\", sep=\",\", index_col=0)"
   ]
  },
  {
   "cell_type": "code",
   "execution_count": 25,
   "id": "27128547-f695-4dec-b88c-b2a09b64ea04",
   "metadata": {},
   "outputs": [],
   "source": [
    "df1[df1['pvalAVG']<0.05].to_csv(\"/home/juan/desertsHomo/1.data/distances_pvalues/PCA_sig_components/wilcox_AkeySestan_JS_pval05.csv\", index=False, header=True, sep=\"\\t\")"
   ]
  },
  {
   "cell_type": "code",
   "execution_count": 22,
   "id": "2ef1f0e3-5f5b-45f5-9f2b-a37d473be838",
   "metadata": {},
   "outputs": [],
   "source": [
    "df2 = pd.read_csv(\"/home/juan/desertsHomo/1.data/distances_pvalues/PCA_2_components/wilcox_Akey_2PCA.csv\", sep=\",\", index_col=0)"
   ]
  },
  {
   "cell_type": "code",
   "execution_count": 33,
   "id": "6fb73c4e-594c-4fcb-a135-61737b39052b",
   "metadata": {},
   "outputs": [],
   "source": [
    "df2[df2['pvalAVG']<0.05].iloc[:,0:4].to_csv(\"/home/juan/desertsHomo/1.data/distances_pvalues/PCA_2_components/wilcox_Akey_2PCA_JS_pval05.csv\", index=False, header=True, sep=\"\\t\")"
   ]
  },
  {
   "cell_type": "code",
   "execution_count": 34,
   "id": "a2797c83-588f-40d4-9404-440bf3aa0069",
   "metadata": {},
   "outputs": [],
   "source": [
    "df3 = pd.read_csv(\"/home/juan/desertsHomo/1.data/distances_pvalues/PCA_2_components/wilcox_AkeyPey_2PCA.csv\", sep=\",\", index_col=0)"
   ]
  },
  {
   "cell_type": "code",
   "execution_count": 36,
   "id": "af8926a5-125a-4366-9561-f67662c23d44",
   "metadata": {},
   "outputs": [],
   "source": [
    "df3[df3['pvalAVG']<0.05].iloc[:,0:4].to_csv(\"/home/juan/desertsHomo/1.data/distances_pvalues/PCA_2_components/wilcox_AkeyPey_2PCA_JS_pval05.csv\", index=False, header=True, sep=\"\\t\")"
   ]
  },
  {
   "cell_type": "code",
   "execution_count": 3,
   "id": "c524eec7-da18-4303-9b6a-8e1f246ebd4d",
   "metadata": {},
   "outputs": [],
   "source": [
    "df3 = pd.read_csv(\"/home/juan/desertsHomo/1.data/distances_pvalues/PCA_sig_components/wilcox_PeyNotAkeySestan_JS.csv\", sep=\",\", index_col=0)"
   ]
  },
  {
   "cell_type": "code",
   "execution_count": 7,
   "id": "45f4fe25-08b1-4513-9d0c-52de4d20a2ba",
   "metadata": {},
   "outputs": [],
   "source": [
    "df3[df3['pvalAVG']<0.05].to_csv(\"/home/juan/desertsHomo/1.data/distances_pvalues/PCA_sig_components/wilcox_PeyNotAkeySestan_JS_pval05.csv\", index=False, header=True, sep=\"\\t\")"
   ]
  },
  {
   "cell_type": "code",
   "execution_count": 8,
   "id": "3cdff4bc-6d05-45c2-aef2-4262c047a7b0",
   "metadata": {},
   "outputs": [],
   "source": [
    "df4 = pd.read_csv(\"/home/juan/desertsHomo/1.data/distances_pvalues/PCA_sig_components/wilcox_rawSestan_JS.csv\", sep=\",\", index_col=0)"
   ]
  },
  {
   "cell_type": "code",
   "execution_count": 11,
   "id": "853dd79a-80de-4873-838b-04c41746abaf",
   "metadata": {},
   "outputs": [
    {
     "data": {
      "text/html": [
       "<div>\n",
       "<style scoped>\n",
       "    .dataframe tbody tr th:only-of-type {\n",
       "        vertical-align: middle;\n",
       "    }\n",
       "\n",
       "    .dataframe tbody tr th {\n",
       "        vertical-align: top;\n",
       "    }\n",
       "\n",
       "    .dataframe thead th {\n",
       "        text-align: right;\n",
       "    }\n",
       "</style>\n",
       "<table border=\"1\" class=\"dataframe\">\n",
       "  <thead>\n",
       "    <tr style=\"text-align: right;\">\n",
       "      <th></th>\n",
       "      <th>Structure</th>\n",
       "      <th>window</th>\n",
       "      <th>pvalAVG</th>\n",
       "      <th>log2(pvalAVG)</th>\n",
       "    </tr>\n",
       "  </thead>\n",
       "  <tbody>\n",
       "    <tr>\n",
       "      <th>2</th>\n",
       "      <td>Cerebellum - whole</td>\n",
       "      <td>Fetal_1</td>\n",
       "      <td>1.022253e-03</td>\n",
       "      <td>-9.934032</td>\n",
       "    </tr>\n",
       "    <tr>\n",
       "      <th>4</th>\n",
       "      <td>Mediodorsal Nucleus of the Thalamus - whole</td>\n",
       "      <td>Fetal_1</td>\n",
       "      <td>1.479104e-06</td>\n",
       "      <td>-19.366845</td>\n",
       "    </tr>\n",
       "    <tr>\n",
       "      <th>8</th>\n",
       "      <td>Cerebellum - whole</td>\n",
       "      <td>Fetal_2</td>\n",
       "      <td>6.149740e-04</td>\n",
       "      <td>-10.667187</td>\n",
       "    </tr>\n",
       "    <tr>\n",
       "      <th>11</th>\n",
       "      <td>Neocortex - whole</td>\n",
       "      <td>Fetal_2</td>\n",
       "      <td>2.874368e-04</td>\n",
       "      <td>-11.764467</td>\n",
       "    </tr>\n",
       "    <tr>\n",
       "      <th>16</th>\n",
       "      <td>Mediodorsal Nucleus of the Thalamus - whole</td>\n",
       "      <td>Fetal_3</td>\n",
       "      <td>6.120514e-14</td>\n",
       "      <td>-43.893340</td>\n",
       "    </tr>\n",
       "    <tr>\n",
       "      <th>20</th>\n",
       "      <td>Cerebellum - whole</td>\n",
       "      <td>Birth/Inf</td>\n",
       "      <td>1.288452e-29</td>\n",
       "      <td>-95.970276</td>\n",
       "    </tr>\n",
       "    <tr>\n",
       "      <th>26</th>\n",
       "      <td>Cerebellum - whole</td>\n",
       "      <td>Inf/Child</td>\n",
       "      <td>2.526206e-09</td>\n",
       "      <td>-28.560380</td>\n",
       "    </tr>\n",
       "    <tr>\n",
       "      <th>32</th>\n",
       "      <td>Cerebellum - whole</td>\n",
       "      <td>Child</td>\n",
       "      <td>1.450331e-05</td>\n",
       "      <td>-16.073258</td>\n",
       "    </tr>\n",
       "    <tr>\n",
       "      <th>34</th>\n",
       "      <td>Mediodorsal Nucleus of the Thalamus - whole</td>\n",
       "      <td>Child</td>\n",
       "      <td>1.450331e-05</td>\n",
       "      <td>-16.073258</td>\n",
       "    </tr>\n",
       "    <tr>\n",
       "      <th>36</th>\n",
       "      <td>Striatum - whole</td>\n",
       "      <td>Child</td>\n",
       "      <td>3.024404e-04</td>\n",
       "      <td>-11.691061</td>\n",
       "    </tr>\n",
       "    <tr>\n",
       "      <th>37</th>\n",
       "      <td>Amygdala - whole</td>\n",
       "      <td>Adolescence</td>\n",
       "      <td>8.614459e-04</td>\n",
       "      <td>-10.180952</td>\n",
       "    </tr>\n",
       "    <tr>\n",
       "      <th>38</th>\n",
       "      <td>Cerebellum - whole</td>\n",
       "      <td>Adolescence</td>\n",
       "      <td>2.437739e-40</td>\n",
       "      <td>-131.591580</td>\n",
       "    </tr>\n",
       "    <tr>\n",
       "      <th>41</th>\n",
       "      <td>Neocortex - whole</td>\n",
       "      <td>Adolescence</td>\n",
       "      <td>5.868740e-03</td>\n",
       "      <td>-7.412733</td>\n",
       "    </tr>\n",
       "    <tr>\n",
       "      <th>42</th>\n",
       "      <td>Striatum - whole</td>\n",
       "      <td>Adolescence</td>\n",
       "      <td>6.574966e-05</td>\n",
       "      <td>-13.892657</td>\n",
       "    </tr>\n",
       "    <tr>\n",
       "      <th>43</th>\n",
       "      <td>Amygdala - whole</td>\n",
       "      <td>Adult</td>\n",
       "      <td>5.860060e-04</td>\n",
       "      <td>-10.736797</td>\n",
       "    </tr>\n",
       "    <tr>\n",
       "      <th>44</th>\n",
       "      <td>Cerebellum - whole</td>\n",
       "      <td>Adult</td>\n",
       "      <td>1.205223e-19</td>\n",
       "      <td>-62.847334</td>\n",
       "    </tr>\n",
       "    <tr>\n",
       "      <th>45</th>\n",
       "      <td>Hippocampus - whole</td>\n",
       "      <td>Adult</td>\n",
       "      <td>5.860060e-04</td>\n",
       "      <td>-10.736797</td>\n",
       "    </tr>\n",
       "    <tr>\n",
       "      <th>46</th>\n",
       "      <td>Mediodorsal Nucleus of the Thalamus - whole</td>\n",
       "      <td>Adult</td>\n",
       "      <td>1.205223e-19</td>\n",
       "      <td>-62.847334</td>\n",
       "    </tr>\n",
       "    <tr>\n",
       "      <th>47</th>\n",
       "      <td>Neocortex - whole</td>\n",
       "      <td>Adult</td>\n",
       "      <td>1.055260e-07</td>\n",
       "      <td>-23.175898</td>\n",
       "    </tr>\n",
       "    <tr>\n",
       "      <th>48</th>\n",
       "      <td>Striatum - whole</td>\n",
       "      <td>Adult</td>\n",
       "      <td>1.055260e-07</td>\n",
       "      <td>-23.175898</td>\n",
       "    </tr>\n",
       "  </tbody>\n",
       "</table>\n",
       "</div>"
      ],
      "text/plain": [
       "                                      Structure       window       pvalAVG  \\\n",
       "2                            Cerebellum - whole      Fetal_1  1.022253e-03   \n",
       "4   Mediodorsal Nucleus of the Thalamus - whole      Fetal_1  1.479104e-06   \n",
       "8                            Cerebellum - whole      Fetal_2  6.149740e-04   \n",
       "11                            Neocortex - whole      Fetal_2  2.874368e-04   \n",
       "16  Mediodorsal Nucleus of the Thalamus - whole      Fetal_3  6.120514e-14   \n",
       "20                           Cerebellum - whole    Birth/Inf  1.288452e-29   \n",
       "26                           Cerebellum - whole    Inf/Child  2.526206e-09   \n",
       "32                           Cerebellum - whole        Child  1.450331e-05   \n",
       "34  Mediodorsal Nucleus of the Thalamus - whole        Child  1.450331e-05   \n",
       "36                             Striatum - whole        Child  3.024404e-04   \n",
       "37                             Amygdala - whole  Adolescence  8.614459e-04   \n",
       "38                           Cerebellum - whole  Adolescence  2.437739e-40   \n",
       "41                            Neocortex - whole  Adolescence  5.868740e-03   \n",
       "42                             Striatum - whole  Adolescence  6.574966e-05   \n",
       "43                             Amygdala - whole        Adult  5.860060e-04   \n",
       "44                           Cerebellum - whole        Adult  1.205223e-19   \n",
       "45                          Hippocampus - whole        Adult  5.860060e-04   \n",
       "46  Mediodorsal Nucleus of the Thalamus - whole        Adult  1.205223e-19   \n",
       "47                            Neocortex - whole        Adult  1.055260e-07   \n",
       "48                             Striatum - whole        Adult  1.055260e-07   \n",
       "\n",
       "    log2(pvalAVG)  \n",
       "2       -9.934032  \n",
       "4      -19.366845  \n",
       "8      -10.667187  \n",
       "11     -11.764467  \n",
       "16     -43.893340  \n",
       "20     -95.970276  \n",
       "26     -28.560380  \n",
       "32     -16.073258  \n",
       "34     -16.073258  \n",
       "36     -11.691061  \n",
       "37     -10.180952  \n",
       "38    -131.591580  \n",
       "41      -7.412733  \n",
       "42     -13.892657  \n",
       "43     -10.736797  \n",
       "44     -62.847334  \n",
       "45     -10.736797  \n",
       "46     -62.847334  \n",
       "47     -23.175898  \n",
       "48     -23.175898  "
      ]
     },
     "execution_count": 11,
     "metadata": {},
     "output_type": "execute_result"
    }
   ],
   "source": [
    "df4[df4['pvalAVG']<0.01]"
   ]
  },
  {
   "cell_type": "code",
   "execution_count": 12,
   "id": "ec710b27-9a92-4563-b9c5-fa3193fbff2c",
   "metadata": {},
   "outputs": [],
   "source": [
    "df4[df4['pvalAVG']<0.05].to_csv(\"/home/juan/desertsHomo/1.data/distances_pvalues/PCA_sig_components/wilcox_rawSestan_JS_pval05.csv\", index=False, header=True, sep=\"\\t\")"
   ]
  }
 ],
 "metadata": {
  "kernelspec": {
   "display_name": "Python 3 (ipykernel)",
   "language": "python",
   "name": "python3"
  },
  "language_info": {
   "codemirror_mode": {
    "name": "ipython",
    "version": 3
   },
   "file_extension": ".py",
   "mimetype": "text/x-python",
   "name": "python",
   "nbconvert_exporter": "python",
   "pygments_lexer": "ipython3",
   "version": "3.8.11"
  }
 },
 "nbformat": 4,
 "nbformat_minor": 5
}
