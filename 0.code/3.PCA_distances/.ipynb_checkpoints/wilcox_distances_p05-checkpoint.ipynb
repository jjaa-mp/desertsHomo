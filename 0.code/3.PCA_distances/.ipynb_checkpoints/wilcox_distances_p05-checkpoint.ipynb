{
 "cells": [
  {
   "cell_type": "code",
   "execution_count": 1,
   "id": "676bfbaa-978d-4bf5-b5f9-1fb00d0f4184",
   "metadata": {},
   "outputs": [],
   "source": [
    "import pandas as pd"
   ]
  },
  {
   "cell_type": "code",
   "execution_count": 9,
   "id": "80af2e91-5b2d-4b43-9fc6-7720af5e0abc",
   "metadata": {},
   "outputs": [],
   "source": [
    "df = pd.read_csv(\"/home/juan/desertsHomo/1.data/distances_pvalues/PCA_sig_components/wilcox_AkeyPeySestan_JS.csv\", sep=\",\", index_col=0)"
   ]
  },
  {
   "cell_type": "code",
   "execution_count": 17,
   "id": "4c08383a-ec9a-4d72-81f0-bc8cd946da4e",
   "metadata": {},
   "outputs": [],
   "source": [
    "df[df['pvalAVG']<0.05].to_csv(\"/home/juan/desertsHomo/1.data/distances_pvalues/PCA_sig_components/wilcox_AkeyPeySestan_JS_pval05.csv\", index=False, header=True, sep=\"\\t\")"
   ]
  },
  {
   "cell_type": "code",
   "execution_count": 24,
   "id": "cccf843d-708b-4190-aa8f-cb91a61e9160",
   "metadata": {},
   "outputs": [],
   "source": [
    "df1 = pd.read_csv(\"/home/juan/desertsHomo/1.data/distances_pvalues/PCA_sig_components/wilcox_AkeySestan_JS.csv\", sep=\",\", index_col=0)"
   ]
  },
  {
   "cell_type": "code",
   "execution_count": 25,
   "id": "27128547-f695-4dec-b88c-b2a09b64ea04",
   "metadata": {},
   "outputs": [],
   "source": [
    "df1[df1['pvalAVG']<0.05].to_csv(\"/home/juan/desertsHomo/1.data/distances_pvalues/PCA_sig_components/wilcox_AkeySestan_JS_pval05.csv\", index=False, header=True, sep=\"\\t\")"
   ]
  },
  {
   "cell_type": "code",
   "execution_count": 22,
   "id": "2ef1f0e3-5f5b-45f5-9f2b-a37d473be838",
   "metadata": {},
   "outputs": [],
   "source": [
    "df2 = pd.read_csv(\"/home/juan/desertsHomo/1.data/distances_pvalues/PCA_2_components/wilcox_Akey_2PCA.csv\", sep=\",\", index_col=0)"
   ]
  },
  {
   "cell_type": "code",
   "execution_count": 33,
   "id": "6fb73c4e-594c-4fcb-a135-61737b39052b",
   "metadata": {},
   "outputs": [],
   "source": [
    "df2[df2['pvalAVG']<0.05].iloc[:,0:4].to_csv(\"/home/juan/desertsHomo/1.data/distances_pvalues/PCA_2_components/wilcox_Akey_2PCA_JS_pval05.csv\", index=False, header=True, sep=\"\\t\")"
   ]
  },
  {
   "cell_type": "code",
   "execution_count": 34,
   "id": "a2797c83-588f-40d4-9404-440bf3aa0069",
   "metadata": {},
   "outputs": [],
   "source": [
    "df3 = pd.read_csv(\"/home/juan/desertsHomo/1.data/distances_pvalues/PCA_2_components/wilcox_AkeyPey_2PCA.csv\", sep=\",\", index_col=0)"
   ]
  },
  {
   "cell_type": "code",
   "execution_count": 36,
   "id": "af8926a5-125a-4366-9561-f67662c23d44",
   "metadata": {},
   "outputs": [],
   "source": [
    "df3[df3['pvalAVG']<0.05].iloc[:,0:4].to_csv(\"/home/juan/desertsHomo/1.data/distances_pvalues/PCA_2_components/wilcox_AkeyPey_2PCA_JS_pval05.csv\", index=False, header=True, sep=\"\\t\")"
   ]
  }
 ],
 "metadata": {
  "kernelspec": {
   "display_name": "Python 3 (ipykernel)",
   "language": "python",
   "name": "python3"
  },
  "language_info": {
   "codemirror_mode": {
    "name": "ipython",
    "version": 3
   },
   "file_extension": ".py",
   "mimetype": "text/x-python",
   "name": "python",
   "nbconvert_exporter": "python",
   "pygments_lexer": "ipython3",
   "version": "3.8.11"
  }
 },
 "nbformat": 4,
 "nbformat_minor": 5
}
